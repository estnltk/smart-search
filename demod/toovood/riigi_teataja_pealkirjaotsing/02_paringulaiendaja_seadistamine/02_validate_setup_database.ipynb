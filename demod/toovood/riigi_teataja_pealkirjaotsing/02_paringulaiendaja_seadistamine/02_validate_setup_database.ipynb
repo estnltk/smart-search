{
 "cells": [
  {
   "cell_type": "markdown",
   "id": "fe120e3e-499e-4456-9f4d-ca29b70edfc9",
   "metadata": {},
   "source": [
    "# Päringulaiendaja sisendandmebaasi valideerimine\n",
    "\n",
    "Seda sammu pole otseselt vaja, kuid see võimaldab avastada andmetest tulenevaid ootamatusi.  "
   ]
  },
  {
   "cell_type": "code",
   "execution_count": 29,
   "id": "b55c492c-0830-40c3-826b-d8cfeea34336",
   "metadata": {},
   "outputs": [],
   "source": [
    "import sqlite3\n",
    "\n",
    "from pandas import DataFrame"
   ]
  },
  {
   "cell_type": "markdown",
   "id": "901c7c1a-2e3c-4b9a-b5b4-6ca8559021e5",
   "metadata": {},
   "source": [
    "## I. Sõnavormide ning lemmade kuju valideerimine\n",
    "\n",
    "Riigi Teataja seaduste ja määruste pealkirjade analüüsist (vaata skripti [`02A_validate_and_clean_source_texts_naively.ipynb`](../01_dokumentide_indekseerimine/02A_validate_and_clean_source_texts_naively.ipynb)) on meile teada kõik tekstides esinevad sümbolid. \n",
    "Indeksis olevatel sõnades peaks neis esinema vaid tähesümbolid, numbrid, sidekriipsud ja apostroofid. Vaatme kas see on ka tõsi. "
   ]
  },
  {
   "cell_type": "code",
   "execution_count": 4,
   "id": "af8bb50a-aadb-4bb8-a521-96ee8596c33b",
   "metadata": {},
   "outputs": [],
   "source": [
    "ESTONIAN_LETTER = '[a-z|öäõüžš]'\n",
    "FOREIGN_LETTER = '[ôíëаa]'\n",
    "NUMBER_SYMBOLS = '[0-9]'\n",
    "\n",
    "# Tühikutega eraldatavad sümbolid \n",
    "PUNCTUATION_MARK = '[\\\\.,:;!?¿\\\\(\\\\)«»„““ˮ\"‟”]'\n",
    "SPECIAL_SYMBOLS = '[§/%\\^]'\n",
    "SUPERSCRIPT_SYMBOLS = '[⁰¹²³⁴⁵⁶⁷⁸⁹⁺⁻]'\n",
    "SUBSCRIPT_SYMBOLS = '[₀₁₂₃₄₅₆₇₈₉₊₋]'\n",
    "\n",
    "# Tühikutega asendatavad sümbolid  \n",
    "WHITESPACE_SYMBOLS = '[\\u200e\\ufeff]'\n",
    "\n",
    "# Teised lubatud sümbolid\n",
    "DASH_SYMBOLS = '[‑-−‒-]'\n",
    "OTHER_SYMBOLS = '[§/−a\\^]'"
   ]
  },
  {
   "cell_type": "code",
   "execution_count": 33,
   "id": "666448e4-03f9-4a3e-9ebb-100957165237",
   "metadata": {},
   "outputs": [
    {
     "data": {
      "text/html": [
       "<div>\n",
       "<style scoped>\n",
       "    .dataframe tbody tr th:only-of-type {\n",
       "        vertical-align: middle;\n",
       "    }\n",
       "\n",
       "    .dataframe tbody tr th {\n",
       "        vertical-align: top;\n",
       "    }\n",
       "\n",
       "    .dataframe thead th {\n",
       "        text-align: right;\n",
       "    }\n",
       "</style>\n",
       "<table border=\"1\" class=\"dataframe\">\n",
       "  <thead>\n",
       "    <tr style=\"text-align: right;\">\n",
       "      <th></th>\n",
       "      <th>wordform</th>\n",
       "    </tr>\n",
       "  </thead>\n",
       "  <tbody>\n",
       "  </tbody>\n",
       "</table>\n",
       "</div>"
      ],
      "text/plain": [
       "Empty DataFrame\n",
       "Columns: [wordform]\n",
       "Index: []"
      ]
     },
     "metadata": {},
     "output_type": "display_data"
    }
   ],
   "source": [
    "con = sqlite3.connect('../results/query_extender_setup/rt_titles.sqlite')\n",
    "cur = con.cursor()\n",
    "\n",
    "result = cur.execute('SELECT DISTINCT vorm FROM  lemma_korpuse_vormid')\n",
    "wordforms = DataFrame({'wordform':list(row[0] for row in result.fetchall())})\n",
    "\n",
    "VALID_SYMBOL = f'{ESTONIAN_LETTER}|{FOREIGN_LETTER}|{DASH_SYMBOLS}|{NUMBER_SYMBOLS}'\n",
    "idx = wordforms['wordform'].str.match(f'^{VALID_SYMBOL}+$', case=False)\n",
    "display(wordforms[~idx])"
   ]
  },
  {
   "cell_type": "code",
   "execution_count": 36,
   "id": "fd89e6af-74ea-4d9c-a502-81adf4c437b2",
   "metadata": {},
   "outputs": [
    {
     "data": {
      "text/html": [
       "<div>\n",
       "<style scoped>\n",
       "    .dataframe tbody tr th:only-of-type {\n",
       "        vertical-align: middle;\n",
       "    }\n",
       "\n",
       "    .dataframe tbody tr th {\n",
       "        vertical-align: top;\n",
       "    }\n",
       "\n",
       "    .dataframe thead th {\n",
       "        text-align: right;\n",
       "    }\n",
       "</style>\n",
       "<table border=\"1\" class=\"dataframe\">\n",
       "  <thead>\n",
       "    <tr style=\"text-align: right;\">\n",
       "      <th></th>\n",
       "      <th>lemma</th>\n",
       "    </tr>\n",
       "  </thead>\n",
       "  <tbody>\n",
       "  </tbody>\n",
       "</table>\n",
       "</div>"
      ],
      "text/plain": [
       "Empty DataFrame\n",
       "Columns: [lemma]\n",
       "Index: []"
      ]
     },
     "metadata": {},
     "output_type": "display_data"
    }
   ],
   "source": [
    "result = cur.execute('SELECT DISTINCT lemma FROM  lemma_korpuse_vormid')\n",
    "lemmas = DataFrame({'lemma':list(row[0] for row in result.fetchall())})\n",
    "\n",
    "VALID_SYMBOL = f'{ESTONIAN_LETTER}|{FOREIGN_LETTER}|{DASH_SYMBOLS}|{NUMBER_SYMBOLS}'\n",
    "idx = lemmas['lemma'].str.match(f'^{VALID_SYMBOL}+$', case=False)\n",
    "display(lemmas[~idx])"
   ]
  },
  {
   "cell_type": "markdown",
   "id": "59bd99c7-c02c-4035-bab5-3fbd9ced630e",
   "metadata": {},
   "source": [
    "## II. Liitsõnade tabeli valideerimne\n",
    "\n",
    "Tehniliselt on kasulik kontrollida, et iga liitsõna tabelis olev liitlemma on ka pealkirjade tekstides esindatud."
   ]
  },
  {
   "cell_type": "code",
   "execution_count": 40,
   "id": "5c014ab2-6cfa-492a-b22e-1e7c77f18b74",
   "metadata": {},
   "outputs": [
    {
     "data": {
      "text/html": [
       "<div>\n",
       "<style scoped>\n",
       "    .dataframe tbody tr th:only-of-type {\n",
       "        vertical-align: middle;\n",
       "    }\n",
       "\n",
       "    .dataframe tbody tr th {\n",
       "        vertical-align: top;\n",
       "    }\n",
       "\n",
       "    .dataframe thead th {\n",
       "        text-align: right;\n",
       "    }\n",
       "</style>\n",
       "<table border=\"1\" class=\"dataframe\">\n",
       "  <thead>\n",
       "    <tr style=\"text-align: right;\">\n",
       "      <th></th>\n",
       "      <th>lemma</th>\n",
       "    </tr>\n",
       "  </thead>\n",
       "  <tbody>\n",
       "  </tbody>\n",
       "</table>\n",
       "</div>"
      ],
      "text/plain": [
       "Empty DataFrame\n",
       "Columns: [lemma]\n",
       "Index: []"
      ]
     },
     "metadata": {},
     "output_type": "display_data"
    }
   ],
   "source": [
    "result = cur.execute(\n",
    "    \"\"\"\n",
    "    SELECT liitlemma FROM liitsõnad\n",
    "    LEFT JOIN lemma_korpuse_vormid\n",
    "    ON liitsõnad.liitlemma = lemma_korpuse_vormid.lemma\n",
    "    where lemma is NULL\"\"\"    \n",
    ")\n",
    "\n",
    "exeptions =  DataFrame({'lemma':list(row[0] for row in result.fetchall())})\n",
    "display(exeptions)\n"
   ]
  },
  {
   "cell_type": "code",
   "execution_count": 41,
   "id": "33c34b36-f7a3-479b-a733-d02d0a9a55fb",
   "metadata": {},
   "outputs": [],
   "source": [
    "con.close()"
   ]
  }
 ],
 "metadata": {
  "kernelspec": {
   "display_name": "Python 3 (ipykernel)",
   "language": "python",
   "name": "python3"
  },
  "language_info": {
   "codemirror_mode": {
    "name": "ipython",
    "version": 3
   },
   "file_extension": ".py",
   "mimetype": "text/x-python",
   "name": "python",
   "nbconvert_exporter": "python",
   "pygments_lexer": "ipython3",
   "version": "3.9.18"
  }
 },
 "nbformat": 4,
 "nbformat_minor": 5
}
