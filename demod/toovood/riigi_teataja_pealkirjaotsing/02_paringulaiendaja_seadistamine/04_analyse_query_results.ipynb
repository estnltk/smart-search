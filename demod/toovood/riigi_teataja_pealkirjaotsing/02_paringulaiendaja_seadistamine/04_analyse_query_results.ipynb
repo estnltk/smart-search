{
 "cells": [
  {
   "cell_type": "markdown",
   "id": "e890782a-4f36-4bcd-98e7-3af4117be209",
   "metadata": {},
   "source": [
    "# Päringuvastuste kvaliteedi hindamine\n",
    "\n",
    "Meil ei ole otseselt võimalik hinnata päringulaiendaja töökvaliteeti, sest me ei tea millised on tüüpilised Riigi Teatajale tehtud päringud.\n",
    "Samas saame me hinnata millised on probleemsed päringusõnad, mille korral on vastuste ?? "
   ]
  }
 ],
 "metadata": {
  "kernelspec": {
   "display_name": "Python 3 (ipykernel)",
   "language": "python",
   "name": "python3"
  },
  "language_info": {
   "codemirror_mode": {
    "name": "ipython",
    "version": 3
   },
   "file_extension": ".py",
   "mimetype": "text/x-python",
   "name": "python",
   "nbconvert_exporter": "python",
   "pygments_lexer": "ipython3",
   "version": "3.9.18"
  }
 },
 "nbformat": 4,
 "nbformat_minor": 5
}
