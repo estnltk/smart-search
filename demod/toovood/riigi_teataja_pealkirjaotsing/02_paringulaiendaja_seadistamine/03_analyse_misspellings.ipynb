{
 "cells": [
  {
   "cell_type": "markdown",
   "id": "9b8e5f71-acff-4eae-8d41-69a26d90404c",
   "metadata": {},
   "source": [
    "# Kirjavigade tabeli analüüs\n",
    "\n",
    "Korpuses eksisteerivate lemmade põhjal moodustatud kirjavigade tabel võib seada ühele kirjaveaga vormile vastavusse mitu korrektset vormi. Mõnikord on korrektsete vormide arv liiga suur. Järgnevas analüüsime seda täpsemalt. Seda sammu pole otseselt vaja, aga see võimaldab tuvastada ootamatusi."
   ]
  },
  {
   "cell_type": "code",
   "execution_count": 1,
   "id": "3835c899-708d-4504-8577-7f719a207b23",
   "metadata": {},
   "outputs": [],
   "source": [
    "import sqlite3\n",
    "\n",
    "from pandas import DataFrame"
   ]
  },
  {
   "cell_type": "markdown",
   "id": "31e11405-0c37-4eec-8bff-3905d95f5e59",
   "metadata": {},
   "source": [
    "## I. Kirjaveale vastavate õigete vormide jaotus\n",
    "\n",
    "Järgnevas tabelis näitab esimene rida üheselt lahenduvate kirjaveavormide arvu, kus igale kirjaveale vastab vaid üks korrektne vorm.\n",
    "Teise veeru summa näitab ära kirjaveavormide koguarvu. Kirjaveale vastavate vormide peaks olema mõistlik (alla 100), muidu võib päringulaiendaja anda liiga pika vastuse tagasi."
   ]
  },
  {
   "cell_type": "code",
   "execution_count": 2,
   "id": "9ed5fef6-8d40-4cac-a0fe-cd5b1007bc53",
   "metadata": {},
   "outputs": [],
   "source": [
    "con = sqlite3.connect('../results/query_extender_setup/rt_titles.sqlite')\n",
    "cur = con.cursor()"
   ]
  },
  {
   "cell_type": "code",
   "execution_count": 63,
   "id": "a3d36533-cfd3-43d0-bde4-d3796c2ef9e0",
   "metadata": {},
   "outputs": [
    {
     "data": {
      "text/html": [
       "<div>\n",
       "<style scoped>\n",
       "    .dataframe tbody tr th:only-of-type {\n",
       "        vertical-align: middle;\n",
       "    }\n",
       "\n",
       "    .dataframe tbody tr th {\n",
       "        vertical-align: top;\n",
       "    }\n",
       "\n",
       "    .dataframe thead th {\n",
       "        text-align: right;\n",
       "    }\n",
       "</style>\n",
       "<table border=\"1\" class=\"dataframe\">\n",
       "  <thead>\n",
       "    <tr style=\"text-align: right;\">\n",
       "      <th></th>\n",
       "      <th>vastete_arv</th>\n",
       "      <th>kirjaveavormide_arv</th>\n",
       "      <th>osakaal_protsentides</th>\n",
       "    </tr>\n",
       "  </thead>\n",
       "  <tbody>\n",
       "    <tr>\n",
       "      <th>0</th>\n",
       "      <td>1</td>\n",
       "      <td>3149</td>\n",
       "      <td>99.72</td>\n",
       "    </tr>\n",
       "    <tr>\n",
       "      <th>1</th>\n",
       "      <td>2</td>\n",
       "      <td>9</td>\n",
       "      <td>0.28</td>\n",
       "    </tr>\n",
       "  </tbody>\n",
       "</table>\n",
       "</div>"
      ],
      "text/plain": [
       "   vastete_arv  kirjaveavormide_arv  osakaal_protsentides\n",
       "0            1                 3149                 99.72\n",
       "1            2                    9                  0.28"
      ]
     },
     "metadata": {},
     "output_type": "display_data"
    }
   ],
   "source": [
    "result = cur.execute(\n",
    "    \"\"\"\n",
    "    SELECT\n",
    "        lemmade_arv,\n",
    "        count(*) as kirjaveavormide_arv\n",
    "    FROM\n",
    "    (\t\n",
    "        SELECT \n",
    "            vigane_vorm, \n",
    "            count(*) as lemmade_arv\n",
    "        FROM kirjavead\n",
    "        GROUP By vigane_vorm\n",
    "    )\n",
    "    GROUP BY lemmade_arv    \n",
    "    \"\"\"\n",
    ")\n",
    "summary = (DataFrame(result.fetchall(), columns = ['vastete_arv', 'kirjaveavormide_arv'])\n",
    "           .assign(osakaal_protsentides=lambda df: df['kirjaveavormide_arv']/sum(df['kirjaveavormide_arv'])*100).round(2))\n",
    "display(summary)"
   ]
  },
  {
   "cell_type": "markdown",
   "id": "288f9cb4-f463-41dc-86f5-5d67af0ebba7",
   "metadata": {},
   "source": [
    "## II. Mitmeste vastete täpsem analüüs\n",
    "\n",
    "Mitmesele kirjavea vormile vastavate õigete vormide loetelu. \n",
    "Sealjuures eemaldame mitmesused, mis on tingitud täheortograafiast (TÜRGI vs Türgi vs türgi).  "
   ]
  },
  {
   "cell_type": "code",
   "execution_count": 59,
   "id": "42cce0df-63fe-4027-a6f1-8e3a329f724f",
   "metadata": {},
   "outputs": [
    {
     "data": {
      "text/html": [
       "<div>\n",
       "<style scoped>\n",
       "    .dataframe tbody tr th:only-of-type {\n",
       "        vertical-align: middle;\n",
       "    }\n",
       "\n",
       "    .dataframe tbody tr th {\n",
       "        vertical-align: top;\n",
       "    }\n",
       "\n",
       "    .dataframe thead th {\n",
       "        text-align: right;\n",
       "    }\n",
       "</style>\n",
       "<table border=\"1\" class=\"dataframe\">\n",
       "  <thead>\n",
       "    <tr style=\"text-align: right;\">\n",
       "      <th></th>\n",
       "      <th>vigane_vorm</th>\n",
       "      <th>võimalikud_vasted</th>\n",
       "      <th>vastete_arv</th>\n",
       "    </tr>\n",
       "  </thead>\n",
       "  <tbody>\n",
       "    <tr>\n",
       "      <th>0</th>\n",
       "      <td>el</td>\n",
       "      <td>[eel, elu]</td>\n",
       "      <td>2</td>\n",
       "    </tr>\n",
       "    <tr>\n",
       "      <th>2</th>\n",
       "      <td>er</td>\n",
       "      <td>[era, eri]</td>\n",
       "      <td>2</td>\n",
       "    </tr>\n",
       "    <tr>\n",
       "      <th>4</th>\n",
       "      <td>koku</td>\n",
       "      <td>[kogu, kokku]</td>\n",
       "      <td>2</td>\n",
       "    </tr>\n",
       "    <tr>\n",
       "      <th>5</th>\n",
       "      <td>usu</td>\n",
       "      <td>[uus, suu]</td>\n",
       "      <td>2</td>\n",
       "    </tr>\n",
       "    <tr>\n",
       "      <th>6</th>\n",
       "      <td>uu</td>\n",
       "      <td>[uus, suu]</td>\n",
       "      <td>2</td>\n",
       "    </tr>\n",
       "    <tr>\n",
       "      <th>7</th>\n",
       "      <td>vaa</td>\n",
       "      <td>[vaba, vara]</td>\n",
       "      <td>2</td>\n",
       "    </tr>\n",
       "  </tbody>\n",
       "</table>\n",
       "</div>"
      ],
      "text/plain": [
       "  vigane_vorm võimalikud_vasted  vastete_arv\n",
       "0          el        [eel, elu]            2\n",
       "2          er        [era, eri]            2\n",
       "4        koku     [kogu, kokku]            2\n",
       "5         usu        [uus, suu]            2\n",
       "6          uu        [uus, suu]            2\n",
       "7         vaa      [vaba, vara]            2"
      ]
     },
     "metadata": {},
     "output_type": "display_data"
    }
   ],
   "source": [
    "result = cur.execute(\n",
    "    \"\"\"\n",
    "    SELECT\n",
    "        vigane_vorm, \n",
    "        vorm, \n",
    "        kaal\n",
    "    FROM kirjavead\n",
    "    WHERE vigane_vorm in\n",
    "    ( \n",
    "        SELECT vigane_vorm\n",
    "        FROM\n",
    "        (\n",
    "            SELECT \n",
    "                vigane_vorm, \n",
    "                count(*) as count\n",
    "            FROM kirjavead\n",
    "            GROUP By vigane_vorm\n",
    "        )\n",
    "        WHERE count > 1\n",
    "    )\n",
    "    \"\"\"\n",
    ")\n",
    "\n",
    "spurious_misspellings = (DataFrame(result.fetchall(), columns=['vigane_vorm', 'vorm', 'kaal'])\n",
    "                         .groupby('vigane_vorm', as_index=False)\n",
    "                         .aggregate(võimalikud_vasted=('vorm', lambda x:list(set(x.str.lower()))))\n",
    "                         .assign(vastete_arv=lambda df: df['võimalikud_vasted'].map(len))\n",
    "                         .pipe(lambda df: df[df['vastete_arv'] > 1])\n",
    "                         .sort_values(['vastete_arv'], ascending=False))\n",
    "\n",
    "display(spurious_misspellings)"
   ]
  }
 ],
 "metadata": {
  "kernelspec": {
   "display_name": "Python 3 (ipykernel)",
   "language": "python",
   "name": "python3"
  },
  "language_info": {
   "codemirror_mode": {
    "name": "ipython",
    "version": 3
   },
   "file_extension": ".py",
   "mimetype": "text/x-python",
   "name": "python",
   "nbconvert_exporter": "python",
   "pygments_lexer": "ipython3",
   "version": "3.9.18"
  }
 },
 "nbformat": 4,
 "nbformat_minor": 5
}
