{
 "cells": [
  {
   "cell_type": "markdown",
   "id": "70635c1e-a923-48c4-9898-1af8b1264693",
   "metadata": {},
   "source": [
    "# Päringulaiendaja seadistamine\n",
    "\n",
    "## I. Päringulaiendaja sisendandmebaasifaili loomine\n",
    "Päringulaiendaja käivitamiseks tuleb täita selle sisendandmebaas. Selleks tuleb\n",
    "\n",
    "1. luua andmete impordiks vajalik [konfiguratsioonifail](rt_titles_import.ini);\n",
    "2. muuta käsurealt kättesaadavaks [`query_extender_setup` skriptid](../../../../scripts/query_extender_setup/bin/\");\n",
    "3. viia läbi andmete import käivitades alljärgnevad skriptid.\n",
    "\n",
    "### Skriptide käivitamine\n",
    "```bash\n",
    "import_index_files.sh --conf-file rt_titles_import.ini\n",
    "import_misspellings.py --conf_file rt_titles_import.ini\n",
    "```\n",
    "\n",
    "### Tulemus\n",
    "Skriptide tulemusena peaks tekkima kataloogi `../results/query_extender_setup/` andmebaasifail `rt_titles.sqlite`.\n",
    "\n",
    "\n",
    "## II. Päringulaiendaja veebiteenuse käivitamine\n",
    "\n",
    "Tekkinud andmebaasifail `rt_titles.sqlite` on veebiteenuse [`???`](??) sisendandmebaas. Teenuse seadistamiseks tuleb \n",
    "\n",
    "??\n",
    "\n",
    "## III. Päringulaiendaja veebiteenuse testimine\n",
    "\n",
    "??"
   ]
  }
 ],
 "metadata": {
  "kernelspec": {
   "display_name": "Python 3 (ipykernel)",
   "language": "python",
   "name": "python3"
  },
  "language_info": {
   "codemirror_mode": {
    "name": "ipython",
    "version": 3
   },
   "file_extension": ".py",
   "mimetype": "text/x-python",
   "name": "python",
   "nbconvert_exporter": "python",
   "pygments_lexer": "ipython3",
   "version": "3.9.18"
  }
 },
 "nbformat": 4,
 "nbformat_minor": 5
}
