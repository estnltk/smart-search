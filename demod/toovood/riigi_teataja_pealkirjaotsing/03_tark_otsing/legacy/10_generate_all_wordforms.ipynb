{
 "cells": [
  {
   "cell_type": "code",
   "execution_count": 1,
   "id": "db0dfe0b-f1b2-4023-bfb8-39df9ab32f0d",
   "metadata": {},
   "outputs": [],
   "source": [
    "import re\n",
    "import math\n",
    "import time\n",
    "import requests\n",
    "import datetime\n",
    "import urllib.parse\n",
    "\n",
    "from datetime import date\n",
    "from pandas import DataFrame \n",
    "from pandas import read_csv\n",
    "from pandas import concat\n",
    "from pandas import merge\n",
    "from tqdm.auto import tqdm"
   ]
  },
  {
   "cell_type": "code",
   "execution_count": 2,
   "id": "f3dd502a-0595-4b3e-88e8-db9726a76972",
   "metadata": {},
   "outputs": [
    {
     "data": {
      "text/html": [
       "<div>\n",
       "<style scoped>\n",
       "    .dataframe tbody tr th:only-of-type {\n",
       "        vertical-align: middle;\n",
       "    }\n",
       "\n",
       "    .dataframe tbody tr th {\n",
       "        vertical-align: top;\n",
       "    }\n",
       "\n",
       "    .dataframe thead th {\n",
       "        text-align: right;\n",
       "    }\n",
       "</style>\n",
       "<table border=\"1\" class=\"dataframe\">\n",
       "  <thead>\n",
       "    <tr style=\"text-align: right;\">\n",
       "      <th></th>\n",
       "      <th>lemma</th>\n",
       "      <th>wordform</th>\n",
       "    </tr>\n",
       "  </thead>\n",
       "  <tbody>\n",
       "    <tr>\n",
       "      <th>0</th>\n",
       "      <td>Tere</td>\n",
       "      <td>tered</td>\n",
       "    </tr>\n",
       "    <tr>\n",
       "      <th>1</th>\n",
       "      <td>Tere</td>\n",
       "      <td>teredena</td>\n",
       "    </tr>\n",
       "    <tr>\n",
       "      <th>2</th>\n",
       "      <td>Tere</td>\n",
       "      <td>teredes</td>\n",
       "    </tr>\n",
       "    <tr>\n",
       "      <th>3</th>\n",
       "      <td>Tere</td>\n",
       "      <td>teredest</td>\n",
       "    </tr>\n",
       "    <tr>\n",
       "      <th>4</th>\n",
       "      <td>Tere</td>\n",
       "      <td>terena</td>\n",
       "    </tr>\n",
       "  </tbody>\n",
       "</table>\n",
       "</div>"
      ],
      "text/plain": [
       "  lemma  wordform\n",
       "0  Tere     tered\n",
       "1  Tere  teredena\n",
       "2  Tere   teredes\n",
       "3  Tere  teredest\n",
       "4  Tere    terena"
      ]
     },
     "metadata": {},
     "output_type": "display_data"
    }
   ],
   "source": [
    "def generate_all_worldforms(lemmas: str):\n",
    "    \"\"\"\n",
    "    Uses web service to generate all wordforms from the list of lemmas separated by spaces\n",
    "\n",
    "    Returns a two column table with columns wordform and lemma.\n",
    "    The number of rows corresponding to a single lemma varies as duplicated wordforms are omitted.\n",
    "    \"\"\"\n",
    "    assert lemmas.find('+') == -1, 'Input cannot contain + sign. It corrupts the output'\n",
    "\n",
    "    GENERATOR_QUERY = \"https://smart-search.tartunlp.ai/api/generator/process\"\n",
    "    HEADERS = {\"Content-Type\": \"application/json; charset=utf-8\"}\n",
    "    POST_DATA_TEMPLATE = {'type': 'text', 'content': lemmas}\n",
    "\n",
    "    response = requests.post(GENERATOR_QUERY, json=POST_DATA_TEMPLATE, headers=HEADERS)\n",
    "    assert response.ok, \"Webservice failed\"\n",
    "    response = response.json()\n",
    "    assert response['response']['type'] == 'texts', \"Unexpected response type\"\n",
    "\n",
    "    token_count = len(response['response']['texts'])\n",
    "    tbl = DataFrame({'lemma': [None] * token_count, 'wordform': [None] * token_count})\n",
    "    for i, token in enumerate(response['response']['texts']):\n",
    "        generated_ = token['features']\n",
    "        tbl.loc[i, 'lemma'] = token['content']\n",
    "        tbl.loc[i, 'wordform'] = list(set(map(lambda x: x['token'].replace('+', ''), token['features']['generated_forms'])))\n",
    "\n",
    "    return tbl.explode('wordform').reset_index(drop=True)\n",
    "\n",
    "display(generate_all_worldforms('Tere').head())"
   ]
  }
 ],
 "metadata": {
  "kernelspec": {
   "display_name": "Python 3 (ipykernel)",
   "language": "python",
   "name": "python3"
  },
  "language_info": {
   "codemirror_mode": {
    "name": "ipython",
    "version": 3
   },
   "file_extension": ".py",
   "mimetype": "text/x-python",
   "name": "python",
   "nbconvert_exporter": "python",
   "pygments_lexer": "ipython3",
   "version": "3.9.18"
  }
 },
 "nbformat": 4,
 "nbformat_minor": 5
}
