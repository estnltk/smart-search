{
 "cells": [
  {
   "cell_type": "code",
   "execution_count": 3,
   "id": "1a287bc7-31c2-460f-9fe3-487ceab49a39",
   "metadata": {},
   "outputs": [],
   "source": [
    "import re\n",
    "import math\n",
    "import time\n",
    "import requests\n",
    "import datetime\n",
    "import urllib.parse\n",
    "\n",
    "from datetime import date\n",
    "from pandas import DataFrame \n",
    "from pandas import read_csv\n",
    "from pandas import concat\n",
    "from tqdm.auto import tqdm"
   ]
  },
  {
   "cell_type": "markdown",
   "id": "755fdbea-0b2f-4f77-8c1e-ec78221e94bc",
   "metadata": {},
   "source": [
    "## I. Tests for analyse webservice\n",
    "\n",
    "TODO: Find corresponding captions and extend tests"
   ]
  },
  {
   "cell_type": "code",
   "execution_count": 1,
   "id": "f4fb90dc",
   "metadata": {},
   "outputs": [],
   "source": [
    "def analyze_text(text: str):\n",
    "    \"\"\"\n",
    "    Uses morphological analyser to find lemmas of space separated words.\n",
    "    Returns a dataframe with columns wordform, lemma and sublemmas.\n",
    "    \"\"\"\n",
    "\n",
    "    # Webservice call\n",
    "    analyzer_query = \"https://smart-search.tartunlp.ai/api/analyser/process\"\n",
    "    headers = {\"Content-Type\": \"application/json; charset=utf-8\"}\n",
    "    post_data_template = {'params': {\"vmetajson\": [\"--guess\"]}, 'content': text}\n",
    "    response = requests.post(analyzer_query, json=post_data_template, headers=headers)\n",
    "    assert response.ok, \"Webservice failed\"\n",
    "    response = response.json()\n",
    "\n",
    "    # Count the number of analyses over all tokens\n",
    "    analysis_count = sum(map(lambda x: len(x['features']['mrf']), response['annotations']['tokens']))\n",
    "    tbl = DataFrame({\n",
    "        'index': [None] * analysis_count,\n",
    "        'wordform': [None] * analysis_count,\n",
    "        'lemma': [None] * analysis_count,\n",
    "        'sublemmas': [None] * analysis_count})\n",
    "\n",
    "    # Unwind list of list into table\n",
    "    row = 0\n",
    "    for idx, token in enumerate(response['annotations']['tokens']):\n",
    "        for annotation in token['features']['mrf']:\n",
    "            tbl.loc[row, 'index'] = idx\n",
    "            tbl.loc[row, 'wordform'] = token['features']['token']\n",
    "            tbl.loc[row, 'lemma'] = annotation['lisamärkideta']\n",
    "            tbl.loc[row, 'sublemmas'] = tuple(annotation['komponendid'])\n",
    "            row += 1\n",
    "\n",
    "    tbl = tbl.drop_duplicates().reset_index(drop=True)\n",
    "    tbl['sublemmas'] = tbl['sublemmas'].map(list)\n",
    "\n",
    "    # Assign lemma if there is no sublemmas for uniformity\n",
    "    idx = tbl['sublemmas'].map(len) == 0\n",
    "    tbl.loc[idx, 'sublemmas'] = tbl.loc[idx, 'lemma'].map(lambda x: [x])\n",
    "    return tbl"
   ]
  },
  {
   "cell_type": "code",
   "execution_count": 5,
   "id": "089a0b63",
   "metadata": {},
   "outputs": [
    {
     "data": {
      "text/html": [
       "<div>\n",
       "<style scoped>\n",
       "    .dataframe tbody tr th:only-of-type {\n",
       "        vertical-align: middle;\n",
       "    }\n",
       "\n",
       "    .dataframe tbody tr th {\n",
       "        vertical-align: top;\n",
       "    }\n",
       "\n",
       "    .dataframe thead th {\n",
       "        text-align: right;\n",
       "    }\n",
       "</style>\n",
       "<table border=\"1\" class=\"dataframe\">\n",
       "  <thead>\n",
       "    <tr style=\"text-align: right;\">\n",
       "      <th></th>\n",
       "      <th>index</th>\n",
       "      <th>wordform</th>\n",
       "      <th>lemma</th>\n",
       "      <th>sublemmas</th>\n",
       "    </tr>\n",
       "  </thead>\n",
       "  <tbody>\n",
       "    <tr>\n",
       "      <th>0</th>\n",
       "      <td>0</td>\n",
       "      <td>„Talleks”</td>\n",
       "      <td>tall</td>\n",
       "      <td>[tall]</td>\n",
       "    </tr>\n",
       "  </tbody>\n",
       "</table>\n",
       "</div>"
      ],
      "text/plain": [
       "  index   wordform lemma sublemmas\n",
       "0     0  „Talleks”  tall    [tall]"
      ]
     },
     "metadata": {},
     "output_type": "display_data"
    },
    {
     "data": {
      "text/html": [
       "<div>\n",
       "<style scoped>\n",
       "    .dataframe tbody tr th:only-of-type {\n",
       "        vertical-align: middle;\n",
       "    }\n",
       "\n",
       "    .dataframe tbody tr th {\n",
       "        vertical-align: top;\n",
       "    }\n",
       "\n",
       "    .dataframe thead th {\n",
       "        text-align: right;\n",
       "    }\n",
       "</style>\n",
       "<table border=\"1\" class=\"dataframe\">\n",
       "  <thead>\n",
       "    <tr style=\"text-align: right;\">\n",
       "      <th></th>\n",
       "      <th>index</th>\n",
       "      <th>wordform</th>\n",
       "      <th>lemma</th>\n",
       "      <th>sublemmas</th>\n",
       "    </tr>\n",
       "  </thead>\n",
       "  <tbody>\n",
       "    <tr>\n",
       "      <th>0</th>\n",
       "      <td>0</td>\n",
       "      <td>\"Balti</td>\n",
       "      <td>balti</td>\n",
       "      <td>[balti]</td>\n",
       "    </tr>\n",
       "  </tbody>\n",
       "</table>\n",
       "</div>"
      ],
      "text/plain": [
       "  index wordform  lemma sublemmas\n",
       "0     0   \"Balti  balti   [balti]"
      ]
     },
     "metadata": {},
     "output_type": "display_data"
    },
    {
     "data": {
      "text/html": [
       "<div>\n",
       "<style scoped>\n",
       "    .dataframe tbody tr th:only-of-type {\n",
       "        vertical-align: middle;\n",
       "    }\n",
       "\n",
       "    .dataframe tbody tr th {\n",
       "        vertical-align: top;\n",
       "    }\n",
       "\n",
       "    .dataframe thead th {\n",
       "        text-align: right;\n",
       "    }\n",
       "</style>\n",
       "<table border=\"1\" class=\"dataframe\">\n",
       "  <thead>\n",
       "    <tr style=\"text-align: right;\">\n",
       "      <th></th>\n",
       "      <th>index</th>\n",
       "      <th>wordform</th>\n",
       "      <th>lemma</th>\n",
       "      <th>sublemmas</th>\n",
       "    </tr>\n",
       "  </thead>\n",
       "  <tbody>\n",
       "    <tr>\n",
       "      <th>0</th>\n",
       "      <td>0</td>\n",
       "      <td>“Lepingu</td>\n",
       "      <td>leping</td>\n",
       "      <td>[leping]</td>\n",
       "    </tr>\n",
       "  </tbody>\n",
       "</table>\n",
       "</div>"
      ],
      "text/plain": [
       "  index  wordform   lemma sublemmas\n",
       "0     0  “Lepingu  leping  [leping]"
      ]
     },
     "metadata": {},
     "output_type": "display_data"
    },
    {
     "data": {
      "text/html": [
       "<div>\n",
       "<style scoped>\n",
       "    .dataframe tbody tr th:only-of-type {\n",
       "        vertical-align: middle;\n",
       "    }\n",
       "\n",
       "    .dataframe tbody tr th {\n",
       "        vertical-align: top;\n",
       "    }\n",
       "\n",
       "    .dataframe thead th {\n",
       "        text-align: right;\n",
       "    }\n",
       "</style>\n",
       "<table border=\"1\" class=\"dataframe\">\n",
       "  <thead>\n",
       "    <tr style=\"text-align: right;\">\n",
       "      <th></th>\n",
       "      <th>index</th>\n",
       "      <th>wordform</th>\n",
       "      <th>lemma</th>\n",
       "      <th>sublemmas</th>\n",
       "    </tr>\n",
       "  </thead>\n",
       "  <tbody>\n",
       "    <tr>\n",
       "      <th>0</th>\n",
       "      <td>0</td>\n",
       "      <td>(EAEC)</td>\n",
       "      <td>EAEC</td>\n",
       "      <td>[EAEC]</td>\n",
       "    </tr>\n",
       "  </tbody>\n",
       "</table>\n",
       "</div>"
      ],
      "text/plain": [
       "  index wordform lemma sublemmas\n",
       "0     0   (EAEC)  EAEC    [EAEC]"
      ]
     },
     "metadata": {},
     "output_type": "display_data"
    },
    {
     "data": {
      "text/html": [
       "<div>\n",
       "<style scoped>\n",
       "    .dataframe tbody tr th:only-of-type {\n",
       "        vertical-align: middle;\n",
       "    }\n",
       "\n",
       "    .dataframe tbody tr th {\n",
       "        vertical-align: top;\n",
       "    }\n",
       "\n",
       "    .dataframe thead th {\n",
       "        text-align: right;\n",
       "    }\n",
       "</style>\n",
       "<table border=\"1\" class=\"dataframe\">\n",
       "  <thead>\n",
       "    <tr style=\"text-align: right;\">\n",
       "      <th></th>\n",
       "      <th>index</th>\n",
       "      <th>wordform</th>\n",
       "      <th>lemma</th>\n",
       "      <th>sublemmas</th>\n",
       "    </tr>\n",
       "  </thead>\n",
       "  <tbody>\n",
       "    <tr>\n",
       "      <th>0</th>\n",
       "      <td>0</td>\n",
       "      <td>Ühendust,</td>\n",
       "      <td>ühendus</td>\n",
       "      <td>[ühendus]</td>\n",
       "    </tr>\n",
       "  </tbody>\n",
       "</table>\n",
       "</div>"
      ],
      "text/plain": [
       "  index   wordform    lemma  sublemmas\n",
       "0     0  Ühendust,  ühendus  [ühendus]"
      ]
     },
     "metadata": {},
     "output_type": "display_data"
    },
    {
     "data": {
      "text/html": [
       "<div>\n",
       "<style scoped>\n",
       "    .dataframe tbody tr th:only-of-type {\n",
       "        vertical-align: middle;\n",
       "    }\n",
       "\n",
       "    .dataframe tbody tr th {\n",
       "        vertical-align: top;\n",
       "    }\n",
       "\n",
       "    .dataframe thead th {\n",
       "        text-align: right;\n",
       "    }\n",
       "</style>\n",
       "<table border=\"1\" class=\"dataframe\">\n",
       "  <thead>\n",
       "    <tr style=\"text-align: right;\">\n",
       "      <th></th>\n",
       "      <th>index</th>\n",
       "      <th>wordform</th>\n",
       "      <th>lemma</th>\n",
       "      <th>sublemmas</th>\n",
       "    </tr>\n",
       "  </thead>\n",
       "  <tbody>\n",
       "    <tr>\n",
       "      <th>0</th>\n",
       "      <td>0</td>\n",
       "      <td>«Õigusabi</td>\n",
       "      <td>õigusabi</td>\n",
       "      <td>[õigus, abi]</td>\n",
       "    </tr>\n",
       "  </tbody>\n",
       "</table>\n",
       "</div>"
      ],
      "text/plain": [
       "  index   wordform     lemma     sublemmas\n",
       "0     0  «Õigusabi  õigusabi  [õigus, abi]"
      ]
     },
     "metadata": {},
     "output_type": "display_data"
    }
   ],
   "source": [
    "display(analyze_text('„Talleks”'))\n",
    "display(analyze_text('\"Balti'))\n",
    "display(analyze_text('“Lepingu'))\n",
    "display(analyze_text('(EAEC)'))\n",
    "display(analyze_text('Ühendust,'))\n",
    "display(analyze_text('«Õigusabi'))"
   ]
  },
  {
   "cell_type": "markdown",
   "id": "15ddc613-3526-4212-8a12-ddbdc910d2ed",
   "metadata": {},
   "source": [
    "### I.A Initial analysis of all captions\n",
    "\n",
    "* We need to analyse all the document captions and get occurence counts for wordforms. \n",
    "* In this analysis we ignore the fact that some wordforms have multiple lemmas and treat each row with the same weight."
   ]
  },
  {
   "cell_type": "code",
   "execution_count": 8,
   "id": "98bbfc3e-4df3-4034-9e9a-315348f570ba",
   "metadata": {},
   "outputs": [],
   "source": [
    "sources = read_csv('../../results/source_texts/state_laws.csv', header=0)\n",
    "\n",
    "# result = [None] *  len(sources)\n",
    "# for i, caption in tqdm(enumerate(sources['document_title']), total=len(sources)):\n",
    "#    result[i] = analyze_document_caption(caption).assign(doc_id = i)\n",
    "\n",
    "# result = concat(result, axis=0)\n",
    "# display(result)"
   ]
  },
  {
   "cell_type": "markdown",
   "id": "a3009757",
   "metadata": {},
   "source": [
    "### Huvitavad sõnavormid"
   ]
  },
  {
   "cell_type": "markdown",
   "id": "749fbbc4-935b-4301-bcbd-71dfac856394",
   "metadata": {},
   "source": [
    "* Strasbourg'i\n",
    "* International'i\n",
    "* A/S\n",
    "* U.K\n",
    "* P.L.C\n",
    "\n",
    "TODO: Otsida vastavad pealkirjad ülesse ja kontrollida tulemust."
   ]
  }
 ],
 "metadata": {
  "kernelspec": {
   "display_name": "Python 3 (ipykernel)",
   "language": "python",
   "name": "python3"
  },
  "language_info": {
   "codemirror_mode": {
    "name": "ipython",
    "version": 3
   },
   "file_extension": ".py",
   "mimetype": "text/x-python",
   "name": "python",
   "nbconvert_exporter": "python",
   "pygments_lexer": "ipython3",
   "version": "3.11.6"
  }
 },
 "nbformat": 4,
 "nbformat_minor": 5
}
