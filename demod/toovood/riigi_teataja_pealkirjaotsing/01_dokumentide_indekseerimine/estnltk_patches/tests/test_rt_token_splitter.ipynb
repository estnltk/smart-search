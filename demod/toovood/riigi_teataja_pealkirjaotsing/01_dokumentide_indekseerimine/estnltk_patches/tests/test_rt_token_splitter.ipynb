{
 "cells": [
  {
   "cell_type": "code",
   "execution_count": 1,
   "id": "7b1c5f27-5132-4c2e-aff4-7270a47abd1e",
   "metadata": {},
   "outputs": [],
   "source": [
    "import sys\n",
    "sys.path.append('../../')"
   ]
  },
  {
   "cell_type": "code",
   "execution_count": 2,
   "id": "bcd337d0-4100-4799-bccd-e15ab0ddec44",
   "metadata": {},
   "outputs": [],
   "source": [
    "from estnltk import Text\n",
    "from estnltk_patches.rt_token_splitter import RTTokenSplitter "
   ]
  },
  {
   "cell_type": "code",
   "execution_count": 3,
   "id": "13191165-9332-498f-8044-459788ead21c",
   "metadata": {},
   "outputs": [],
   "source": [
    "token_splitter = RTTokenSplitter()\n",
    "text = Text('ˮEuroopa ˮüks ’) .- 2020ˮ 5%').tag_layer('tokens')\n",
    "token_splitter.retag(text)\n",
    "assert text['tokens'].text == ['ˮ', 'Euroopa', 'ˮ', 'üks', '’', ')', '.', '-', '2020', 'ˮ', '5', '%'], 'Ther first or the second rule fails'"
   ]
  },
  {
   "cell_type": "code",
   "execution_count": 4,
   "id": "96e32e28-67f7-402e-8aa4-20c05e16e8ae",
   "metadata": {},
   "outputs": [],
   "source": [
    "text = Text('kohta¹\t67³ m²').tag_layer('tokens')\n",
    "token_splitter.retag(text)\n",
    "assert text['tokens'].text == ['kohta', '¹', '67', '³', 'm²'], 'Ther second rule fails'"
   ]
  },
  {
   "cell_type": "code",
   "execution_count": 5,
   "id": "9e274d98-0ad8-46c2-a222-8da834263dfb",
   "metadata": {},
   "outputs": [],
   "source": [
    "text = Text('Äriseadustik1\tValga-1 RAS1000 COVID-19 NO99').tag_layer('tokens')\n",
    "token_splitter.retag(text)\n",
    "assert text['tokens'].text == ['Äriseadustik', '1', 'Valga', '-', '1', 'RAS1000', 'COVID', '-', '19', 'NO99'], \"The third rule fails\""
   ]
  }
 ],
 "metadata": {
  "kernelspec": {
   "display_name": "Python 3 (ipykernel)",
   "language": "python",
   "name": "python3"
  },
  "language_info": {
   "codemirror_mode": {
    "name": "ipython",
    "version": 3
   },
   "file_extension": ".py",
   "mimetype": "text/x-python",
   "name": "python",
   "nbconvert_exporter": "python",
   "pygments_lexer": "ipython3",
   "version": "3.9.18"
  }
 },
 "nbformat": 4,
 "nbformat_minor": 5
}
