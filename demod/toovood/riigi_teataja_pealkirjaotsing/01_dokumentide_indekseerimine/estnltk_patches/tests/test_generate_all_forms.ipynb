{
 "cells": [
  {
   "cell_type": "code",
   "execution_count": 1,
   "id": "efee97ee-cbcc-48c4-878a-7fb93c5c0806",
   "metadata": {},
   "outputs": [],
   "source": [
    "import sys\n",
    "sys.path.append('../../')"
   ]
  },
  {
   "cell_type": "code",
   "execution_count": 2,
   "id": "e4028f70-c3c8-47c6-b795-550554acd61b",
   "metadata": {},
   "outputs": [],
   "source": [
    "from estnltk_patches.form_synthesis import generate_all_forms"
   ]
  },
  {
   "cell_type": "code",
   "execution_count": 3,
   "id": "9f1a52be-08af-4ba9-a879-a1cf66aa680c",
   "metadata": {},
   "outputs": [
    {
     "data": {
      "text/plain": [
       "{'olema': ['olge',\n",
       "  'olen',\n",
       "  'olnuksid',\n",
       "  'oldud',\n",
       "  'oleksid',\n",
       "  'olid',\n",
       "  'oldaks',\n",
       "  'poleks',\n",
       "  'olite',\n",
       "  'on',\n",
       "  'olles',\n",
       "  'olnuvat',\n",
       "  'olevat',\n",
       "  'olduvat',\n",
       "  'olda',\n",
       "  'oleme',\n",
       "  'olemata',\n",
       "  'olnuksime',\n",
       "  'olnuksite',\n",
       "  'olin',\n",
       "  'olgu',\n",
       "  'olemaks',\n",
       "  'oleksin',\n",
       "  'oldagu',\n",
       "  'oldavat',\n",
       "  'oleksime',\n",
       "  'olemast',\n",
       "  'olema',\n",
       "  'ollakse',\n",
       "  'oldi',\n",
       "  'olnud',\n",
       "  'olemas',\n",
       "  'olnuksin',\n",
       "  'olduks',\n",
       "  'olime',\n",
       "  'oldav',\n",
       "  'olete',\n",
       "  'polnud',\n",
       "  'poldud',\n",
       "  'olnuks',\n",
       "  'oldama',\n",
       "  'oleks',\n",
       "  'olev',\n",
       "  'olla',\n",
       "  'pole',\n",
       "  'oli',\n",
       "  'oled',\n",
       "  'ole',\n",
       "  'polevat',\n",
       "  'olgem',\n",
       "  'polnuks',\n",
       "  'oleksite']}"
      ]
     },
     "execution_count": 3,
     "metadata": {},
     "output_type": "execute_result"
    }
   ],
   "source": [
    "generate_all_forms('olema')"
   ]
  },
  {
   "cell_type": "code",
   "execution_count": 4,
   "id": "3d65150a-4da0-4d31-b645-9c4dc1cdab16",
   "metadata": {},
   "outputs": [
    {
     "data": {
      "text/plain": [
       "{'loeb': ['loete',\n",
       "  'loetavat',\n",
       "  'loeks',\n",
       "  'lugenuksid',\n",
       "  'loeksin',\n",
       "  'lugenud',\n",
       "  'loen',\n",
       "  'lugenuvat',\n",
       "  'loeti',\n",
       "  'lugevat',\n",
       "  'lugenuksin',\n",
       "  'lugegu',\n",
       "  'lugesid',\n",
       "  'loeksid',\n",
       "  'lugeda',\n",
       "  'lugenuksime',\n",
       "  'lugesite',\n",
       "  'lugev',\n",
       "  'lugedes',\n",
       "  'loevad',\n",
       "  'loeksime',\n",
       "  'lugesime',\n",
       "  'lugesin',\n",
       "  'loetakse',\n",
       "  'loetud',\n",
       "  'loeksite',\n",
       "  'loetuvat',\n",
       "  'lugegem',\n",
       "  'loetagu',\n",
       "  'loetav',\n",
       "  'lugemast',\n",
       "  'loetaks',\n",
       "  'lugenuks',\n",
       "  'loeb',\n",
       "  'loed',\n",
       "  'lugema',\n",
       "  'loetuks',\n",
       "  'lugege',\n",
       "  'lugenuksite',\n",
       "  'loe',\n",
       "  'lugemata',\n",
       "  'loeta',\n",
       "  'loeme',\n",
       "  'lugemas',\n",
       "  'luges',\n",
       "  'lugemaks',\n",
       "  'loetama']}"
      ]
     },
     "execution_count": 4,
     "metadata": {},
     "output_type": "execute_result"
    }
   ],
   "source": [
    "generate_all_forms('lugema')"
   ]
  },
  {
   "cell_type": "code",
   "execution_count": 5,
   "id": "789dd95b-fa35-4416-9fe3-d642fbf6c55d",
   "metadata": {},
   "outputs": [
    {
     "data": {
      "text/plain": [
       "{'palga': ['palgal',\n",
       "  'palgas',\n",
       "  'palga',\n",
       "  'palgaga',\n",
       "  'palgast',\n",
       "  'palgata',\n",
       "  'palkadele',\n",
       "  'palgasse',\n",
       "  'palka',\n",
       "  'palku',\n",
       "  'palkadeni',\n",
       "  'palkadest',\n",
       "  'palgana',\n",
       "  'palgani',\n",
       "  'palkadena',\n",
       "  'palk',\n",
       "  'palkasid',\n",
       "  'palgalt',\n",
       "  'palgad',\n",
       "  'palkadel',\n",
       "  'palgaks',\n",
       "  'palkadega',\n",
       "  'palkadeta',\n",
       "  'palkades',\n",
       "  'palkadesse',\n",
       "  'palgale',\n",
       "  'palkade',\n",
       "  'palkadeks',\n",
       "  'palkadelt'],\n",
       " 'palgi': ['palgita',\n",
       "  'palgini',\n",
       "  'palkideks',\n",
       "  'palkisid',\n",
       "  'palkides',\n",
       "  'palkidel',\n",
       "  'palkidest',\n",
       "  'palgina',\n",
       "  'palk',\n",
       "  'palkidena',\n",
       "  'palkidega',\n",
       "  'palkide',\n",
       "  'palgid',\n",
       "  'palkideta',\n",
       "  'palkidesse',\n",
       "  'palke',\n",
       "  'palkidele',\n",
       "  'palkideni',\n",
       "  'palkidelt',\n",
       "  'palgile',\n",
       "  'palgilt',\n",
       "  'palgiks',\n",
       "  'palgi',\n",
       "  'palki',\n",
       "  'palgist',\n",
       "  'palgis',\n",
       "  'palgisse',\n",
       "  'palgil',\n",
       "  'palgiga']}"
      ]
     },
     "execution_count": 5,
     "metadata": {},
     "output_type": "execute_result"
    }
   ],
   "source": [
    "generate_all_forms('palk')"
   ]
  },
  {
   "cell_type": "code",
   "execution_count": 6,
   "id": "cea480fa-b767-4dd7-8c03-b5c9cb6a01f0",
   "metadata": {},
   "outputs": [
    {
     "data": {
      "text/plain": [
       "{'kama': ['kamadena',\n",
       "  'kamaga',\n",
       "  'kamadeta',\n",
       "  'kamadeks',\n",
       "  'kamadega',\n",
       "  'kamalt',\n",
       "  'kamani',\n",
       "  'kamasid',\n",
       "  'kamata',\n",
       "  'kamale',\n",
       "  'kamadele',\n",
       "  'kamana',\n",
       "  'kamaks',\n",
       "  'kamad',\n",
       "  'kamasse',\n",
       "  'kamal',\n",
       "  'kamast',\n",
       "  'kamadeni',\n",
       "  'kamadelt',\n",
       "  'kamadesse',\n",
       "  'kamadel',\n",
       "  'kamadest',\n",
       "  'kamades',\n",
       "  'kamade',\n",
       "  'kamas',\n",
       "  'kama']}"
      ]
     },
     "execution_count": 6,
     "metadata": {},
     "output_type": "execute_result"
    }
   ],
   "source": [
    "generate_all_forms('kama')"
   ]
  }
 ],
 "metadata": {
  "kernelspec": {
   "display_name": "Python 3 (ipykernel)",
   "language": "python",
   "name": "python3"
  },
  "language_info": {
   "codemirror_mode": {
    "name": "ipython",
    "version": 3
   },
   "file_extension": ".py",
   "mimetype": "text/x-python",
   "name": "python",
   "nbconvert_exporter": "python",
   "pygments_lexer": "ipython3",
   "version": "3.9.18"
  }
 },
 "nbformat": 4,
 "nbformat_minor": 5
}
