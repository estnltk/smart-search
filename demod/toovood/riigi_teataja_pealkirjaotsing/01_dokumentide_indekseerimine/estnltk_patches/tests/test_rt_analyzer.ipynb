{
 "cells": [
  {
   "cell_type": "code",
   "execution_count": 1,
   "id": "70ce699c-1604-47c6-9962-8c45d03d1e07",
   "metadata": {},
   "outputs": [],
   "source": [
    "import sys\n",
    "sys.path.append('../../')"
   ]
  },
  {
   "cell_type": "code",
   "execution_count": 2,
   "id": "cf008b98-d3aa-4034-968a-d5344f70e13e",
   "metadata": {},
   "outputs": [],
   "source": [
    "from estnltk import Text\n",
    "from estnltk_patches.rt_text_analyzer import RTTextAnalyzer"
   ]
  },
  {
   "cell_type": "code",
   "execution_count": 3,
   "id": "c18071fe-4852-4dc5-b17d-b3c677006b69",
   "metadata": {},
   "outputs": [],
   "source": [
    "analyzer = RTTextAnalyzer()\n",
    "text = Text('1997. aasta 15.-17. septembril kell 14.15 tehtud otsus') \n",
    "analyzer(text)\n",
    "target = ['1997', '.', 'aasta', '15', '.', '-', '17', '.', 'septembril', 'kell', '14.15', 'tehtud', 'otsus']\n",
    "assert text['words'].text == target, 'Ordinals are glued tohether'"
   ]
  },
  {
   "cell_type": "code",
   "execution_count": 4,
   "id": "e73ae602-526e-421a-963f-fa4693cefa04",
   "metadata": {},
   "outputs": [],
   "source": [
    "text = Text('Töötuse määrad 15% ja 1,05 % ning 1.1 protsenti') \n",
    "analyzer(text)\n",
    "target = ['Töötuse', 'määrad', '15', '%', 'ja', '1,05', '%', 'ning', '1.1', 'protsenti']\n",
    "assert text['words'].text == target, 'Percents are glued together'"
   ]
  }
 ],
 "metadata": {
  "kernelspec": {
   "display_name": "Python 3 (ipykernel)",
   "language": "python",
   "name": "python3"
  },
  "language_info": {
   "codemirror_mode": {
    "name": "ipython",
    "version": 3
   },
   "file_extension": ".py",
   "mimetype": "text/x-python",
   "name": "python",
   "nbconvert_exporter": "python",
   "pygments_lexer": "ipython3",
   "version": "3.9.18"
  }
 },
 "nbformat": 4,
 "nbformat_minor": 5
}
