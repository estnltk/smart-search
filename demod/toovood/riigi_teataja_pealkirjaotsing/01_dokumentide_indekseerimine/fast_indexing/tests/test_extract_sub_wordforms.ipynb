{
 "cells": [
  {
   "cell_type": "code",
   "execution_count": 1,
   "id": "5a1928af-2e2a-4c1e-9303-e18edb65ded2",
   "metadata": {},
   "outputs": [],
   "source": [
    "import sys\n",
    "sys.path.append('../../')"
   ]
  },
  {
   "cell_type": "code",
   "execution_count": 2,
   "id": "a84e9a64-9b61-4dc7-bf27-1c00702355a1",
   "metadata": {},
   "outputs": [],
   "source": [
    "from estnltk import Text\n",
    "from pandas import DataFrame\n",
    "\n",
    "from fast_indexing.fast_indexing import extract_sub_wordforms\n",
    "from estnltk_patches.rt_text_analyzer import RTTextAnalyzer "
   ]
  },
  {
   "cell_type": "code",
   "execution_count": 3,
   "id": "0e7a36d7-86b5-4e41-9ac9-efef069dff4d",
   "metadata": {},
   "outputs": [],
   "source": [
    "RTP_ANALYZER = RTTextAnalyzer(propername=True)"
   ]
  },
  {
   "cell_type": "code",
   "execution_count": 4,
   "id": "4ab15d37-4cab-4552-aade-dc1cce2dd5e4",
   "metadata": {},
   "outputs": [],
   "source": [
    "text = Text('Töökorraseadus')\n",
    "RTP_ANALYZER(text)\n",
    "\n",
    "assert extract_sub_wordforms(text['morph_analysis'][0]) == [('töökorra', 'seadus'), ('töö', 'korra', 'seadus')]\n",
    "assert extract_sub_wordforms(text['morph_analysis'][0], ['H']) == [('töö', 'korra', 'seadus')]\n",
    "assert extract_sub_wordforms(text['morph_analysis'][0], ['S', 'A']) == [('töökorra', 'seadus'), ('töö', 'korra', 'seadus')]\n",
    "assert extract_sub_wordforms(text['morph_analysis'][0], ['S', 'A', 'H']) == []"
   ]
  }
 ],
 "metadata": {
  "kernelspec": {
   "display_name": "Python 3 (ipykernel)",
   "language": "python",
   "name": "python3"
  },
  "language_info": {
   "codemirror_mode": {
    "name": "ipython",
    "version": 3
   },
   "file_extension": ".py",
   "mimetype": "text/x-python",
   "name": "python",
   "nbconvert_exporter": "python",
   "pygments_lexer": "ipython3",
   "version": "3.9.18"
  }
 },
 "nbformat": 4,
 "nbformat_minor": 5
}
