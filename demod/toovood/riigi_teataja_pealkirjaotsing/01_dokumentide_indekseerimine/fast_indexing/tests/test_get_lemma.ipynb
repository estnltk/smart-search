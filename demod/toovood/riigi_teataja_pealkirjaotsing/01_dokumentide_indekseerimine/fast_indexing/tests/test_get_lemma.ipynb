{
 "cells": [
  {
   "cell_type": "code",
   "execution_count": 1,
   "id": "ae98d762-d06e-4e6d-b639-1927ad6a225f",
   "metadata": {},
   "outputs": [],
   "source": [
    "import sys\n",
    "sys.path.append('../../')"
   ]
  },
  {
   "cell_type": "code",
   "execution_count": 2,
   "id": "d0e29da4-44df-4a3d-b63a-6ef2f3dcbf0a",
   "metadata": {},
   "outputs": [],
   "source": [
    "from fast_indexing.fast_indexing import get_lemma"
   ]
  },
  {
   "cell_type": "code",
   "execution_count": 3,
   "id": "a3587e24-b1b3-4198-9b35-02dbcd4c0cf4",
   "metadata": {},
   "outputs": [],
   "source": [
    "assert get_lemma('kalaga') == ['kala'], 'Standard analysis'\n",
    "assert get_lemma(' kalaga') == [' kalaga'], 'No preprocessing. Analyzed as is!'\n",
    "assert get_lemma('A.H. Tammsaarega') == ['A.H. Tammsaare'], 'No preprocessing. Analyzed as is!'\n",
    "assert get_lemma('A.H.Tammsaarega') == ['A.H.Tammsaare'], 'No preprocessing. Analyzed as is!'\n",
    "assert set(get_lemma('sadama')) == {'sadam', 'sadama'}, 'Multiple analyses'"
   ]
  },
  {
   "cell_type": "code",
   "execution_count": 4,
   "id": "f3f6b9a0-3cd3-45e8-8e02-1f88efda2fe5",
   "metadata": {},
   "outputs": [],
   "source": [
    "assert get_lemma('sadama', ['V']) == ['sadam'], 'Ignoring V'\n",
    "assert get_lemma('sadama', ['S']) == ['sadama'], 'Ignoring S'\n",
    "assert get_lemma('sadama', ['S', 'V']) == [], 'Ignoring S and V'\n",
    "assert set(get_lemma('sadama', ['P', 'Z'])) == {'sadam', 'sadama'}, 'Ignoring P and Z'"
   ]
  }
 ],
 "metadata": {
  "kernelspec": {
   "display_name": "Python 3 (ipykernel)",
   "language": "python",
   "name": "python3"
  },
  "language_info": {
   "codemirror_mode": {
    "name": "ipython",
    "version": 3
   },
   "file_extension": ".py",
   "mimetype": "text/x-python",
   "name": "python",
   "nbconvert_exporter": "python",
   "pygments_lexer": "ipython3",
   "version": "3.9.18"
  }
 },
 "nbformat": 4,
 "nbformat_minor": 5
}
