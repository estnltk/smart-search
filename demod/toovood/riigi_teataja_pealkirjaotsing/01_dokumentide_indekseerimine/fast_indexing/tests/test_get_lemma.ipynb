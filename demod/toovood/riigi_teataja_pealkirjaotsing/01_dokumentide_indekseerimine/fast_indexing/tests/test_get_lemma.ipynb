{
 "cells": [
  {
   "cell_type": "code",
   "execution_count": 1,
   "id": "ae98d762-d06e-4e6d-b639-1927ad6a225f",
   "metadata": {},
   "outputs": [],
   "source": [
    "import sys\n",
    "sys.path.append('../../')"
   ]
  },
  {
   "cell_type": "code",
   "execution_count": 2,
   "id": "d0e29da4-44df-4a3d-b63a-6ef2f3dcbf0a",
   "metadata": {},
   "outputs": [],
   "source": [
    "from fast_indexing.fast_indexing import get_lemma"
   ]
  },
  {
   "cell_type": "code",
   "execution_count": 3,
   "id": "a3587e24-b1b3-4198-9b35-02dbcd4c0cf4",
   "metadata": {},
   "outputs": [],
   "source": [
    "assert get_lemma('kalaga') == ['kala'], 'Standard analysis'\n",
    "assert get_lemma(' kalaga') == [' kalaga'], 'No preprocessing. Analyzed as is!'\n",
    "assert get_lemma('A.H. Tammsaarega') == ['A.H. Tammsaare'], 'No preprocessing. Analyzed as is!'\n",
    "assert get_lemma('A.H.Tammsaarega') == ['A.H.Tammsaare'], 'No preprocessing. Analyzed as is!'\n",
    "assert set(get_lemma('sadama')) == {'sadam', 'sadama'}, 'Multiple analyses'"
   ]
  },
  {
   "cell_type": "code",
   "execution_count": 4,
   "id": "f3f6b9a0-3cd3-45e8-8e02-1f88efda2fe5",
   "metadata": {},
   "outputs": [],
   "source": [
    "assert get_lemma('sadama', ['V']) == ['sadam'], 'Ignoring V'\n",
    "assert get_lemma('sadama', ['S']) == ['sadama'], 'Ignoring S'\n",
    "assert get_lemma('sadama', ['S', 'V']) == [], 'Ignoring S and V'\n",
    "assert set(get_lemma('sadama', ['P', 'Z'])) == {'sadam', 'sadama'}, 'Ignoring P and Z'"
   ]
  },
  {
   "cell_type": "code",
   "execution_count": 5,
   "id": "55d451b8-4147-4db9-a401-16270144407e",
   "metadata": {},
   "outputs": [],
   "source": [
    "assert set(get_lemma('Eesti')) == {'Eesti', 'eesti'}, 'Lower and uppercase variants'\n",
    "assert get_lemma('Ida-Virumaa') == ['Ida-Virumaa'], 'Guesses correctly names'"
   ]
  },
  {
   "cell_type": "code",
   "execution_count": 6,
   "id": "e4e52576-1535-483e-9d07-1c2a6808c7df",
   "metadata": {},
   "outputs": [],
   "source": [
    "assert get_lemma('CO2') == ['CO2'], 'Respects abbrevations'\n",
    "assert get_lemma('NATO') == ['NATO'], 'Respects abbrevations'"
   ]
  },
  {
   "cell_type": "code",
   "execution_count": 7,
   "id": "08f7b25f-497f-4499-80a9-2c169108a2ec",
   "metadata": {},
   "outputs": [],
   "source": [
    "assert get_lemma('Strasbourg-i') == ['Strasbourg'], 'Understands name cases'\n",
    "assert get_lemma('Strasbourg''i') == ['Strasbourg'], 'Understands name cases'"
   ]
  },
  {
   "cell_type": "code",
   "execution_count": 8,
   "id": "2cbb949f-d3bf-4adf-9ea4-52d4088fb66a",
   "metadata": {},
   "outputs": [],
   "source": [
    "assert get_lemma('põhi-') == ['põhi'], 'Handles dash endings'\n",
    "assert get_lemma('maa-aluse') == ['maa-alune'], 'Handles dashes in the middle' "
   ]
  }
 ],
 "metadata": {
  "kernelspec": {
   "display_name": "Python 3 (ipykernel)",
   "language": "python",
   "name": "python3"
  },
  "language_info": {
   "codemirror_mode": {
    "name": "ipython",
    "version": 3
   },
   "file_extension": ".py",
   "mimetype": "text/x-python",
   "name": "python",
   "nbconvert_exporter": "python",
   "pygments_lexer": "ipython3",
   "version": "3.9.18"
  }
 },
 "nbformat": 4,
 "nbformat_minor": 5
}
