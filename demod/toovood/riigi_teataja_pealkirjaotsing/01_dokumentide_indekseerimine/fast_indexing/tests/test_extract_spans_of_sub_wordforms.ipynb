{
 "cells": [
  {
   "cell_type": "code",
   "execution_count": 13,
   "id": "5a1928af-2e2a-4c1e-9303-e18edb65ded2",
   "metadata": {},
   "outputs": [],
   "source": [
    "import sys\n",
    "sys.path.append('../../')"
   ]
  },
  {
   "cell_type": "code",
   "execution_count": 14,
   "id": "a84e9a64-9b61-4dc7-bf27-1c00702355a1",
   "metadata": {},
   "outputs": [],
   "source": [
    "from estnltk import Text\n",
    "from pandas import DataFrame\n",
    "\n",
    "from fast_indexing.fast_indexing import extract_spans_of_sub_wordforms\n",
    "from estnltk_patches.rt_text_analyzer import RTTextAnalyzer "
   ]
  },
  {
   "cell_type": "code",
   "execution_count": 15,
   "id": "bf7546cf-5e1a-472e-af9f-9c57aca08399",
   "metadata": {},
   "outputs": [],
   "source": [
    "RT_ANALYZER = RTTextAnalyzer()\n",
    "RTP_ANALYZER = RTTextAnalyzer(propername=True)"
   ]
  },
  {
   "cell_type": "code",
   "execution_count": 16,
   "id": "aedc7189-94be-4974-b188-1e211200bb06",
   "metadata": {},
   "outputs": [],
   "source": [
    "text = Text('Sadma ja kala')\n",
    "RT_ANALYZER(text)\n",
    "assert len(extract_spans_of_sub_wordforms(text['morph_analysis'][0])) == 0, 'No subwords'"
   ]
  },
  {
   "cell_type": "code",
   "execution_count": 5,
   "id": "6d3b2d25-1107-4c05-9bcc-7951a0a5bffe",
   "metadata": {},
   "outputs": [],
   "source": [
    "text = Text('kalamees')\n",
    "RT_ANALYZER(text)\n",
    "assert extract_spans_of_sub_wordforms(text['morph_analysis'][0]) == {(0, 4), (4, 8)}"
   ]
  },
  {
   "cell_type": "code",
   "execution_count": 6,
   "id": "87e1acd2-30a7-4ef7-8d0d-6357f25c01b5",
   "metadata": {},
   "outputs": [],
   "source": [
    "text = Text('Kalamees')\n",
    "RTP_ANALYZER(text)\n",
    "assert extract_spans_of_sub_wordforms(text['morph_analysis'][0]) == {(0, 2), (0, 4), (2, 8), (4, 8)}, \"Ambigous split\""
   ]
  },
  {
   "cell_type": "code",
   "execution_count": 7,
   "id": "b4176fdc-fc49-4ecc-860c-d10893e59c06",
   "metadata": {},
   "outputs": [],
   "source": [
    "text = Text('Töökorraseadus')\n",
    "RT_ANALYZER(text)\n",
    "assert extract_spans_of_sub_wordforms(text['morph_analysis'][0]) == {(0, 3), (0, 8), (3, 8), (3, 14), (8, 14)}"
   ]
  },
  {
   "cell_type": "code",
   "execution_count": 8,
   "id": "65e87086-dc3f-46e2-8ccd-60f6331588c1",
   "metadata": {},
   "outputs": [],
   "source": [
    "text = Text('Töökorraseadus')\n",
    "RTP_ANALYZER(text)\n",
    "assert extract_spans_of_sub_wordforms(text['morph_analysis'][0]) == {(0, 3), (0, 8), (3, 8), (3, 14), (8, 14)}"
   ]
  },
  {
   "cell_type": "code",
   "execution_count": 9,
   "id": "4ff62ee5-90fb-4c0e-adde-1d3a91938a06",
   "metadata": {},
   "outputs": [],
   "source": [
    "text = Text('Töökorraseadus')\n",
    "RTP_ANALYZER(text)\n",
    "target = {(0, 3), (0, 8), (3, 8), (8, 14)}\n",
    "assert extract_spans_of_sub_wordforms(text['morph_analysis'][0], combine=False) == target "
   ]
  },
  {
   "cell_type": "code",
   "execution_count": 10,
   "id": "860b67ef-1485-4990-bb47-5dbba97646a6",
   "metadata": {},
   "outputs": [],
   "source": [
    "text = Text('Töökorraseadus')\n",
    "RTP_ANALYZER(text)\n",
    "target = {(0, 3), (3, 8), (8, 14)}\n",
    "assert extract_spans_of_sub_wordforms(text['morph_analysis'][0], ['H'], combine=False) == target "
   ]
  },
  {
   "cell_type": "code",
   "execution_count": 11,
   "id": "dff97372-d7c5-4080-bb87-803ad5ef33ee",
   "metadata": {},
   "outputs": [],
   "source": [
    "text = Text('Töökorraseadus')\n",
    "RTP_ANALYZER(text)\n",
    "target = {(0, 3), (0, 8), (3, 8), (8, 14)}\n",
    "assert extract_spans_of_sub_wordforms(text['morph_analysis'][0], ['S', 'A'], combine=False) == target "
   ]
  },
  {
   "cell_type": "code",
   "execution_count": 12,
   "id": "cc40fd2f-29d8-451d-901a-a0e7db217b22",
   "metadata": {},
   "outputs": [],
   "source": [
    "text = Text('Töökorraseadus')\n",
    "RTP_ANALYZER(text)\n",
    "assert len(extract_spans_of_sub_wordforms(text['morph_analysis'][0], ['S', 'A', 'H'], combine=False)) == 0"
   ]
  },
  {
   "cell_type": "markdown",
   "id": "5cf6fca2-acbb-4c39-a04c-e90eee6682ea",
   "metadata": {},
   "source": [
    "**Known bugs**"
   ]
  },
  {
   "cell_type": "code",
   "execution_count": 22,
   "id": "dea3656c-fcb5-440d-9377-5b83cb9c874c",
   "metadata": {},
   "outputs": [
    {
     "data": {
      "text/plain": [
       "{(0, 4), (4, 14)}"
      ]
     },
     "execution_count": 22,
     "metadata": {},
     "output_type": "execute_result"
    }
   ],
   "source": [
    "text = Text('kaheteistkümne')\n",
    "RTP_ANALYZER(text)\n",
    "extract_spans_of_sub_wordforms(text['morph_analysis'][0], ['S', 'A', 'H'], combine=False)"
   ]
  }
 ],
 "metadata": {
  "kernelspec": {
   "display_name": "Python 3 (ipykernel)",
   "language": "python",
   "name": "python3"
  },
  "language_info": {
   "codemirror_mode": {
    "name": "ipython",
    "version": 3
   },
   "file_extension": ".py",
   "mimetype": "text/x-python",
   "name": "python",
   "nbconvert_exporter": "python",
   "pygments_lexer": "ipython3",
   "version": "3.9.18"
  }
 },
 "nbformat": 4,
 "nbformat_minor": 5
}
