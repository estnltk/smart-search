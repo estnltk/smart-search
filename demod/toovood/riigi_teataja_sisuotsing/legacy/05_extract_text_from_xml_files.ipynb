{
 "cells": [
  {
   "cell_type": "code",
   "execution_count": 1,
   "id": "830291dd-134f-47ca-ba59-9b3166c60739",
   "metadata": {},
   "outputs": [],
   "source": [
    "import os\n",
    "import re\n",
    "import glob\n",
    "\n",
    "from lxml import etree\n",
    "from tqdm.auto import tqdm\n",
    "\n",
    "from xml_ops import remove_namespaces\n",
    "from xml_ops import extract_text_from_sisutext"
   ]
  },
  {
   "cell_type": "markdown",
   "id": "a0ce846f-d272-4d6f-9ba9-e9fda9aa41a1",
   "metadata": {},
   "source": [
    "## I. Extract text from XML files\n",
    "\n",
    "We just ignore the higer structure of a document and extract text from all `<sisuText>` elements.\n",
    "This should be enough for start.\n"
   ]
  },
  {
   "cell_type": "code",
   "execution_count": 2,
   "id": "c9eb18c0-9a66-490c-85d6-fb95c6bca1b2",
   "metadata": {},
   "outputs": [
    {
     "data": {
      "application/vnd.jupyter.widget-view+json": {
       "model_id": "824ea783c28140b9a4802d7704e644b9",
       "version_major": 2,
       "version_minor": 0
      },
      "text/plain": [
       "  0%|          | 0/22 [00:00<?, ?it/s]"
      ]
     },
     "metadata": {},
     "output_type": "display_data"
    }
   ],
   "source": [
    "INPUT_DIR = 'results/xml_sources/state_laws/'\n",
    "OUTPUT_DIR = 'results/txt_sources/state_laws/'\n",
    "for input_file in tqdm(glob.glob(f'{INPUT_DIR}*.xml')):\n",
    "\n",
    "    xml_doc = remove_namespaces(etree.parse(input_file))\n",
    "    output_file = OUTPUT_DIR + re.sub('xml$', 'txt', input_file.split('/')[-1])\n",
    "    \n",
    "    content = xml_doc.xpath('/oigusakt/sisu')\n",
    "    assert len(content) == 1, 'Expecting a single <sisu> node'\n",
    "    content = content[0]\n",
    "    \n",
    "    # Some documents are empty and reference another document\n",
    "    if len(content) == 0:\n",
    "        continue\n",
    "\n",
    "    document_text = '\\n\\n\\n\\n'.join(extract_text_from_sisutext(st_block) for st_block in content.xpath('//sisuTekst'))\n",
    "    assert all(re.match('^\\s*$', st_block.tail if st_block.tail else '') is not None for st_block in content.xpath('//sisuTekst')), 'Unexpected mixed content'\n",
    "\n",
    "    with open(output_file, 'wt') as output:\n",
    "        output.write(document_text)"
   ]
  },
  {
   "cell_type": "code",
   "execution_count": 3,
   "id": "701996d2-bcdf-428e-9a81-5af11ee1946a",
   "metadata": {},
   "outputs": [
    {
     "data": {
      "application/vnd.jupyter.widget-view+json": {
       "model_id": "bcfef28f504d461595ded864f1ecb502",
       "version_major": 2,
       "version_minor": 0
      },
      "text/plain": [
       "  0%|          | 0/22 [00:00<?, ?it/s]"
      ]
     },
     "metadata": {},
     "output_type": "display_data"
    }
   ],
   "source": [
    "INPUT_DIR = 'results/xml_sources/local_government_acts/'\n",
    "OUTPUT_DIR = 'results/txt_sources/local_government_acts/'\n",
    "for input_file in tqdm(glob.glob(f'{INPUT_DIR}*.xml')):\n",
    "\n",
    "    xml_doc = remove_namespaces(etree.parse(input_file))\n",
    "    output_file = OUTPUT_DIR + re.sub('xml$', 'txt', input_file.split('/')[-1])\n",
    "    \n",
    "    content = xml_doc.xpath('/oigusakt/sisu')\n",
    "    assert len(content) == 1, 'Expecting a single <sisu> node'\n",
    "    content = content[0]\n",
    "    \n",
    "    # Some documents are empty and reference another document\n",
    "    if len(content) == 0:\n",
    "        continue\n",
    "\n",
    "    document_text = '\\n\\n\\n\\n'.join(extract_text_from_sisutext(st_block) for st_block in content.xpath('//sisuTekst'))\n",
    "    assert all(re.match('^\\s*$', st_block.tail if st_block.tail else '') is not None for st_block in content.xpath('//sisuTekst')), 'Unexpected mixed content'\n",
    "\n",
    "    with open(output_file, 'wt') as output:\n",
    "        output.write(document_text)"
   ]
  },
  {
   "cell_type": "code",
   "execution_count": 4,
   "id": "b8d9be5f-c887-4ec7-9d90-2f02ef9e2e89",
   "metadata": {},
   "outputs": [
    {
     "data": {
      "application/vnd.jupyter.widget-view+json": {
       "model_id": "088c0a2d8aba43e48b67e06f5305f79a",
       "version_major": 2,
       "version_minor": 0
      },
      "text/plain": [
       "  0%|          | 0/22 [00:00<?, ?it/s]"
      ]
     },
     "metadata": {},
     "output_type": "display_data"
    }
   ],
   "source": [
    "INPUT_DIR = 'results/xml_sources/government_regulations/'\n",
    "OUTPUT_DIR = 'results/txt_sources/government_regulations/'\n",
    "for input_file in tqdm(glob.glob(f'{INPUT_DIR}*.xml')):\n",
    "\n",
    "    xml_doc = remove_namespaces(etree.parse(input_file))\n",
    "    output_file = OUTPUT_DIR + re.sub('xml$', 'txt', input_file.split('/')[-1])\n",
    "    \n",
    "    content = xml_doc.xpath('/oigusakt/sisu')\n",
    "    assert len(content) == 1, 'Expecting a single <sisu> node'\n",
    "    content = content[0]\n",
    "    \n",
    "    # Some documents are empty and reference another document\n",
    "    if len(content) == 0:\n",
    "        continue\n",
    "\n",
    "    document_text = '\\n\\n\\n\\n'.join(extract_text_from_sisutext(st_block) for st_block in content.xpath('//sisuTekst'))\n",
    "    assert all(re.match('^\\s*$', st_block.tail if st_block.tail else '') is not None for st_block in content.xpath('//sisuTekst')), 'Unexpected mixed content'\n",
    "\n",
    "    with open(output_file, 'wt') as output:\n",
    "        output.write(document_text)"
   ]
  },
  {
   "cell_type": "code",
   "execution_count": 5,
   "id": "ca223b59-3bf5-4221-ab5b-55093174e1f3",
   "metadata": {},
   "outputs": [
    {
     "data": {
      "application/vnd.jupyter.widget-view+json": {
       "model_id": "8ec0178332fd40fc94c49aa3b77a0b4e",
       "version_major": 2,
       "version_minor": 0
      },
      "text/plain": [
       "  0%|          | 0/22 [00:00<?, ?it/s]"
      ]
     },
     "metadata": {},
     "output_type": "display_data"
    }
   ],
   "source": [
    "INPUT_DIR = 'results/xml_sources/government_orders/'\n",
    "OUTPUT_DIR = 'results/txt_sources/government_orders/'\n",
    "for input_file in tqdm(glob.glob(f'{INPUT_DIR}*.xml')):\n",
    "\n",
    "    xml_doc = remove_namespaces(etree.parse(input_file))\n",
    "    output_file = OUTPUT_DIR + re.sub('xml$', 'txt', input_file.split('/')[-1])\n",
    "    \n",
    "    content = xml_doc.xpath('/oigusakt/sisu')\n",
    "    assert len(content) == 1, 'Expecting a single <sisu> node'\n",
    "    content = content[0]\n",
    "    \n",
    "    # Some documents are empty and reference another document\n",
    "    if len(content) == 0:\n",
    "        continue\n",
    "\n",
    "    document_text = '\\n\\n\\n\\n'.join(extract_text_from_sisutext(st_block) for st_block in content.xpath('//sisuTekst'))\n",
    "    assert all(re.match('^\\s*$', st_block.tail if st_block.tail else '') is not None for st_block in content.xpath('//sisuTekst')), 'Unexpected mixed content'\n",
    "\n",
    "    with open(output_file, 'wt') as output:\n",
    "        output.write(document_text)"
   ]
  }
 ],
 "metadata": {
  "kernelspec": {
   "display_name": "Python 3 (ipykernel)",
   "language": "python",
   "name": "python3"
  },
  "language_info": {
   "codemirror_mode": {
    "name": "ipython",
    "version": 3
   },
   "file_extension": ".py",
   "mimetype": "text/x-python",
   "name": "python",
   "nbconvert_exporter": "python",
   "pygments_lexer": "ipython3",
   "version": "3.9.18"
  }
 },
 "nbformat": 4,
 "nbformat_minor": 5
}
