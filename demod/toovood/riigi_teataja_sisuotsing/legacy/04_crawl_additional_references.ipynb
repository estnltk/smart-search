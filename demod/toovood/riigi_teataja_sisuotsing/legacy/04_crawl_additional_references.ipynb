{
 "cells": [
  {
   "cell_type": "code",
   "execution_count": 1,
   "id": "830291dd-134f-47ca-ba59-9b3166c60739",
   "metadata": {},
   "outputs": [],
   "source": [
    "import os\n",
    "import re\n",
    "import glob\n",
    "\n",
    "from lxml import etree\n",
    "from pandas import concat\n",
    "from tqdm.auto import tqdm\n",
    "\n",
    "from xml_ops import remove_namespaces\n",
    "from xml_ops import extract_references_from_document"
   ]
  },
  {
   "cell_type": "markdown",
   "id": "a0ce846f-d272-4d6f-9ba9-e9fda9aa41a1",
   "metadata": {},
   "source": [
    "## I. Extract all references from XML documents"
   ]
  },
  {
   "cell_type": "code",
   "execution_count": 2,
   "id": "7a70b1e4-ad12-482a-aa5b-fc361803d546",
   "metadata": {},
   "outputs": [
    {
     "data": {
      "application/vnd.jupyter.widget-view+json": {
       "model_id": "61ba2f78e6ba4c1587dd49f22e98e41e",
       "version_major": 2,
       "version_minor": 0
      },
      "text/plain": [
       "  0%|          | 0/22 [00:00<?, ?it/s]"
      ]
     },
     "metadata": {},
     "output_type": "display_data"
    }
   ],
   "source": [
    "results = []\n",
    "\n",
    "INPUT_DIR = 'results/xml_sources/state_laws/'\n",
    "for file in tqdm(glob.glob(f'{INPUT_DIR}*.xml')):\n",
    "\n",
    "    xml_doc = remove_namespaces(etree.parse(file))\n",
    "    references = extract_references_from_document(xml_doc)\n",
    "    \n",
    "    if len(references) == 0:\n",
    "        continue\n",
    "\n",
    "    results.append(references)"
   ]
  },
  {
   "cell_type": "code",
   "execution_count": 3,
   "id": "fc23a92a-fcb5-4ae7-ac2d-a73f16582702",
   "metadata": {},
   "outputs": [
    {
     "data": {
      "application/vnd.jupyter.widget-view+json": {
       "model_id": "df33ef6f388f4a959d0f8a660f71ef95",
       "version_major": 2,
       "version_minor": 0
      },
      "text/plain": [
       "  0%|          | 0/22 [00:00<?, ?it/s]"
      ]
     },
     "metadata": {},
     "output_type": "display_data"
    }
   ],
   "source": [
    "INPUT_DIR = 'results/xml_sources/local_government_acts/'\n",
    "for file in tqdm(glob.glob(f'{INPUT_DIR}*.xml')):\n",
    "\n",
    "    xml_doc = remove_namespaces(etree.parse(file))\n",
    "    references = extract_references_from_document(xml_doc)\n",
    "    \n",
    "    if len(references) == 0:\n",
    "        continue\n",
    "\n",
    "    results.append(references)"
   ]
  },
  {
   "cell_type": "code",
   "execution_count": 4,
   "id": "8a487908-bdec-49f1-8d63-72bd36477b84",
   "metadata": {},
   "outputs": [
    {
     "data": {
      "application/vnd.jupyter.widget-view+json": {
       "model_id": "0e814c25e47541e39dd7110e47823025",
       "version_major": 2,
       "version_minor": 0
      },
      "text/plain": [
       "  0%|          | 0/22 [00:00<?, ?it/s]"
      ]
     },
     "metadata": {},
     "output_type": "display_data"
    }
   ],
   "source": [
    "INPUT_DIR = 'results/xml_sources/government_regulations/'\n",
    "for file in tqdm(glob.glob(f'{INPUT_DIR}*.xml')):\n",
    "\n",
    "    xml_doc = remove_namespaces(etree.parse(file))\n",
    "    references = extract_references_from_document(xml_doc)\n",
    "    \n",
    "    if len(references) == 0:\n",
    "        continue\n",
    "\n",
    "    results.append(references)"
   ]
  },
  {
   "cell_type": "code",
   "execution_count": 5,
   "id": "14323978-9576-45cb-a76c-6e5cacda8f38",
   "metadata": {},
   "outputs": [
    {
     "data": {
      "application/vnd.jupyter.widget-view+json": {
       "model_id": "2734e26442194da9a8db99ffa7951a55",
       "version_major": 2,
       "version_minor": 0
      },
      "text/plain": [
       "  0%|          | 0/22 [00:00<?, ?it/s]"
      ]
     },
     "metadata": {},
     "output_type": "display_data"
    }
   ],
   "source": [
    "INPUT_DIR = 'results/xml_sources/government_orders/'\n",
    "for file in tqdm(glob.glob(f'{INPUT_DIR}*.xml')):\n",
    "\n",
    "    xml_doc = remove_namespaces(etree.parse(file))\n",
    "    references = extract_references_from_document(xml_doc)\n",
    "    \n",
    "    if len(references) == 0:\n",
    "        continue\n",
    "\n",
    "    results.append(references)"
   ]
  },
  {
   "cell_type": "code",
   "execution_count": 6,
   "id": "46379d59-22b0-4747-8104-cdc3ddd31c4a",
   "metadata": {},
   "outputs": [],
   "source": [
    "external_links = concat(results, axis=0).drop_duplicates()\n",
    "external_links.to_csv('results/external_links.csv', index=False)"
   ]
  }
 ],
 "metadata": {
  "kernelspec": {
   "display_name": "Python 3 (ipykernel)",
   "language": "python",
   "name": "python3"
  },
  "language_info": {
   "codemirror_mode": {
    "name": "ipython",
    "version": 3
   },
   "file_extension": ".py",
   "mimetype": "text/x-python",
   "name": "python",
   "nbconvert_exporter": "python",
   "pygments_lexer": "ipython3",
   "version": "3.9.18"
  }
 },
 "nbformat": 4,
 "nbformat_minor": 5
}
