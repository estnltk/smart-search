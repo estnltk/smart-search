{
 "cells": [
  {
   "cell_type": "code",
   "execution_count": 1,
   "id": "fab83cc9-c1cd-4f5f-8210-2241be4a30cc",
   "metadata": {},
   "outputs": [],
   "source": [
    "import sys\n",
    "sys.path.append('../../')"
   ]
  },
  {
   "cell_type": "code",
   "execution_count": 2,
   "id": "5204d31f-3934-4ea0-8258-6ae07584a0ce",
   "metadata": {},
   "outputs": [],
   "source": [
    "import os\n",
    "import glob\n",
    "\n",
    "from lxml import etree\n",
    "from pandas import read_csv\n",
    "from xml_ops import extract_references_from_document\n",
    "from xml_ops import remove_namespaces\n"
   ]
  },
  {
   "cell_type": "code",
   "execution_count": 3,
   "id": "b58e0d9c-2c37-4d1b-8c14-0f82f38c0805",
   "metadata": {},
   "outputs": [
    {
     "name": "stdout",
     "output_type": "stream",
     "text": [
      "inputs/01.xml\n",
      "inputs/03.xml\n",
      "inputs/02.xml\n",
      "inputs/05.xml\n",
      "inputs/04.xml\n"
     ]
    }
   ],
   "source": [
    "for input in glob.glob('inputs/*.xml'):\n",
    "    print(input)\n",
    "    \n",
    "    target = input.replace('input', 'target').replace('xml', 'csv')\n",
    "    target_tbl = read_csv(target)\n",
    "\n",
    "    xml_document = etree.parse(input)\n",
    "    extracted_tbl = extract_references_from_document(xml_document)\n",
    "\n",
    "    assert len(extracted_tbl) == len(target_tbl), f'testing failed on {input}'\n",
    "    assert all(extracted_tbl['references'] == target_tbl['references']), f'testing failed on {input}'"
   ]
  },
  {
   "cell_type": "code",
   "execution_count": 4,
   "id": "de9f1b81-1a5f-40ae-b0ec-86cb5e8534f4",
   "metadata": {},
   "outputs": [],
   "source": [
    "# extracted_tbl"
   ]
  },
  {
   "cell_type": "code",
   "execution_count": 5,
   "id": "eb470b21-867f-4f4a-b046-82b545b50a3b",
   "metadata": {},
   "outputs": [],
   "source": [
    "# extracted_tbl.to_csv('targets/05.csv', index=False)"
   ]
  }
 ],
 "metadata": {
  "kernelspec": {
   "display_name": "Python 3 (ipykernel)",
   "language": "python",
   "name": "python3"
  },
  "language_info": {
   "codemirror_mode": {
    "name": "ipython",
    "version": 3
   },
   "file_extension": ".py",
   "mimetype": "text/x-python",
   "name": "python",
   "nbconvert_exporter": "python",
   "pygments_lexer": "ipython3",
   "version": "3.9.18"
  }
 },
 "nbformat": 4,
 "nbformat_minor": 5
}
