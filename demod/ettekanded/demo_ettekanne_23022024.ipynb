{
 "cells": [
  {
   "cell_type": "markdown",
   "id": "022a8b4d",
   "metadata": {
    "slideshow": {
     "slide_type": "slide"
    }
   },
   "source": [
    "<br>\n",
    "<center><h1>Nutika otsingu liidestamine<br> Riigi Teataja</br> infosüsteemiga</h1></center>\n",
    "<br>\n",
    "<center><h3>Sven Laur* & Tarmo Vaino</h3> </center>\n"
   ]
  },
  {
   "cell_type": "markdown",
   "id": "71309843",
   "metadata": {
    "slideshow": {
     "slide_type": "slide"
    }
   },
   "source": [
    "# Status quo\n",
    "\n",
    "<img src=\"illustrations/current_architecture.png\">"
   ]
  },
  {
   "cell_type": "code",
   "execution_count": 1,
   "id": "c8d48754",
   "metadata": {
    "slideshow": {
     "slide_type": "subslide"
    }
   },
   "outputs": [
    {
     "data": {
      "text/html": [
       "<div>\n",
       "<style scoped>\n",
       "    .dataframe tbody tr th:only-of-type {\n",
       "        vertical-align: middle;\n",
       "    }\n",
       "\n",
       "    .dataframe tbody tr th {\n",
       "        vertical-align: top;\n",
       "    }\n",
       "\n",
       "    .dataframe thead th {\n",
       "        text-align: right;\n",
       "    }\n",
       "</style>\n",
       "<table border=\"1\" class=\"dataframe\">\n",
       "  <thead>\n",
       "    <tr style=\"text-align: right;\">\n",
       "      <th></th>\n",
       "      <th>document_type</th>\n",
       "      <th>document_title</th>\n",
       "      <th>commencement_date</th>\n",
       "      <th>global_id</th>\n",
       "    </tr>\n",
       "  </thead>\n",
       "  <tbody>\n",
       "    <tr>\n",
       "      <th>0</th>\n",
       "      <td>seadus</td>\n",
       "      <td>Riigikogu ja Vabariigi Presidendi poolt nimeta...</td>\n",
       "      <td>2014-01-01</td>\n",
       "      <td>129122012010</td>\n",
       "    </tr>\n",
       "    <tr>\n",
       "      <th>1</th>\n",
       "      <td>seadus</td>\n",
       "      <td>Riigikogu ja Vabariigi Presidendi poolt nimeta...</td>\n",
       "      <td>2013-01-01</td>\n",
       "      <td>128122011068</td>\n",
       "    </tr>\n",
       "    <tr>\n",
       "      <th>2</th>\n",
       "      <td>seadus</td>\n",
       "      <td>Riigikogu ja Vabariigi Presidendi poolt nimeta...</td>\n",
       "      <td>2012-01-01</td>\n",
       "      <td>13262582</td>\n",
       "    </tr>\n",
       "    <tr>\n",
       "      <th>3</th>\n",
       "      <td>seadus</td>\n",
       "      <td>Vabariigi Presidendi ametihüve seadus</td>\n",
       "      <td>2024-01-01</td>\n",
       "      <td>106072023113</td>\n",
       "    </tr>\n",
       "    <tr>\n",
       "      <th>4</th>\n",
       "      <td>seadus</td>\n",
       "      <td>Vabariigi Presidendi ametihüve seadus</td>\n",
       "      <td>2018-01-01</td>\n",
       "      <td>122062016013</td>\n",
       "    </tr>\n",
       "    <tr>\n",
       "      <th>5</th>\n",
       "      <td>seadus</td>\n",
       "      <td>Vabariigi Presidendi ametihüve seadus</td>\n",
       "      <td>2016-07-01</td>\n",
       "      <td>113122014059</td>\n",
       "    </tr>\n",
       "    <tr>\n",
       "      <th>6</th>\n",
       "      <td>seadus</td>\n",
       "      <td>Vabariigi Presidendi ametihüve seadus</td>\n",
       "      <td>2014-01-01</td>\n",
       "      <td>129122011152</td>\n",
       "    </tr>\n",
       "    <tr>\n",
       "      <th>7</th>\n",
       "      <td>seadus</td>\n",
       "      <td>Vabariigi Presidendi ametihüve seadus</td>\n",
       "      <td>2012-01-01</td>\n",
       "      <td>128122010026</td>\n",
       "    </tr>\n",
       "    <tr>\n",
       "      <th>8</th>\n",
       "      <td>seadus</td>\n",
       "      <td>Vabariigi Presidendi ja Vabariigi Valitsuse li...</td>\n",
       "      <td>2004-07-01</td>\n",
       "      <td>769953</td>\n",
       "    </tr>\n",
       "    <tr>\n",
       "      <th>9</th>\n",
       "      <td>seadus</td>\n",
       "      <td>Vabariigi Presidendi töökorra seadus</td>\n",
       "      <td>2017-07-07</td>\n",
       "      <td>127062017011</td>\n",
       "    </tr>\n",
       "    <tr>\n",
       "      <th>10</th>\n",
       "      <td>seadus</td>\n",
       "      <td>Vabariigi Presidendi töökorra seadus</td>\n",
       "      <td>2012-01-01</td>\n",
       "      <td>121032011032</td>\n",
       "    </tr>\n",
       "    <tr>\n",
       "      <th>11</th>\n",
       "      <td>seadus</td>\n",
       "      <td>Vabariigi Presidendi valimise seadus</td>\n",
       "      <td>2013-04-01</td>\n",
       "      <td>110072012032</td>\n",
       "    </tr>\n",
       "  </tbody>\n",
       "</table>\n",
       "</div>"
      ],
      "text/plain": [
       "   document_type                                     document_title  \\\n",
       "0         seadus  Riigikogu ja Vabariigi Presidendi poolt nimeta...   \n",
       "1         seadus  Riigikogu ja Vabariigi Presidendi poolt nimeta...   \n",
       "2         seadus  Riigikogu ja Vabariigi Presidendi poolt nimeta...   \n",
       "3         seadus              Vabariigi Presidendi ametihüve seadus   \n",
       "4         seadus              Vabariigi Presidendi ametihüve seadus   \n",
       "5         seadus              Vabariigi Presidendi ametihüve seadus   \n",
       "6         seadus              Vabariigi Presidendi ametihüve seadus   \n",
       "7         seadus              Vabariigi Presidendi ametihüve seadus   \n",
       "8         seadus  Vabariigi Presidendi ja Vabariigi Valitsuse li...   \n",
       "9         seadus               Vabariigi Presidendi töökorra seadus   \n",
       "10        seadus               Vabariigi Presidendi töökorra seadus   \n",
       "11        seadus               Vabariigi Presidendi valimise seadus   \n",
       "\n",
       "   commencement_date     global_id  \n",
       "0         2014-01-01  129122012010  \n",
       "1         2013-01-01  128122011068  \n",
       "2         2012-01-01      13262582  \n",
       "3         2024-01-01  106072023113  \n",
       "4         2018-01-01  122062016013  \n",
       "5         2016-07-01  113122014059  \n",
       "6         2014-01-01  129122011152  \n",
       "7         2012-01-01  128122010026  \n",
       "8         2004-07-01        769953  \n",
       "9         2017-07-07  127062017011  \n",
       "10        2012-01-01  121032011032  \n",
       "11        2013-04-01  110072012032  "
      ]
     },
     "execution_count": 1,
     "metadata": {},
     "output_type": "execute_result"
    }
   ],
   "source": [
    "from predefined_functions import search_rt_caption\n",
    "\n",
    "search_rt_caption('presidendi')"
   ]
  },
  {
   "cell_type": "markdown",
   "id": "8545445b",
   "metadata": {
    "slideshow": {
     "slide_type": "slide"
    }
   },
   "source": [
    "# Nutika otsingu võimalikud liidestuspunktid\n",
    "\n",
    "<img src=\"illustrations/architecture.png\">"
   ]
  },
  {
   "cell_type": "markdown",
   "id": "418ceb99",
   "metadata": {
    "slideshow": {
     "slide_type": "slide"
    }
   },
   "source": [
    "# Veebilehe poolt väljakutsutavad veebiteenused\n",
    "<u>Universiaalsed veebiteenustel põhinev lahendus</u>\n",
    "\n",
    "* [analyser](https://github.com/estnltk/smart-search/tree/main/api/api_analyser) -- tekstide morfoloogiline analüsaator \n",
    "* [generator](https://github.com/estnltk/smart-search/tree/main/api/api_generator) -- sõnavormide generaator\n",
    "* [speller](https://github.com/estnltk/smart-search/tree/main/api/api_speller) -- kirjavigade parandaja\n",
    "\n",
    "Lahenduse põhimõtteline kondikava\n",
    "\n",
    "```\n",
    "wordform = spell_text(search_word)\n",
    "lemma = analyze_text(wordform)\n",
    "search_forms = generate_all_worldforms(lemma)\n",
    "results = [fetch_documents(query_word) for query_word in search_forms]\n",
    "```"
   ]
  },
  {
   "cell_type": "code",
   "execution_count": 2,
   "id": "5a4ff254",
   "metadata": {
    "slideshow": {
     "slide_type": "subslide"
    }
   },
   "outputs": [
    {
     "name": "stdout",
     "output_type": "stream",
     "text": [
      "['annotations', 'content', 'params']\n",
      "[annotations] --> ['tokens']\n"
     ]
    }
   ],
   "source": [
    "import json\n",
    "import requests\n",
    "\n",
    "# Analüüsitav tekst\n",
    "text = 'president' #'ametiraha'\n",
    "\n",
    "ANALYZER_QUERY = \"https://smart-search.tartunlp.ai/api/analyser/process\"\n",
    "HEADERS = {\"Content-Type\": \"application/json; charset=utf-8\"}\n",
    "POST_DATA_TEMPLATE = {'params': {\"vmetajson\": [\"--guess\"]}, 'content': text}\n",
    "\n",
    "# Päring veebiteenusele\n",
    "response = requests.post(ANALYZER_QUERY, json=POST_DATA_TEMPLATE, headers=HEADERS)\n",
    "assert response.ok, \"Webservice failed\"\n",
    "response = response.json()\n",
    "print(list(response.keys()))\n",
    "print(f'[annotations] --> {list(response[\"annotations\"].keys())}')"
   ]
  },
  {
   "cell_type": "code",
   "execution_count": 3,
   "id": "30e7ac1d",
   "metadata": {
    "slideshow": {
     "slide_type": "subslide"
    }
   },
   "outputs": [
    {
     "name": "stdout",
     "output_type": "stream",
     "text": [
      "[\n",
      "    {\n",
      "        \"features\": {\n",
      "            \"complexity\": 1,\n",
      "            \"mrf\": [\n",
      "                {\n",
      "                    \"ending\": \"0\",\n",
      "                    \"fs\": \"sg n\",\n",
      "                    \"kigi\": \"\",\n",
      "                    \"komponendid\": [],\n",
      "                    \"lemma\": \"president\",\n",
      "                    \"lemma_ma\": \"president\",\n",
      "                    \"lisam\\u00e4rkideta\": \"president\",\n",
      "                    \"pos\": \"S\",\n",
      "                    \"source\": \"P\"\n",
      "                }\n",
      "            ],\n",
      "            \"token\": \"president\"\n",
      "        }\n",
      "    }\n",
      "]\n"
     ]
    }
   ],
   "source": [
    "print(json.dumps(response['annotations']['tokens'], indent=4))"
   ]
  },
  {
   "cell_type": "code",
   "execution_count": 4,
   "id": "d421e347",
   "metadata": {
    "slideshow": {
     "slide_type": "subslide"
    }
   },
   "outputs": [],
   "source": [
    "from pandas import concat\n",
    "from predefined_functions import analyze_text\n",
    "from predefined_functions import spell_text\n",
    "from predefined_functions import generate_all_wordforms"
   ]
  },
  {
   "cell_type": "code",
   "execution_count": null,
   "id": "ebb4cef9",
   "metadata": {
    "slideshow": {
     "slide_type": "subslide"
    }
   },
   "outputs": [],
   "source": [
    "display(spell_text('presidemt'))"
   ]
  },
  {
   "cell_type": "code",
   "execution_count": null,
   "id": "923c77af",
   "metadata": {
    "slideshow": {
     "slide_type": "subslide"
    }
   },
   "outputs": [],
   "source": [
    "display(analyze_text('presidendi ametiraha'))"
   ]
  },
  {
   "cell_type": "code",
   "execution_count": 11,
   "id": "f8b58ad8",
   "metadata": {
    "slideshow": {
     "slide_type": "subslide"
    }
   },
   "outputs": [
    {
     "data": {
      "text/html": [
       "<div>\n",
       "<style scoped>\n",
       "    .dataframe tbody tr th:only-of-type {\n",
       "        vertical-align: middle;\n",
       "    }\n",
       "\n",
       "    .dataframe tbody tr th {\n",
       "        vertical-align: top;\n",
       "    }\n",
       "\n",
       "    .dataframe thead th {\n",
       "        text-align: right;\n",
       "    }\n",
       "</style>\n",
       "<table border=\"1\" class=\"dataframe\">\n",
       "  <thead>\n",
       "    <tr style=\"text-align: right;\">\n",
       "      <th></th>\n",
       "      <th>input</th>\n",
       "      <th>wordform</th>\n",
       "      <th>input</th>\n",
       "      <th>wordform</th>\n",
       "      <th>input</th>\n",
       "      <th>wordform</th>\n",
       "    </tr>\n",
       "  </thead>\n",
       "  <tbody>\n",
       "    <tr>\n",
       "      <th>0</th>\n",
       "      <td>president</td>\n",
       "      <td>presidendeks</td>\n",
       "      <td>president</td>\n",
       "      <td>presidendile</td>\n",
       "      <td>president</td>\n",
       "      <td>presidentidega</td>\n",
       "    </tr>\n",
       "    <tr>\n",
       "      <th>1</th>\n",
       "      <td>president</td>\n",
       "      <td>presidendel</td>\n",
       "      <td>president</td>\n",
       "      <td>presidendilt</td>\n",
       "      <td>president</td>\n",
       "      <td>presidentideks</td>\n",
       "    </tr>\n",
       "    <tr>\n",
       "      <th>2</th>\n",
       "      <td>president</td>\n",
       "      <td>presidendele</td>\n",
       "      <td>president</td>\n",
       "      <td>presidendina</td>\n",
       "      <td>president</td>\n",
       "      <td>presidentidel</td>\n",
       "    </tr>\n",
       "    <tr>\n",
       "      <th>3</th>\n",
       "      <td>president</td>\n",
       "      <td>presidendelt</td>\n",
       "      <td>president</td>\n",
       "      <td>presidendini</td>\n",
       "      <td>president</td>\n",
       "      <td>presidentidele</td>\n",
       "    </tr>\n",
       "    <tr>\n",
       "      <th>4</th>\n",
       "      <td>president</td>\n",
       "      <td>presidendes</td>\n",
       "      <td>president</td>\n",
       "      <td>presidendis</td>\n",
       "      <td>president</td>\n",
       "      <td>presidentidelt</td>\n",
       "    </tr>\n",
       "    <tr>\n",
       "      <th>5</th>\n",
       "      <td>president</td>\n",
       "      <td>presidendesse</td>\n",
       "      <td>president</td>\n",
       "      <td>presidendisse</td>\n",
       "      <td>president</td>\n",
       "      <td>presidentidena</td>\n",
       "    </tr>\n",
       "    <tr>\n",
       "      <th>6</th>\n",
       "      <td>president</td>\n",
       "      <td>presidendest</td>\n",
       "      <td>president</td>\n",
       "      <td>presidendist</td>\n",
       "      <td>president</td>\n",
       "      <td>presidentideni</td>\n",
       "    </tr>\n",
       "    <tr>\n",
       "      <th>7</th>\n",
       "      <td>president</td>\n",
       "      <td>presidendi</td>\n",
       "      <td>president</td>\n",
       "      <td>presidendita</td>\n",
       "      <td>president</td>\n",
       "      <td>presidentides</td>\n",
       "    </tr>\n",
       "    <tr>\n",
       "      <th>8</th>\n",
       "      <td>president</td>\n",
       "      <td>presidendid</td>\n",
       "      <td>president</td>\n",
       "      <td>president</td>\n",
       "      <td>president</td>\n",
       "      <td>presidentidesse</td>\n",
       "    </tr>\n",
       "    <tr>\n",
       "      <th>9</th>\n",
       "      <td>president</td>\n",
       "      <td>presidendiga</td>\n",
       "      <td>president</td>\n",
       "      <td>presidente</td>\n",
       "      <td>president</td>\n",
       "      <td>presidentidest</td>\n",
       "    </tr>\n",
       "    <tr>\n",
       "      <th>10</th>\n",
       "      <td>president</td>\n",
       "      <td>presidendiks</td>\n",
       "      <td>president</td>\n",
       "      <td>presidenti</td>\n",
       "      <td>president</td>\n",
       "      <td>presidentideta</td>\n",
       "    </tr>\n",
       "    <tr>\n",
       "      <th>11</th>\n",
       "      <td>president</td>\n",
       "      <td>presidendil</td>\n",
       "      <td>president</td>\n",
       "      <td>presidentide</td>\n",
       "      <td>president</td>\n",
       "      <td>presidentisid</td>\n",
       "    </tr>\n",
       "  </tbody>\n",
       "</table>\n",
       "</div>"
      ],
      "text/plain": [
       "        input       wordform      input       wordform      input  \\\n",
       "0   president   presidendeks  president   presidendile  president   \n",
       "1   president    presidendel  president   presidendilt  president   \n",
       "2   president   presidendele  president   presidendina  president   \n",
       "3   president   presidendelt  president   presidendini  president   \n",
       "4   president    presidendes  president    presidendis  president   \n",
       "5   president  presidendesse  president  presidendisse  president   \n",
       "6   president   presidendest  president   presidendist  president   \n",
       "7   president     presidendi  president   presidendita  president   \n",
       "8   president    presidendid  president      president  president   \n",
       "9   president   presidendiga  president     presidente  president   \n",
       "10  president   presidendiks  president     presidenti  president   \n",
       "11  president    presidendil  president   presidentide  president   \n",
       "\n",
       "           wordform  \n",
       "0    presidentidega  \n",
       "1    presidentideks  \n",
       "2     presidentidel  \n",
       "3    presidentidele  \n",
       "4    presidentidelt  \n",
       "5    presidentidena  \n",
       "6    presidentideni  \n",
       "7     presidentides  \n",
       "8   presidentidesse  \n",
       "9    presidentidest  \n",
       "10   presidentideta  \n",
       "11    presidentisid  "
      ]
     },
     "execution_count": 11,
     "metadata": {},
     "output_type": "execute_result"
    }
   ],
   "source": [
    "tbl = generate_all_wordforms('president')\n",
    "concat([tbl[:12], tbl[12:24].reset_index(drop=True), tbl[24:].reset_index(drop=True)], axis=1)"
   ]
  },
  {
   "cell_type": "code",
   "execution_count": 10,
   "id": "b3420ee0",
   "metadata": {},
   "outputs": [
    {
     "data": {
      "text/html": [
       "<div>\n",
       "<style scoped>\n",
       "    .dataframe tbody tr th:only-of-type {\n",
       "        vertical-align: middle;\n",
       "    }\n",
       "\n",
       "    .dataframe tbody tr th {\n",
       "        vertical-align: top;\n",
       "    }\n",
       "\n",
       "    .dataframe thead th {\n",
       "        text-align: right;\n",
       "    }\n",
       "</style>\n",
       "<table border=\"1\" class=\"dataframe\">\n",
       "  <thead>\n",
       "    <tr style=\"text-align: right;\">\n",
       "      <th></th>\n",
       "      <th>input</th>\n",
       "      <th>wordform</th>\n",
       "      <th>input</th>\n",
       "      <th>wordform</th>\n",
       "      <th>input</th>\n",
       "      <th>wordform</th>\n",
       "      <th>input</th>\n",
       "      <th>wordform</th>\n",
       "    </tr>\n",
       "  </thead>\n",
       "  <tbody>\n",
       "    <tr>\n",
       "      <th>0</th>\n",
       "      <td>Srasbourgh</td>\n",
       "      <td>Srasbourgh</td>\n",
       "      <td>Srasbourgh</td>\n",
       "      <td>Srasbourghi'l</td>\n",
       "      <td>Srasbourgh</td>\n",
       "      <td>Srasbourghi-desse</td>\n",
       "      <td>Srasbourgh</td>\n",
       "      <td>Srasbourghidele</td>\n",
       "    </tr>\n",
       "    <tr>\n",
       "      <th>1</th>\n",
       "      <td>Srasbourgh</td>\n",
       "      <td>Srasbourgh'e</td>\n",
       "      <td>Srasbourgh</td>\n",
       "      <td>Srasbourghi'le</td>\n",
       "      <td>Srasbourgh</td>\n",
       "      <td>Srasbourghi-dest</td>\n",
       "      <td>Srasbourgh</td>\n",
       "      <td>Srasbourghidelt</td>\n",
       "    </tr>\n",
       "    <tr>\n",
       "      <th>2</th>\n",
       "      <td>Srasbourgh</td>\n",
       "      <td>Srasbourgh-e</td>\n",
       "      <td>Srasbourgh</td>\n",
       "      <td>Srasbourghi'lt</td>\n",
       "      <td>Srasbourgh</td>\n",
       "      <td>Srasbourghi-deta</td>\n",
       "      <td>Srasbourgh</td>\n",
       "      <td>Srasbourghidena</td>\n",
       "    </tr>\n",
       "    <tr>\n",
       "      <th>3</th>\n",
       "      <td>Srasbourgh</td>\n",
       "      <td>Srasbourghe</td>\n",
       "      <td>Srasbourgh</td>\n",
       "      <td>Srasbourghi'na</td>\n",
       "      <td>Srasbourgh</td>\n",
       "      <td>Srasbourghi-ga</td>\n",
       "      <td>Srasbourgh</td>\n",
       "      <td>Srasbourghideni</td>\n",
       "    </tr>\n",
       "    <tr>\n",
       "      <th>4</th>\n",
       "      <td>Srasbourgh</td>\n",
       "      <td>Srasbourghi</td>\n",
       "      <td>Srasbourgh</td>\n",
       "      <td>Srasbourghi'ni</td>\n",
       "      <td>Srasbourgh</td>\n",
       "      <td>Srasbourghi-ks</td>\n",
       "      <td>Srasbourgh</td>\n",
       "      <td>Srasbourghides</td>\n",
       "    </tr>\n",
       "    <tr>\n",
       "      <th>5</th>\n",
       "      <td>Srasbourgh</td>\n",
       "      <td>Srasbourghi'd</td>\n",
       "      <td>Srasbourgh</td>\n",
       "      <td>Srasbourghi's</td>\n",
       "      <td>Srasbourgh</td>\n",
       "      <td>Srasbourghi-l</td>\n",
       "      <td>Srasbourgh</td>\n",
       "      <td>Srasbourghidesse</td>\n",
       "    </tr>\n",
       "    <tr>\n",
       "      <th>6</th>\n",
       "      <td>Srasbourgh</td>\n",
       "      <td>Srasbourghi'de</td>\n",
       "      <td>Srasbourgh</td>\n",
       "      <td>Srasbourghi'sid</td>\n",
       "      <td>Srasbourgh</td>\n",
       "      <td>Srasbourghi-le</td>\n",
       "      <td>Srasbourgh</td>\n",
       "      <td>Srasbourghidest</td>\n",
       "    </tr>\n",
       "    <tr>\n",
       "      <th>7</th>\n",
       "      <td>Srasbourgh</td>\n",
       "      <td>Srasbourghi'dega</td>\n",
       "      <td>Srasbourgh</td>\n",
       "      <td>Srasbourghi'sse</td>\n",
       "      <td>Srasbourgh</td>\n",
       "      <td>Srasbourghi-lt</td>\n",
       "      <td>Srasbourgh</td>\n",
       "      <td>Srasbourghideta</td>\n",
       "    </tr>\n",
       "    <tr>\n",
       "      <th>8</th>\n",
       "      <td>Srasbourgh</td>\n",
       "      <td>Srasbourghi'deks</td>\n",
       "      <td>Srasbourgh</td>\n",
       "      <td>Srasbourghi'st</td>\n",
       "      <td>Srasbourgh</td>\n",
       "      <td>Srasbourghi-na</td>\n",
       "      <td>Srasbourgh</td>\n",
       "      <td>Srasbourghiga</td>\n",
       "    </tr>\n",
       "    <tr>\n",
       "      <th>9</th>\n",
       "      <td>Srasbourgh</td>\n",
       "      <td>Srasbourghi'del</td>\n",
       "      <td>Srasbourgh</td>\n",
       "      <td>Srasbourghi'ta</td>\n",
       "      <td>Srasbourgh</td>\n",
       "      <td>Srasbourghi-ni</td>\n",
       "      <td>Srasbourgh</td>\n",
       "      <td>Srasbourghiks</td>\n",
       "    </tr>\n",
       "    <tr>\n",
       "      <th>10</th>\n",
       "      <td>Srasbourgh</td>\n",
       "      <td>Srasbourghi'dele</td>\n",
       "      <td>Srasbourgh</td>\n",
       "      <td>Srasbourghi-d</td>\n",
       "      <td>Srasbourgh</td>\n",
       "      <td>Srasbourghi-s</td>\n",
       "      <td>Srasbourgh</td>\n",
       "      <td>Srasbourghil</td>\n",
       "    </tr>\n",
       "    <tr>\n",
       "      <th>11</th>\n",
       "      <td>Srasbourgh</td>\n",
       "      <td>Srasbourghi'delt</td>\n",
       "      <td>Srasbourgh</td>\n",
       "      <td>Srasbourghi-de</td>\n",
       "      <td>Srasbourgh</td>\n",
       "      <td>Srasbourghi-sid</td>\n",
       "      <td>Srasbourgh</td>\n",
       "      <td>Srasbourghile</td>\n",
       "    </tr>\n",
       "    <tr>\n",
       "      <th>12</th>\n",
       "      <td>Srasbourgh</td>\n",
       "      <td>Srasbourghi'dena</td>\n",
       "      <td>Srasbourgh</td>\n",
       "      <td>Srasbourghi-dega</td>\n",
       "      <td>Srasbourgh</td>\n",
       "      <td>Srasbourghi-sse</td>\n",
       "      <td>Srasbourgh</td>\n",
       "      <td>Srasbourghilt</td>\n",
       "    </tr>\n",
       "    <tr>\n",
       "      <th>13</th>\n",
       "      <td>Srasbourgh</td>\n",
       "      <td>Srasbourghi'deni</td>\n",
       "      <td>Srasbourgh</td>\n",
       "      <td>Srasbourghi-deks</td>\n",
       "      <td>Srasbourgh</td>\n",
       "      <td>Srasbourghi-st</td>\n",
       "      <td>Srasbourgh</td>\n",
       "      <td>Srasbourghina</td>\n",
       "    </tr>\n",
       "    <tr>\n",
       "      <th>14</th>\n",
       "      <td>Srasbourgh</td>\n",
       "      <td>Srasbourghi'des</td>\n",
       "      <td>Srasbourgh</td>\n",
       "      <td>Srasbourghi-del</td>\n",
       "      <td>Srasbourgh</td>\n",
       "      <td>Srasbourghi-ta</td>\n",
       "      <td>Srasbourgh</td>\n",
       "      <td>Srasbourghini</td>\n",
       "    </tr>\n",
       "    <tr>\n",
       "      <th>15</th>\n",
       "      <td>Srasbourgh</td>\n",
       "      <td>Srasbourghi'desse</td>\n",
       "      <td>Srasbourgh</td>\n",
       "      <td>Srasbourghi-dele</td>\n",
       "      <td>Srasbourgh</td>\n",
       "      <td>Srasbourghid</td>\n",
       "      <td>Srasbourgh</td>\n",
       "      <td>Srasbourghis</td>\n",
       "    </tr>\n",
       "    <tr>\n",
       "      <th>16</th>\n",
       "      <td>Srasbourgh</td>\n",
       "      <td>Srasbourghi'dest</td>\n",
       "      <td>Srasbourgh</td>\n",
       "      <td>Srasbourghi-delt</td>\n",
       "      <td>Srasbourgh</td>\n",
       "      <td>Srasbourghide</td>\n",
       "      <td>Srasbourgh</td>\n",
       "      <td>Srasbourghisid</td>\n",
       "    </tr>\n",
       "    <tr>\n",
       "      <th>17</th>\n",
       "      <td>Srasbourgh</td>\n",
       "      <td>Srasbourghi'deta</td>\n",
       "      <td>Srasbourgh</td>\n",
       "      <td>Srasbourghi-dena</td>\n",
       "      <td>Srasbourgh</td>\n",
       "      <td>Srasbourghidega</td>\n",
       "      <td>Srasbourgh</td>\n",
       "      <td>Srasbourghisse</td>\n",
       "    </tr>\n",
       "    <tr>\n",
       "      <th>18</th>\n",
       "      <td>Srasbourgh</td>\n",
       "      <td>Srasbourghi'ga</td>\n",
       "      <td>Srasbourgh</td>\n",
       "      <td>Srasbourghi-deni</td>\n",
       "      <td>Srasbourgh</td>\n",
       "      <td>Srasbourghideks</td>\n",
       "      <td>Srasbourgh</td>\n",
       "      <td>Srasbourghist</td>\n",
       "    </tr>\n",
       "    <tr>\n",
       "      <th>19</th>\n",
       "      <td>Srasbourgh</td>\n",
       "      <td>Srasbourghi'ks</td>\n",
       "      <td>Srasbourgh</td>\n",
       "      <td>Srasbourghi-des</td>\n",
       "      <td>Srasbourgh</td>\n",
       "      <td>Srasbourghidel</td>\n",
       "      <td>Srasbourgh</td>\n",
       "      <td>Srasbourghita</td>\n",
       "    </tr>\n",
       "  </tbody>\n",
       "</table>\n",
       "</div>"
      ],
      "text/plain": [
       "         input           wordform       input          wordform       input  \\\n",
       "0   Srasbourgh         Srasbourgh  Srasbourgh     Srasbourghi'l  Srasbourgh   \n",
       "1   Srasbourgh       Srasbourgh'e  Srasbourgh    Srasbourghi'le  Srasbourgh   \n",
       "2   Srasbourgh       Srasbourgh-e  Srasbourgh    Srasbourghi'lt  Srasbourgh   \n",
       "3   Srasbourgh        Srasbourghe  Srasbourgh    Srasbourghi'na  Srasbourgh   \n",
       "4   Srasbourgh        Srasbourghi  Srasbourgh    Srasbourghi'ni  Srasbourgh   \n",
       "5   Srasbourgh      Srasbourghi'd  Srasbourgh     Srasbourghi's  Srasbourgh   \n",
       "6   Srasbourgh     Srasbourghi'de  Srasbourgh   Srasbourghi'sid  Srasbourgh   \n",
       "7   Srasbourgh   Srasbourghi'dega  Srasbourgh   Srasbourghi'sse  Srasbourgh   \n",
       "8   Srasbourgh   Srasbourghi'deks  Srasbourgh    Srasbourghi'st  Srasbourgh   \n",
       "9   Srasbourgh    Srasbourghi'del  Srasbourgh    Srasbourghi'ta  Srasbourgh   \n",
       "10  Srasbourgh   Srasbourghi'dele  Srasbourgh     Srasbourghi-d  Srasbourgh   \n",
       "11  Srasbourgh   Srasbourghi'delt  Srasbourgh    Srasbourghi-de  Srasbourgh   \n",
       "12  Srasbourgh   Srasbourghi'dena  Srasbourgh  Srasbourghi-dega  Srasbourgh   \n",
       "13  Srasbourgh   Srasbourghi'deni  Srasbourgh  Srasbourghi-deks  Srasbourgh   \n",
       "14  Srasbourgh    Srasbourghi'des  Srasbourgh   Srasbourghi-del  Srasbourgh   \n",
       "15  Srasbourgh  Srasbourghi'desse  Srasbourgh  Srasbourghi-dele  Srasbourgh   \n",
       "16  Srasbourgh   Srasbourghi'dest  Srasbourgh  Srasbourghi-delt  Srasbourgh   \n",
       "17  Srasbourgh   Srasbourghi'deta  Srasbourgh  Srasbourghi-dena  Srasbourgh   \n",
       "18  Srasbourgh     Srasbourghi'ga  Srasbourgh  Srasbourghi-deni  Srasbourgh   \n",
       "19  Srasbourgh     Srasbourghi'ks  Srasbourgh   Srasbourghi-des  Srasbourgh   \n",
       "\n",
       "             wordform       input          wordform  \n",
       "0   Srasbourghi-desse  Srasbourgh   Srasbourghidele  \n",
       "1    Srasbourghi-dest  Srasbourgh   Srasbourghidelt  \n",
       "2    Srasbourghi-deta  Srasbourgh   Srasbourghidena  \n",
       "3      Srasbourghi-ga  Srasbourgh   Srasbourghideni  \n",
       "4      Srasbourghi-ks  Srasbourgh    Srasbourghides  \n",
       "5       Srasbourghi-l  Srasbourgh  Srasbourghidesse  \n",
       "6      Srasbourghi-le  Srasbourgh   Srasbourghidest  \n",
       "7      Srasbourghi-lt  Srasbourgh   Srasbourghideta  \n",
       "8      Srasbourghi-na  Srasbourgh     Srasbourghiga  \n",
       "9      Srasbourghi-ni  Srasbourgh     Srasbourghiks  \n",
       "10      Srasbourghi-s  Srasbourgh      Srasbourghil  \n",
       "11    Srasbourghi-sid  Srasbourgh     Srasbourghile  \n",
       "12    Srasbourghi-sse  Srasbourgh     Srasbourghilt  \n",
       "13     Srasbourghi-st  Srasbourgh     Srasbourghina  \n",
       "14     Srasbourghi-ta  Srasbourgh     Srasbourghini  \n",
       "15       Srasbourghid  Srasbourgh      Srasbourghis  \n",
       "16      Srasbourghide  Srasbourgh    Srasbourghisid  \n",
       "17    Srasbourghidega  Srasbourgh    Srasbourghisse  \n",
       "18    Srasbourghideks  Srasbourgh     Srasbourghist  \n",
       "19     Srasbourghidel  Srasbourgh     Srasbourghita  "
      ]
     },
     "execution_count": 10,
     "metadata": {},
     "output_type": "execute_result"
    }
   ],
   "source": [
    "tbl = generate_all_wordforms('Srasbourgh', foreign_name=True)\n",
    "concat([\n",
    "    tbl[:20], \n",
    "    tbl[20:40].reset_index(drop=True), \n",
    "    tbl[40:60].reset_index(drop=True),\n",
    "    tbl[60:].reset_index(drop=True)\n",
    "], axis=1)"
   ]
  },
  {
   "cell_type": "code",
   "execution_count": null,
   "id": "2dc749eb",
   "metadata": {
    "slideshow": {
     "slide_type": "subslide"
    }
   },
   "outputs": [],
   "source": [
    "def smart_search_rt_caption(wordform:str, match_type:str='koik_sonad', **kwargs):\n",
    "\n",
    "    # Correct and extend search query \n",
    "    search_words = spell_text(wordform)['suggestion']\n",
    "    search_lemmas = concat([analyze_text(word)['lemma'] for word in search_words], axis=0)\n",
    "    search_wordforms = concat([generate_all_wordforms(lemma)['wordform'] for lemma in search_lemmas], axis=0)\n",
    "\n",
    "    # Interact with RT webservice\n",
    "    result = [None] * len(search_wordforms)\n",
    "    for i, wordform in enumerate(search_wordforms): \n",
    "        print('#', end='')\n",
    "        result[i] = search_rt_caption(wordform, match_type=match_type, **kwargs)\n",
    "        if i % 40 == 19:\n",
    "            print(' ', end=\"\")\n",
    "        elif  i % 40 == 39:\n",
    "            print()\n",
    "    \n",
    "    # Reshape the outcome\n",
    "    return (concat(result, axis=0)\n",
    "            .sort_values(['document_title', 'commencement_date'], ascending=[True, False])\n",
    "            .reset_index(drop=True))  "
   ]
  },
  {
   "cell_type": "code",
   "execution_count": null,
   "id": "3387bf4e",
   "metadata": {
    "slideshow": {
     "slide_type": "subslide"
    }
   },
   "outputs": [],
   "source": [
    "smart_search_rt_caption('president') # bresident kala "
   ]
  },
  {
   "cell_type": "markdown",
   "id": "a2675a2d",
   "metadata": {
    "slideshow": {
     "slide_type": "slide"
    }
   },
   "source": [
    "# Veebilehe poolt väljakutsutavad veebiteenused\n",
    "\n",
    "<u>Riigi Teataja tekstide sisu arvestav lahendus</u>\n",
    "\n",
    "* [query_extender](https://github.com/estnltk/smart-search/tree/main/api/api_query_extender) -- laiendab otsisõna minimaalseks hulgaks RT veebiteenusele suunatud sisendiks. \n",
    "\n",
    "Lahenduse põhimõtteline kondikava\n",
    "\n",
    "```\n",
    "search_forms = extend_query(search_word)\n",
    "results = [fetch_documents(query_word) for query_word in search_forms]\n",
    "```\n",
    "\n",
    "Eeliseks on selle kiirus. Päringut laiendatakse minimaalseks hulgaks alampäringuteks. <br/>\n",
    "Probleemiks on veebiteenuse ja andmebaasi sisu omavahelises kooskõlas hoidmine.\n",
    "\n"
   ]
  },
  {
   "cell_type": "code",
   "execution_count": null,
   "id": "97cbb6f0",
   "metadata": {
    "slideshow": {
     "slide_type": "subslide"
    }
   },
   "outputs": [],
   "source": [
    "words = ['president','presidemt', 'amet'] #bresident, presidemt\n",
    "ANALYSER = \"https://smart-search.tartunlp.ai/api/query_extender/json\"\n",
    "HEADERS = {\"Content-Type\": \"application/json; charset=utf-8\"}\n",
    "POST_DATA_TEMPLATE = {\"params\":{\"otsi_liitsõnadest\": 'true'}, \"tss\": \"\\t\".join(words)}\n",
    "response = requests.post(ANALYSER, json=POST_DATA_TEMPLATE, headers=HEADERS)\n",
    "assert response.ok, \"Webservice failed\"\n",
    "response = response.json()\n",
    "\n",
    "print(list(response.keys()))\n",
    "response['president']"
   ]
  },
  {
   "cell_type": "code",
   "execution_count": null,
   "id": "122f360d",
   "metadata": {
    "slideshow": {
     "slide_type": "subslide"
    }
   },
   "outputs": [],
   "source": [
    "from predefined_functions import generate_wordforms_with_query_extender\n",
    "display(generate_wordforms_with_query_extender('president', search_sublemmas=False))\n",
    "display(generate_wordforms_with_query_extender('president', search_sublemmas=True))"
   ]
  },
  {
   "cell_type": "code",
   "execution_count": null,
   "id": "be886365",
   "metadata": {
    "slideshow": {
     "slide_type": "subslide"
    }
   },
   "outputs": [],
   "source": [
    "display(generate_wordforms_with_query_extender('bresident', search_sublemmas=True))\n",
    "display(generate_wordforms_with_query_extender('presidemt', search_sublemmas=True))"
   ]
  },
  {
   "cell_type": "code",
   "execution_count": null,
   "id": "571f47bf",
   "metadata": {
    "slideshow": {
     "slide_type": "subslide"
    }
   },
   "outputs": [],
   "source": [
    "display(generate_wordforms_with_query_extender('NATO', search_sublemmas=True))\n",
    "display(generate_wordforms_with_query_extender('nato', search_sublemmas=True))"
   ]
  },
  {
   "cell_type": "code",
   "execution_count": null,
   "id": "9e7d0a3c",
   "metadata": {
    "slideshow": {
     "slide_type": "subslide"
    }
   },
   "outputs": [],
   "source": [
    "display(generate_wordforms_with_query_extender('Euroopa', search_sublemmas=True))\n",
    "display(generate_wordforms_with_query_extender('euroopa', search_sublemmas=True))"
   ]
  },
  {
   "cell_type": "markdown",
   "id": "9140a8b0",
   "metadata": {
    "slideshow": {
     "slide_type": "slide"
    }
   },
   "source": [
    "# Veebiteenuse poolt väljakutsutav veebiteenus\n",
    "\n",
    "<u>Universiaalsed veebiteenustel põhinev lahendus</u>\n",
    "\n",
    "* [analyser](https://github.com/estnltk/smart-search/tree/main/api/api_analyser) -- tekstide morfoloogiline analüsaator \n",
    "* [generator](https://github.com/estnltk/smart-search/tree/main/api/api_generator) -- sõnavormide generaator\n",
    "* [speller](https://github.com/estnltk/smart-search/tree/main/api/api_speller) -- kirjavigade parandaja\n",
    "\n",
    "Lahenduse põhimõtteline kondikava\n",
    "```\n",
    "wordform = spell_text(search_word)\n",
    "lemma = analyze_text(wordform)\n",
    "search_forms = generate_all_worldforms(lemma)\n",
    "sql_statement = f'SELECT * FROM table WHERE {sql_or(search_forms)}'\n",
    "...\n",
    "```\n",
    "Universaalne lahendus, mis lükkab optimeeringu andmebaasimootori kaela.\n"
   ]
  },
  {
   "cell_type": "code",
   "execution_count": null,
   "id": "a2782235",
   "metadata": {
    "slideshow": {
     "slide_type": "subslide"
    }
   },
   "outputs": [],
   "source": [
    "SQL_list = '[{}]'.format(\n",
    "    ', '.join(\"'{}'\".format(word) for word in generate_all_wordforms('president')['wordform']))\n",
    "SQL_query = f'SELECT * FROM captions\\nWHERE word in {SQL_list};'\n",
    "print(SQL_query)"
   ]
  },
  {
   "cell_type": "markdown",
   "id": "99f1613b",
   "metadata": {
    "slideshow": {
     "slide_type": "slide"
    }
   },
   "source": [
    "# Veebiteenuse poolt väljakutsutav veebiteenus\n",
    "\n",
    "\n",
    "<u>Riigi Teataja tekstide sisu arvestav lahendus</u>\n",
    "\n",
    "* [query_extender](https://github.com/estnltk/smart-search/tree/main/api/api_query_extender) -- laiendab otsisõna minimaalseks hulgaks RT veebiteenusele suunatud sisendiks. \n",
    "\n",
    "Lahenduse põhimõtteline kondikava\n",
    "\n",
    "```\n",
    "search_forms = extend_query(search_word)\n",
    "sql_statement = f'SELECT * FROM table WHERE {sql_or_criterion(search_forms)}'\n",
    "...\n",
    "```\n",
    "\n",
    "**Demo rakendus:** [rt_pealkirjaotsing](https://smart-search.tartunlp.ai/rt_pealkirjaotsing/process)"
   ]
  },
  {
   "cell_type": "markdown",
   "id": "ca9daaed",
   "metadata": {
    "slideshow": {
     "slide_type": "slide"
    }
   },
   "source": [
    "# Andmebaasi sisu muutev veebiteenus\n",
    "\n",
    "<u>Universaalne lahendus tekstide indekseerimiseks </u>\n",
    "* [advanced_indexing](https://github.com/estnltk/smart-search/tree/main/api/api_advanced_indexing)\n",
    "\n",
    "Lahenduse põhimõtteline kondikava\n",
    "\n",
    "```\n",
    "for document in added_documents:\n",
    "    index = advanced_indexing(document)\n",
    "    index_text = format_for_db_search(index) \n",
    "    insert_into_db(index_text)\n",
    "```\n",
    "\n",
    "Selle tulemusena tekib andmebaasisüsteemi paremini otsitavad tekstide indeksid ning kõik tekstivormid saab kätte otsides ainult sõnade algvorme.\n",
    "\n",
    "\n",
    "\n"
   ]
  },
  {
   "cell_type": "code",
   "execution_count": null,
   "id": "bce98468",
   "metadata": {
    "slideshow": {
     "slide_type": "subslide"
    }
   },
   "outputs": [],
   "source": [
    "text = 'Presidendi ametiraha seadus'\n",
    "output_tables = ['lemma_kõik_vormid', 'lemma_korpuse_vormid', 'liitsõnad']\n",
    "        \n",
    "ANALYZER_QUERY =  \"https://smart-search.tartunlp.ai/api/advanced_indexing/json\" \n",
    "HEADERS = {\"Content-Type\": \"application/json\"}\n",
    "POST_DATA_TEMPLATE = {\"params\":{\"tables\": output_tables}, \"sources\": {'doc_42': {\"content\": text}}}\n",
    "    \n",
    "response = requests.post(ANALYZER_QUERY, json=POST_DATA_TEMPLATE, headers=HEADERS)\n",
    "assert response.ok, \"Webservice failed\"\n",
    "response = response.json()\n",
    "print(list(response.keys()))\n",
    "print(list(response['tabelid'].keys()))"
   ]
  },
  {
   "cell_type": "code",
   "execution_count": null,
   "id": "63ba2fab",
   "metadata": {
    "slideshow": {
     "slide_type": "subslide"
    }
   },
   "outputs": [],
   "source": [
    "print(json.dumps(response['tabelid']['liitsõnad'], indent=4))"
   ]
  },
  {
   "cell_type": "code",
   "execution_count": null,
   "id": "10c78495",
   "metadata": {
    "slideshow": {
     "slide_type": "subslide"
    }
   },
   "outputs": [],
   "source": [
    "from predefined_functions import index_text\n",
    "index_text(doc_id='doc_1', text='Presidendi ametiraha seadus', output_tables='indeks_lemmad') #liitsõnad\n",
    "#index_text(doc_id='doc_1', text='Presidendi ametiraha seadus', output_tables='lemma_korpuse_vormid')"
   ]
  },
  {
   "cell_type": "markdown",
   "id": "a3c59891",
   "metadata": {
    "slideshow": {
     "slide_type": "slide"
    }
   },
   "source": [
    "# Päringulaiendaja kohandamine\n",
    "\n",
    "[**Bashi skript**](https://github.com/estnltk/smart-search/tree/main/scripts/query_extender_setup/example_script_based_workflow)\n",
    "* Konfitakse läbi keskonnamuutujate.\n",
    "* Eeldab spetsiifilist kataloogistruktuuri.\n",
    "* Loob ja uuendab veebiteenuse `query_extender` sisemist andmebaasi. \n",
    "\n",
    "[**Näitetöövoog**](https://github.com/estnltk/smart-search/tree/main/demod/toovood/riigi_teataja_pealkirjaotsing)\n",
    "* Kollektsioon Jupyteri tööraamatuid, mis demonstreerivad analüüsi kõiki samme.\n",
    "* Võimaldab avastada skriptide poolt käsitlemata ootamatusi."
   ]
  }
 ],
 "metadata": {
  "celltoolbar": "Slideshow",
  "kernelspec": {
   "display_name": "Python 3 (ipykernel)",
   "language": "python",
   "name": "python3"
  },
  "language_info": {
   "codemirror_mode": {
    "name": "ipython",
    "version": 3
   },
   "file_extension": ".py",
   "mimetype": "text/x-python",
   "name": "python",
   "nbconvert_exporter": "python",
   "pygments_lexer": "ipython3",
   "version": "3.11.6"
  }
 },
 "nbformat": 4,
 "nbformat_minor": 5
}
