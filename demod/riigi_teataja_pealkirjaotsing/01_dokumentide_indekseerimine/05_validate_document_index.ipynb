{
 "cells": [
  {
   "cell_type": "markdown",
   "id": "0ca401d0-9c86-4f3c-aa4e-9f0d58cb4fc7",
   "metadata": {},
   "source": [
    "## Indeksite valideerimine\n",
    "\n",
    "Tehniliselt pole indekseid vaja valideerida, sest indekseerimisteenused tagavad nende kooskõla. \n",
    "Samas on alati mõistlik kontrollida, kas indeksis olevad sõnavormid ja lemmad vastavad meie ootustele. \n",
    "Ootamatused viitavad tavaliselt vigadele dokumentide viimisel tekstilisele kujule või selle edasises  puhastamises. "
   ]
  },
  {
   "cell_type": "code",
   "execution_count": 18,
   "id": "08adf2f7-e1aa-4a4a-8376-423da3c553fc",
   "metadata": {},
   "outputs": [],
   "source": [
    "import json\n",
    "import math\n",
    "import requests\n",
    "\n",
    "from pandas import DataFrame \n",
    "from pandas import read_csv\n",
    "from tqdm.auto import tqdm\n",
    "from typing import List"
   ]
  },
  {
   "cell_type": "markdown",
   "id": "7884cb4c-76a6-4c87-a8df-10b4238de7bd",
   "metadata": {},
   "source": [
    "## I. Sõnavormide ja algvormide eraldamine indeksist  "
   ]
  },
  {
   "cell_type": "markdown",
   "id": "c6d7fe22-a964-47d0-b1e1-232c9a3c9e10",
   "metadata": {},
   "source": [
    "## II. Algvormide valideerimine"
   ]
  },
  {
   "cell_type": "markdown",
   "id": "15274488-3660-41b0-9c9a-8c0471c8a6c7",
   "metadata": {},
   "source": [
    "## III. Sõnavormide valideerimine "
   ]
  },
  {
   "cell_type": "code",
   "execution_count": 1,
   "id": "d46fcf05-9e6c-445b-ba32-0aa205eb70de",
   "metadata": {},
   "outputs": [],
   "source": [
    "#incorrect = ~lemma_counts['lemma'].str.contains('^[a-z|öäõü|\\-|žš]+$', case=False)\n",
    "#display(lemma_counts[incorrect])"
   ]
  },
  {
   "cell_type": "code",
   "execution_count": 2,
   "id": "924a6e78-0fd6-4f2b-9069-48ebd013c658",
   "metadata": {},
   "outputs": [],
   "source": [
    "# numbers = lemma_counts['lemma'].str.contains('^[0-9]+(?:\\.|/|-)?[0-9]*$', case=False)\n",
    "# display(lemma_counts[numbers])"
   ]
  },
  {
   "cell_type": "code",
   "execution_count": 3,
   "id": "394d3c78-e3ad-4945-8612-7562c0b723e5",
   "metadata": {},
   "outputs": [],
   "source": [
    "# years = lemma_counts['lemma'].str.contains('^(?:[0-9]+\\.\\s+aasta)$', case=False)\n",
    "# display(lemma_counts[years])"
   ]
  },
  {
   "cell_type": "code",
   "execution_count": 4,
   "id": "3f825ac7-dfbe-4703-94a5-8736a86f57e2",
   "metadata": {},
   "outputs": [],
   "source": [
    "# lemma_counts[~numbers & incorrect & ~years]"
   ]
  },
  {
   "cell_type": "markdown",
   "id": "7d069e79-5e4f-41f7-8a01-c5c1f58e576b",
   "metadata": {},
   "source": [
    "**Judgement:** \n",
    "* Tokenisation failed for some cases as it contained non-breakable space instead of normal space\n",
    "* There is a problem with quotation marks that touch words.  "
   ]
  },
  {
   "cell_type": "markdown",
   "id": "6bc3c059-1d73-46e2-87da-57f5574b36ac",
   "metadata": {},
   "source": [
    "#### Validation of the lemma table"
   ]
  },
  {
   "cell_type": "code",
   "execution_count": 5,
   "id": "89f954fc-5425-4212-8ba6-1719b4e4a3d2",
   "metadata": {},
   "outputs": [],
   "source": [
    "# lemma_counts = result.groupby('lemma').agg(occurence_count=('lemma', len), document_count = ('doc_id', lambda x: len(set(x))))\n",
    "# lemma_counts = lemma_counts.sort_values(['occurence_count', 'document_count'], ascending=False).reset_index()\n",
    "# display(lemma_counts.head(15))\n",
    "# display(lemma_counts.tail(15))"
   ]
  },
  {
   "cell_type": "code",
   "execution_count": 6,
   "id": "c3c9cbe0-2a55-484a-8085-e9ea89cc4640",
   "metadata": {},
   "outputs": [],
   "source": [
    "# ncorrect = ~lemma_counts['lemma'].str.contains('^[a-z|öäõü|\\-|žš]+$', case=False)\n",
    "# display(lemma_counts[incorrect])"
   ]
  },
  {
   "cell_type": "code",
   "execution_count": 7,
   "id": "7a52b5d8-6156-4881-b4be-709a7f701ba2",
   "metadata": {},
   "outputs": [],
   "source": [
    "# numbers = lemma_counts['lemma'].str.contains('^[0-9]+(?:\\.|/|-)?[0-9]*$', case=False)\n",
    "# display(lemma_counts[numbers])"
   ]
  },
  {
   "cell_type": "code",
   "execution_count": 8,
   "id": "4d01a665-9517-4fa7-ba8a-c3d7003505d0",
   "metadata": {},
   "outputs": [],
   "source": [
    "# display(lemma_counts[incorrect & ~numbers])"
   ]
  },
  {
   "cell_type": "markdown",
   "id": "a431b1d1-7185-4fcc-9d71-6edc6cce5497",
   "metadata": {},
   "source": [
    "**Judgement:** There are still some errors in the analysis but we can run with it. Lets collect the correct lemma list. "
   ]
  },
  {
   "cell_type": "code",
   "execution_count": 9,
   "id": "7e668e18-1e35-4c33-b399-8836f1cf8e59",
   "metadata": {},
   "outputs": [],
   "source": [
    "# correct_lemmas = lemma_counts[~incorrect]\n",
    "# display(correct_lemmas) "
   ]
  },
  {
   "cell_type": "markdown",
   "id": "f281926b-6cb1-4677-8bea-d32103fba6c2",
   "metadata": {},
   "source": [
    "### Extraction of meaningful sub-lemmas"
   ]
  },
  {
   "cell_type": "code",
   "execution_count": 10,
   "id": "ccde6507-da08-49ff-b262-d2a30f4fc789",
   "metadata": {},
   "outputs": [],
   "source": [
    "# multi_root_words = result['sublemmas'].map(lambda x: len(x) !=1)\n",
    "# sublemmas = result.loc[multi_root_words, ['sublemmas', 'doc_id']].explode('sublemmas')\n",
    "\n",
    "# Remove sublemmas that are not sublemmas\n",
    "# uncovered_by_lemmas = ~sublemmas['sublemmas'].isin(correct_lemmas['lemma'])\n",
    "# sublemmas = sublemmas[uncovered_by_lemmas].rename(columns={'sublemmas':'sublemma'})\n",
    "# display(sublemmas)"
   ]
  },
  {
   "cell_type": "code",
   "execution_count": 11,
   "id": "80ade4e4-c040-4bce-a060-90062d9d3c08",
   "metadata": {},
   "outputs": [],
   "source": [
    "# sublemma_count = sublemmas.groupby('sublemma').agg(occurence_count=('sublemma', len), document_count = ('doc_id', lambda x: len(set(x))))\n",
    "# sublemma_count = sublemma_count.sort_values(['occurence_count', 'document_count'], ascending=False).reset_index()\n",
    "# display(sublemma_count.head(15))\n",
    "# display(sublemma_count.tail(15))\n",
    "\n",
    "# incorrect = ~sublemma_count['sublemma'].str.contains('^[a-z|öäõü|\\-|žš]+$', case=False)\n",
    "# assert not any(incorrect), 'There should be no incorrect sublemmas'"
   ]
  }
 ],
 "metadata": {
  "kernelspec": {
   "display_name": "Python 3 (ipykernel)",
   "language": "python",
   "name": "python3"
  },
  "language_info": {
   "codemirror_mode": {
    "name": "ipython",
    "version": 3
   },
   "file_extension": ".py",
   "mimetype": "text/x-python",
   "name": "python",
   "nbconvert_exporter": "python",
   "pygments_lexer": "ipython3",
   "version": "3.9.18"
  }
 },
 "nbformat": 4,
 "nbformat_minor": 5
}
