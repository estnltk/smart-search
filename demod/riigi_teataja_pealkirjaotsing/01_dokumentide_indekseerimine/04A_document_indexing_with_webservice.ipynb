{
 "cells": [
  {
   "cell_type": "markdown",
   "id": "0ca401d0-9c86-4f3c-aa4e-9f0d58cb4fc7",
   "metadata": {},
   "source": [
    "## Tekstide indekseerimine\n",
    "\n",
    "Järgnevas kasutame tekstide indekseerimiseks spetysiifilist veebiteenust, mis väljastab peale tekstides sisalduvate sõnade algvormide palju muud morfoloogilist informatsiooni, mida läheb meil edaspidi päringulaiendaja loomiseks vaja sealhulgas ka sünavormide asukohti tekstis.\n",
    "\n",
    "\n",
    "Dokumentide indekseerimiseks võib analüüsida kas originaaltekste või neile vastavaid puhastatud tekste. \n",
    "Puhastatud tekstide analüüsimisel väljundindeksis olevad sõnavormide asukohad ei pruugi vastata sõnade tegelikule asukohale originaaltekstis, sest teksti täiendamine lisab teksti sümboleid. \n",
    "\n",
    "Kuna meie lõppeesmärk indeksi loomisel on vaid otsitavate sõnavormide leidmine mitte nende täpse asukoha talletamine, siis me ignoreerime antud probleemi ja kasutame indekseerimiseks puhastatud tekste.\n",
    "Vajadusel saaks sõnavormide asukohad ümber arvutada, jättes meelde originaalteksti ja puhastatud teksti sõnede omavahelise vastavuse. \n"
   ]
  },
  {
   "cell_type": "code",
   "execution_count": 18,
   "id": "08adf2f7-e1aa-4a4a-8376-423da3c553fc",
   "metadata": {},
   "outputs": [],
   "source": [
    "import json\n",
    "import math\n",
    "import requests\n",
    "\n",
    "from pandas import DataFrame \n",
    "from pandas import read_csv\n",
    "from tqdm.auto import tqdm\n",
    "from typing import List"
   ]
  },
  {
   "cell_type": "markdown",
   "id": "b6642ef2-1f8a-4826-b11d-673391e71cbc",
   "metadata": {},
   "source": [
    "## I. Indekseerimisteenuse dokumenthaaval kasutamine\n",
    "\n",
    "Veebiteenuse kasutamine üks dokument korraga on sobilik juhul, kui dokumendid on pikad või on neid piisavalt palju, et ühe liitpäringu tegemine on liiga koormav. Näiteks siis, kui indekseeritakse seaduse tekste. \n",
    "Kuna järgnevad sammud eeldavad, et väljundindeksis olev `DOCID` väli vastab dokumendi globaalsele indeksile, siis päringu tegemisel tuleb määrata nii tekst kui ka sellele vastav `global_id` väli Riigi Teataja infosüsteemis. \n",
    "\n"
   ]
  },
  {
   "cell_type": "code",
   "execution_count": 2,
   "id": "8b17b09f-dff0-4337-99fd-62afa0d490a8",
   "metadata": {},
   "outputs": [],
   "source": [
    "def index_document(doc_id: str, text: str, disambiguation: bool = False):\n",
    "    \"\"\"\n",
    "    Uses web service to index document for further processing.\n",
    "\n",
    "    Returns a JSON object that can be further modified or serialised to text.\n",
    "    All indices are inside the field 'tabelid' which contains seven subfields.\n",
    "\n",
    "    Two out of these correspond to actual word locations:\n",
    "    - Subfield 'indeks_lemmad' contains information about lemmas in an unspecified order. \n",
    "    - Subfield 'indeks_vormid' contains information about wordforms in an unspecified order. \n",
    "\n",
    "    The remaining four contain aggregated information about the document:  \n",
    "    - Subfield 'liitsõnad' contains what subwords compound words in the document contain. \n",
    "    - Subfield 'kirjavead' contains potential spelling mistakes for each wordform.\n",
    "    - Subfield 'lemma_kõik_vormid' contains all potential wordform for each lemma.\n",
    "    - Subfield 'lemma_korpuse_vormid' contains all wordform for each lemma that exists in the document.\n",
    "    \"\"\"\n",
    "        \n",
    "    ANALYZER_QUERY = \"https://smart-search.tartunlp.ai/api/create_jsontables/document\"\n",
    "    HEADERS = {\"Content-Type\": \"application/json\"}\n",
    "    POST_DATA_TEMPLATE = {\"sources\": {str(doc_id): {\"content\": text}}}\n",
    "    \n",
    "    response = requests.post(ANALYZER_QUERY, json=POST_DATA_TEMPLATE, headers=HEADERS)\n",
    "    assert response.ok, \"Webservice failed\"\n",
    "    return response.json()"
   ]
  },
  {
   "cell_type": "code",
   "execution_count": 3,
   "id": "168629c2-0dd3-455b-b926-f9557946f141",
   "metadata": {},
   "outputs": [],
   "source": [
    "text = \\\n",
    "\"\"\"\n",
    "Kõikumatus usus ja vankumatus tahtes kindlustada ja arendada riiki,\n",
    "mis on loodud Eesti rahva riikliku enesemääramise kustumatul õigusel ja välja kuulutatud 1918. aasta 24. veebruaril,\n",
    "mis on rajatud vabadusele, õiglusele ja õigusele,\n",
    "mis on kaitseks sisemisele ja välisele rahule ning pandiks praegustele ja tulevastele põlvedele nende ühiskondlikus edus ja üldises kasus,\n",
    "mis peab tagama eesti rahvuse, keele ja kultuuri säilimise läbi aegade –\n",
    "võttis Eesti rahvas 1938. aastal jõustunud põhiseaduse § 1 alusel 1992. aasta 28. juuni rahvahääletusel vastu järgmise põhiseaduse.\n",
    "\"\"\"\n",
    "result = index_document(115052015002, text)"
   ]
  },
  {
   "cell_type": "markdown",
   "id": "1cd12358-d206-440b-8ae6-759784717335",
   "metadata": {},
   "source": [
    "### Lemma indeksi kirjeldus näidetena\n",
    "\n",
    "Kuna ühel sõnal võib olla mitu võimalikku algvormi, siis ühele lokatsioonile võib vastata mitu lemmat."
   ]
  },
  {
   "cell_type": "code",
   "execution_count": 4,
   "id": "70aef932-a28e-4f3e-a834-4b9f98ce2377",
   "metadata": {},
   "outputs": [
    {
     "data": {
      "text/html": [
       "<div>\n",
       "<style scoped>\n",
       "    .dataframe tbody tr th:only-of-type {\n",
       "        vertical-align: middle;\n",
       "    }\n",
       "\n",
       "    .dataframe tbody tr th {\n",
       "        vertical-align: top;\n",
       "    }\n",
       "\n",
       "    .dataframe thead th {\n",
       "        text-align: right;\n",
       "    }\n",
       "</style>\n",
       "<table border=\"1\" class=\"dataframe\">\n",
       "  <thead>\n",
       "    <tr style=\"text-align: right;\">\n",
       "      <th></th>\n",
       "      <th>lemma</th>\n",
       "      <th>doc_id</th>\n",
       "      <th>start</th>\n",
       "      <th>end</th>\n",
       "      <th>is_sublemma</th>\n",
       "    </tr>\n",
       "  </thead>\n",
       "  <tbody>\n",
       "    <tr>\n",
       "      <th>91</th>\n",
       "      <td>kõikumatu</td>\n",
       "      <td>115052015002</td>\n",
       "      <td>1</td>\n",
       "      <td>11</td>\n",
       "      <td>False</td>\n",
       "    </tr>\n",
       "    <tr>\n",
       "      <th>89</th>\n",
       "      <td>kõikumatus</td>\n",
       "      <td>115052015002</td>\n",
       "      <td>1</td>\n",
       "      <td>11</td>\n",
       "      <td>False</td>\n",
       "    </tr>\n",
       "    <tr>\n",
       "      <th>22</th>\n",
       "      <td>usk</td>\n",
       "      <td>115052015002</td>\n",
       "      <td>12</td>\n",
       "      <td>16</td>\n",
       "      <td>False</td>\n",
       "    </tr>\n",
       "    <tr>\n",
       "      <th>55</th>\n",
       "      <td>vankumatus</td>\n",
       "      <td>115052015002</td>\n",
       "      <td>20</td>\n",
       "      <td>30</td>\n",
       "      <td>False</td>\n",
       "    </tr>\n",
       "    <tr>\n",
       "      <th>19</th>\n",
       "      <td>vankumatu</td>\n",
       "      <td>115052015002</td>\n",
       "      <td>20</td>\n",
       "      <td>30</td>\n",
       "      <td>False</td>\n",
       "    </tr>\n",
       "  </tbody>\n",
       "</table>\n",
       "</div>"
      ],
      "text/plain": [
       "         lemma        doc_id  start  end  is_sublemma\n",
       "91   kõikumatu  115052015002      1   11        False\n",
       "89  kõikumatus  115052015002      1   11        False\n",
       "22         usk  115052015002     12   16        False\n",
       "55  vankumatus  115052015002     20   30        False\n",
       "19   vankumatu  115052015002     20   30        False"
      ]
     },
     "metadata": {},
     "output_type": "display_data"
    },
    {
     "data": {
      "text/html": [
       "<div>\n",
       "<style scoped>\n",
       "    .dataframe tbody tr th:only-of-type {\n",
       "        vertical-align: middle;\n",
       "    }\n",
       "\n",
       "    .dataframe tbody tr th {\n",
       "        vertical-align: top;\n",
       "    }\n",
       "\n",
       "    .dataframe thead th {\n",
       "        text-align: right;\n",
       "    }\n",
       "</style>\n",
       "<table border=\"1\" class=\"dataframe\">\n",
       "  <thead>\n",
       "    <tr style=\"text-align: right;\">\n",
       "      <th></th>\n",
       "      <th>lemma</th>\n",
       "      <th>doc_id</th>\n",
       "      <th>start</th>\n",
       "      <th>end</th>\n",
       "      <th>is_sublemma</th>\n",
       "    </tr>\n",
       "  </thead>\n",
       "  <tbody>\n",
       "    <tr>\n",
       "      <th>91</th>\n",
       "      <td>kõikumatu</td>\n",
       "      <td>115052015002</td>\n",
       "      <td>1</td>\n",
       "      <td>11</td>\n",
       "      <td>False</td>\n",
       "    </tr>\n",
       "    <tr>\n",
       "      <th>89</th>\n",
       "      <td>kõikumatus</td>\n",
       "      <td>115052015002</td>\n",
       "      <td>1</td>\n",
       "      <td>11</td>\n",
       "      <td>False</td>\n",
       "    </tr>\n",
       "    <tr>\n",
       "      <th>22</th>\n",
       "      <td>usk</td>\n",
       "      <td>115052015002</td>\n",
       "      <td>12</td>\n",
       "      <td>16</td>\n",
       "      <td>False</td>\n",
       "    </tr>\n",
       "    <tr>\n",
       "      <th>55</th>\n",
       "      <td>vankumatus</td>\n",
       "      <td>115052015002</td>\n",
       "      <td>20</td>\n",
       "      <td>30</td>\n",
       "      <td>False</td>\n",
       "    </tr>\n",
       "    <tr>\n",
       "      <th>19</th>\n",
       "      <td>vankumatu</td>\n",
       "      <td>115052015002</td>\n",
       "      <td>20</td>\n",
       "      <td>30</td>\n",
       "      <td>False</td>\n",
       "    </tr>\n",
       "  </tbody>\n",
       "</table>\n",
       "</div>"
      ],
      "text/plain": [
       "         lemma        doc_id  start  end  is_sublemma\n",
       "91   kõikumatu  115052015002      1   11        False\n",
       "89  kõikumatus  115052015002      1   11        False\n",
       "22         usk  115052015002     12   16        False\n",
       "55  vankumatus  115052015002     20   30        False\n",
       "19   vankumatu  115052015002     20   30        False"
      ]
     },
     "metadata": {},
     "output_type": "display_data"
    }
   ],
   "source": [
    "lemma_index = DataFrame(result['tabelid']['indeks_lemmad'], columns=['lemma', 'doc_id', 'start', 'end', 'is_sublemma'])\n",
    "display(lemma_index.sort_values('start').head(5))\n",
    "display(lemma_index.sort_values('start').head(5))"
   ]
  },
  {
   "cell_type": "code",
   "execution_count": 5,
   "id": "ba1bfcbd-8785-4ebf-bea9-b801589b31d8",
   "metadata": {},
   "outputs": [
    {
     "name": "stdout",
     "output_type": "stream",
     "text": [
      "Lemma:           arendama\n",
      "Lokatsioon:      [53, 61)\n",
      "Vastav sõnavorm: arendada\n"
     ]
    }
   ],
   "source": [
    "print(f\"Lemma:           {lemma_index.loc[0, 'lemma']}\")\n",
    "print(f\"Lokatsioon:      [{lemma_index.loc[0, 'start']}, {lemma_index.loc[0, 'end']})\")\n",
    "print(f\"Vastav sõnavorm: {text[lemma_index.loc[0, 'start']:lemma_index.loc[0, 'end']]}\")"
   ]
  },
  {
   "cell_type": "code",
   "execution_count": 6,
   "id": "dfd2330a-f963-448c-aec8-fe29959cc76d",
   "metadata": {},
   "outputs": [
    {
     "data": {
      "text/html": [
       "<style type=\"text/css\">\n",
       "</style>\n",
       "<table id=\"T_0dc86\">\n",
       "  <caption>Liitsõna alamosad</caption>\n",
       "  <thead>\n",
       "    <tr>\n",
       "      <th class=\"blank level0\" >&nbsp;</th>\n",
       "      <th id=\"T_0dc86_level0_col0\" class=\"col_heading level0 col0\" >lemma</th>\n",
       "      <th id=\"T_0dc86_level0_col1\" class=\"col_heading level0 col1\" >doc_id</th>\n",
       "      <th id=\"T_0dc86_level0_col2\" class=\"col_heading level0 col2\" >start</th>\n",
       "      <th id=\"T_0dc86_level0_col3\" class=\"col_heading level0 col3\" >end</th>\n",
       "      <th id=\"T_0dc86_level0_col4\" class=\"col_heading level0 col4\" >is_sublemma</th>\n",
       "    </tr>\n",
       "  </thead>\n",
       "  <tbody>\n",
       "    <tr>\n",
       "      <th id=\"T_0dc86_level0_row0\" class=\"row_heading level0 row0\" >24</th>\n",
       "      <td id=\"T_0dc86_row0_col0\" class=\"data row0 col0\" >määramine</td>\n",
       "      <td id=\"T_0dc86_row0_col1\" class=\"data row0 col1\" >115052015002</td>\n",
       "      <td id=\"T_0dc86_row0_col2\" class=\"data row0 col2\" >104</td>\n",
       "      <td id=\"T_0dc86_row0_col3\" class=\"data row0 col3\" >118</td>\n",
       "      <td id=\"T_0dc86_row0_col4\" class=\"data row0 col4\" >True</td>\n",
       "    </tr>\n",
       "    <tr>\n",
       "      <th id=\"T_0dc86_level0_row1\" class=\"row_heading level0 row1\" >25</th>\n",
       "      <td id=\"T_0dc86_row1_col0\" class=\"data row1 col0\" >seadus</td>\n",
       "      <td id=\"T_0dc86_row1_col1\" class=\"data row1 col1\" >115052015002</td>\n",
       "      <td id=\"T_0dc86_row1_col2\" class=\"data row1 col2\" >491</td>\n",
       "      <td id=\"T_0dc86_row1_col3\" class=\"data row1 col3\" >502</td>\n",
       "      <td id=\"T_0dc86_row1_col4\" class=\"data row1 col4\" >True</td>\n",
       "    </tr>\n",
       "    <tr>\n",
       "      <th id=\"T_0dc86_level0_row2\" class=\"row_heading level0 row2\" >36</th>\n",
       "      <td id=\"T_0dc86_row2_col0\" class=\"data row2 col0\" >põhi</td>\n",
       "      <td id=\"T_0dc86_row2_col1\" class=\"data row2 col1\" >115052015002</td>\n",
       "      <td id=\"T_0dc86_row2_col2\" class=\"data row2 col2\" >567</td>\n",
       "      <td id=\"T_0dc86_row2_col3\" class=\"data row2 col3\" >578</td>\n",
       "      <td id=\"T_0dc86_row2_col4\" class=\"data row2 col4\" >True</td>\n",
       "    </tr>\n",
       "    <tr>\n",
       "      <th id=\"T_0dc86_level0_row3\" class=\"row_heading level0 row3\" >47</th>\n",
       "      <td id=\"T_0dc86_row3_col0\" class=\"data row3 col0\" >põhi</td>\n",
       "      <td id=\"T_0dc86_row3_col1\" class=\"data row3 col1\" >115052015002</td>\n",
       "      <td id=\"T_0dc86_row3_col2\" class=\"data row3 col2\" >491</td>\n",
       "      <td id=\"T_0dc86_row3_col3\" class=\"data row3 col3\" >502</td>\n",
       "      <td id=\"T_0dc86_row3_col4\" class=\"data row3 col4\" >True</td>\n",
       "    </tr>\n",
       "    <tr>\n",
       "      <th id=\"T_0dc86_level0_row4\" class=\"row_heading level0 row4\" >59</th>\n",
       "      <td id=\"T_0dc86_row4_col0\" class=\"data row4 col0\" >hääletus</td>\n",
       "      <td id=\"T_0dc86_row4_col1\" class=\"data row4 col1\" >115052015002</td>\n",
       "      <td id=\"T_0dc86_row4_col2\" class=\"data row4 col2\" >536</td>\n",
       "      <td id=\"T_0dc86_row4_col3\" class=\"data row4 col3\" >551</td>\n",
       "      <td id=\"T_0dc86_row4_col4\" class=\"data row4 col4\" >True</td>\n",
       "    </tr>\n",
       "    <tr>\n",
       "      <th id=\"T_0dc86_level0_row5\" class=\"row_heading level0 row5\" >61</th>\n",
       "      <td id=\"T_0dc86_row5_col0\" class=\"data row5 col0\" >rahvas</td>\n",
       "      <td id=\"T_0dc86_row5_col1\" class=\"data row5 col1\" >115052015002</td>\n",
       "      <td id=\"T_0dc86_row5_col2\" class=\"data row5 col2\" >536</td>\n",
       "      <td id=\"T_0dc86_row5_col3\" class=\"data row5 col3\" >551</td>\n",
       "      <td id=\"T_0dc86_row5_col4\" class=\"data row5 col4\" >True</td>\n",
       "    </tr>\n",
       "    <tr>\n",
       "      <th id=\"T_0dc86_level0_row6\" class=\"row_heading level0 row6\" >63</th>\n",
       "      <td id=\"T_0dc86_row6_col0\" class=\"data row6 col0\" >seadus</td>\n",
       "      <td id=\"T_0dc86_row6_col1\" class=\"data row6 col1\" >115052015002</td>\n",
       "      <td id=\"T_0dc86_row6_col2\" class=\"data row6 col2\" >567</td>\n",
       "      <td id=\"T_0dc86_row6_col3\" class=\"data row6 col3\" >578</td>\n",
       "      <td id=\"T_0dc86_row6_col4\" class=\"data row6 col4\" >True</td>\n",
       "    </tr>\n",
       "    <tr>\n",
       "      <th id=\"T_0dc86_level0_row7\" class=\"row_heading level0 row7\" >93</th>\n",
       "      <td id=\"T_0dc86_row7_col0\" class=\"data row7 col0\" >ise</td>\n",
       "      <td id=\"T_0dc86_row7_col1\" class=\"data row7 col1\" >115052015002</td>\n",
       "      <td id=\"T_0dc86_row7_col2\" class=\"data row7 col2\" >104</td>\n",
       "      <td id=\"T_0dc86_row7_col3\" class=\"data row7 col3\" >118</td>\n",
       "      <td id=\"T_0dc86_row7_col4\" class=\"data row7 col4\" >True</td>\n",
       "    </tr>\n",
       "  </tbody>\n",
       "</table>\n"
      ],
      "text/plain": [
       "<pandas.io.formats.style.Styler at 0x117573b50>"
      ]
     },
     "execution_count": 6,
     "metadata": {},
     "output_type": "execute_result"
    }
   ],
   "source": [
    "lemma_index[lemma_index['is_sublemma']].style.set_caption(\"Liitsõna alamosad\")"
   ]
  },
  {
   "cell_type": "code",
   "execution_count": 7,
   "id": "6ce319c2-3c94-4996-a231-2cdd14901a61",
   "metadata": {},
   "outputs": [
    {
     "name": "stdout",
     "output_type": "stream",
     "text": [
      "Lemma:           põhi\n",
      "Lokatsioon:      [567, 578)\n",
      "Vastav sõnavorm: põhiseaduse\n"
     ]
    }
   ],
   "source": [
    "print(f\"Lemma:           {lemma_index.loc[36, 'lemma']}\")\n",
    "print(f\"Lokatsioon:      [{lemma_index.loc[36, 'start']}, {lemma_index.loc[36, 'end']})\")\n",
    "print(f\"Vastav sõnavorm: {text[lemma_index.loc[36, 'start']: lemma_index.loc[36, 'end']]}\")"
   ]
  },
  {
   "cell_type": "markdown",
   "id": "c44165fb-a07e-4bd6-b41e-bd61015d8571",
   "metadata": {},
   "source": [
    "### Sõnavormide indeksi kirjeldus näidetena\n",
    "\n",
    "Sõnavormide pulul võimalikku mitmesust ei ole. Ühele lokatsioonile vastab ainult üks sõnavorm."
   ]
  },
  {
   "cell_type": "code",
   "execution_count": 8,
   "id": "c7ae07fa-9d39-4033-a347-68a8c0b8244d",
   "metadata": {},
   "outputs": [
    {
     "data": {
      "text/html": [
       "<div>\n",
       "<style scoped>\n",
       "    .dataframe tbody tr th:only-of-type {\n",
       "        vertical-align: middle;\n",
       "    }\n",
       "\n",
       "    .dataframe tbody tr th {\n",
       "        vertical-align: top;\n",
       "    }\n",
       "\n",
       "    .dataframe thead th {\n",
       "        text-align: right;\n",
       "    }\n",
       "</style>\n",
       "<table border=\"1\" class=\"dataframe\">\n",
       "  <thead>\n",
       "    <tr style=\"text-align: right;\">\n",
       "      <th></th>\n",
       "      <th>wordform</th>\n",
       "      <th>doc_id</th>\n",
       "      <th>start</th>\n",
       "      <th>end</th>\n",
       "      <th>is_sublemma</th>\n",
       "    </tr>\n",
       "  </thead>\n",
       "  <tbody>\n",
       "    <tr>\n",
       "      <th>0</th>\n",
       "      <td>võttis</td>\n",
       "      <td>115052015002</td>\n",
       "      <td>448</td>\n",
       "      <td>454</td>\n",
       "      <td>False</td>\n",
       "    </tr>\n",
       "    <tr>\n",
       "      <th>1</th>\n",
       "      <td>põhiseaduse</td>\n",
       "      <td>115052015002</td>\n",
       "      <td>491</td>\n",
       "      <td>502</td>\n",
       "      <td>False</td>\n",
       "    </tr>\n",
       "    <tr>\n",
       "      <th>2</th>\n",
       "      <td>aastal</td>\n",
       "      <td>115052015002</td>\n",
       "      <td>474</td>\n",
       "      <td>480</td>\n",
       "      <td>False</td>\n",
       "    </tr>\n",
       "    <tr>\n",
       "      <th>3</th>\n",
       "      <td>1</td>\n",
       "      <td>115052015002</td>\n",
       "      <td>505</td>\n",
       "      <td>506</td>\n",
       "      <td>False</td>\n",
       "    </tr>\n",
       "    <tr>\n",
       "      <th>4</th>\n",
       "      <td>keele</td>\n",
       "      <td>115052015002</td>\n",
       "      <td>406</td>\n",
       "      <td>411</td>\n",
       "      <td>False</td>\n",
       "    </tr>\n",
       "  </tbody>\n",
       "</table>\n",
       "</div>"
      ],
      "text/plain": [
       "      wordform        doc_id  start  end  is_sublemma\n",
       "0       võttis  115052015002    448  454        False\n",
       "1  põhiseaduse  115052015002    491  502        False\n",
       "2       aastal  115052015002    474  480        False\n",
       "3            1  115052015002    505  506        False\n",
       "4        keele  115052015002    406  411        False"
      ]
     },
     "metadata": {},
     "output_type": "display_data"
    },
    {
     "data": {
      "text/html": [
       "<div>\n",
       "<style scoped>\n",
       "    .dataframe tbody tr th:only-of-type {\n",
       "        vertical-align: middle;\n",
       "    }\n",
       "\n",
       "    .dataframe tbody tr th {\n",
       "        vertical-align: top;\n",
       "    }\n",
       "\n",
       "    .dataframe thead th {\n",
       "        text-align: right;\n",
       "    }\n",
       "</style>\n",
       "<table border=\"1\" class=\"dataframe\">\n",
       "  <thead>\n",
       "    <tr style=\"text-align: right;\">\n",
       "      <th></th>\n",
       "      <th>wordform</th>\n",
       "      <th>doc_id</th>\n",
       "      <th>start</th>\n",
       "      <th>end</th>\n",
       "      <th>is_sublemma</th>\n",
       "    </tr>\n",
       "  </thead>\n",
       "  <tbody>\n",
       "    <tr>\n",
       "      <th>56</th>\n",
       "      <td>kõikumatus</td>\n",
       "      <td>115052015002</td>\n",
       "      <td>1</td>\n",
       "      <td>11</td>\n",
       "      <td>False</td>\n",
       "    </tr>\n",
       "    <tr>\n",
       "      <th>75</th>\n",
       "      <td>usus</td>\n",
       "      <td>115052015002</td>\n",
       "      <td>12</td>\n",
       "      <td>16</td>\n",
       "      <td>False</td>\n",
       "    </tr>\n",
       "    <tr>\n",
       "      <th>24</th>\n",
       "      <td>vankumatus</td>\n",
       "      <td>115052015002</td>\n",
       "      <td>20</td>\n",
       "      <td>30</td>\n",
       "      <td>False</td>\n",
       "    </tr>\n",
       "    <tr>\n",
       "      <th>9</th>\n",
       "      <td>tahtes</td>\n",
       "      <td>115052015002</td>\n",
       "      <td>31</td>\n",
       "      <td>37</td>\n",
       "      <td>False</td>\n",
       "    </tr>\n",
       "    <tr>\n",
       "      <th>16</th>\n",
       "      <td>kindlustada</td>\n",
       "      <td>115052015002</td>\n",
       "      <td>38</td>\n",
       "      <td>49</td>\n",
       "      <td>False</td>\n",
       "    </tr>\n",
       "  </tbody>\n",
       "</table>\n",
       "</div>"
      ],
      "text/plain": [
       "       wordform        doc_id  start  end  is_sublemma\n",
       "56   kõikumatus  115052015002      1   11        False\n",
       "75         usus  115052015002     12   16        False\n",
       "24   vankumatus  115052015002     20   30        False\n",
       "9        tahtes  115052015002     31   37        False\n",
       "16  kindlustada  115052015002     38   49        False"
      ]
     },
     "metadata": {},
     "output_type": "display_data"
    }
   ],
   "source": [
    "wordform_index = DataFrame(result['tabelid']['indeks_vormid'], columns=['wordform', 'doc_id', 'start', 'end', 'is_sublemma'])\n",
    "display(wordform_index.head(5))\n",
    "display(wordform_index.sort_values('start').head(5))"
   ]
  },
  {
   "cell_type": "code",
   "execution_count": 9,
   "id": "d38be539-4af0-4500-abc1-8b8092e8271d",
   "metadata": {},
   "outputs": [
    {
     "name": "stdout",
     "output_type": "stream",
     "text": [
      "Lemma:           põhiseaduse\n",
      "Lokatsioon:      [491, 502)\n",
      "Vastav sõnavorm: põhiseaduse\n"
     ]
    }
   ],
   "source": [
    "print(f\"Lemma:           {wordform_index.loc[1, 'wordform']}\")\n",
    "print(f\"Lokatsioon:      [{wordform_index.loc[1, 'start']}, {wordform_index.loc[1, 'end']})\")\n",
    "print(f\"Vastav sõnavorm: {text[wordform_index.loc[1, 'start']:wordform_index.loc[1, 'end']]}\")\n"
   ]
  },
  {
   "cell_type": "code",
   "execution_count": 10,
   "id": "3591f574-f7b6-40e6-9ae5-2a83006547f9",
   "metadata": {},
   "outputs": [
    {
     "data": {
      "text/html": [
       "<style type=\"text/css\">\n",
       "</style>\n",
       "<table id=\"T_b9119\">\n",
       "  <caption>Rahvahääletuse alamsõnavormid</caption>\n",
       "  <thead>\n",
       "    <tr>\n",
       "      <th class=\"blank level0\" >&nbsp;</th>\n",
       "      <th id=\"T_b9119_level0_col0\" class=\"col_heading level0 col0\" >wordform</th>\n",
       "      <th id=\"T_b9119_level0_col1\" class=\"col_heading level0 col1\" >doc_id</th>\n",
       "      <th id=\"T_b9119_level0_col2\" class=\"col_heading level0 col2\" >start</th>\n",
       "      <th id=\"T_b9119_level0_col3\" class=\"col_heading level0 col3\" >end</th>\n",
       "      <th id=\"T_b9119_level0_col4\" class=\"col_heading level0 col4\" >is_sublemma</th>\n",
       "    </tr>\n",
       "  </thead>\n",
       "  <tbody>\n",
       "    <tr>\n",
       "      <th id=\"T_b9119_level0_row0\" class=\"row_heading level0 row0\" >36</th>\n",
       "      <td id=\"T_b9119_row0_col0\" class=\"data row0 col0\" >hääletusel</td>\n",
       "      <td id=\"T_b9119_row0_col1\" class=\"data row0 col1\" >115052015002</td>\n",
       "      <td id=\"T_b9119_row0_col2\" class=\"data row0 col2\" >536</td>\n",
       "      <td id=\"T_b9119_row0_col3\" class=\"data row0 col3\" >551</td>\n",
       "      <td id=\"T_b9119_row0_col4\" class=\"data row0 col4\" >True</td>\n",
       "    </tr>\n",
       "    <tr>\n",
       "      <th id=\"T_b9119_level0_row1\" class=\"row_heading level0 row1\" >32</th>\n",
       "      <td id=\"T_b9119_row1_col0\" class=\"data row1 col0\" >rahva</td>\n",
       "      <td id=\"T_b9119_row1_col1\" class=\"data row1 col1\" >115052015002</td>\n",
       "      <td id=\"T_b9119_row1_col2\" class=\"data row1 col2\" >536</td>\n",
       "      <td id=\"T_b9119_row1_col3\" class=\"data row1 col3\" >551</td>\n",
       "      <td id=\"T_b9119_row1_col4\" class=\"data row1 col4\" >True</td>\n",
       "    </tr>\n",
       "    <tr>\n",
       "      <th id=\"T_b9119_level0_row2\" class=\"row_heading level0 row2\" >70</th>\n",
       "      <td id=\"T_b9119_row2_col0\" class=\"data row2 col0\" >rahvahääletusel</td>\n",
       "      <td id=\"T_b9119_row2_col1\" class=\"data row2 col1\" >115052015002</td>\n",
       "      <td id=\"T_b9119_row2_col2\" class=\"data row2 col2\" >536</td>\n",
       "      <td id=\"T_b9119_row2_col3\" class=\"data row2 col3\" >551</td>\n",
       "      <td id=\"T_b9119_row2_col4\" class=\"data row2 col4\" >False</td>\n",
       "    </tr>\n",
       "  </tbody>\n",
       "</table>\n"
      ],
      "text/plain": [
       "<pandas.io.formats.style.Styler at 0x11757d8b0>"
      ]
     },
     "metadata": {},
     "output_type": "display_data"
    },
    {
     "data": {
      "text/html": [
       "<style type=\"text/css\">\n",
       "</style>\n",
       "<table id=\"T_105a9\">\n",
       "  <caption>Rahvahääletuse alamsõnavormide lemmad</caption>\n",
       "  <thead>\n",
       "    <tr>\n",
       "      <th class=\"blank level0\" >&nbsp;</th>\n",
       "      <th id=\"T_105a9_level0_col0\" class=\"col_heading level0 col0\" >lemma</th>\n",
       "      <th id=\"T_105a9_level0_col1\" class=\"col_heading level0 col1\" >doc_id</th>\n",
       "      <th id=\"T_105a9_level0_col2\" class=\"col_heading level0 col2\" >start</th>\n",
       "      <th id=\"T_105a9_level0_col3\" class=\"col_heading level0 col3\" >end</th>\n",
       "      <th id=\"T_105a9_level0_col4\" class=\"col_heading level0 col4\" >is_sublemma</th>\n",
       "    </tr>\n",
       "  </thead>\n",
       "  <tbody>\n",
       "    <tr>\n",
       "      <th id=\"T_105a9_level0_row0\" class=\"row_heading level0 row0\" >59</th>\n",
       "      <td id=\"T_105a9_row0_col0\" class=\"data row0 col0\" >hääletus</td>\n",
       "      <td id=\"T_105a9_row0_col1\" class=\"data row0 col1\" >115052015002</td>\n",
       "      <td id=\"T_105a9_row0_col2\" class=\"data row0 col2\" >536</td>\n",
       "      <td id=\"T_105a9_row0_col3\" class=\"data row0 col3\" >551</td>\n",
       "      <td id=\"T_105a9_row0_col4\" class=\"data row0 col4\" >True</td>\n",
       "    </tr>\n",
       "    <tr>\n",
       "      <th id=\"T_105a9_level0_row1\" class=\"row_heading level0 row1\" >60</th>\n",
       "      <td id=\"T_105a9_row1_col0\" class=\"data row1 col0\" >rahvahääletus</td>\n",
       "      <td id=\"T_105a9_row1_col1\" class=\"data row1 col1\" >115052015002</td>\n",
       "      <td id=\"T_105a9_row1_col2\" class=\"data row1 col2\" >536</td>\n",
       "      <td id=\"T_105a9_row1_col3\" class=\"data row1 col3\" >551</td>\n",
       "      <td id=\"T_105a9_row1_col4\" class=\"data row1 col4\" >False</td>\n",
       "    </tr>\n",
       "    <tr>\n",
       "      <th id=\"T_105a9_level0_row2\" class=\"row_heading level0 row2\" >61</th>\n",
       "      <td id=\"T_105a9_row2_col0\" class=\"data row2 col0\" >rahvas</td>\n",
       "      <td id=\"T_105a9_row2_col1\" class=\"data row2 col1\" >115052015002</td>\n",
       "      <td id=\"T_105a9_row2_col2\" class=\"data row2 col2\" >536</td>\n",
       "      <td id=\"T_105a9_row2_col3\" class=\"data row2 col3\" >551</td>\n",
       "      <td id=\"T_105a9_row2_col4\" class=\"data row2 col4\" >True</td>\n",
       "    </tr>\n",
       "  </tbody>\n",
       "</table>\n"
      ],
      "text/plain": [
       "<pandas.io.formats.style.Styler at 0x106f1e190>"
      ]
     },
     "metadata": {},
     "output_type": "display_data"
    }
   ],
   "source": [
    "display(wordform_index[wordform_index['start'] == 536].sort_values('wordform').style.set_caption(\"Rahvahääletuse alamsõnavormid\"))\n",
    "display(lemma_index[lemma_index['start'] == 536].sort_values('lemma').style.set_caption(\"Rahvahääletuse alamsõnavormide lemmad\"))"
   ]
  },
  {
   "cell_type": "markdown",
   "id": "4366ef69-64e0-4c49-b14e-5e0b154c64e9",
   "metadata": {},
   "source": [
    "### Liitsõnade tabeli kirjeldus näidetena \n",
    "\n",
    "Kuna ühel sõnal võib olla mitu võimalikku algvormi, siis liitsõna eri osadele võib vastata mitu lemmat."
   ]
  },
  {
   "cell_type": "code",
   "execution_count": 11,
   "id": "d47ea59e-d39d-41ab-b7f0-7f05920d04b8",
   "metadata": {},
   "outputs": [
    {
     "data": {
      "text/html": [
       "<div>\n",
       "<style scoped>\n",
       "    .dataframe tbody tr th:only-of-type {\n",
       "        vertical-align: middle;\n",
       "    }\n",
       "\n",
       "    .dataframe tbody tr th {\n",
       "        vertical-align: top;\n",
       "    }\n",
       "\n",
       "    .dataframe thead th {\n",
       "        text-align: right;\n",
       "    }\n",
       "</style>\n",
       "<table border=\"1\" class=\"dataframe\">\n",
       "  <thead>\n",
       "    <tr style=\"text-align: right;\">\n",
       "      <th></th>\n",
       "      <th>sublemma</th>\n",
       "      <th>lemma</th>\n",
       "    </tr>\n",
       "  </thead>\n",
       "  <tbody>\n",
       "    <tr>\n",
       "      <th>3</th>\n",
       "      <td>ise</td>\n",
       "      <td>enesemääramine</td>\n",
       "    </tr>\n",
       "    <tr>\n",
       "      <th>5</th>\n",
       "      <td>määramine</td>\n",
       "      <td>enesemääramine</td>\n",
       "    </tr>\n",
       "    <tr>\n",
       "      <th>1</th>\n",
       "      <td>põhi</td>\n",
       "      <td>põhiseadus</td>\n",
       "    </tr>\n",
       "    <tr>\n",
       "      <th>2</th>\n",
       "      <td>seaduma</td>\n",
       "      <td>põhiseadus</td>\n",
       "    </tr>\n",
       "    <tr>\n",
       "      <th>7</th>\n",
       "      <td>seadus</td>\n",
       "      <td>põhiseadus</td>\n",
       "    </tr>\n",
       "    <tr>\n",
       "      <th>0</th>\n",
       "      <td>hääletus</td>\n",
       "      <td>rahvahääletus</td>\n",
       "    </tr>\n",
       "    <tr>\n",
       "      <th>4</th>\n",
       "      <td>rahvas</td>\n",
       "      <td>rahvahääletus</td>\n",
       "    </tr>\n",
       "    <tr>\n",
       "      <th>6</th>\n",
       "      <td>hääletu</td>\n",
       "      <td>rahvahääletus</td>\n",
       "    </tr>\n",
       "  </tbody>\n",
       "</table>\n",
       "</div>"
      ],
      "text/plain": [
       "    sublemma           lemma\n",
       "3        ise  enesemääramine\n",
       "5  määramine  enesemääramine\n",
       "1       põhi      põhiseadus\n",
       "2    seaduma      põhiseadus\n",
       "7     seadus      põhiseadus\n",
       "0   hääletus   rahvahääletus\n",
       "4     rahvas   rahvahääletus\n",
       "6    hääletu   rahvahääletus"
      ]
     },
     "metadata": {},
     "output_type": "display_data"
    }
   ],
   "source": [
    "compound_words = DataFrame(result['tabelid']['liitsõnad'], columns=['sublemma', 'lemma'])\n",
    "display(compound_words.sort_values('lemma'))"
   ]
  },
  {
   "cell_type": "markdown",
   "id": "1aef721f-4fa9-4bb2-9671-77f86f4f9adf",
   "metadata": {},
   "source": [
    "### Võimalike kirjavigade tabeli kirjeldus näidetena\n",
    "\n",
    "Teades tekstides olevaid sõnavorme ning tüüpilisemaid viise kuidas inimesed kirjavigu teevad saab leida, millised vigaste otsisõnadega päringud peaksid andma tulemuse. Kuna pole võimalik ette näha, mis vormis otsisõna kirjutatud on, siis on tabelis kõikvõimalikud sõnavormid, mis on saadud tekstides esinevate sõnade algvormide käänamisest ja pööramisest. Oluline on tähele panna, et üks vigane vorm võib vastata mitmele korrektsele sõnavormile ning isegi mitmele korrektsele algvormile."
   ]
  },
  {
   "cell_type": "code",
   "execution_count": 12,
   "id": "056f5a17-b00a-4a3b-bda3-8f6fe48e329c",
   "metadata": {},
   "outputs": [
    {
     "data": {
      "text/html": [
       "<div>\n",
       "<style scoped>\n",
       "    .dataframe tbody tr th:only-of-type {\n",
       "        vertical-align: middle;\n",
       "    }\n",
       "\n",
       "    .dataframe tbody tr th {\n",
       "        vertical-align: top;\n",
       "    }\n",
       "\n",
       "    .dataframe thead th {\n",
       "        text-align: right;\n",
       "    }\n",
       "</style>\n",
       "<table border=\"1\" class=\"dataframe\">\n",
       "  <thead>\n",
       "    <tr style=\"text-align: right;\">\n",
       "      <th></th>\n",
       "      <th>misspelling</th>\n",
       "      <th>wordform</th>\n",
       "    </tr>\n",
       "  </thead>\n",
       "  <tbody>\n",
       "    <tr>\n",
       "      <th>52023</th>\n",
       "      <td>EEesti</td>\n",
       "      <td>Eesti</td>\n",
       "    </tr>\n",
       "    <tr>\n",
       "      <th>8552</th>\n",
       "      <td>EEestiga</td>\n",
       "      <td>Eestiga</td>\n",
       "    </tr>\n",
       "    <tr>\n",
       "      <th>64834</th>\n",
       "      <td>EEestiks</td>\n",
       "      <td>Eestiks</td>\n",
       "    </tr>\n",
       "    <tr>\n",
       "      <th>34762</th>\n",
       "      <td>EEestil</td>\n",
       "      <td>Eestil</td>\n",
       "    </tr>\n",
       "    <tr>\n",
       "      <th>63410</th>\n",
       "      <td>EEestile</td>\n",
       "      <td>Eestile</td>\n",
       "    </tr>\n",
       "  </tbody>\n",
       "</table>\n",
       "</div>"
      ],
      "text/plain": [
       "      misspelling wordform\n",
       "52023      EEesti    Eesti\n",
       "8552     EEestiga  Eestiga\n",
       "64834    EEestiks  Eestiks\n",
       "34762     EEestil   Eestil\n",
       "63410    EEestile  Eestile"
      ]
     },
     "metadata": {},
     "output_type": "display_data"
    }
   ],
   "source": [
    "misspellings = DataFrame(result['tabelid']['kirjavead'], columns=['misspelling', 'wordform'])\n",
    "display(misspellings.sort_values('misspelling').head(5))"
   ]
  },
  {
   "cell_type": "code",
   "execution_count": 13,
   "id": "4395ca97-b3c2-40c3-88be-9f4edbaf0b16",
   "metadata": {},
   "outputs": [
    {
     "data": {
      "text/html": [
       "<style type=\"text/css\">\n",
       "</style>\n",
       "<table id=\"T_4769f\">\n",
       "  <caption>Mitmele sõnavormile vastavad kirjavead</caption>\n",
       "  <thead>\n",
       "    <tr>\n",
       "      <th class=\"blank level0\" >&nbsp;</th>\n",
       "      <th id=\"T_4769f_level0_col0\" class=\"col_heading level0 col0\" >count</th>\n",
       "      <th id=\"T_4769f_level0_col1\" class=\"col_heading level0 col1\" >misspelling</th>\n",
       "    </tr>\n",
       "    <tr>\n",
       "      <th class=\"index_name level0\" >misspelling</th>\n",
       "      <th class=\"blank col0\" >&nbsp;</th>\n",
       "      <th class=\"blank col1\" >&nbsp;</th>\n",
       "    </tr>\n",
       "  </thead>\n",
       "  <tbody>\n",
       "    <tr>\n",
       "      <th id=\"T_4769f_level0_row0\" class=\"row_heading level0 row0\" >arendat</th>\n",
       "      <td id=\"T_4769f_row0_col0\" class=\"data row0 col0\" >4</td>\n",
       "      <td id=\"T_4769f_row0_col1\" class=\"data row0 col1\" >arendate, arendata, arendati, arendad</td>\n",
       "    </tr>\n",
       "    <tr>\n",
       "      <th id=\"T_4769f_level0_row1\" class=\"row_heading level0 row1\" >jõustunutle</th>\n",
       "      <td id=\"T_4769f_row1_col0\" class=\"data row1 col0\" >2</td>\n",
       "      <td id=\"T_4769f_row1_col1\" class=\"data row1 col1\" >jõustunutele, jõustunutel</td>\n",
       "    </tr>\n",
       "    <tr>\n",
       "      <th id=\"T_4769f_level0_row2\" class=\"row_heading level0 row2\" >kaitsa</th>\n",
       "      <td id=\"T_4769f_row2_col0\" class=\"data row2 col0\" >2</td>\n",
       "      <td id=\"T_4769f_row2_col1\" class=\"data row2 col1\" >kaitsma, kaitsta</td>\n",
       "    </tr>\n",
       "    <tr>\n",
       "      <th id=\"T_4769f_level0_row3\" class=\"row_heading level0 row3\" >taaksite</th>\n",
       "      <td id=\"T_4769f_row3_col0\" class=\"data row3 col0\" >2</td>\n",
       "      <td id=\"T_4769f_row3_col1\" class=\"data row3 col1\" >tagaksite, tahaksite</td>\n",
       "    </tr>\n",
       "    <tr>\n",
       "      <th id=\"T_4769f_level0_row4\" class=\"row_heading level0 row4\" >keelsse</th>\n",
       "      <td id=\"T_4769f_row4_col0\" class=\"data row4 col0\" >2</td>\n",
       "      <td id=\"T_4769f_row4_col1\" class=\"data row4 col1\" >keelisse, keelesse</td>\n",
       "    </tr>\n",
       "  </tbody>\n",
       "</table>\n"
      ],
      "text/plain": [
       "<pandas.io.formats.style.Styler at 0x117573c70>"
      ]
     },
     "metadata": {},
     "output_type": "display_data"
    }
   ],
   "source": [
    "display(misspellings\n",
    "        .groupby('misspelling')\n",
    "        .aggregate(count=('misspelling', len), misspelling=('wordform',lambda x: ', '.join(set(x))))\n",
    "        .pipe(lambda df: df[df['count'] > 1])\n",
    "        .sample(5)\n",
    "        .style.set_caption(\"Mitmele sõnavormile vastavad kirjavead\"))"
   ]
  },
  {
   "cell_type": "markdown",
   "id": "c636295e-4a06-4dea-80fd-caac4ab46fd1",
   "metadata": {},
   "source": [
    "### Lemmade kõikide vormide tabeli kirjeldus näidetena\n",
    "\n",
    "Selles tabelis on kõikvõimalikud tekstides esinevate sõnade algvormide käänamisel ja pööramisel saadud vormid. Tabelis olev kaal näitab sõnavormi sagedust tekstides."
   ]
  },
  {
   "cell_type": "code",
   "execution_count": 14,
   "id": "68b5add8-9801-4c6c-bb7b-0e515ed833eb",
   "metadata": {},
   "outputs": [
    {
     "data": {
      "text/html": [
       "<div>\n",
       "<style scoped>\n",
       "    .dataframe tbody tr th:only-of-type {\n",
       "        vertical-align: middle;\n",
       "    }\n",
       "\n",
       "    .dataframe tbody tr th {\n",
       "        vertical-align: top;\n",
       "    }\n",
       "\n",
       "    .dataframe thead th {\n",
       "        text-align: right;\n",
       "    }\n",
       "</style>\n",
       "<table border=\"1\" class=\"dataframe\">\n",
       "  <thead>\n",
       "    <tr style=\"text-align: right;\">\n",
       "      <th></th>\n",
       "      <th>wordform</th>\n",
       "      <th>weight</th>\n",
       "      <th>lemma</th>\n",
       "    </tr>\n",
       "  </thead>\n",
       "  <tbody>\n",
       "    <tr>\n",
       "      <th>768</th>\n",
       "      <td>on</td>\n",
       "      <td>3</td>\n",
       "      <td>olema</td>\n",
       "    </tr>\n",
       "    <tr>\n",
       "      <th>2853</th>\n",
       "      <td>eesti</td>\n",
       "      <td>3</td>\n",
       "      <td>eesti</td>\n",
       "    </tr>\n",
       "    <tr>\n",
       "      <th>1093</th>\n",
       "      <td>eesti</td>\n",
       "      <td>3</td>\n",
       "      <td>Eesti</td>\n",
       "    </tr>\n",
       "    <tr>\n",
       "      <th>1036</th>\n",
       "      <td>Eesti</td>\n",
       "      <td>2</td>\n",
       "      <td>Eesti</td>\n",
       "    </tr>\n",
       "    <tr>\n",
       "      <th>2144</th>\n",
       "      <td>rahva</td>\n",
       "      <td>2</td>\n",
       "      <td>rahvas</td>\n",
       "    </tr>\n",
       "  </tbody>\n",
       "</table>\n",
       "</div>"
      ],
      "text/plain": [
       "     wordform  weight   lemma\n",
       "768        on       3   olema\n",
       "2853    eesti       3   eesti\n",
       "1093    eesti       3   Eesti\n",
       "1036    Eesti       2   Eesti\n",
       "2144    rahva       2  rahvas"
      ]
     },
     "metadata": {},
     "output_type": "display_data"
    }
   ],
   "source": [
    "all_wordforms = DataFrame(result['tabelid']['lemma_kõik_vormid'], columns=['wordform', 'weight', 'lemma'])\n",
    "display(all_wordforms.sort_values('weight', ascending=False).head(5))"
   ]
  },
  {
   "cell_type": "markdown",
   "id": "4f146b67-85ba-4916-9636-940bac8144e7",
   "metadata": {},
   "source": [
    "### Lemmade kõikide tekstis esinevate vormide tabeli kirjeldus näidetena\n",
    "\n",
    "Selles tabelis on kõikvõimalikud tekstides esinevate sõnavormide sagedus.\n"
   ]
  },
  {
   "cell_type": "code",
   "execution_count": 15,
   "id": "7f813a29-44dc-4353-85d9-3ca22b2ebc64",
   "metadata": {},
   "outputs": [
    {
     "data": {
      "text/html": [
       "<div>\n",
       "<style scoped>\n",
       "    .dataframe tbody tr th:only-of-type {\n",
       "        vertical-align: middle;\n",
       "    }\n",
       "\n",
       "    .dataframe tbody tr th {\n",
       "        vertical-align: top;\n",
       "    }\n",
       "\n",
       "    .dataframe thead th {\n",
       "        text-align: right;\n",
       "    }\n",
       "</style>\n",
       "<table border=\"1\" class=\"dataframe\">\n",
       "  <thead>\n",
       "    <tr style=\"text-align: right;\">\n",
       "      <th></th>\n",
       "      <th>wordform</th>\n",
       "      <th>weight</th>\n",
       "      <th>lemma</th>\n",
       "    </tr>\n",
       "  </thead>\n",
       "  <tbody>\n",
       "    <tr>\n",
       "      <th>61</th>\n",
       "      <td>eesti</td>\n",
       "      <td>3</td>\n",
       "      <td>eesti</td>\n",
       "    </tr>\n",
       "    <tr>\n",
       "      <th>65</th>\n",
       "      <td>Eesti</td>\n",
       "      <td>3</td>\n",
       "      <td>eesti</td>\n",
       "    </tr>\n",
       "    <tr>\n",
       "      <th>58</th>\n",
       "      <td>olema</td>\n",
       "      <td>3</td>\n",
       "      <td>on</td>\n",
       "    </tr>\n",
       "    <tr>\n",
       "      <th>5</th>\n",
       "      <td>aasta</td>\n",
       "      <td>2</td>\n",
       "      <td>aasta</td>\n",
       "    </tr>\n",
       "    <tr>\n",
       "      <th>6</th>\n",
       "      <td>seadus</td>\n",
       "      <td>2</td>\n",
       "      <td>seaduse</td>\n",
       "    </tr>\n",
       "  </tbody>\n",
       "</table>\n",
       "</div>"
      ],
      "text/plain": [
       "   wordform  weight    lemma\n",
       "61    eesti       3    eesti\n",
       "65    Eesti       3    eesti\n",
       "58    olema       3       on\n",
       "5     aasta       2    aasta\n",
       "6    seadus       2  seaduse"
      ]
     },
     "metadata": {},
     "output_type": "display_data"
    }
   ],
   "source": [
    "existing_wordforms = DataFrame(result['tabelid']['lemma_korpuse_vormid'], columns=['wordform', 'weight', 'lemma'])\n",
    "display(existing_wordforms.sort_values('weight', ascending=False).head(5))"
   ]
  },
  {
   "cell_type": "markdown",
   "id": "c21a0afa-9ebe-496f-9f8d-481b2ac46867",
   "metadata": {},
   "source": [
    "## II. Indekseerimisteenuse kasutamine mitme dokumendi jaoks\n",
    "\n",
    "Sama veebiteenust saab kasutada ka mitme dokumandi korraga indekseerimiseks. Seda on mõistlik teha vähendamaks veebipäringute arvu ja väljundite summaarse andmemahu vähendamiseks. Ainsaks probleemiks on sisendi suurus. Vaikimisi on veebiteenus seadistatud nii, et kogusisendi suurus ei tohiks olla üle 10 megabaidi. \n",
    "\n",
    "**Sisendi suuruse muutmine:** TODO"
   ]
  },
  {
   "cell_type": "code",
   "execution_count": 19,
   "id": "040f86c3-02ee-4425-82fc-0191a623c86d",
   "metadata": {},
   "outputs": [],
   "source": [
    "def index_documents(doc_ids: List[str], texts: List[str], disambiguation: bool = False, size_limit:int = 10 * 10**6):\n",
    "    \"\"\"\n",
    "    Uses web service to index documents for further processing.\n",
    "    Raises value error if the input creates too long input for the webservice.\n",
    "    Size limit is given in bytes.\n",
    "\n",
    "    Returns a JSON object that can be further modified or serialised to text.\n",
    "    All indices are inside the field 'tabelid' which contains seven subfields.\n",
    "\n",
    "    Two out of these correspond to actual word locations:\n",
    "    - Subfield 'indeks_lemmad' contains information about lemmas in an unspecified order. \n",
    "    - Subfield 'indeks_vormid' contains information about wordforms in an unspecified order. \n",
    "\n",
    "    The remaining four contain aggregated information about the document:  \n",
    "    - Subfield 'liitsõnad' contains what subwords compound words in the document contain. \n",
    "    - Subfield 'kirjavead' contains potential spelling mistakes for each wordform.\n",
    "    - Subfield 'lemma_kõik_vormid' contains all potential wordform for each lemma.\n",
    "    - Subfield 'lemma_korpuse_vormid' contains all wordform for each lemma that exists in the document.\n",
    "    \"\"\"\n",
    "        \n",
    "    ANALYZER_QUERY = \"https://smart-search.tartunlp.ai/api/create_jsontables/document\"\n",
    "    HEADERS = {\"Content-Type\": \"application/json\"}\n",
    "    POST_DATA_TEMPLATE = {'sources': {id: {'content': text} for id, text in zip(doc_ids, texts)}} \n",
    "\n",
    "    # Abort if the input is too long\n",
    "    byte_size =len(json.dumps(POST_DATA_TEMPLATE, ensure_ascii=False).encode(\"utf-8\"))\n",
    "    if byte_size > size_limit:\n",
    "        raise ValueError('Input is too long')\n",
    "\n",
    "    response = requests.post(ANALYZER_QUERY, json=POST_DATA_TEMPLATE, headers=HEADERS)\n",
    "    assert response.ok, \"Webservice failed\"\n",
    "\n",
    "    return response.json()"
   ]
  },
  {
   "cell_type": "code",
   "execution_count": 20,
   "id": "c15ffcc5-5eed-49c7-8a2d-baeebed8d728",
   "metadata": {},
   "outputs": [],
   "source": [
    "doc_ids=['25055', '964508', '202122020001', '123042022001']\n",
    "texts = [\"Rahvusvahelise patendiklassifikatsiooni Strasbourg'i kokkuleppega ühinemise seadus\", \n",
    "         \"Tuumaohutuse konventsiooniga ühinemise seadus\",\n",
    "         \"Eesti Vabariigi ja Euroopa Tuumauuringute Organisatsiooni(CERN) vahelise CERN-iga \"\n",
    "         \"ühinemise eelses staadiumis assotsieerunud liikme staatuse andmist käsitleva kokkuleppe ratifitseerimise seadus\",\n",
    "         \"Seadus «Riigi 2002. aasta lisaeelarve»\"] \n",
    "\n",
    "result = index_documents(doc_ids, texts)"
   ]
  },
  {
   "cell_type": "code",
   "execution_count": 21,
   "id": "9a207852-5f30-4cd0-a619-1052c0ae22d0",
   "metadata": {},
   "outputs": [
    {
     "data": {
      "text/html": [
       "<div>\n",
       "<style scoped>\n",
       "    .dataframe tbody tr th:only-of-type {\n",
       "        vertical-align: middle;\n",
       "    }\n",
       "\n",
       "    .dataframe tbody tr th {\n",
       "        vertical-align: top;\n",
       "    }\n",
       "\n",
       "    .dataframe thead th {\n",
       "        text-align: right;\n",
       "    }\n",
       "</style>\n",
       "<table border=\"1\" class=\"dataframe\">\n",
       "  <thead>\n",
       "    <tr style=\"text-align: right;\">\n",
       "      <th></th>\n",
       "      <th>wordform</th>\n",
       "      <th>doc_id</th>\n",
       "      <th>start</th>\n",
       "      <th>end</th>\n",
       "      <th>is_sublemma</th>\n",
       "    </tr>\n",
       "  </thead>\n",
       "  <tbody>\n",
       "    <tr>\n",
       "      <th>7</th>\n",
       "      <td>2002.</td>\n",
       "      <td>123042022001</td>\n",
       "      <td>14</td>\n",
       "      <td>19</td>\n",
       "      <td>False</td>\n",
       "    </tr>\n",
       "    <tr>\n",
       "      <th>42</th>\n",
       "      <td>CERN</td>\n",
       "      <td>202122020001</td>\n",
       "      <td>58</td>\n",
       "      <td>62</td>\n",
       "      <td>False</td>\n",
       "    </tr>\n",
       "    <tr>\n",
       "      <th>17</th>\n",
       "      <td>CERNiga</td>\n",
       "      <td>202122020001</td>\n",
       "      <td>73</td>\n",
       "      <td>81</td>\n",
       "      <td>False</td>\n",
       "    </tr>\n",
       "    <tr>\n",
       "      <th>12</th>\n",
       "      <td>Eesti</td>\n",
       "      <td>202122020001</td>\n",
       "      <td>0</td>\n",
       "      <td>5</td>\n",
       "      <td>False</td>\n",
       "    </tr>\n",
       "    <tr>\n",
       "      <th>46</th>\n",
       "      <td>Euroopa</td>\n",
       "      <td>202122020001</td>\n",
       "      <td>19</td>\n",
       "      <td>26</td>\n",
       "      <td>False</td>\n",
       "    </tr>\n",
       "    <tr>\n",
       "      <th>14</th>\n",
       "      <td>Strasbourg’</td>\n",
       "      <td>25055</td>\n",
       "      <td>40</td>\n",
       "      <td>52</td>\n",
       "      <td>False</td>\n",
       "    </tr>\n",
       "    <tr>\n",
       "      <th>20</th>\n",
       "      <td>aasta</td>\n",
       "      <td>123042022001</td>\n",
       "      <td>20</td>\n",
       "      <td>25</td>\n",
       "      <td>False</td>\n",
       "    </tr>\n",
       "    <tr>\n",
       "      <th>38</th>\n",
       "      <td>andmist</td>\n",
       "      <td>202122020001</td>\n",
       "      <td>141</td>\n",
       "      <td>148</td>\n",
       "      <td>False</td>\n",
       "    </tr>\n",
       "    <tr>\n",
       "      <th>48</th>\n",
       "      <td>arve</td>\n",
       "      <td>123042022001</td>\n",
       "      <td>26</td>\n",
       "      <td>37</td>\n",
       "      <td>True</td>\n",
       "    </tr>\n",
       "    <tr>\n",
       "      <th>49</th>\n",
       "      <td>assotsieerunud</td>\n",
       "      <td>202122020001</td>\n",
       "      <td>110</td>\n",
       "      <td>124</td>\n",
       "      <td>False</td>\n",
       "    </tr>\n",
       "  </tbody>\n",
       "</table>\n",
       "</div>"
      ],
      "text/plain": [
       "          wordform        doc_id  start  end  is_sublemma\n",
       "7            2002.  123042022001     14   19        False\n",
       "42            CERN  202122020001     58   62        False\n",
       "17         CERNiga  202122020001     73   81        False\n",
       "12           Eesti  202122020001      0    5        False\n",
       "46         Euroopa  202122020001     19   26        False\n",
       "14     Strasbourg’         25055     40   52        False\n",
       "20           aasta  123042022001     20   25        False\n",
       "38         andmist  202122020001    141  148        False\n",
       "48            arve  123042022001     26   37         True\n",
       "49  assotsieerunud  202122020001    110  124        False"
      ]
     },
     "metadata": {},
     "output_type": "display_data"
    }
   ],
   "source": [
    "wordform_index = DataFrame(result['tabelid']['indeks_vormid'], columns=['wordform', 'doc_id', 'start', 'end', 'is_sublemma'])\n",
    "display(wordform_index.sort_values('wordform')[:10])"
   ]
  },
  {
   "cell_type": "code",
   "execution_count": 22,
   "id": "0d524dc3-fa0e-4ef4-b071-834175789571",
   "metadata": {},
   "outputs": [
    {
     "data": {
      "text/html": [
       "<div>\n",
       "<style scoped>\n",
       "    .dataframe tbody tr th:only-of-type {\n",
       "        vertical-align: middle;\n",
       "    }\n",
       "\n",
       "    .dataframe tbody tr th {\n",
       "        vertical-align: top;\n",
       "    }\n",
       "\n",
       "    .dataframe thead th {\n",
       "        text-align: right;\n",
       "    }\n",
       "</style>\n",
       "<table border=\"1\" class=\"dataframe\">\n",
       "  <thead>\n",
       "    <tr style=\"text-align: right;\">\n",
       "      <th></th>\n",
       "      <th>lemma</th>\n",
       "      <th>doc_id</th>\n",
       "      <th>start</th>\n",
       "      <th>end</th>\n",
       "      <th>is_sublemma</th>\n",
       "    </tr>\n",
       "  </thead>\n",
       "  <tbody>\n",
       "    <tr>\n",
       "      <th>8</th>\n",
       "      <td>2002.</td>\n",
       "      <td>123042022001</td>\n",
       "      <td>14</td>\n",
       "      <td>19</td>\n",
       "      <td>False</td>\n",
       "    </tr>\n",
       "    <tr>\n",
       "      <th>44</th>\n",
       "      <td>CERN</td>\n",
       "      <td>202122020001</td>\n",
       "      <td>73</td>\n",
       "      <td>81</td>\n",
       "      <td>False</td>\n",
       "    </tr>\n",
       "    <tr>\n",
       "      <th>56</th>\n",
       "      <td>CERN</td>\n",
       "      <td>202122020001</td>\n",
       "      <td>58</td>\n",
       "      <td>62</td>\n",
       "      <td>False</td>\n",
       "    </tr>\n",
       "    <tr>\n",
       "      <th>17</th>\n",
       "      <td>Eesti</td>\n",
       "      <td>202122020001</td>\n",
       "      <td>0</td>\n",
       "      <td>5</td>\n",
       "      <td>False</td>\n",
       "    </tr>\n",
       "    <tr>\n",
       "      <th>59</th>\n",
       "      <td>Euroopa</td>\n",
       "      <td>202122020001</td>\n",
       "      <td>19</td>\n",
       "      <td>26</td>\n",
       "      <td>False</td>\n",
       "    </tr>\n",
       "    <tr>\n",
       "      <th>40</th>\n",
       "      <td>Strasbourg</td>\n",
       "      <td>25055</td>\n",
       "      <td>40</td>\n",
       "      <td>52</td>\n",
       "      <td>False</td>\n",
       "    </tr>\n",
       "    <tr>\n",
       "      <th>30</th>\n",
       "      <td>aasta</td>\n",
       "      <td>123042022001</td>\n",
       "      <td>20</td>\n",
       "      <td>25</td>\n",
       "      <td>False</td>\n",
       "    </tr>\n",
       "    <tr>\n",
       "      <th>39</th>\n",
       "      <td>andmine</td>\n",
       "      <td>202122020001</td>\n",
       "      <td>141</td>\n",
       "      <td>148</td>\n",
       "      <td>False</td>\n",
       "    </tr>\n",
       "    <tr>\n",
       "      <th>28</th>\n",
       "      <td>arv</td>\n",
       "      <td>123042022001</td>\n",
       "      <td>26</td>\n",
       "      <td>37</td>\n",
       "      <td>True</td>\n",
       "    </tr>\n",
       "    <tr>\n",
       "      <th>55</th>\n",
       "      <td>arve</td>\n",
       "      <td>123042022001</td>\n",
       "      <td>26</td>\n",
       "      <td>37</td>\n",
       "      <td>True</td>\n",
       "    </tr>\n",
       "  </tbody>\n",
       "</table>\n",
       "</div>"
      ],
      "text/plain": [
       "         lemma        doc_id  start  end  is_sublemma\n",
       "8        2002.  123042022001     14   19        False\n",
       "44        CERN  202122020001     73   81        False\n",
       "56        CERN  202122020001     58   62        False\n",
       "17       Eesti  202122020001      0    5        False\n",
       "59     Euroopa  202122020001     19   26        False\n",
       "40  Strasbourg         25055     40   52        False\n",
       "30       aasta  123042022001     20   25        False\n",
       "39     andmine  202122020001    141  148        False\n",
       "28         arv  123042022001     26   37         True\n",
       "55        arve  123042022001     26   37         True"
      ]
     },
     "metadata": {},
     "output_type": "display_data"
    }
   ],
   "source": [
    "lemma_index = DataFrame(result['tabelid']['indeks_lemmad'], columns=['lemma', 'doc_id', 'start', 'end', 'is_sublemma'])\n",
    "display(lemma_index.sort_values('lemma')[:10])"
   ]
  },
  {
   "cell_type": "markdown",
   "id": "e3713e43-45b0-4ccd-b8e4-352a08068895",
   "metadata": {},
   "source": [
    "**Näide pikkusepiirangu rakendumisest**"
   ]
  },
  {
   "cell_type": "code",
   "execution_count": 23,
   "id": "dbb23b3a-720f-494e-a3be-4f6b1eb79f11",
   "metadata": {},
   "outputs": [
    {
     "name": "stdout",
     "output_type": "stream",
     "text": [
      "Input is too long\n"
     ]
    }
   ],
   "source": [
    "try:\n",
    "    index_documents(doc_ids, texts, size_limit=10)\n",
    "except ValueError as e:\n",
    "    print(e)"
   ]
  },
  {
   "cell_type": "markdown",
   "id": "d1cdcadd-d937-4b91-a99f-0373fc7bc5cf",
   "metadata": {},
   "source": [
    "## III. Riigiteataja pealkirjade indekseerimine\n",
    "\n",
    "Lihtsuse ja selguse mõttes indekseerime dokumente järjestikku kombineerides dokumentide pealkirjad 1000 elemendilisteks gruppideks ning salvestame tulemused kataloogi `results/document_indeks`. Praktikas oleks suuremate mahtude korral mõistlik teha indekseerimist paraleelselt nii, et igale skriptile vastaks oma veebiteenuse lõim. Näiteid selle kohta leiab [smart-search repost](???)."
   ]
  },
  {
   "cell_type": "code",
   "execution_count": 24,
   "id": "95e42dd0-f509-4fd8-869f-a6864a17b9b1",
   "metadata": {},
   "outputs": [],
   "source": [
    "sources = {}\n",
    "sources['state_laws'] = read_csv('../results/cleaned_texts/state_laws.csv', header=0)\n",
    "sources['government_regulations'] = read_csv('../results/cleaned_texts/government_regulations.csv', header=0)\n",
    "sources['local_government_acts'] = read_csv('../results/cleaned_texts/local_government_acts.csv', header=0)\n",
    "sources['government_orders'] = read_csv('../results/cleaned_texts/government_orders.csv', header=0)"
   ]
  },
  {
   "cell_type": "code",
   "execution_count": 51,
   "id": "bf5018d0-930d-424c-a053-033c5ea2c541",
   "metadata": {},
   "outputs": [
    {
     "name": "stdout",
     "output_type": "stream",
     "text": [
      "Sisendfail: state_laws.csv (4730 rida)\n"
     ]
    },
    {
     "data": {
      "application/vnd.jupyter.widget-view+json": {
       "model_id": "a3303781d58642a29f2ed67296e4abf6",
       "version_major": 2,
       "version_minor": 0
      },
      "text/plain": [
       "  0%|          | 0/5 [00:00<?, ?it/s]"
      ]
     },
     "metadata": {},
     "output_type": "display_data"
    },
    {
     "name": "stdout",
     "output_type": "stream",
     "text": [
      "Sisendfail: government_regulations.csv (12609 rida)\n"
     ]
    },
    {
     "data": {
      "application/vnd.jupyter.widget-view+json": {
       "model_id": "3cd9797ec4754923bbdc855784be9d47",
       "version_major": 2,
       "version_minor": 0
      },
      "text/plain": [
       "  0%|          | 0/13 [00:00<?, ?it/s]"
      ]
     },
     "metadata": {},
     "output_type": "display_data"
    },
    {
     "name": "stdout",
     "output_type": "stream",
     "text": [
      "Sisendfail: local_government_acts.csv (36525 rida)\n"
     ]
    },
    {
     "data": {
      "application/vnd.jupyter.widget-view+json": {
       "model_id": "897b66fb684c4c9eb2b02fa2aefb2f84",
       "version_major": 2,
       "version_minor": 0
      },
      "text/plain": [
       "  0%|          | 0/37 [00:00<?, ?it/s]"
      ]
     },
     "metadata": {},
     "output_type": "display_data"
    },
    {
     "name": "stdout",
     "output_type": "stream",
     "text": [
      "Sisendfail: government_orders.csv (4973 rida)\n"
     ]
    },
    {
     "data": {
      "application/vnd.jupyter.widget-view+json": {
       "model_id": "79d9826462d748a89dc1bc18e347c315",
       "version_major": 2,
       "version_minor": 0
      },
      "text/plain": [
       "  0%|          | 0/5 [00:00<?, ?it/s]"
      ]
     },
     "metadata": {},
     "output_type": "display_data"
    }
   ],
   "source": [
    "BATCH_SIZE = 1000\n",
    "OUTPUT_DIR = '../results/document_index/'\n",
    "for name, source in sources.items():\n",
    "    print(f'Sisendfail: {name}.csv ({len(source)} rida)')\n",
    "    \n",
    "    batch_count = math.ceil(len(source)/BATCH_SIZE)\n",
    "    for k in tqdm(range(batch_count)):\n",
    "        batch = source.loc[k*BATCH_SIZE:(k+1)*BATCH_SIZE, ['global_id', 'document_title']]\n",
    "        #result = index_documents(batch['global_id'], batch['document_title'])\n",
    "        result = {'kala': 5} \n",
    "        with open(f'{OUTPUT_DIR}{name}_{k:03d}.json', 'w') as output:\n",
    "            json.dump(result, output)    "
   ]
  },
  {
   "cell_type": "markdown",
   "id": "e81296c1-2617-4e8a-bca2-556d047bca94",
   "metadata": {},
   "source": [
    "### Uute pealkirjade indekseerimine\n",
    "\n",
    "Uute dokumentide lisandumisel tekib vajadus neid indekseerida. Seda saab teha analoogselt pealkirjade indekseerimisega ning seejärel lisada uued andmed päringulaiendajasse. Seda saab põhimõtteliselt teha kahel moel. Esiteks võib teha kogu analüüsi uuest. Teiseks võib teha analüüsi vaid uute dokumentide peal. Indekseerimisväljund on selline, et seda saab kasutada otse olemasoleva päringulaiendaja sisendi uuendamiseks. \n",
    "\n"
   ]
  }
 ],
 "metadata": {
  "kernelspec": {
   "display_name": "Python 3 (ipykernel)",
   "language": "python",
   "name": "python3"
  },
  "language_info": {
   "codemirror_mode": {
    "name": "ipython",
    "version": 3
   },
   "file_extension": ".py",
   "mimetype": "text/x-python",
   "name": "python",
   "nbconvert_exporter": "python",
   "pygments_lexer": "ipython3",
   "version": "3.9.18"
  }
 },
 "nbformat": 4,
 "nbformat_minor": 5
}
