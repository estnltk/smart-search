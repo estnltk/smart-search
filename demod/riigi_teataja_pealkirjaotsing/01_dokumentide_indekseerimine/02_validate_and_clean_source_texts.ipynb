{
 "cells": [
  {
   "cell_type": "markdown",
   "id": "4672964e-c85c-49f1-a157-f0ad6779a4e7",
   "metadata": {},
   "source": [
    "# Sisendtekstide valideerimine ja puhastamine\n",
    "\n",
    "Tekstide puhastamiseks ja valideerimiseks on mitmeid viise. \n",
    "Üks lihtsamaid võimalusi on kõigepealt teha tekstides standardsed asendused ning seejärel kontrollida tulemust vaadates sõnastuse tulemusena tekkivate sõnavormide sagedust ning otsides neist võimalikke erindeid.  \n"
   ]
  },
  {
   "cell_type": "code",
   "execution_count": 1,
   "id": "08adf2f7-e1aa-4a4a-8376-423da3c553fc",
   "metadata": {},
   "outputs": [],
   "source": [
    "import re\n",
    "import math\n",
    "import time\n",
    "import requests\n",
    "import datetime\n",
    "import urllib.parse\n",
    "\n",
    "from datetime import date\n",
    "from pandas import DataFrame \n",
    "from pandas import read_csv\n",
    "from pandas import concat\n",
    "from tqdm.auto import tqdm"
   ]
  },
  {
   "cell_type": "markdown",
   "id": "7b9d5c3f-4e4c-4375-a61c-c50fa531c91a",
   "metadata": {},
   "source": [
    "## I. Tekstidele rakendatavad standardsed normaliseerimisvõtted\n",
    "\n",
    "Asendame kõik standardsed sõnaeraldajad tühikuga ning eraldame kirjavahemärgid mõlemalt poolt tühikuga.\n",
    "Kõik standardsed loomuliku keele töötluse vahendid teevad rohkem analoogseid teisendusi. \n",
    "Meie eesmärk siin on teha need asendused lihtsustamaks teksti, et muude vigade tuvastamine oleks lihtsam.  "
   ]
  },
  {
   "cell_type": "code",
   "execution_count": 2,
   "id": "80fc5222-81bc-4e66-8986-a52612b01382",
   "metadata": {},
   "outputs": [],
   "source": [
    "sources = {}\n",
    "sources['state_laws'] = read_csv('../results/source_texts/state_laws.csv', header=0)\n",
    "sources['government_regulations'] = read_csv('../results/source_texts/government_regulations.csv', header=0)\n",
    "sources['local_government_acts'] = read_csv('../results/source_texts/local_government_acts.csv', header=0)\n",
    "sources['government_orders'] = read_csv('../results/source_texts/government_orders.csv', header=0)"
   ]
  },
  {
   "cell_type": "code",
   "execution_count": 3,
   "id": "ff471207-004a-4f41-8cef-b29865de624d",
   "metadata": {},
   "outputs": [],
   "source": [
    "PUNCTUATION_MARK = '[\\.,:;!?]'\n",
    "PUNCTUATION_MARK_GROUP = f'(?P<mark>{PUNCTUATION_MARK})'\n",
    "PUNCTUATION_MARK_REPLACEMENT = r' \\g<mark> '\n",
    "assert re.sub(PUNCTUATION_MARK_GROUP, PUNCTUATION_MARK_REPLACEMENT, 'male,kabe') == 'male , kabe'"
   ]
  },
  {
   "cell_type": "code",
   "execution_count": 4,
   "id": "a499be41-7f5b-4df3-a643-d923685cc786",
   "metadata": {},
   "outputs": [],
   "source": [
    "for name, tbl in sources.items(): \n",
    "    tbl['document_title'] = tbl['document_title'].str.replace(PUNCTUATION_MARK_GROUP, PUNCTUATION_MARK_REPLACEMENT, regex=True)\n",
    "    tbl['document_title'] = tbl['document_title'].str.replace('\\s+', ' ', regex=True)"
   ]
  },
  {
   "cell_type": "markdown",
   "id": "48a09c05-b1b3-4cb6-9fd3-f1ee4808d511",
   "metadata": {},
   "source": [
    "## II. Vabamorfi kasutamine sõnade algvormi leidmiseks\n",
    "\n",
    "Tekstide edasisel analüüsimisel saame kasutada Vabamorfi veebiteennust, mis leiab igale sõnale vastava algvormi.\n",
    "Kuna mõnele sõnavormile vastab mitu erinevat algvormi (`sadama` -> `sadam`, `sadama`) siis on oluline teada, kas\n",
    "Vabamorf kasutab kõrvalolevate sõnade konteksti tuvastamaks milline neist võimalikest algvormidest on õige.\n",
    "Kuna see protsess pole alati veavaba, siis antud analüüsis kasutame kõiki sõnale vastavaid algvorme.\n",
    "Vabamorfi teiseks eripäraks on oletamine. Vabamorf kasutab sisemiselt suurt sõnastikku algvormide määramiseks.\n",
    "Kui oletamine on sisse lülitatud, siis kasutatakse heuristilisi reegleid algvormide leidmiseks sõnadele, mis pole suures sõnastikus.\n",
    "Oletamise kasutamine on suurte tekstide analüüsimisel vajalik, et saaks korrektselt käsitleda erialatermineid ja slängi. \n",
    "\n",
    "**Tehniline märkus.** Sõnade lemmatiseerimiseks saab kasutada kahte erinevat veebiteenust \n",
    "* sõnade morfoloogilist analüsaatorit (`analyser`)\n",
    "* dokumentide indekseerijat (`indekseerija_lemmad`)\n",
    "\n",
    "Neist esimene analüüsib sisendit sõnade haaval ning teine analüüsib kogu sisendit korraga ning ühestab mitmesed analüüsid lähtuvalt kontekstist. Antud juhul sobib meile sõnahaaval tehtud analüüs, kuna me valideerime sisendi korrektsust.  "
   ]
  },
  {
   "cell_type": "code",
   "execution_count": 5,
   "id": "7adc6ddc-74ea-4063-9d27-661e3d50a653",
   "metadata": {},
   "outputs": [
    {
     "data": {
      "text/html": [
       "<div>\n",
       "<style scoped>\n",
       "    .dataframe tbody tr th:only-of-type {\n",
       "        vertical-align: middle;\n",
       "    }\n",
       "\n",
       "    .dataframe tbody tr th {\n",
       "        vertical-align: top;\n",
       "    }\n",
       "\n",
       "    .dataframe thead th {\n",
       "        text-align: right;\n",
       "    }\n",
       "</style>\n",
       "<table border=\"1\" class=\"dataframe\">\n",
       "  <thead>\n",
       "    <tr style=\"text-align: right;\">\n",
       "      <th></th>\n",
       "      <th>index</th>\n",
       "      <th>wordform</th>\n",
       "      <th>lemma</th>\n",
       "      <th>sublemmas</th>\n",
       "    </tr>\n",
       "  </thead>\n",
       "  <tbody>\n",
       "    <tr>\n",
       "      <th>0</th>\n",
       "      <td>0</td>\n",
       "      <td>Presidendi</td>\n",
       "      <td>president</td>\n",
       "      <td>[president]</td>\n",
       "    </tr>\n",
       "    <tr>\n",
       "      <th>1</th>\n",
       "      <td>1</td>\n",
       "      <td>ametiraha</td>\n",
       "      <td>ametiraha</td>\n",
       "      <td>[ameti, raha]</td>\n",
       "    </tr>\n",
       "    <tr>\n",
       "      <th>2</th>\n",
       "      <td>2</td>\n",
       "      <td>seadus</td>\n",
       "      <td>seadu</td>\n",
       "      <td>[seadu]</td>\n",
       "    </tr>\n",
       "    <tr>\n",
       "      <th>2</th>\n",
       "      <td>2</td>\n",
       "      <td>seadus</td>\n",
       "      <td>seadus</td>\n",
       "      <td>[seadus]</td>\n",
       "    </tr>\n",
       "  </tbody>\n",
       "</table>\n",
       "</div>"
      ],
      "text/plain": [
       "   index    wordform      lemma      sublemmas\n",
       "0      0  Presidendi  president    [president]\n",
       "1      1   ametiraha  ametiraha  [ameti, raha]\n",
       "2      2      seadus      seadu        [seadu]\n",
       "2      2      seadus     seadus       [seadus]"
      ]
     },
     "execution_count": 5,
     "metadata": {},
     "output_type": "execute_result"
    }
   ],
   "source": [
    "def analyze_text(caption: str):\n",
    "    \"\"\"\n",
    "    Uses web service to extract words and sub-words form document captions\n",
    "\n",
    "    Returns a four column table with columns index, wordform, lemma, sublemmas.\n",
    "    There can be several rows for each word as each word is analysed separately.\n",
    "    All rows with the same index correspond to the same word.\n",
    "    Wordform columns is added to facilitate tokenisation debugging.\n",
    "    \"\"\"\n",
    "    ANALYZER_QUERY = \"https://smart-search.tartunlp.ai/api/analyser/process\"\n",
    "    HEADERS = {\"Content-Type\": \"application/json; charset=utf-8\"}\n",
    "    POST_DATA_TEMPLATE = {'params': {\"vmetajson\": [\"--guess\"]}, 'content': caption}\n",
    "\n",
    "    response = requests.post(ANALYZER_QUERY, json=POST_DATA_TEMPLATE, headers=HEADERS)\n",
    "    assert response.ok, \"Webservice failed\"\n",
    "    response = response.json()\n",
    "\n",
    "    token_count = len(response['annotations']['tokens'])\n",
    "    tbl = DataFrame({'wordform': [None] * token_count, 'lemma': [None] * token_count})\n",
    "    for i, token in enumerate(response['annotations']['tokens']):\n",
    "        features = token['features']\n",
    "        tbl.loc[i, 'wordform'] = features['token']\n",
    "        tbl.loc[i, 'lemma'] = list(set(map(lambda x: x['lemma'], features['mrf'])))\n",
    "\n",
    "    tbl =  tbl.reset_index().explode('lemma')\n",
    "\n",
    "    # Post-correction for Vabamorph output. Remove special symbols \n",
    "    tbl['lemma'] = tbl['lemma'].str.replace('=', '', regex=False)\n",
    "    tbl['lemma'] = tbl['lemma'].str.replace('+', '', regex=False)\n",
    "\n",
    "    # Post-correction for sublemmas\n",
    "    tbl['sublemmas'] = tbl['lemma'].str.split('_', regex=False)\n",
    "    tbl['lemma'] = tbl['lemma'].str.replace('_', '', regex=False)\n",
    "    return tbl\n",
    "\n",
    "# Example output\n",
    "analyze_text('Presidendi ametiraha seadus')"
   ]
  },
  {
   "cell_type": "code",
   "execution_count": 6,
   "id": "120988d4-19eb-45eb-b7d1-24f67c7092d0",
   "metadata": {},
   "outputs": [],
   "source": [
    "all_documents = concat([source for _,source in sources.items()], axis=0)"
   ]
  },
  {
   "cell_type": "code",
   "execution_count": 7,
   "id": "04271738-0aab-4d2a-8e94-0f45a68fcb42",
   "metadata": {},
   "outputs": [
    {
     "data": {
      "application/vnd.jupyter.widget-view+json": {
       "model_id": "dfa9fcb705804ed08ac41f8059715ea4",
       "version_major": 2,
       "version_minor": 0
      },
      "text/plain": [
       "  0%|          | 0/58837 [00:00<?, ?it/s]"
      ]
     },
     "metadata": {},
     "output_type": "display_data"
    },
    {
     "ename": "ConnectionError",
     "evalue": "('Connection aborted.', TimeoutError(60, 'Operation timed out'))",
     "output_type": "error",
     "traceback": [
      "\u001b[0;31m---------------------------------------------------------------------------\u001b[0m",
      "\u001b[0;31mTimeoutError\u001b[0m                              Traceback (most recent call last)",
      "File \u001b[0;32m~/Library/miniforge3/envs/rt-web-crawler/lib/python3.9/site-packages/urllib3/connectionpool.py:790\u001b[0m, in \u001b[0;36mHTTPConnectionPool.urlopen\u001b[0;34m(self, method, url, body, headers, retries, redirect, assert_same_host, timeout, pool_timeout, release_conn, chunked, body_pos, preload_content, decode_content, **response_kw)\u001b[0m\n\u001b[1;32m    789\u001b[0m \u001b[38;5;66;03m# Make the request on the HTTPConnection object\u001b[39;00m\n\u001b[0;32m--> 790\u001b[0m response \u001b[38;5;241m=\u001b[39m \u001b[38;5;28;43mself\u001b[39;49m\u001b[38;5;241;43m.\u001b[39;49m\u001b[43m_make_request\u001b[49m\u001b[43m(\u001b[49m\n\u001b[1;32m    791\u001b[0m \u001b[43m    \u001b[49m\u001b[43mconn\u001b[49m\u001b[43m,\u001b[49m\n\u001b[1;32m    792\u001b[0m \u001b[43m    \u001b[49m\u001b[43mmethod\u001b[49m\u001b[43m,\u001b[49m\n\u001b[1;32m    793\u001b[0m \u001b[43m    \u001b[49m\u001b[43murl\u001b[49m\u001b[43m,\u001b[49m\n\u001b[1;32m    794\u001b[0m \u001b[43m    \u001b[49m\u001b[43mtimeout\u001b[49m\u001b[38;5;241;43m=\u001b[39;49m\u001b[43mtimeout_obj\u001b[49m\u001b[43m,\u001b[49m\n\u001b[1;32m    795\u001b[0m \u001b[43m    \u001b[49m\u001b[43mbody\u001b[49m\u001b[38;5;241;43m=\u001b[39;49m\u001b[43mbody\u001b[49m\u001b[43m,\u001b[49m\n\u001b[1;32m    796\u001b[0m \u001b[43m    \u001b[49m\u001b[43mheaders\u001b[49m\u001b[38;5;241;43m=\u001b[39;49m\u001b[43mheaders\u001b[49m\u001b[43m,\u001b[49m\n\u001b[1;32m    797\u001b[0m \u001b[43m    \u001b[49m\u001b[43mchunked\u001b[49m\u001b[38;5;241;43m=\u001b[39;49m\u001b[43mchunked\u001b[49m\u001b[43m,\u001b[49m\n\u001b[1;32m    798\u001b[0m \u001b[43m    \u001b[49m\u001b[43mretries\u001b[49m\u001b[38;5;241;43m=\u001b[39;49m\u001b[43mretries\u001b[49m\u001b[43m,\u001b[49m\n\u001b[1;32m    799\u001b[0m \u001b[43m    \u001b[49m\u001b[43mresponse_conn\u001b[49m\u001b[38;5;241;43m=\u001b[39;49m\u001b[43mresponse_conn\u001b[49m\u001b[43m,\u001b[49m\n\u001b[1;32m    800\u001b[0m \u001b[43m    \u001b[49m\u001b[43mpreload_content\u001b[49m\u001b[38;5;241;43m=\u001b[39;49m\u001b[43mpreload_content\u001b[49m\u001b[43m,\u001b[49m\n\u001b[1;32m    801\u001b[0m \u001b[43m    \u001b[49m\u001b[43mdecode_content\u001b[49m\u001b[38;5;241;43m=\u001b[39;49m\u001b[43mdecode_content\u001b[49m\u001b[43m,\u001b[49m\n\u001b[1;32m    802\u001b[0m \u001b[43m    \u001b[49m\u001b[38;5;241;43m*\u001b[39;49m\u001b[38;5;241;43m*\u001b[39;49m\u001b[43mresponse_kw\u001b[49m\u001b[43m,\u001b[49m\n\u001b[1;32m    803\u001b[0m \u001b[43m\u001b[49m\u001b[43m)\u001b[49m\n\u001b[1;32m    805\u001b[0m \u001b[38;5;66;03m# Everything went great!\u001b[39;00m\n",
      "File \u001b[0;32m~/Library/miniforge3/envs/rt-web-crawler/lib/python3.9/site-packages/urllib3/connectionpool.py:491\u001b[0m, in \u001b[0;36mHTTPConnectionPool._make_request\u001b[0;34m(self, conn, method, url, body, headers, retries, timeout, chunked, response_conn, preload_content, decode_content, enforce_content_length)\u001b[0m\n\u001b[1;32m    490\u001b[0m         new_e \u001b[38;5;241m=\u001b[39m _wrap_proxy_error(new_e, conn\u001b[38;5;241m.\u001b[39mproxy\u001b[38;5;241m.\u001b[39mscheme)\n\u001b[0;32m--> 491\u001b[0m     \u001b[38;5;28;01mraise\u001b[39;00m new_e\n\u001b[1;32m    493\u001b[0m \u001b[38;5;66;03m# conn.request() calls http.client.*.request, not the method in\u001b[39;00m\n\u001b[1;32m    494\u001b[0m \u001b[38;5;66;03m# urllib3.request. It also calls makefile (recv) on the socket.\u001b[39;00m\n",
      "File \u001b[0;32m~/Library/miniforge3/envs/rt-web-crawler/lib/python3.9/site-packages/urllib3/connectionpool.py:467\u001b[0m, in \u001b[0;36mHTTPConnectionPool._make_request\u001b[0;34m(self, conn, method, url, body, headers, retries, timeout, chunked, response_conn, preload_content, decode_content, enforce_content_length)\u001b[0m\n\u001b[1;32m    466\u001b[0m \u001b[38;5;28;01mtry\u001b[39;00m:\n\u001b[0;32m--> 467\u001b[0m     \u001b[38;5;28;43mself\u001b[39;49m\u001b[38;5;241;43m.\u001b[39;49m\u001b[43m_validate_conn\u001b[49m\u001b[43m(\u001b[49m\u001b[43mconn\u001b[49m\u001b[43m)\u001b[49m\n\u001b[1;32m    468\u001b[0m \u001b[38;5;28;01mexcept\u001b[39;00m (SocketTimeout, BaseSSLError) \u001b[38;5;28;01mas\u001b[39;00m e:\n",
      "File \u001b[0;32m~/Library/miniforge3/envs/rt-web-crawler/lib/python3.9/site-packages/urllib3/connectionpool.py:1092\u001b[0m, in \u001b[0;36mHTTPSConnectionPool._validate_conn\u001b[0;34m(self, conn)\u001b[0m\n\u001b[1;32m   1091\u001b[0m \u001b[38;5;28;01mif\u001b[39;00m conn\u001b[38;5;241m.\u001b[39mis_closed:\n\u001b[0;32m-> 1092\u001b[0m     \u001b[43mconn\u001b[49m\u001b[38;5;241;43m.\u001b[39;49m\u001b[43mconnect\u001b[49m\u001b[43m(\u001b[49m\u001b[43m)\u001b[49m\n\u001b[1;32m   1094\u001b[0m \u001b[38;5;28;01mif\u001b[39;00m \u001b[38;5;129;01mnot\u001b[39;00m conn\u001b[38;5;241m.\u001b[39mis_verified:\n",
      "File \u001b[0;32m~/Library/miniforge3/envs/rt-web-crawler/lib/python3.9/site-packages/urllib3/connection.py:642\u001b[0m, in \u001b[0;36mHTTPSConnection.connect\u001b[0;34m(self)\u001b[0m\n\u001b[1;32m    634\u001b[0m     warnings\u001b[38;5;241m.\u001b[39mwarn(\n\u001b[1;32m    635\u001b[0m         (\n\u001b[1;32m    636\u001b[0m             \u001b[38;5;124mf\u001b[39m\u001b[38;5;124m\"\u001b[39m\u001b[38;5;124mSystem time is way off (before \u001b[39m\u001b[38;5;132;01m{\u001b[39;00mRECENT_DATE\u001b[38;5;132;01m}\u001b[39;00m\u001b[38;5;124m). This will probably \u001b[39m\u001b[38;5;124m\"\u001b[39m\n\u001b[0;32m   (...)\u001b[0m\n\u001b[1;32m    639\u001b[0m         SystemTimeWarning,\n\u001b[1;32m    640\u001b[0m     )\n\u001b[0;32m--> 642\u001b[0m sock_and_verified \u001b[38;5;241m=\u001b[39m \u001b[43m_ssl_wrap_socket_and_match_hostname\u001b[49m\u001b[43m(\u001b[49m\n\u001b[1;32m    643\u001b[0m \u001b[43m    \u001b[49m\u001b[43msock\u001b[49m\u001b[38;5;241;43m=\u001b[39;49m\u001b[43msock\u001b[49m\u001b[43m,\u001b[49m\n\u001b[1;32m    644\u001b[0m \u001b[43m    \u001b[49m\u001b[43mcert_reqs\u001b[49m\u001b[38;5;241;43m=\u001b[39;49m\u001b[38;5;28;43mself\u001b[39;49m\u001b[38;5;241;43m.\u001b[39;49m\u001b[43mcert_reqs\u001b[49m\u001b[43m,\u001b[49m\n\u001b[1;32m    645\u001b[0m \u001b[43m    \u001b[49m\u001b[43mssl_version\u001b[49m\u001b[38;5;241;43m=\u001b[39;49m\u001b[38;5;28;43mself\u001b[39;49m\u001b[38;5;241;43m.\u001b[39;49m\u001b[43mssl_version\u001b[49m\u001b[43m,\u001b[49m\n\u001b[1;32m    646\u001b[0m \u001b[43m    \u001b[49m\u001b[43mssl_minimum_version\u001b[49m\u001b[38;5;241;43m=\u001b[39;49m\u001b[38;5;28;43mself\u001b[39;49m\u001b[38;5;241;43m.\u001b[39;49m\u001b[43mssl_minimum_version\u001b[49m\u001b[43m,\u001b[49m\n\u001b[1;32m    647\u001b[0m \u001b[43m    \u001b[49m\u001b[43mssl_maximum_version\u001b[49m\u001b[38;5;241;43m=\u001b[39;49m\u001b[38;5;28;43mself\u001b[39;49m\u001b[38;5;241;43m.\u001b[39;49m\u001b[43mssl_maximum_version\u001b[49m\u001b[43m,\u001b[49m\n\u001b[1;32m    648\u001b[0m \u001b[43m    \u001b[49m\u001b[43mca_certs\u001b[49m\u001b[38;5;241;43m=\u001b[39;49m\u001b[38;5;28;43mself\u001b[39;49m\u001b[38;5;241;43m.\u001b[39;49m\u001b[43mca_certs\u001b[49m\u001b[43m,\u001b[49m\n\u001b[1;32m    649\u001b[0m \u001b[43m    \u001b[49m\u001b[43mca_cert_dir\u001b[49m\u001b[38;5;241;43m=\u001b[39;49m\u001b[38;5;28;43mself\u001b[39;49m\u001b[38;5;241;43m.\u001b[39;49m\u001b[43mca_cert_dir\u001b[49m\u001b[43m,\u001b[49m\n\u001b[1;32m    650\u001b[0m \u001b[43m    \u001b[49m\u001b[43mca_cert_data\u001b[49m\u001b[38;5;241;43m=\u001b[39;49m\u001b[38;5;28;43mself\u001b[39;49m\u001b[38;5;241;43m.\u001b[39;49m\u001b[43mca_cert_data\u001b[49m\u001b[43m,\u001b[49m\n\u001b[1;32m    651\u001b[0m \u001b[43m    \u001b[49m\u001b[43mcert_file\u001b[49m\u001b[38;5;241;43m=\u001b[39;49m\u001b[38;5;28;43mself\u001b[39;49m\u001b[38;5;241;43m.\u001b[39;49m\u001b[43mcert_file\u001b[49m\u001b[43m,\u001b[49m\n\u001b[1;32m    652\u001b[0m \u001b[43m    \u001b[49m\u001b[43mkey_file\u001b[49m\u001b[38;5;241;43m=\u001b[39;49m\u001b[38;5;28;43mself\u001b[39;49m\u001b[38;5;241;43m.\u001b[39;49m\u001b[43mkey_file\u001b[49m\u001b[43m,\u001b[49m\n\u001b[1;32m    653\u001b[0m \u001b[43m    \u001b[49m\u001b[43mkey_password\u001b[49m\u001b[38;5;241;43m=\u001b[39;49m\u001b[38;5;28;43mself\u001b[39;49m\u001b[38;5;241;43m.\u001b[39;49m\u001b[43mkey_password\u001b[49m\u001b[43m,\u001b[49m\n\u001b[1;32m    654\u001b[0m \u001b[43m    \u001b[49m\u001b[43mserver_hostname\u001b[49m\u001b[38;5;241;43m=\u001b[39;49m\u001b[43mserver_hostname\u001b[49m\u001b[43m,\u001b[49m\n\u001b[1;32m    655\u001b[0m \u001b[43m    \u001b[49m\u001b[43mssl_context\u001b[49m\u001b[38;5;241;43m=\u001b[39;49m\u001b[38;5;28;43mself\u001b[39;49m\u001b[38;5;241;43m.\u001b[39;49m\u001b[43mssl_context\u001b[49m\u001b[43m,\u001b[49m\n\u001b[1;32m    656\u001b[0m \u001b[43m    \u001b[49m\u001b[43mtls_in_tls\u001b[49m\u001b[38;5;241;43m=\u001b[39;49m\u001b[43mtls_in_tls\u001b[49m\u001b[43m,\u001b[49m\n\u001b[1;32m    657\u001b[0m \u001b[43m    \u001b[49m\u001b[43massert_hostname\u001b[49m\u001b[38;5;241;43m=\u001b[39;49m\u001b[38;5;28;43mself\u001b[39;49m\u001b[38;5;241;43m.\u001b[39;49m\u001b[43massert_hostname\u001b[49m\u001b[43m,\u001b[49m\n\u001b[1;32m    658\u001b[0m \u001b[43m    \u001b[49m\u001b[43massert_fingerprint\u001b[49m\u001b[38;5;241;43m=\u001b[39;49m\u001b[38;5;28;43mself\u001b[39;49m\u001b[38;5;241;43m.\u001b[39;49m\u001b[43massert_fingerprint\u001b[49m\u001b[43m,\u001b[49m\n\u001b[1;32m    659\u001b[0m \u001b[43m\u001b[49m\u001b[43m)\u001b[49m\n\u001b[1;32m    660\u001b[0m \u001b[38;5;28mself\u001b[39m\u001b[38;5;241m.\u001b[39msock \u001b[38;5;241m=\u001b[39m sock_and_verified\u001b[38;5;241m.\u001b[39msocket\n",
      "File \u001b[0;32m~/Library/miniforge3/envs/rt-web-crawler/lib/python3.9/site-packages/urllib3/connection.py:783\u001b[0m, in \u001b[0;36m_ssl_wrap_socket_and_match_hostname\u001b[0;34m(sock, cert_reqs, ssl_version, ssl_minimum_version, ssl_maximum_version, cert_file, key_file, key_password, ca_certs, ca_cert_dir, ca_cert_data, assert_hostname, assert_fingerprint, server_hostname, ssl_context, tls_in_tls)\u001b[0m\n\u001b[1;32m    781\u001b[0m         server_hostname \u001b[38;5;241m=\u001b[39m normalized\n\u001b[0;32m--> 783\u001b[0m ssl_sock \u001b[38;5;241m=\u001b[39m \u001b[43mssl_wrap_socket\u001b[49m\u001b[43m(\u001b[49m\n\u001b[1;32m    784\u001b[0m \u001b[43m    \u001b[49m\u001b[43msock\u001b[49m\u001b[38;5;241;43m=\u001b[39;49m\u001b[43msock\u001b[49m\u001b[43m,\u001b[49m\n\u001b[1;32m    785\u001b[0m \u001b[43m    \u001b[49m\u001b[43mkeyfile\u001b[49m\u001b[38;5;241;43m=\u001b[39;49m\u001b[43mkey_file\u001b[49m\u001b[43m,\u001b[49m\n\u001b[1;32m    786\u001b[0m \u001b[43m    \u001b[49m\u001b[43mcertfile\u001b[49m\u001b[38;5;241;43m=\u001b[39;49m\u001b[43mcert_file\u001b[49m\u001b[43m,\u001b[49m\n\u001b[1;32m    787\u001b[0m \u001b[43m    \u001b[49m\u001b[43mkey_password\u001b[49m\u001b[38;5;241;43m=\u001b[39;49m\u001b[43mkey_password\u001b[49m\u001b[43m,\u001b[49m\n\u001b[1;32m    788\u001b[0m \u001b[43m    \u001b[49m\u001b[43mca_certs\u001b[49m\u001b[38;5;241;43m=\u001b[39;49m\u001b[43mca_certs\u001b[49m\u001b[43m,\u001b[49m\n\u001b[1;32m    789\u001b[0m \u001b[43m    \u001b[49m\u001b[43mca_cert_dir\u001b[49m\u001b[38;5;241;43m=\u001b[39;49m\u001b[43mca_cert_dir\u001b[49m\u001b[43m,\u001b[49m\n\u001b[1;32m    790\u001b[0m \u001b[43m    \u001b[49m\u001b[43mca_cert_data\u001b[49m\u001b[38;5;241;43m=\u001b[39;49m\u001b[43mca_cert_data\u001b[49m\u001b[43m,\u001b[49m\n\u001b[1;32m    791\u001b[0m \u001b[43m    \u001b[49m\u001b[43mserver_hostname\u001b[49m\u001b[38;5;241;43m=\u001b[39;49m\u001b[43mserver_hostname\u001b[49m\u001b[43m,\u001b[49m\n\u001b[1;32m    792\u001b[0m \u001b[43m    \u001b[49m\u001b[43mssl_context\u001b[49m\u001b[38;5;241;43m=\u001b[39;49m\u001b[43mcontext\u001b[49m\u001b[43m,\u001b[49m\n\u001b[1;32m    793\u001b[0m \u001b[43m    \u001b[49m\u001b[43mtls_in_tls\u001b[49m\u001b[38;5;241;43m=\u001b[39;49m\u001b[43mtls_in_tls\u001b[49m\u001b[43m,\u001b[49m\n\u001b[1;32m    794\u001b[0m \u001b[43m\u001b[49m\u001b[43m)\u001b[49m\n\u001b[1;32m    796\u001b[0m \u001b[38;5;28;01mtry\u001b[39;00m:\n",
      "File \u001b[0;32m~/Library/miniforge3/envs/rt-web-crawler/lib/python3.9/site-packages/urllib3/util/ssl_.py:469\u001b[0m, in \u001b[0;36mssl_wrap_socket\u001b[0;34m(sock, keyfile, certfile, cert_reqs, ca_certs, server_hostname, ssl_version, ciphers, ssl_context, ca_cert_dir, key_password, ca_cert_data, tls_in_tls)\u001b[0m\n\u001b[1;32m    467\u001b[0m     \u001b[38;5;28;01mpass\u001b[39;00m\n\u001b[0;32m--> 469\u001b[0m ssl_sock \u001b[38;5;241m=\u001b[39m \u001b[43m_ssl_wrap_socket_impl\u001b[49m\u001b[43m(\u001b[49m\u001b[43msock\u001b[49m\u001b[43m,\u001b[49m\u001b[43m \u001b[49m\u001b[43mcontext\u001b[49m\u001b[43m,\u001b[49m\u001b[43m \u001b[49m\u001b[43mtls_in_tls\u001b[49m\u001b[43m,\u001b[49m\u001b[43m \u001b[49m\u001b[43mserver_hostname\u001b[49m\u001b[43m)\u001b[49m\n\u001b[1;32m    470\u001b[0m \u001b[38;5;28;01mreturn\u001b[39;00m ssl_sock\n",
      "File \u001b[0;32m~/Library/miniforge3/envs/rt-web-crawler/lib/python3.9/site-packages/urllib3/util/ssl_.py:513\u001b[0m, in \u001b[0;36m_ssl_wrap_socket_impl\u001b[0;34m(sock, ssl_context, tls_in_tls, server_hostname)\u001b[0m\n\u001b[1;32m    511\u001b[0m     \u001b[38;5;28;01mreturn\u001b[39;00m SSLTransport(sock, ssl_context, server_hostname)\n\u001b[0;32m--> 513\u001b[0m \u001b[38;5;28;01mreturn\u001b[39;00m \u001b[43mssl_context\u001b[49m\u001b[38;5;241;43m.\u001b[39;49m\u001b[43mwrap_socket\u001b[49m\u001b[43m(\u001b[49m\u001b[43msock\u001b[49m\u001b[43m,\u001b[49m\u001b[43m \u001b[49m\u001b[43mserver_hostname\u001b[49m\u001b[38;5;241;43m=\u001b[39;49m\u001b[43mserver_hostname\u001b[49m\u001b[43m)\u001b[49m\n",
      "File \u001b[0;32m~/Library/miniforge3/envs/rt-web-crawler/lib/python3.9/ssl.py:501\u001b[0m, in \u001b[0;36mSSLContext.wrap_socket\u001b[0;34m(self, sock, server_side, do_handshake_on_connect, suppress_ragged_eofs, server_hostname, session)\u001b[0m\n\u001b[1;32m    495\u001b[0m \u001b[38;5;28;01mdef\u001b[39;00m \u001b[38;5;21mwrap_socket\u001b[39m(\u001b[38;5;28mself\u001b[39m, sock, server_side\u001b[38;5;241m=\u001b[39m\u001b[38;5;28;01mFalse\u001b[39;00m,\n\u001b[1;32m    496\u001b[0m                 do_handshake_on_connect\u001b[38;5;241m=\u001b[39m\u001b[38;5;28;01mTrue\u001b[39;00m,\n\u001b[1;32m    497\u001b[0m                 suppress_ragged_eofs\u001b[38;5;241m=\u001b[39m\u001b[38;5;28;01mTrue\u001b[39;00m,\n\u001b[1;32m    498\u001b[0m                 server_hostname\u001b[38;5;241m=\u001b[39m\u001b[38;5;28;01mNone\u001b[39;00m, session\u001b[38;5;241m=\u001b[39m\u001b[38;5;28;01mNone\u001b[39;00m):\n\u001b[1;32m    499\u001b[0m     \u001b[38;5;66;03m# SSLSocket class handles server_hostname encoding before it calls\u001b[39;00m\n\u001b[1;32m    500\u001b[0m     \u001b[38;5;66;03m# ctx._wrap_socket()\u001b[39;00m\n\u001b[0;32m--> 501\u001b[0m     \u001b[38;5;28;01mreturn\u001b[39;00m \u001b[38;5;28;43mself\u001b[39;49m\u001b[38;5;241;43m.\u001b[39;49m\u001b[43msslsocket_class\u001b[49m\u001b[38;5;241;43m.\u001b[39;49m\u001b[43m_create\u001b[49m\u001b[43m(\u001b[49m\n\u001b[1;32m    502\u001b[0m \u001b[43m        \u001b[49m\u001b[43msock\u001b[49m\u001b[38;5;241;43m=\u001b[39;49m\u001b[43msock\u001b[49m\u001b[43m,\u001b[49m\n\u001b[1;32m    503\u001b[0m \u001b[43m        \u001b[49m\u001b[43mserver_side\u001b[49m\u001b[38;5;241;43m=\u001b[39;49m\u001b[43mserver_side\u001b[49m\u001b[43m,\u001b[49m\n\u001b[1;32m    504\u001b[0m \u001b[43m        \u001b[49m\u001b[43mdo_handshake_on_connect\u001b[49m\u001b[38;5;241;43m=\u001b[39;49m\u001b[43mdo_handshake_on_connect\u001b[49m\u001b[43m,\u001b[49m\n\u001b[1;32m    505\u001b[0m \u001b[43m        \u001b[49m\u001b[43msuppress_ragged_eofs\u001b[49m\u001b[38;5;241;43m=\u001b[39;49m\u001b[43msuppress_ragged_eofs\u001b[49m\u001b[43m,\u001b[49m\n\u001b[1;32m    506\u001b[0m \u001b[43m        \u001b[49m\u001b[43mserver_hostname\u001b[49m\u001b[38;5;241;43m=\u001b[39;49m\u001b[43mserver_hostname\u001b[49m\u001b[43m,\u001b[49m\n\u001b[1;32m    507\u001b[0m \u001b[43m        \u001b[49m\u001b[43mcontext\u001b[49m\u001b[38;5;241;43m=\u001b[39;49m\u001b[38;5;28;43mself\u001b[39;49m\u001b[43m,\u001b[49m\n\u001b[1;32m    508\u001b[0m \u001b[43m        \u001b[49m\u001b[43msession\u001b[49m\u001b[38;5;241;43m=\u001b[39;49m\u001b[43msession\u001b[49m\n\u001b[1;32m    509\u001b[0m \u001b[43m    \u001b[49m\u001b[43m)\u001b[49m\n",
      "File \u001b[0;32m~/Library/miniforge3/envs/rt-web-crawler/lib/python3.9/ssl.py:1074\u001b[0m, in \u001b[0;36mSSLSocket._create\u001b[0;34m(cls, sock, server_side, do_handshake_on_connect, suppress_ragged_eofs, server_hostname, context, session)\u001b[0m\n\u001b[1;32m   1073\u001b[0m             \u001b[38;5;28;01mraise\u001b[39;00m \u001b[38;5;167;01mValueError\u001b[39;00m(\u001b[38;5;124m\"\u001b[39m\u001b[38;5;124mdo_handshake_on_connect should not be specified for non-blocking sockets\u001b[39m\u001b[38;5;124m\"\u001b[39m)\n\u001b[0;32m-> 1074\u001b[0m         \u001b[38;5;28;43mself\u001b[39;49m\u001b[38;5;241;43m.\u001b[39;49m\u001b[43mdo_handshake\u001b[49m\u001b[43m(\u001b[49m\u001b[43m)\u001b[49m\n\u001b[1;32m   1075\u001b[0m \u001b[38;5;28;01mexcept\u001b[39;00m (\u001b[38;5;167;01mOSError\u001b[39;00m, \u001b[38;5;167;01mValueError\u001b[39;00m):\n",
      "File \u001b[0;32m~/Library/miniforge3/envs/rt-web-crawler/lib/python3.9/ssl.py:1343\u001b[0m, in \u001b[0;36mSSLSocket.do_handshake\u001b[0;34m(self, block)\u001b[0m\n\u001b[1;32m   1342\u001b[0m         \u001b[38;5;28mself\u001b[39m\u001b[38;5;241m.\u001b[39msettimeout(\u001b[38;5;28;01mNone\u001b[39;00m)\n\u001b[0;32m-> 1343\u001b[0m     \u001b[38;5;28;43mself\u001b[39;49m\u001b[38;5;241;43m.\u001b[39;49m\u001b[43m_sslobj\u001b[49m\u001b[38;5;241;43m.\u001b[39;49m\u001b[43mdo_handshake\u001b[49m\u001b[43m(\u001b[49m\u001b[43m)\u001b[49m\n\u001b[1;32m   1344\u001b[0m \u001b[38;5;28;01mfinally\u001b[39;00m:\n",
      "\u001b[0;31mTimeoutError\u001b[0m: [Errno 60] Operation timed out",
      "\nDuring handling of the above exception, another exception occurred:\n",
      "\u001b[0;31mProtocolError\u001b[0m                             Traceback (most recent call last)",
      "File \u001b[0;32m~/Library/miniforge3/envs/rt-web-crawler/lib/python3.9/site-packages/requests/adapters.py:486\u001b[0m, in \u001b[0;36mHTTPAdapter.send\u001b[0;34m(self, request, stream, timeout, verify, cert, proxies)\u001b[0m\n\u001b[1;32m    485\u001b[0m \u001b[38;5;28;01mtry\u001b[39;00m:\n\u001b[0;32m--> 486\u001b[0m     resp \u001b[38;5;241m=\u001b[39m \u001b[43mconn\u001b[49m\u001b[38;5;241;43m.\u001b[39;49m\u001b[43murlopen\u001b[49m\u001b[43m(\u001b[49m\n\u001b[1;32m    487\u001b[0m \u001b[43m        \u001b[49m\u001b[43mmethod\u001b[49m\u001b[38;5;241;43m=\u001b[39;49m\u001b[43mrequest\u001b[49m\u001b[38;5;241;43m.\u001b[39;49m\u001b[43mmethod\u001b[49m\u001b[43m,\u001b[49m\n\u001b[1;32m    488\u001b[0m \u001b[43m        \u001b[49m\u001b[43murl\u001b[49m\u001b[38;5;241;43m=\u001b[39;49m\u001b[43murl\u001b[49m\u001b[43m,\u001b[49m\n\u001b[1;32m    489\u001b[0m \u001b[43m        \u001b[49m\u001b[43mbody\u001b[49m\u001b[38;5;241;43m=\u001b[39;49m\u001b[43mrequest\u001b[49m\u001b[38;5;241;43m.\u001b[39;49m\u001b[43mbody\u001b[49m\u001b[43m,\u001b[49m\n\u001b[1;32m    490\u001b[0m \u001b[43m        \u001b[49m\u001b[43mheaders\u001b[49m\u001b[38;5;241;43m=\u001b[39;49m\u001b[43mrequest\u001b[49m\u001b[38;5;241;43m.\u001b[39;49m\u001b[43mheaders\u001b[49m\u001b[43m,\u001b[49m\n\u001b[1;32m    491\u001b[0m \u001b[43m        \u001b[49m\u001b[43mredirect\u001b[49m\u001b[38;5;241;43m=\u001b[39;49m\u001b[38;5;28;43;01mFalse\u001b[39;49;00m\u001b[43m,\u001b[49m\n\u001b[1;32m    492\u001b[0m \u001b[43m        \u001b[49m\u001b[43massert_same_host\u001b[49m\u001b[38;5;241;43m=\u001b[39;49m\u001b[38;5;28;43;01mFalse\u001b[39;49;00m\u001b[43m,\u001b[49m\n\u001b[1;32m    493\u001b[0m \u001b[43m        \u001b[49m\u001b[43mpreload_content\u001b[49m\u001b[38;5;241;43m=\u001b[39;49m\u001b[38;5;28;43;01mFalse\u001b[39;49;00m\u001b[43m,\u001b[49m\n\u001b[1;32m    494\u001b[0m \u001b[43m        \u001b[49m\u001b[43mdecode_content\u001b[49m\u001b[38;5;241;43m=\u001b[39;49m\u001b[38;5;28;43;01mFalse\u001b[39;49;00m\u001b[43m,\u001b[49m\n\u001b[1;32m    495\u001b[0m \u001b[43m        \u001b[49m\u001b[43mretries\u001b[49m\u001b[38;5;241;43m=\u001b[39;49m\u001b[38;5;28;43mself\u001b[39;49m\u001b[38;5;241;43m.\u001b[39;49m\u001b[43mmax_retries\u001b[49m\u001b[43m,\u001b[49m\n\u001b[1;32m    496\u001b[0m \u001b[43m        \u001b[49m\u001b[43mtimeout\u001b[49m\u001b[38;5;241;43m=\u001b[39;49m\u001b[43mtimeout\u001b[49m\u001b[43m,\u001b[49m\n\u001b[1;32m    497\u001b[0m \u001b[43m        \u001b[49m\u001b[43mchunked\u001b[49m\u001b[38;5;241;43m=\u001b[39;49m\u001b[43mchunked\u001b[49m\u001b[43m,\u001b[49m\n\u001b[1;32m    498\u001b[0m \u001b[43m    \u001b[49m\u001b[43m)\u001b[49m\n\u001b[1;32m    500\u001b[0m \u001b[38;5;28;01mexcept\u001b[39;00m (ProtocolError, \u001b[38;5;167;01mOSError\u001b[39;00m) \u001b[38;5;28;01mas\u001b[39;00m err:\n",
      "File \u001b[0;32m~/Library/miniforge3/envs/rt-web-crawler/lib/python3.9/site-packages/urllib3/connectionpool.py:844\u001b[0m, in \u001b[0;36mHTTPConnectionPool.urlopen\u001b[0;34m(self, method, url, body, headers, retries, redirect, assert_same_host, timeout, pool_timeout, release_conn, chunked, body_pos, preload_content, decode_content, **response_kw)\u001b[0m\n\u001b[1;32m    842\u001b[0m     new_e \u001b[38;5;241m=\u001b[39m ProtocolError(\u001b[38;5;124m\"\u001b[39m\u001b[38;5;124mConnection aborted.\u001b[39m\u001b[38;5;124m\"\u001b[39m, new_e)\n\u001b[0;32m--> 844\u001b[0m retries \u001b[38;5;241m=\u001b[39m \u001b[43mretries\u001b[49m\u001b[38;5;241;43m.\u001b[39;49m\u001b[43mincrement\u001b[49m\u001b[43m(\u001b[49m\n\u001b[1;32m    845\u001b[0m \u001b[43m    \u001b[49m\u001b[43mmethod\u001b[49m\u001b[43m,\u001b[49m\u001b[43m \u001b[49m\u001b[43murl\u001b[49m\u001b[43m,\u001b[49m\u001b[43m \u001b[49m\u001b[43merror\u001b[49m\u001b[38;5;241;43m=\u001b[39;49m\u001b[43mnew_e\u001b[49m\u001b[43m,\u001b[49m\u001b[43m \u001b[49m\u001b[43m_pool\u001b[49m\u001b[38;5;241;43m=\u001b[39;49m\u001b[38;5;28;43mself\u001b[39;49m\u001b[43m,\u001b[49m\u001b[43m \u001b[49m\u001b[43m_stacktrace\u001b[49m\u001b[38;5;241;43m=\u001b[39;49m\u001b[43msys\u001b[49m\u001b[38;5;241;43m.\u001b[39;49m\u001b[43mexc_info\u001b[49m\u001b[43m(\u001b[49m\u001b[43m)\u001b[49m\u001b[43m[\u001b[49m\u001b[38;5;241;43m2\u001b[39;49m\u001b[43m]\u001b[49m\n\u001b[1;32m    846\u001b[0m \u001b[43m\u001b[49m\u001b[43m)\u001b[49m\n\u001b[1;32m    847\u001b[0m retries\u001b[38;5;241m.\u001b[39msleep()\n",
      "File \u001b[0;32m~/Library/miniforge3/envs/rt-web-crawler/lib/python3.9/site-packages/urllib3/util/retry.py:470\u001b[0m, in \u001b[0;36mRetry.increment\u001b[0;34m(self, method, url, response, error, _pool, _stacktrace)\u001b[0m\n\u001b[1;32m    469\u001b[0m \u001b[38;5;28;01mif\u001b[39;00m read \u001b[38;5;129;01mis\u001b[39;00m \u001b[38;5;28;01mFalse\u001b[39;00m \u001b[38;5;129;01mor\u001b[39;00m method \u001b[38;5;129;01mis\u001b[39;00m \u001b[38;5;28;01mNone\u001b[39;00m \u001b[38;5;129;01mor\u001b[39;00m \u001b[38;5;129;01mnot\u001b[39;00m \u001b[38;5;28mself\u001b[39m\u001b[38;5;241m.\u001b[39m_is_method_retryable(method):\n\u001b[0;32m--> 470\u001b[0m     \u001b[38;5;28;01mraise\u001b[39;00m \u001b[43mreraise\u001b[49m\u001b[43m(\u001b[49m\u001b[38;5;28;43mtype\u001b[39;49m\u001b[43m(\u001b[49m\u001b[43merror\u001b[49m\u001b[43m)\u001b[49m\u001b[43m,\u001b[49m\u001b[43m \u001b[49m\u001b[43merror\u001b[49m\u001b[43m,\u001b[49m\u001b[43m \u001b[49m\u001b[43m_stacktrace\u001b[49m\u001b[43m)\u001b[49m\n\u001b[1;32m    471\u001b[0m \u001b[38;5;28;01melif\u001b[39;00m read \u001b[38;5;129;01mis\u001b[39;00m \u001b[38;5;129;01mnot\u001b[39;00m \u001b[38;5;28;01mNone\u001b[39;00m:\n",
      "File \u001b[0;32m~/Library/miniforge3/envs/rt-web-crawler/lib/python3.9/site-packages/urllib3/util/util.py:38\u001b[0m, in \u001b[0;36mreraise\u001b[0;34m(tp, value, tb)\u001b[0m\n\u001b[1;32m     37\u001b[0m \u001b[38;5;28;01mif\u001b[39;00m value\u001b[38;5;241m.\u001b[39m__traceback__ \u001b[38;5;129;01mis\u001b[39;00m \u001b[38;5;129;01mnot\u001b[39;00m tb:\n\u001b[0;32m---> 38\u001b[0m     \u001b[38;5;28;01mraise\u001b[39;00m value\u001b[38;5;241m.\u001b[39mwith_traceback(tb)\n\u001b[1;32m     39\u001b[0m \u001b[38;5;28;01mraise\u001b[39;00m value\n",
      "File \u001b[0;32m~/Library/miniforge3/envs/rt-web-crawler/lib/python3.9/site-packages/urllib3/connectionpool.py:790\u001b[0m, in \u001b[0;36mHTTPConnectionPool.urlopen\u001b[0;34m(self, method, url, body, headers, retries, redirect, assert_same_host, timeout, pool_timeout, release_conn, chunked, body_pos, preload_content, decode_content, **response_kw)\u001b[0m\n\u001b[1;32m    789\u001b[0m \u001b[38;5;66;03m# Make the request on the HTTPConnection object\u001b[39;00m\n\u001b[0;32m--> 790\u001b[0m response \u001b[38;5;241m=\u001b[39m \u001b[38;5;28;43mself\u001b[39;49m\u001b[38;5;241;43m.\u001b[39;49m\u001b[43m_make_request\u001b[49m\u001b[43m(\u001b[49m\n\u001b[1;32m    791\u001b[0m \u001b[43m    \u001b[49m\u001b[43mconn\u001b[49m\u001b[43m,\u001b[49m\n\u001b[1;32m    792\u001b[0m \u001b[43m    \u001b[49m\u001b[43mmethod\u001b[49m\u001b[43m,\u001b[49m\n\u001b[1;32m    793\u001b[0m \u001b[43m    \u001b[49m\u001b[43murl\u001b[49m\u001b[43m,\u001b[49m\n\u001b[1;32m    794\u001b[0m \u001b[43m    \u001b[49m\u001b[43mtimeout\u001b[49m\u001b[38;5;241;43m=\u001b[39;49m\u001b[43mtimeout_obj\u001b[49m\u001b[43m,\u001b[49m\n\u001b[1;32m    795\u001b[0m \u001b[43m    \u001b[49m\u001b[43mbody\u001b[49m\u001b[38;5;241;43m=\u001b[39;49m\u001b[43mbody\u001b[49m\u001b[43m,\u001b[49m\n\u001b[1;32m    796\u001b[0m \u001b[43m    \u001b[49m\u001b[43mheaders\u001b[49m\u001b[38;5;241;43m=\u001b[39;49m\u001b[43mheaders\u001b[49m\u001b[43m,\u001b[49m\n\u001b[1;32m    797\u001b[0m \u001b[43m    \u001b[49m\u001b[43mchunked\u001b[49m\u001b[38;5;241;43m=\u001b[39;49m\u001b[43mchunked\u001b[49m\u001b[43m,\u001b[49m\n\u001b[1;32m    798\u001b[0m \u001b[43m    \u001b[49m\u001b[43mretries\u001b[49m\u001b[38;5;241;43m=\u001b[39;49m\u001b[43mretries\u001b[49m\u001b[43m,\u001b[49m\n\u001b[1;32m    799\u001b[0m \u001b[43m    \u001b[49m\u001b[43mresponse_conn\u001b[49m\u001b[38;5;241;43m=\u001b[39;49m\u001b[43mresponse_conn\u001b[49m\u001b[43m,\u001b[49m\n\u001b[1;32m    800\u001b[0m \u001b[43m    \u001b[49m\u001b[43mpreload_content\u001b[49m\u001b[38;5;241;43m=\u001b[39;49m\u001b[43mpreload_content\u001b[49m\u001b[43m,\u001b[49m\n\u001b[1;32m    801\u001b[0m \u001b[43m    \u001b[49m\u001b[43mdecode_content\u001b[49m\u001b[38;5;241;43m=\u001b[39;49m\u001b[43mdecode_content\u001b[49m\u001b[43m,\u001b[49m\n\u001b[1;32m    802\u001b[0m \u001b[43m    \u001b[49m\u001b[38;5;241;43m*\u001b[39;49m\u001b[38;5;241;43m*\u001b[39;49m\u001b[43mresponse_kw\u001b[49m\u001b[43m,\u001b[49m\n\u001b[1;32m    803\u001b[0m \u001b[43m\u001b[49m\u001b[43m)\u001b[49m\n\u001b[1;32m    805\u001b[0m \u001b[38;5;66;03m# Everything went great!\u001b[39;00m\n",
      "File \u001b[0;32m~/Library/miniforge3/envs/rt-web-crawler/lib/python3.9/site-packages/urllib3/connectionpool.py:491\u001b[0m, in \u001b[0;36mHTTPConnectionPool._make_request\u001b[0;34m(self, conn, method, url, body, headers, retries, timeout, chunked, response_conn, preload_content, decode_content, enforce_content_length)\u001b[0m\n\u001b[1;32m    490\u001b[0m         new_e \u001b[38;5;241m=\u001b[39m _wrap_proxy_error(new_e, conn\u001b[38;5;241m.\u001b[39mproxy\u001b[38;5;241m.\u001b[39mscheme)\n\u001b[0;32m--> 491\u001b[0m     \u001b[38;5;28;01mraise\u001b[39;00m new_e\n\u001b[1;32m    493\u001b[0m \u001b[38;5;66;03m# conn.request() calls http.client.*.request, not the method in\u001b[39;00m\n\u001b[1;32m    494\u001b[0m \u001b[38;5;66;03m# urllib3.request. It also calls makefile (recv) on the socket.\u001b[39;00m\n",
      "File \u001b[0;32m~/Library/miniforge3/envs/rt-web-crawler/lib/python3.9/site-packages/urllib3/connectionpool.py:467\u001b[0m, in \u001b[0;36mHTTPConnectionPool._make_request\u001b[0;34m(self, conn, method, url, body, headers, retries, timeout, chunked, response_conn, preload_content, decode_content, enforce_content_length)\u001b[0m\n\u001b[1;32m    466\u001b[0m \u001b[38;5;28;01mtry\u001b[39;00m:\n\u001b[0;32m--> 467\u001b[0m     \u001b[38;5;28;43mself\u001b[39;49m\u001b[38;5;241;43m.\u001b[39;49m\u001b[43m_validate_conn\u001b[49m\u001b[43m(\u001b[49m\u001b[43mconn\u001b[49m\u001b[43m)\u001b[49m\n\u001b[1;32m    468\u001b[0m \u001b[38;5;28;01mexcept\u001b[39;00m (SocketTimeout, BaseSSLError) \u001b[38;5;28;01mas\u001b[39;00m e:\n",
      "File \u001b[0;32m~/Library/miniforge3/envs/rt-web-crawler/lib/python3.9/site-packages/urllib3/connectionpool.py:1092\u001b[0m, in \u001b[0;36mHTTPSConnectionPool._validate_conn\u001b[0;34m(self, conn)\u001b[0m\n\u001b[1;32m   1091\u001b[0m \u001b[38;5;28;01mif\u001b[39;00m conn\u001b[38;5;241m.\u001b[39mis_closed:\n\u001b[0;32m-> 1092\u001b[0m     \u001b[43mconn\u001b[49m\u001b[38;5;241;43m.\u001b[39;49m\u001b[43mconnect\u001b[49m\u001b[43m(\u001b[49m\u001b[43m)\u001b[49m\n\u001b[1;32m   1094\u001b[0m \u001b[38;5;28;01mif\u001b[39;00m \u001b[38;5;129;01mnot\u001b[39;00m conn\u001b[38;5;241m.\u001b[39mis_verified:\n",
      "File \u001b[0;32m~/Library/miniforge3/envs/rt-web-crawler/lib/python3.9/site-packages/urllib3/connection.py:642\u001b[0m, in \u001b[0;36mHTTPSConnection.connect\u001b[0;34m(self)\u001b[0m\n\u001b[1;32m    634\u001b[0m     warnings\u001b[38;5;241m.\u001b[39mwarn(\n\u001b[1;32m    635\u001b[0m         (\n\u001b[1;32m    636\u001b[0m             \u001b[38;5;124mf\u001b[39m\u001b[38;5;124m\"\u001b[39m\u001b[38;5;124mSystem time is way off (before \u001b[39m\u001b[38;5;132;01m{\u001b[39;00mRECENT_DATE\u001b[38;5;132;01m}\u001b[39;00m\u001b[38;5;124m). This will probably \u001b[39m\u001b[38;5;124m\"\u001b[39m\n\u001b[0;32m   (...)\u001b[0m\n\u001b[1;32m    639\u001b[0m         SystemTimeWarning,\n\u001b[1;32m    640\u001b[0m     )\n\u001b[0;32m--> 642\u001b[0m sock_and_verified \u001b[38;5;241m=\u001b[39m \u001b[43m_ssl_wrap_socket_and_match_hostname\u001b[49m\u001b[43m(\u001b[49m\n\u001b[1;32m    643\u001b[0m \u001b[43m    \u001b[49m\u001b[43msock\u001b[49m\u001b[38;5;241;43m=\u001b[39;49m\u001b[43msock\u001b[49m\u001b[43m,\u001b[49m\n\u001b[1;32m    644\u001b[0m \u001b[43m    \u001b[49m\u001b[43mcert_reqs\u001b[49m\u001b[38;5;241;43m=\u001b[39;49m\u001b[38;5;28;43mself\u001b[39;49m\u001b[38;5;241;43m.\u001b[39;49m\u001b[43mcert_reqs\u001b[49m\u001b[43m,\u001b[49m\n\u001b[1;32m    645\u001b[0m \u001b[43m    \u001b[49m\u001b[43mssl_version\u001b[49m\u001b[38;5;241;43m=\u001b[39;49m\u001b[38;5;28;43mself\u001b[39;49m\u001b[38;5;241;43m.\u001b[39;49m\u001b[43mssl_version\u001b[49m\u001b[43m,\u001b[49m\n\u001b[1;32m    646\u001b[0m \u001b[43m    \u001b[49m\u001b[43mssl_minimum_version\u001b[49m\u001b[38;5;241;43m=\u001b[39;49m\u001b[38;5;28;43mself\u001b[39;49m\u001b[38;5;241;43m.\u001b[39;49m\u001b[43mssl_minimum_version\u001b[49m\u001b[43m,\u001b[49m\n\u001b[1;32m    647\u001b[0m \u001b[43m    \u001b[49m\u001b[43mssl_maximum_version\u001b[49m\u001b[38;5;241;43m=\u001b[39;49m\u001b[38;5;28;43mself\u001b[39;49m\u001b[38;5;241;43m.\u001b[39;49m\u001b[43mssl_maximum_version\u001b[49m\u001b[43m,\u001b[49m\n\u001b[1;32m    648\u001b[0m \u001b[43m    \u001b[49m\u001b[43mca_certs\u001b[49m\u001b[38;5;241;43m=\u001b[39;49m\u001b[38;5;28;43mself\u001b[39;49m\u001b[38;5;241;43m.\u001b[39;49m\u001b[43mca_certs\u001b[49m\u001b[43m,\u001b[49m\n\u001b[1;32m    649\u001b[0m \u001b[43m    \u001b[49m\u001b[43mca_cert_dir\u001b[49m\u001b[38;5;241;43m=\u001b[39;49m\u001b[38;5;28;43mself\u001b[39;49m\u001b[38;5;241;43m.\u001b[39;49m\u001b[43mca_cert_dir\u001b[49m\u001b[43m,\u001b[49m\n\u001b[1;32m    650\u001b[0m \u001b[43m    \u001b[49m\u001b[43mca_cert_data\u001b[49m\u001b[38;5;241;43m=\u001b[39;49m\u001b[38;5;28;43mself\u001b[39;49m\u001b[38;5;241;43m.\u001b[39;49m\u001b[43mca_cert_data\u001b[49m\u001b[43m,\u001b[49m\n\u001b[1;32m    651\u001b[0m \u001b[43m    \u001b[49m\u001b[43mcert_file\u001b[49m\u001b[38;5;241;43m=\u001b[39;49m\u001b[38;5;28;43mself\u001b[39;49m\u001b[38;5;241;43m.\u001b[39;49m\u001b[43mcert_file\u001b[49m\u001b[43m,\u001b[49m\n\u001b[1;32m    652\u001b[0m \u001b[43m    \u001b[49m\u001b[43mkey_file\u001b[49m\u001b[38;5;241;43m=\u001b[39;49m\u001b[38;5;28;43mself\u001b[39;49m\u001b[38;5;241;43m.\u001b[39;49m\u001b[43mkey_file\u001b[49m\u001b[43m,\u001b[49m\n\u001b[1;32m    653\u001b[0m \u001b[43m    \u001b[49m\u001b[43mkey_password\u001b[49m\u001b[38;5;241;43m=\u001b[39;49m\u001b[38;5;28;43mself\u001b[39;49m\u001b[38;5;241;43m.\u001b[39;49m\u001b[43mkey_password\u001b[49m\u001b[43m,\u001b[49m\n\u001b[1;32m    654\u001b[0m \u001b[43m    \u001b[49m\u001b[43mserver_hostname\u001b[49m\u001b[38;5;241;43m=\u001b[39;49m\u001b[43mserver_hostname\u001b[49m\u001b[43m,\u001b[49m\n\u001b[1;32m    655\u001b[0m \u001b[43m    \u001b[49m\u001b[43mssl_context\u001b[49m\u001b[38;5;241;43m=\u001b[39;49m\u001b[38;5;28;43mself\u001b[39;49m\u001b[38;5;241;43m.\u001b[39;49m\u001b[43mssl_context\u001b[49m\u001b[43m,\u001b[49m\n\u001b[1;32m    656\u001b[0m \u001b[43m    \u001b[49m\u001b[43mtls_in_tls\u001b[49m\u001b[38;5;241;43m=\u001b[39;49m\u001b[43mtls_in_tls\u001b[49m\u001b[43m,\u001b[49m\n\u001b[1;32m    657\u001b[0m \u001b[43m    \u001b[49m\u001b[43massert_hostname\u001b[49m\u001b[38;5;241;43m=\u001b[39;49m\u001b[38;5;28;43mself\u001b[39;49m\u001b[38;5;241;43m.\u001b[39;49m\u001b[43massert_hostname\u001b[49m\u001b[43m,\u001b[49m\n\u001b[1;32m    658\u001b[0m \u001b[43m    \u001b[49m\u001b[43massert_fingerprint\u001b[49m\u001b[38;5;241;43m=\u001b[39;49m\u001b[38;5;28;43mself\u001b[39;49m\u001b[38;5;241;43m.\u001b[39;49m\u001b[43massert_fingerprint\u001b[49m\u001b[43m,\u001b[49m\n\u001b[1;32m    659\u001b[0m \u001b[43m\u001b[49m\u001b[43m)\u001b[49m\n\u001b[1;32m    660\u001b[0m \u001b[38;5;28mself\u001b[39m\u001b[38;5;241m.\u001b[39msock \u001b[38;5;241m=\u001b[39m sock_and_verified\u001b[38;5;241m.\u001b[39msocket\n",
      "File \u001b[0;32m~/Library/miniforge3/envs/rt-web-crawler/lib/python3.9/site-packages/urllib3/connection.py:783\u001b[0m, in \u001b[0;36m_ssl_wrap_socket_and_match_hostname\u001b[0;34m(sock, cert_reqs, ssl_version, ssl_minimum_version, ssl_maximum_version, cert_file, key_file, key_password, ca_certs, ca_cert_dir, ca_cert_data, assert_hostname, assert_fingerprint, server_hostname, ssl_context, tls_in_tls)\u001b[0m\n\u001b[1;32m    781\u001b[0m         server_hostname \u001b[38;5;241m=\u001b[39m normalized\n\u001b[0;32m--> 783\u001b[0m ssl_sock \u001b[38;5;241m=\u001b[39m \u001b[43mssl_wrap_socket\u001b[49m\u001b[43m(\u001b[49m\n\u001b[1;32m    784\u001b[0m \u001b[43m    \u001b[49m\u001b[43msock\u001b[49m\u001b[38;5;241;43m=\u001b[39;49m\u001b[43msock\u001b[49m\u001b[43m,\u001b[49m\n\u001b[1;32m    785\u001b[0m \u001b[43m    \u001b[49m\u001b[43mkeyfile\u001b[49m\u001b[38;5;241;43m=\u001b[39;49m\u001b[43mkey_file\u001b[49m\u001b[43m,\u001b[49m\n\u001b[1;32m    786\u001b[0m \u001b[43m    \u001b[49m\u001b[43mcertfile\u001b[49m\u001b[38;5;241;43m=\u001b[39;49m\u001b[43mcert_file\u001b[49m\u001b[43m,\u001b[49m\n\u001b[1;32m    787\u001b[0m \u001b[43m    \u001b[49m\u001b[43mkey_password\u001b[49m\u001b[38;5;241;43m=\u001b[39;49m\u001b[43mkey_password\u001b[49m\u001b[43m,\u001b[49m\n\u001b[1;32m    788\u001b[0m \u001b[43m    \u001b[49m\u001b[43mca_certs\u001b[49m\u001b[38;5;241;43m=\u001b[39;49m\u001b[43mca_certs\u001b[49m\u001b[43m,\u001b[49m\n\u001b[1;32m    789\u001b[0m \u001b[43m    \u001b[49m\u001b[43mca_cert_dir\u001b[49m\u001b[38;5;241;43m=\u001b[39;49m\u001b[43mca_cert_dir\u001b[49m\u001b[43m,\u001b[49m\n\u001b[1;32m    790\u001b[0m \u001b[43m    \u001b[49m\u001b[43mca_cert_data\u001b[49m\u001b[38;5;241;43m=\u001b[39;49m\u001b[43mca_cert_data\u001b[49m\u001b[43m,\u001b[49m\n\u001b[1;32m    791\u001b[0m \u001b[43m    \u001b[49m\u001b[43mserver_hostname\u001b[49m\u001b[38;5;241;43m=\u001b[39;49m\u001b[43mserver_hostname\u001b[49m\u001b[43m,\u001b[49m\n\u001b[1;32m    792\u001b[0m \u001b[43m    \u001b[49m\u001b[43mssl_context\u001b[49m\u001b[38;5;241;43m=\u001b[39;49m\u001b[43mcontext\u001b[49m\u001b[43m,\u001b[49m\n\u001b[1;32m    793\u001b[0m \u001b[43m    \u001b[49m\u001b[43mtls_in_tls\u001b[49m\u001b[38;5;241;43m=\u001b[39;49m\u001b[43mtls_in_tls\u001b[49m\u001b[43m,\u001b[49m\n\u001b[1;32m    794\u001b[0m \u001b[43m\u001b[49m\u001b[43m)\u001b[49m\n\u001b[1;32m    796\u001b[0m \u001b[38;5;28;01mtry\u001b[39;00m:\n",
      "File \u001b[0;32m~/Library/miniforge3/envs/rt-web-crawler/lib/python3.9/site-packages/urllib3/util/ssl_.py:469\u001b[0m, in \u001b[0;36mssl_wrap_socket\u001b[0;34m(sock, keyfile, certfile, cert_reqs, ca_certs, server_hostname, ssl_version, ciphers, ssl_context, ca_cert_dir, key_password, ca_cert_data, tls_in_tls)\u001b[0m\n\u001b[1;32m    467\u001b[0m     \u001b[38;5;28;01mpass\u001b[39;00m\n\u001b[0;32m--> 469\u001b[0m ssl_sock \u001b[38;5;241m=\u001b[39m \u001b[43m_ssl_wrap_socket_impl\u001b[49m\u001b[43m(\u001b[49m\u001b[43msock\u001b[49m\u001b[43m,\u001b[49m\u001b[43m \u001b[49m\u001b[43mcontext\u001b[49m\u001b[43m,\u001b[49m\u001b[43m \u001b[49m\u001b[43mtls_in_tls\u001b[49m\u001b[43m,\u001b[49m\u001b[43m \u001b[49m\u001b[43mserver_hostname\u001b[49m\u001b[43m)\u001b[49m\n\u001b[1;32m    470\u001b[0m \u001b[38;5;28;01mreturn\u001b[39;00m ssl_sock\n",
      "File \u001b[0;32m~/Library/miniforge3/envs/rt-web-crawler/lib/python3.9/site-packages/urllib3/util/ssl_.py:513\u001b[0m, in \u001b[0;36m_ssl_wrap_socket_impl\u001b[0;34m(sock, ssl_context, tls_in_tls, server_hostname)\u001b[0m\n\u001b[1;32m    511\u001b[0m     \u001b[38;5;28;01mreturn\u001b[39;00m SSLTransport(sock, ssl_context, server_hostname)\n\u001b[0;32m--> 513\u001b[0m \u001b[38;5;28;01mreturn\u001b[39;00m \u001b[43mssl_context\u001b[49m\u001b[38;5;241;43m.\u001b[39;49m\u001b[43mwrap_socket\u001b[49m\u001b[43m(\u001b[49m\u001b[43msock\u001b[49m\u001b[43m,\u001b[49m\u001b[43m \u001b[49m\u001b[43mserver_hostname\u001b[49m\u001b[38;5;241;43m=\u001b[39;49m\u001b[43mserver_hostname\u001b[49m\u001b[43m)\u001b[49m\n",
      "File \u001b[0;32m~/Library/miniforge3/envs/rt-web-crawler/lib/python3.9/ssl.py:501\u001b[0m, in \u001b[0;36mSSLContext.wrap_socket\u001b[0;34m(self, sock, server_side, do_handshake_on_connect, suppress_ragged_eofs, server_hostname, session)\u001b[0m\n\u001b[1;32m    495\u001b[0m \u001b[38;5;28;01mdef\u001b[39;00m \u001b[38;5;21mwrap_socket\u001b[39m(\u001b[38;5;28mself\u001b[39m, sock, server_side\u001b[38;5;241m=\u001b[39m\u001b[38;5;28;01mFalse\u001b[39;00m,\n\u001b[1;32m    496\u001b[0m                 do_handshake_on_connect\u001b[38;5;241m=\u001b[39m\u001b[38;5;28;01mTrue\u001b[39;00m,\n\u001b[1;32m    497\u001b[0m                 suppress_ragged_eofs\u001b[38;5;241m=\u001b[39m\u001b[38;5;28;01mTrue\u001b[39;00m,\n\u001b[1;32m    498\u001b[0m                 server_hostname\u001b[38;5;241m=\u001b[39m\u001b[38;5;28;01mNone\u001b[39;00m, session\u001b[38;5;241m=\u001b[39m\u001b[38;5;28;01mNone\u001b[39;00m):\n\u001b[1;32m    499\u001b[0m     \u001b[38;5;66;03m# SSLSocket class handles server_hostname encoding before it calls\u001b[39;00m\n\u001b[1;32m    500\u001b[0m     \u001b[38;5;66;03m# ctx._wrap_socket()\u001b[39;00m\n\u001b[0;32m--> 501\u001b[0m     \u001b[38;5;28;01mreturn\u001b[39;00m \u001b[38;5;28;43mself\u001b[39;49m\u001b[38;5;241;43m.\u001b[39;49m\u001b[43msslsocket_class\u001b[49m\u001b[38;5;241;43m.\u001b[39;49m\u001b[43m_create\u001b[49m\u001b[43m(\u001b[49m\n\u001b[1;32m    502\u001b[0m \u001b[43m        \u001b[49m\u001b[43msock\u001b[49m\u001b[38;5;241;43m=\u001b[39;49m\u001b[43msock\u001b[49m\u001b[43m,\u001b[49m\n\u001b[1;32m    503\u001b[0m \u001b[43m        \u001b[49m\u001b[43mserver_side\u001b[49m\u001b[38;5;241;43m=\u001b[39;49m\u001b[43mserver_side\u001b[49m\u001b[43m,\u001b[49m\n\u001b[1;32m    504\u001b[0m \u001b[43m        \u001b[49m\u001b[43mdo_handshake_on_connect\u001b[49m\u001b[38;5;241;43m=\u001b[39;49m\u001b[43mdo_handshake_on_connect\u001b[49m\u001b[43m,\u001b[49m\n\u001b[1;32m    505\u001b[0m \u001b[43m        \u001b[49m\u001b[43msuppress_ragged_eofs\u001b[49m\u001b[38;5;241;43m=\u001b[39;49m\u001b[43msuppress_ragged_eofs\u001b[49m\u001b[43m,\u001b[49m\n\u001b[1;32m    506\u001b[0m \u001b[43m        \u001b[49m\u001b[43mserver_hostname\u001b[49m\u001b[38;5;241;43m=\u001b[39;49m\u001b[43mserver_hostname\u001b[49m\u001b[43m,\u001b[49m\n\u001b[1;32m    507\u001b[0m \u001b[43m        \u001b[49m\u001b[43mcontext\u001b[49m\u001b[38;5;241;43m=\u001b[39;49m\u001b[38;5;28;43mself\u001b[39;49m\u001b[43m,\u001b[49m\n\u001b[1;32m    508\u001b[0m \u001b[43m        \u001b[49m\u001b[43msession\u001b[49m\u001b[38;5;241;43m=\u001b[39;49m\u001b[43msession\u001b[49m\n\u001b[1;32m    509\u001b[0m \u001b[43m    \u001b[49m\u001b[43m)\u001b[49m\n",
      "File \u001b[0;32m~/Library/miniforge3/envs/rt-web-crawler/lib/python3.9/ssl.py:1074\u001b[0m, in \u001b[0;36mSSLSocket._create\u001b[0;34m(cls, sock, server_side, do_handshake_on_connect, suppress_ragged_eofs, server_hostname, context, session)\u001b[0m\n\u001b[1;32m   1073\u001b[0m             \u001b[38;5;28;01mraise\u001b[39;00m \u001b[38;5;167;01mValueError\u001b[39;00m(\u001b[38;5;124m\"\u001b[39m\u001b[38;5;124mdo_handshake_on_connect should not be specified for non-blocking sockets\u001b[39m\u001b[38;5;124m\"\u001b[39m)\n\u001b[0;32m-> 1074\u001b[0m         \u001b[38;5;28;43mself\u001b[39;49m\u001b[38;5;241;43m.\u001b[39;49m\u001b[43mdo_handshake\u001b[49m\u001b[43m(\u001b[49m\u001b[43m)\u001b[49m\n\u001b[1;32m   1075\u001b[0m \u001b[38;5;28;01mexcept\u001b[39;00m (\u001b[38;5;167;01mOSError\u001b[39;00m, \u001b[38;5;167;01mValueError\u001b[39;00m):\n",
      "File \u001b[0;32m~/Library/miniforge3/envs/rt-web-crawler/lib/python3.9/ssl.py:1343\u001b[0m, in \u001b[0;36mSSLSocket.do_handshake\u001b[0;34m(self, block)\u001b[0m\n\u001b[1;32m   1342\u001b[0m         \u001b[38;5;28mself\u001b[39m\u001b[38;5;241m.\u001b[39msettimeout(\u001b[38;5;28;01mNone\u001b[39;00m)\n\u001b[0;32m-> 1343\u001b[0m     \u001b[38;5;28;43mself\u001b[39;49m\u001b[38;5;241;43m.\u001b[39;49m\u001b[43m_sslobj\u001b[49m\u001b[38;5;241;43m.\u001b[39;49m\u001b[43mdo_handshake\u001b[49m\u001b[43m(\u001b[49m\u001b[43m)\u001b[49m\n\u001b[1;32m   1344\u001b[0m \u001b[38;5;28;01mfinally\u001b[39;00m:\n",
      "\u001b[0;31mProtocolError\u001b[0m: ('Connection aborted.', TimeoutError(60, 'Operation timed out'))",
      "\nDuring handling of the above exception, another exception occurred:\n",
      "\u001b[0;31mConnectionError\u001b[0m                           Traceback (most recent call last)",
      "Cell \u001b[0;32mIn[7], line 3\u001b[0m\n\u001b[1;32m      1\u001b[0m result \u001b[38;5;241m=\u001b[39m [\u001b[38;5;28;01mNone\u001b[39;00m] \u001b[38;5;241m*\u001b[39m  \u001b[38;5;28mlen\u001b[39m(all_documents)\n\u001b[1;32m      2\u001b[0m \u001b[38;5;28;01mfor\u001b[39;00m i, caption \u001b[38;5;129;01min\u001b[39;00m tqdm(\u001b[38;5;28menumerate\u001b[39m(all_documents[\u001b[38;5;124m'\u001b[39m\u001b[38;5;124mdocument_title\u001b[39m\u001b[38;5;124m'\u001b[39m]), total\u001b[38;5;241m=\u001b[39m\u001b[38;5;28mlen\u001b[39m(all_documents)):\n\u001b[0;32m----> 3\u001b[0m     result[i] \u001b[38;5;241m=\u001b[39m \u001b[43manalyze_text\u001b[49m\u001b[43m(\u001b[49m\u001b[43mcaption\u001b[49m\u001b[43m)\u001b[49m\u001b[38;5;241m.\u001b[39massign(doc_id \u001b[38;5;241m=\u001b[39m i)\n\u001b[1;32m      5\u001b[0m result \u001b[38;5;241m=\u001b[39m concat(result, axis\u001b[38;5;241m=\u001b[39m\u001b[38;5;241m0\u001b[39m)\n\u001b[1;32m      6\u001b[0m display(result)\n",
      "Cell \u001b[0;32mIn[5], line 14\u001b[0m, in \u001b[0;36manalyze_text\u001b[0;34m(caption)\u001b[0m\n\u001b[1;32m     11\u001b[0m HEADERS \u001b[38;5;241m=\u001b[39m {\u001b[38;5;124m\"\u001b[39m\u001b[38;5;124mContent-Type\u001b[39m\u001b[38;5;124m\"\u001b[39m: \u001b[38;5;124m\"\u001b[39m\u001b[38;5;124mapplication/json; charset=utf-8\u001b[39m\u001b[38;5;124m\"\u001b[39m}\n\u001b[1;32m     12\u001b[0m POST_DATA_TEMPLATE \u001b[38;5;241m=\u001b[39m {\u001b[38;5;124m'\u001b[39m\u001b[38;5;124mparams\u001b[39m\u001b[38;5;124m'\u001b[39m: {\u001b[38;5;124m\"\u001b[39m\u001b[38;5;124mvmetajson\u001b[39m\u001b[38;5;124m\"\u001b[39m: [\u001b[38;5;124m\"\u001b[39m\u001b[38;5;124m--guess\u001b[39m\u001b[38;5;124m\"\u001b[39m]}, \u001b[38;5;124m'\u001b[39m\u001b[38;5;124mcontent\u001b[39m\u001b[38;5;124m'\u001b[39m: caption}\n\u001b[0;32m---> 14\u001b[0m response \u001b[38;5;241m=\u001b[39m \u001b[43mrequests\u001b[49m\u001b[38;5;241;43m.\u001b[39;49m\u001b[43mpost\u001b[49m\u001b[43m(\u001b[49m\u001b[43mANALYZER_QUERY\u001b[49m\u001b[43m,\u001b[49m\u001b[43m \u001b[49m\u001b[43mjson\u001b[49m\u001b[38;5;241;43m=\u001b[39;49m\u001b[43mPOST_DATA_TEMPLATE\u001b[49m\u001b[43m,\u001b[49m\u001b[43m \u001b[49m\u001b[43mheaders\u001b[49m\u001b[38;5;241;43m=\u001b[39;49m\u001b[43mHEADERS\u001b[49m\u001b[43m)\u001b[49m\n\u001b[1;32m     15\u001b[0m \u001b[38;5;28;01massert\u001b[39;00m response\u001b[38;5;241m.\u001b[39mok, \u001b[38;5;124m\"\u001b[39m\u001b[38;5;124mWebservice failed\u001b[39m\u001b[38;5;124m\"\u001b[39m\n\u001b[1;32m     16\u001b[0m response \u001b[38;5;241m=\u001b[39m response\u001b[38;5;241m.\u001b[39mjson()\n",
      "File \u001b[0;32m~/Library/miniforge3/envs/rt-web-crawler/lib/python3.9/site-packages/requests/api.py:115\u001b[0m, in \u001b[0;36mpost\u001b[0;34m(url, data, json, **kwargs)\u001b[0m\n\u001b[1;32m    103\u001b[0m \u001b[38;5;28;01mdef\u001b[39;00m \u001b[38;5;21mpost\u001b[39m(url, data\u001b[38;5;241m=\u001b[39m\u001b[38;5;28;01mNone\u001b[39;00m, json\u001b[38;5;241m=\u001b[39m\u001b[38;5;28;01mNone\u001b[39;00m, \u001b[38;5;241m*\u001b[39m\u001b[38;5;241m*\u001b[39mkwargs):\n\u001b[1;32m    104\u001b[0m \u001b[38;5;250m    \u001b[39m\u001b[38;5;124mr\u001b[39m\u001b[38;5;124;03m\"\"\"Sends a POST request.\u001b[39;00m\n\u001b[1;32m    105\u001b[0m \n\u001b[1;32m    106\u001b[0m \u001b[38;5;124;03m    :param url: URL for the new :class:`Request` object.\u001b[39;00m\n\u001b[0;32m   (...)\u001b[0m\n\u001b[1;32m    112\u001b[0m \u001b[38;5;124;03m    :rtype: requests.Response\u001b[39;00m\n\u001b[1;32m    113\u001b[0m \u001b[38;5;124;03m    \"\"\"\u001b[39;00m\n\u001b[0;32m--> 115\u001b[0m     \u001b[38;5;28;01mreturn\u001b[39;00m \u001b[43mrequest\u001b[49m\u001b[43m(\u001b[49m\u001b[38;5;124;43m\"\u001b[39;49m\u001b[38;5;124;43mpost\u001b[39;49m\u001b[38;5;124;43m\"\u001b[39;49m\u001b[43m,\u001b[49m\u001b[43m \u001b[49m\u001b[43murl\u001b[49m\u001b[43m,\u001b[49m\u001b[43m \u001b[49m\u001b[43mdata\u001b[49m\u001b[38;5;241;43m=\u001b[39;49m\u001b[43mdata\u001b[49m\u001b[43m,\u001b[49m\u001b[43m \u001b[49m\u001b[43mjson\u001b[49m\u001b[38;5;241;43m=\u001b[39;49m\u001b[43mjson\u001b[49m\u001b[43m,\u001b[49m\u001b[43m \u001b[49m\u001b[38;5;241;43m*\u001b[39;49m\u001b[38;5;241;43m*\u001b[39;49m\u001b[43mkwargs\u001b[49m\u001b[43m)\u001b[49m\n",
      "File \u001b[0;32m~/Library/miniforge3/envs/rt-web-crawler/lib/python3.9/site-packages/requests/api.py:59\u001b[0m, in \u001b[0;36mrequest\u001b[0;34m(method, url, **kwargs)\u001b[0m\n\u001b[1;32m     55\u001b[0m \u001b[38;5;66;03m# By using the 'with' statement we are sure the session is closed, thus we\u001b[39;00m\n\u001b[1;32m     56\u001b[0m \u001b[38;5;66;03m# avoid leaving sockets open which can trigger a ResourceWarning in some\u001b[39;00m\n\u001b[1;32m     57\u001b[0m \u001b[38;5;66;03m# cases, and look like a memory leak in others.\u001b[39;00m\n\u001b[1;32m     58\u001b[0m \u001b[38;5;28;01mwith\u001b[39;00m sessions\u001b[38;5;241m.\u001b[39mSession() \u001b[38;5;28;01mas\u001b[39;00m session:\n\u001b[0;32m---> 59\u001b[0m     \u001b[38;5;28;01mreturn\u001b[39;00m \u001b[43msession\u001b[49m\u001b[38;5;241;43m.\u001b[39;49m\u001b[43mrequest\u001b[49m\u001b[43m(\u001b[49m\u001b[43mmethod\u001b[49m\u001b[38;5;241;43m=\u001b[39;49m\u001b[43mmethod\u001b[49m\u001b[43m,\u001b[49m\u001b[43m \u001b[49m\u001b[43murl\u001b[49m\u001b[38;5;241;43m=\u001b[39;49m\u001b[43murl\u001b[49m\u001b[43m,\u001b[49m\u001b[43m \u001b[49m\u001b[38;5;241;43m*\u001b[39;49m\u001b[38;5;241;43m*\u001b[39;49m\u001b[43mkwargs\u001b[49m\u001b[43m)\u001b[49m\n",
      "File \u001b[0;32m~/Library/miniforge3/envs/rt-web-crawler/lib/python3.9/site-packages/requests/sessions.py:589\u001b[0m, in \u001b[0;36mSession.request\u001b[0;34m(self, method, url, params, data, headers, cookies, files, auth, timeout, allow_redirects, proxies, hooks, stream, verify, cert, json)\u001b[0m\n\u001b[1;32m    584\u001b[0m send_kwargs \u001b[38;5;241m=\u001b[39m {\n\u001b[1;32m    585\u001b[0m     \u001b[38;5;124m\"\u001b[39m\u001b[38;5;124mtimeout\u001b[39m\u001b[38;5;124m\"\u001b[39m: timeout,\n\u001b[1;32m    586\u001b[0m     \u001b[38;5;124m\"\u001b[39m\u001b[38;5;124mallow_redirects\u001b[39m\u001b[38;5;124m\"\u001b[39m: allow_redirects,\n\u001b[1;32m    587\u001b[0m }\n\u001b[1;32m    588\u001b[0m send_kwargs\u001b[38;5;241m.\u001b[39mupdate(settings)\n\u001b[0;32m--> 589\u001b[0m resp \u001b[38;5;241m=\u001b[39m \u001b[38;5;28;43mself\u001b[39;49m\u001b[38;5;241;43m.\u001b[39;49m\u001b[43msend\u001b[49m\u001b[43m(\u001b[49m\u001b[43mprep\u001b[49m\u001b[43m,\u001b[49m\u001b[43m \u001b[49m\u001b[38;5;241;43m*\u001b[39;49m\u001b[38;5;241;43m*\u001b[39;49m\u001b[43msend_kwargs\u001b[49m\u001b[43m)\u001b[49m\n\u001b[1;32m    591\u001b[0m \u001b[38;5;28;01mreturn\u001b[39;00m resp\n",
      "File \u001b[0;32m~/Library/miniforge3/envs/rt-web-crawler/lib/python3.9/site-packages/requests/sessions.py:703\u001b[0m, in \u001b[0;36mSession.send\u001b[0;34m(self, request, **kwargs)\u001b[0m\n\u001b[1;32m    700\u001b[0m start \u001b[38;5;241m=\u001b[39m preferred_clock()\n\u001b[1;32m    702\u001b[0m \u001b[38;5;66;03m# Send the request\u001b[39;00m\n\u001b[0;32m--> 703\u001b[0m r \u001b[38;5;241m=\u001b[39m \u001b[43madapter\u001b[49m\u001b[38;5;241;43m.\u001b[39;49m\u001b[43msend\u001b[49m\u001b[43m(\u001b[49m\u001b[43mrequest\u001b[49m\u001b[43m,\u001b[49m\u001b[43m \u001b[49m\u001b[38;5;241;43m*\u001b[39;49m\u001b[38;5;241;43m*\u001b[39;49m\u001b[43mkwargs\u001b[49m\u001b[43m)\u001b[49m\n\u001b[1;32m    705\u001b[0m \u001b[38;5;66;03m# Total elapsed time of the request (approximately)\u001b[39;00m\n\u001b[1;32m    706\u001b[0m elapsed \u001b[38;5;241m=\u001b[39m preferred_clock() \u001b[38;5;241m-\u001b[39m start\n",
      "File \u001b[0;32m~/Library/miniforge3/envs/rt-web-crawler/lib/python3.9/site-packages/requests/adapters.py:501\u001b[0m, in \u001b[0;36mHTTPAdapter.send\u001b[0;34m(self, request, stream, timeout, verify, cert, proxies)\u001b[0m\n\u001b[1;32m    486\u001b[0m     resp \u001b[38;5;241m=\u001b[39m conn\u001b[38;5;241m.\u001b[39murlopen(\n\u001b[1;32m    487\u001b[0m         method\u001b[38;5;241m=\u001b[39mrequest\u001b[38;5;241m.\u001b[39mmethod,\n\u001b[1;32m    488\u001b[0m         url\u001b[38;5;241m=\u001b[39murl,\n\u001b[0;32m   (...)\u001b[0m\n\u001b[1;32m    497\u001b[0m         chunked\u001b[38;5;241m=\u001b[39mchunked,\n\u001b[1;32m    498\u001b[0m     )\n\u001b[1;32m    500\u001b[0m \u001b[38;5;28;01mexcept\u001b[39;00m (ProtocolError, \u001b[38;5;167;01mOSError\u001b[39;00m) \u001b[38;5;28;01mas\u001b[39;00m err:\n\u001b[0;32m--> 501\u001b[0m     \u001b[38;5;28;01mraise\u001b[39;00m \u001b[38;5;167;01mConnectionError\u001b[39;00m(err, request\u001b[38;5;241m=\u001b[39mrequest)\n\u001b[1;32m    503\u001b[0m \u001b[38;5;28;01mexcept\u001b[39;00m MaxRetryError \u001b[38;5;28;01mas\u001b[39;00m e:\n\u001b[1;32m    504\u001b[0m     \u001b[38;5;28;01mif\u001b[39;00m \u001b[38;5;28misinstance\u001b[39m(e\u001b[38;5;241m.\u001b[39mreason, ConnectTimeoutError):\n\u001b[1;32m    505\u001b[0m         \u001b[38;5;66;03m# TODO: Remove this in 3.0.0: see #2811\u001b[39;00m\n",
      "\u001b[0;31mConnectionError\u001b[0m: ('Connection aborted.', TimeoutError(60, 'Operation timed out'))"
     ]
    }
   ],
   "source": [
    "result = [None] *  len(all_documents)\n",
    "for i, caption in tqdm(enumerate(all_documents['document_title']), total=len(all_documents)):\n",
    "    result[i] = analyze_text(caption).assign(doc_id = i)\n",
    "\n",
    "result = concat(result, axis=0)\n",
    "display(result)"
   ]
  },
  {
   "cell_type": "markdown",
   "id": "dfe9b28e-fa4c-4f8b-811c-91451149790c",
   "metadata": {},
   "source": [
    "## III. Sisendtekstide analüüs\n",
    "\n",
    "Kõige lihtsam on anomaalilad tuvastada analüüsides esmalt sõna algvorme (lemmasid).\n",
    "Kõigepealt on kasulik otsida anomaaliaid harva esinevate algvormide hulgast."
   ]
  },
  {
   "cell_type": "code",
   "execution_count": null,
   "id": "8f13c4cc-ca11-44ef-a4db-fa6cfd67a695",
   "metadata": {},
   "outputs": [],
   "source": [
    "lemma_counts = (result\n",
    "                .groupby('lemma').agg(occurence_count=('lemma', len), document_count = ('doc_id', lambda x: len(set(x))))\n",
    "                .sort_values(['occurence_count', 'document_count'], ascending=False).reset_index()\n",
    "                .pipe(lambda df: df[df['lemma'].str.len() > 0])\n",
    "               )\n",
    "display(lemma_counts.tail(15))"
   ]
  },
  {
   "cell_type": "markdown",
   "id": "624e27d6-d90e-41b9-a56c-f771ea674193",
   "metadata": {},
   "source": [
    "**Tulemus:** Harva esinevate lemmade hulgas on tõesti palju anomaalseid sõnu. "
   ]
  },
  {
   "cell_type": "code",
   "execution_count": null,
   "id": "e692d29b-f1db-4ef3-b86e-33f7dfa2cfd4",
   "metadata": {},
   "outputs": [],
   "source": [
    "ESTONIAN_LETTER = '[a-z|öäõü|\\-|žš]'\n",
    "ESTONIAN_LETTERS_ONLY = f'^(?:{ESTONIAN_LETTER})+$' "
   ]
  },
  {
   "cell_type": "markdown",
   "id": "1a2de46e-5ab9-4a5d-aa66-e267f80b0eeb",
   "metadata": {},
   "source": [
    "Vaatame neid erandlikke sõnu lähemalt jättes alles kõik need sõnad, mis sisaldavad eesti tähestikku mitte kuuluvaid sümboleid."
   ]
  },
  {
   "cell_type": "code",
   "execution_count": null,
   "id": "02da1fe2-6b63-4047-aaf5-a76e7385a66e",
   "metadata": {},
   "outputs": [],
   "source": [
    "incorrect = ~lemma_counts['lemma'].str.contains(ESTONIAN_LETTERS_ONLY, case=False, regex=True)\n",
    "display(concat([\n",
    "    lemma_counts[incorrect]\n",
    "    .head(15)\n",
    "    .reset_index(drop=True),\n",
    "    lemma_counts[incorrect]\n",
    "    .tail(15)\n",
    "    .reset_index(drop=True)], axis=1))"
   ]
  },
  {
   "cell_type": "markdown",
   "id": "e850447d-00d8-4add-bf0d-2bdca87c44b9",
   "metadata": {},
   "source": [
    "**Tulemus:** Lemmade hulgas on palju spetsiifilisi sõnu: kirjavahemärke ja aastanumbreid.\n"
   ]
  },
  {
   "cell_type": "code",
   "execution_count": null,
   "id": "398822a3-741f-475a-9faf-c454918de241",
   "metadata": {},
   "outputs": [],
   "source": [
    "NUMBER_SYMBOLS = '[0-9]'\n",
    "NUMBERS_ONLY = f'^{NUMBER_SYMBOLS}+$'\n",
    "numbers = lemma_counts['lemma'].str.contains(NUMBERS_ONLY, case=False, regex=True)\n",
    "unanalysed = incorrect & ~ numbers\n",
    "display(lemma_counts[unanalysed & lemma_counts['lemma'].str.contains(f'{NUMBER_SYMBOLS}+')])"
   ]
  },
  {
   "cell_type": "markdown",
   "id": "96b6ecd3-87ae-48d5-ad78-cdff713439df",
   "metadata": {},
   "source": [
    "**Tulemus:** Lisaks numbritele on meil ka numbrivahemikud"
   ]
  },
  {
   "cell_type": "code",
   "execution_count": null,
   "id": "9abe0dc9-5a98-4908-b060-405dcdfe799e",
   "metadata": {},
   "outputs": [],
   "source": [
    "DASH_SYMBOLS = '[-−‒]'\n",
    "SLASH_SYMBOLS = '[/]'\n",
    "NUMBER = f'{NUMBER_SYMBOLS}+'\n",
    "NUMBER_RANGE = f'(?:(?:{NUMBER})?{DASH_SYMBOLS}{NUMBER})|(?:{NUMBER}{DASH_SYMBOLS})|(?:{NUMBER}{SLASH_SYMBOLS}{NUMBER})'\n",
    "NUMBER_RANGE_ONLY = f'^(?:{NUMBER_RANGE})$'\n",
    "number_range = lemma_counts['lemma'].str.contains(NUMBER_RANGE_ONLY)\n",
    "assert re.match(NUMBER_RANGE_ONLY, '-2012') is not None\n",
    "assert re.match(NUMBER_RANGE_ONLY, '1930-2023') is not None\n",
    "assert re.match(NUMBER_RANGE_ONLY, '2017/2018') is not None\n",
    "assert re.match(NUMBER_RANGE_ONLY, '−2025') is not None\n",
    "assert re.match(NUMBER_RANGE_ONLY, '2017-') is not None\n",
    "assert re.match(NUMBER_RANGE_ONLY, '2014‒2020') is not None\n",
    "unanalysed = incorrect & ~ numbers & ~number_range \n",
    "display(lemma_counts[unanalysed & lemma_counts['lemma'].str.contains(NUMBER)])"
   ]
  },
  {
   "cell_type": "markdown",
   "id": "8ea700f0-b1ec-482e-a39f-ff150789d050",
   "metadata": {},
   "source": [
    "**Tulemus:** Lisaks numbrivahemikele on olemas ka protsendid ja kirjavahemärgid"
   ]
  },
  {
   "cell_type": "code",
   "execution_count": null,
   "id": "87c2e661-37f6-4573-86c5-28bb3f76309f",
   "metadata": {},
   "outputs": [],
   "source": [
    "PERCENT_SYMBOLS ='[%]'\n",
    "PERCENT_ONLY = f'^(?:{NUMBER}{PERCENT_SYMBOLS})$'\n",
    "PUNCTUATION_MARK_ONLY =f'^(?:{PUNCTUATION_MARK})$'\n",
    "percents = lemma_counts['lemma'].str.contains(PERCENT_ONLY)\n",
    "punctuation_marks = lemma_counts['lemma'].str.contains(PUNCTUATION_MARK_ONLY)\n",
    "unanalysed = incorrect & ~ numbers & ~number_range & ~percents & ~punctuation_marks \n",
    "display(lemma_counts[unanalysed & lemma_counts['lemma'].str.contains(NUMBER)])"
   ]
  },
  {
   "cell_type": "markdown",
   "id": "4e1efd9b-ec6c-4f02-8da3-e38f0c0c149c",
   "metadata": {},
   "source": [
    "**Tulemus:** Jutumärgid on jäänud kirjavahemärkide hulgast välja."
   ]
  },
  {
   "cell_type": "code",
   "execution_count": null,
   "id": "2e3b112b-15dd-4105-828e-ea09c8639f74",
   "metadata": {},
   "outputs": [],
   "source": [
    "PUNCTUATION_MARK = '[\\.,:;!?\"ˮ“\\)\\(]'\n",
    "PUNCTUATION_MARK_GROUP = f'(?P<mark>{PUNCTUATION_MARK})'\n",
    "PUNCTUATION_MARK_REPLACEMENT = r' \\g<mark> '\n",
    "assert re.sub(PUNCTUATION_MARK_GROUP, PUNCTUATION_MARK_REPLACEMENT, 'male,kabe') == 'male , kabe'\n",
    "assert re.sub(PUNCTUATION_MARK_GROUP, PUNCTUATION_MARK_REPLACEMENT, '2010ˮ') == '2010 ˮ '\n",
    "assert re.sub(PUNCTUATION_MARK_GROUP, PUNCTUATION_MARK_REPLACEMENT, '(2010)') == ' ( 2010 ) '\n",
    "punctuation = lemma_counts['lemma'].str.contains(f'^{PUNCTUATION_MARK}$')\n",
    "display(lemma_counts[punctuation].style.set_caption('Kirjavahemärgid'))\n",
    "unanalysed &= ~punctuation\n",
    "display(lemma_counts[unanalysed].head().style.set_caption('Veel liigitamata sõnad'))\n",
    "display(lemma_counts[unanalysed & (lemma_counts['lemma'].str.len() == 1)].style.set_caption('Ühetähelised liigitamata sõnad'))"
   ]
  },
  {
   "cell_type": "markdown",
   "id": "b8a73c53-b871-4c36-a4e8-f49efa667998",
   "metadata": {},
   "source": [
    "**Tulemus:** Lisaks punktuatsioonile on veel sümboleid, mida peaks ignoreerima.\n",
    "\n",
    "Vaatame nüüd kahetähelisi ja kolmetähelisi sõnu, sest need sisaldavad ilmsesti ootamatuid sümboleid.  "
   ]
  },
  {
   "cell_type": "code",
   "execution_count": null,
   "id": "b527a1f1-c54c-43a4-93e8-2f6fdaeaceb4",
   "metadata": {},
   "outputs": [],
   "source": [
    "OTHER_SYMBOLS = '[§/−a]'\n",
    "OTHER_SYMBOLS_ONLY=f'^(?:{OTHER_SYMBOLS})$'\n",
    "other_symbols = lemma_counts['lemma'].str.contains(OTHER_SYMBOLS_ONLY)\n",
    "unanalysed &= ~ other_symbols\n",
    "display(lemma_counts[unanalysed].head().style.set_caption('Veel liigitamata sõnad'))\n",
    "display(lemma_counts[unanalysed & (lemma_counts['lemma'].str.len() == 2)].style.set_caption('Kahetähelised liigitamata sõnad'))\n",
    "display(lemma_counts[unanalysed & (lemma_counts['lemma'].str.len() == 3)].style.set_caption('Kolmetähelised liigitamata sõnad'))"
   ]
  },
  {
   "cell_type": "markdown",
   "id": "9349c01c-ae43-4046-b357-17a77b07f787",
   "metadata": {},
   "source": [
    "**Tulemus:** Spetsiaalsed ülaindeksite sümboleid tähistavad sümbolid on problemaatilised."
   ]
  },
  {
   "cell_type": "markdown",
   "id": "ab92cb35-f992-4a04-89e5-840c723e62da",
   "metadata": {},
   "source": [
    "Uurime seda täpsemalt filtreerides välja kõik sõnad, milles olevaid sümboleid me juba lubame."
   ]
  },
  {
   "cell_type": "code",
   "execution_count": null,
   "id": "59931a3a-98f2-49fd-8998-edd31646b5d0",
   "metadata": {},
   "outputs": [],
   "source": [
    "ALLOWED_SYMBOLS = f'{ESTONIAN_LETTER}|{NUMBER_SYMBOLS}|{PUNCTUATION_MARK}|{DASH_SYMBOLS}|{SLASH_SYMBOLS}|{PERCENT_SYMBOLS}|{OTHER_SYMBOLS}'\n",
    "lemma_counts[unanalysed & ~lemma_counts['lemma'].str.contains(f'^(?:{ALLOWED_SYMBOLS})+$', regex=True, case=False)]"
   ]
  },
  {
   "cell_type": "markdown",
   "id": "55b65e78-2023-4a91-a896-820a64b25dd5",
   "metadata": {},
   "source": [
    "**Tulemus:** Eestikeele tähestikku tuleb veel lisada paar tähte katmaks ära võõrkeelseid nimesid."
   ]
  },
  {
   "cell_type": "code",
   "execution_count": null,
   "id": "55ebe508-5f67-4508-b4a1-3dd11adbc043",
   "metadata": {},
   "outputs": [],
   "source": [
    "ESTONIAN_LETTER = '[a-z|öäõü|\\\\-|žš|ôíë]'\n",
    "ALLOWED_SYMBOLS = f'{ESTONIAN_LETTER}|{NUMBER_SYMBOLS}|{PUNCTUATION_MARK}|{DASH_SYMBOLS}|{SLASH_SYMBOLS}|{PERCENT_SYMBOLS}|{OTHER_SYMBOLS}'\n",
    "lemma_counts[unanalysed & ~lemma_counts['lemma'].str.contains(f'^(?:{ALLOWED_SYMBOLS})+$', regex=True, case=False)]"
   ]
  },
  {
   "cell_type": "markdown",
   "id": "3524ee03-38df-4c61-9632-478854596c65",
   "metadata": {},
   "source": [
    "**Tulemus:** Paljudes sõnades on unicode superskripti sümbolid. "
   ]
  },
  {
   "cell_type": "code",
   "execution_count": null,
   "id": "f247637d-7403-45b1-a529-011f2678aa3f",
   "metadata": {},
   "outputs": [],
   "source": [
    "SUBSCRIPT_SYMBOLS = '[₀₁₂₃₄₅₆₇₈₉₊₋]'\n",
    "SUPERSCRIPT_SYMBOLS = '[⁰¹²³⁴⁵⁶⁷⁸⁹⁺⁻]'\n",
    "lemma_counts[lemma_counts['lemma'].str.contains(f'{SUPERSCRIPT_SYMBOLS}|{SUBSCRIPT_SYMBOLS}', regex=True)]"
   ]
  },
  {
   "cell_type": "code",
   "execution_count": null,
   "id": "1ac13dc3-5016-4389-bce4-c86c8d68fd82",
   "metadata": {},
   "outputs": [],
   "source": [
    "ALLOWED_SYMBOLS = (f'{ESTONIAN_LETTER}|{NUMBER_SYMBOLS}|{PUNCTUATION_MARK}|{DASH_SYMBOLS}' \n",
    "                  f'|{SLASH_SYMBOLS}|{PERCENT_SYMBOLS}|{OTHER_SYMBOLS}|{SUPERSCRIPT_SYMBOLS}|{SUBSCRIPT_SYMBOLS}')\n",
    "lemma_counts[unanalysed & ~lemma_counts['lemma'].str.contains(f'^(?:{ALLOWED_SYMBOLS})+$', regex=True, case=False)]"
   ]
  },
  {
   "cell_type": "markdown",
   "id": "dab80121-17b2-4248-a7a3-fdc8a9411b34",
   "metadata": {},
   "source": [
    "Leiame nüüd ülesse kõik sümbolid, mis jäävad lubatud sümbolitest välja."
   ]
  },
  {
   "cell_type": "code",
   "execution_count": null,
   "id": "97408f7a-f38b-4204-aec3-e57b69e0fccc",
   "metadata": {},
   "outputs": [],
   "source": [
    "idx = unanalysed & ~lemma_counts['lemma'].str.contains(f'^(?:{ALLOWED_SYMBOLS})+$', regex=True, case=False)\n",
    "set.union(*lemma_counts.loc[idx, 'lemma'].map(lambda x: set(x) - set(re.findall(ALLOWED_SYMBOLS, x, flags=re.IGNORECASE))))"
   ]
  },
  {
   "cell_type": "markdown",
   "id": "6a105354-0d6a-4e98-80ee-ef1795ef414a",
   "metadata": {},
   "source": [
    "* Siit on näha, et me peame uuendama oma kirjavahemärkide definitsiooni lisades sinna erinevaid jutumärke. \n",
    "* Kuna ülakomasid kasutatakse käändelõppude eraldamiseks ja me eraldame kirjavahemärgid tühikutega, siis neid me kirjavahemärkide  hulka ei pane.\n",
    "* Lisaks tuleb meil uuendada kriipsude sümboleid ning defineerida erikujuliste tühikute symbolid ning täiendada eestikeelset tähestikku."
   ]
  },
  {
   "cell_type": "code",
   "execution_count": null,
   "id": "e26a81ca-e3e4-4f66-84da-88bfcbd4f90c",
   "metadata": {},
   "outputs": [],
   "source": [
    "DASH_SYMBOLS = '[‑-−‒]'\n",
    "PUNCTUATION_MARK = '[\\\\.,:;!?¿\\\\(\\\\)«»„““ˮ\"‟”]'\n",
    "WHITESPACE_SYMBOLS = '[\\u200e\\ufeff]'\n",
    "OTHER_SYMBOLS = '[§/−a\\^]'\n",
    "ESTONIAN_LETTER = '[a-z|öäõü|\\\\-|žš|ôíëа]'\n",
    "\n",
    "ALLOWED_SYMBOLS = (f'{ESTONIAN_LETTER}|{NUMBER_SYMBOLS}|{PUNCTUATION_MARK}|{DASH_SYMBOLS}' \n",
    "                  f'|{SLASH_SYMBOLS}|{PERCENT_SYMBOLS}|{OTHER_SYMBOLS}|{SUPERSCRIPT_SYMBOLS}|{SUBSCRIPT_SYMBOLS}|{WHITESPACE_SYMBOLS}')\n",
    "lemma_counts[unanalysed & ~lemma_counts['lemma'].str.contains(f'^(?:{ALLOWED_SYMBOLS})+$', regex=True, case=False)]"
   ]
  },
  {
   "cell_type": "markdown",
   "id": "2f4b6463-4628-4a35-894d-c3128a324e46",
   "metadata": {},
   "source": [
    "## III. Sisendtekstide puhastamine\n",
    "\n",
    "Eelnevast analüüsist lähtuvalt saame me nüüd defineerida sisendtekstide puhastamise skriptid, mis parandavad esialgset naiivset tokenisatsiooni:\n",
    "* kõik tühikusümbolid ühestatakse;\n",
    "* kirjavahemärgid ning muud erisümbolid eraldatakse mõlemalt poolt tühikutega;\n",
    "* numbrivahemikkude korral eraldame kriipsu numbridümbolitest."
   ]
  },
  {
   "cell_type": "code",
   "execution_count": null,
   "id": "58af93ab-62ee-4c88-9b83-1c22817b368f",
   "metadata": {},
   "outputs": [],
   "source": [
    "ESTONIAN_LETTER = '[a-z|öäõüžš]'\n",
    "FOREIGN_LETTER = '[ôíëаa]'\n",
    "NUMBER_SYMBOLS = '[0-9]'\n",
    "\n",
    "# Tühikutega eraldatavad sümbolid \n",
    "PUNCTUATION_MARK = '[\\\\.,:;!?¿\\\\(\\\\)«»„““ˮ\"‟”]'\n",
    "SPECIAL_SYMBOLS = '[§/%\\^]'\n",
    "SUPERSCRIPT_SYMBOLS = '[⁰¹²³⁴⁵⁶⁷⁸⁹⁺⁻]'\n",
    "SUBSCRIPT_SYMBOLS = '[₀₁₂₃₄₅₆₇₈₉₊₋]'\n",
    "\n",
    "# Tühikutega asendatavad sümbolid  \n",
    "WHITESPACE_SYMBOLS = '[\\u200e\\ufeff]'\n",
    "\n",
    "# Teised lubatud sümbolid\n",
    "DASH_SYMBOLS = '[‑-−‒-]'\n",
    "OTHER_SYMBOLS = '[§/−a\\^]'"
   ]
  },
  {
   "cell_type": "code",
   "execution_count": null,
   "id": "c54126d3-245c-41fc-9af8-24a724c1b51b",
   "metadata": {},
   "outputs": [],
   "source": [
    "SEPARATION_GROUP = f'(?P<mark>{PUNCTUATION_MARK}|{SPECIAL_SYMBOLS}|{SUBSCRIPT_SYMBOLS}|{SUPERSCRIPT_SYMBOLS})'\n",
    "SEPARATION_GROUP_REPLACEMENT = r' \\g<mark> '\n",
    "assert re.sub(SEPARATION_GROUP, SEPARATION_GROUP_REPLACEMENT, 'male,kabe') == 'male , kabe'\n",
    "assert re.sub(SEPARATION_GROUP, SEPARATION_GROUP_REPLACEMENT, 'male/kabe') == 'male / kabe'\n",
    "assert re.sub(SEPARATION_GROUP, SEPARATION_GROUP_REPLACEMENT, 'male¹') == 'male ¹ '\n",
    "assert re.sub(SEPARATION_GROUP, SEPARATION_GROUP_REPLACEMENT, 'male₁') == 'male ₁ '\n",
    "\n",
    "DASH_GROUP = f'(?P<head>^|\\s|{WHITESPACE_SYMBOLS}|{NUMBER_SYMBOLS})(?P<dash>{DASH_SYMBOLS})(?P<tail>\\s|{WHITESPACE_SYMBOLS}|{NUMBER_SYMBOLS}|$)'\n",
    "DASH_GROUP_REPLACEMENT = r'\\g<head> \\g<dash> \\g<tail>'\n",
    "assert re.sub(DASH_GROUP, DASH_GROUP_REPLACEMENT, '1‑2') == '1 ‑ 2'\n",
    "assert re.sub(DASH_GROUP, DASH_GROUP_REPLACEMENT, '-2021') == ' - 2021'\n",
    "assert re.sub(DASH_GROUP, DASH_GROUP_REPLACEMENT, '2021- ') == '2021 -  '\n",
    "\n",
    "WHITESPACE_GROUP = f'(?:\\s|{WHITESPACE_SYMBOLS})+'\n",
    "assert re.sub(WHITESPACE_GROUP, ' ', '  ') == ' '\n",
    "assert re.sub(WHITESPACE_GROUP, ' ', '\\t  ') == ' '\n",
    "assert re.sub(WHITESPACE_GROUP, ' ', '\\u200e\\ufeff ') == ' '"
   ]
  },
  {
   "cell_type": "code",
   "execution_count": null,
   "id": "11a26301-d013-4dc3-bea2-54698428ec3a",
   "metadata": {},
   "outputs": [],
   "source": [
    "sources = {}\n",
    "sources['state_laws'] = read_csv('../results/source_texts/state_laws.csv', header=0)\n",
    "sources['government_regulations'] = read_csv('../results/source_texts/government_regulations.csv', header=0)\n",
    "sources['local_government_acts'] = read_csv('../results/source_texts/local_government_acts.csv', header=0)\n",
    "sources['government_orders'] = read_csv('../results/source_texts/government_orders.csv', header=0)"
   ]
  },
  {
   "cell_type": "code",
   "execution_count": null,
   "id": "a66e6415-6686-4ad4-b034-3134ac70d958",
   "metadata": {},
   "outputs": [],
   "source": [
    "for name, tbl in sources.items(): \n",
    "    tbl['document_title'] = tbl['document_title'].str.replace(SEPARATION_GROUP, SEPARATION_GROUP_REPLACEMENT, regex=True)\n",
    "    tbl['document_title'] = tbl['document_title'].str.replace(DASH_GROUP, DASH_GROUP_REPLACEMENT, regex=True)\n",
    "    tbl['document_title'] = tbl['document_title'].str.replace(WHITESPACE_GROUP, ' ', regex=True)\n",
    "    tbl.to_csv(f'../results/cleaned_texts/{name}.csv')"
   ]
  },
  {
   "cell_type": "markdown",
   "id": "ff404e29-e1f0-4cb7-b3e3-a15bf9f9a0bc",
   "metadata": {},
   "source": [
    "## IV. Puhastatud sisendtekstide valideerimine"
   ]
  },
  {
   "cell_type": "code",
   "execution_count": null,
   "id": "4f08ae46-6387-4abe-bbdc-93a84beeb295",
   "metadata": {},
   "outputs": [],
   "source": [
    "sources = {}\n",
    "sources['state_laws'] = read_csv('../results/cleaned_texts/state_laws.csv', header=0)\n",
    "sources['government_regulations'] = read_csv('../results/cleaned_texts/government_regulations.csv', header=0)\n",
    "sources['local_government_acts'] = read_csv('../results/cleaned_texts/local_government_acts.csv', header=0)\n",
    "sources['government_orders'] = read_csv('../results/cleaned_texts//government_orders.csv', header=0)"
   ]
  },
  {
   "cell_type": "code",
   "execution_count": null,
   "id": "27ec7520-f278-47b0-980d-6c26b2ce3ce7",
   "metadata": {},
   "outputs": [],
   "source": [
    "all_documents = concat([source for _,source in sources.items()], axis=0)"
   ]
  },
  {
   "cell_type": "code",
   "execution_count": null,
   "id": "fc683d65-03e9-42b3-a439-1276e7050222",
   "metadata": {},
   "outputs": [],
   "source": [
    "result = [None] *  len(all_documents)\n",
    "for i, caption in tqdm(enumerate(all_documents['document_title']), total=len(all_documents)):\n",
    "    result[i] = analyze_text(caption).assign(doc_id = i)\n",
    "\n",
    "result = concat(result, axis=0)\n",
    "display(result)"
   ]
  },
  {
   "cell_type": "code",
   "execution_count": null,
   "id": "bd7b403e-1598-4d04-9d37-3f3c85f0cf3f",
   "metadata": {},
   "outputs": [],
   "source": [
    "lemma_counts = (result\n",
    "                .groupby('lemma').agg(occurence_count=('lemma', len), document_count = ('doc_id', lambda x: len(set(x))))\n",
    "                .sort_values(['occurence_count', 'document_count'], ascending=False).reset_index()\n",
    "                .pipe(lambda df: df[df['lemma'].str.len() > 0])\n",
    "               )\n",
    "display(lemma_counts.tail(15))"
   ]
  },
  {
   "cell_type": "markdown",
   "id": "ba912527-32f7-496e-aced-4ca53f11f45b",
   "metadata": {},
   "source": [
    "**Kontroll:** Üheelemendiliste sümbolite hulgas pole tundmatuid sümboleid."
   ]
  },
  {
   "cell_type": "code",
   "execution_count": null,
   "id": "69e13dbc-881a-4219-ba7e-39919b5d943f",
   "metadata": {},
   "outputs": [],
   "source": [
    "idx = lemma_counts['lemma'].str.len() == 1\n",
    "idx &= ~lemma_counts['lemma'].str.contains(f'^(?:{ESTONIAN_LETTER}|{FOREIGN_LETTER}|{NUMBER_SYMBOLS})$', case=False)\n",
    "idx &= ~lemma_counts['lemma'].str.contains(f'^(?:{PUNCTUATION_MARK}|{SUBSCRIPT_SYMBOLS}|{SUPERSCRIPT_SYMBOLS})$', case=False)\n",
    "idx &= ~lemma_counts['lemma'].str.contains(f'^(?:{DASH_SYMBOLS}|{SPECIAL_SYMBOLS})$', case=False)\n",
    "assert not any(idx)"
   ]
  },
  {
   "cell_type": "markdown",
   "id": "566daf1f-c389-4761-8f75-cc5dfcd47441",
   "metadata": {},
   "source": [
    "**Filtreerimine:** Eemaldame kõik normaalsete tähetedega lemmad ja numbrid ja õhesümbolised sõnad."
   ]
  },
  {
   "cell_type": "code",
   "execution_count": null,
   "id": "14623ac2-37ab-4c5b-9c04-b138bba06c44",
   "metadata": {},
   "outputs": [],
   "source": [
    "unanalysed = lemma_counts['lemma'].str.len() != 1\n",
    "\n",
    "idx = lemma_counts['lemma'].str.contains(f'^(?:{ESTONIAN_LETTER}|{FOREIGN_LETTER})+$', case=False)\n",
    "unanalysed &= ~ idx\n",
    "display(lemma_counts[idx].sample(n=10))\n",
    "\n",
    "idx = lemma_counts['lemma'].str.contains(f'^(?:{NUMBER_SYMBOLS})+$', case=False)\n",
    "unanalysed &= ~ idx\n",
    "display(lemma_counts[idx].sample(n=10))"
   ]
  },
  {
   "cell_type": "markdown",
   "id": "84a9c1d4-1c50-4bd0-96a8-a94395a0575a",
   "metadata": {},
   "source": [
    "**Filtreerimine:** Eemaldame kõik sidekriipsuga sõnad"
   ]
  },
  {
   "cell_type": "code",
   "execution_count": null,
   "id": "670acce8-30d1-4b73-a7c9-9967822c75bb",
   "metadata": {},
   "outputs": [],
   "source": [
    "idx = lemma_counts['lemma'].str.contains(f'^(?:{ESTONIAN_LETTER}|{FOREIGN_LETTER}|{DASH_SYMBOLS})+$', case=False)\n",
    "display(lemma_counts[idx & unanalysed].sample(10))\n",
    "unanalysed &= ~idx"
   ]
  },
  {
   "cell_type": "markdown",
   "id": "f995bc5e-1998-4a68-bbbf-dc8c2fed39d0",
   "metadata": {},
   "source": [
    "**Tulemus:** Alles jääb hulk vigaseid sõnu ja lühendeid, mida tokenisatsioon ei peagi parandama:\n",
    "* superscripti sümbol on lisatud nimisõnale;\n",
    "* tekstile järgneb sidekriipsuga number;\n",
    "* valesti kirjutatud sõnad tüüpi 17-aastane;\n",
    "* lühendid kujul 104-k;\n",
    "* lühendid kujul 10a ja 9c."
   ]
  },
  {
   "cell_type": "code",
   "execution_count": null,
   "id": "50103f09-5005-4a7a-a1af-248c1dc94443",
   "metadata": {},
   "outputs": [],
   "source": [
    "pattern = f'^(?:{ESTONIAN_LETTER}|{FOREIGN_LETTER}|{DASH_SYMBOLS})*(?:{ESTONIAN_LETTER}|{FOREIGN_LETTER}){NUMBER_SYMBOLS}$'\n",
    "idx = lemma_counts['lemma'].str.contains(pattern, case=False)\n",
    "display(lemma_counts[idx])\n",
    "unanalysed &= ~ idx\n",
    "\n",
    "pattern = f'^(?:{ESTONIAN_LETTER}|{FOREIGN_LETTER})+{DASH_SYMBOLS}(?:{NUMBER_SYMBOLS})+$'\n",
    "idx = lemma_counts['lemma'].str.contains(pattern, case=False)\n",
    "display(lemma_counts[idx])\n",
    "unanalysed &= ~ idx\n",
    "\n",
    "pattern = f'^(?:{NUMBER_SYMBOLS})+(?:{ESTONIAN_LETTER}|{FOREIGN_LETTER})*ne$'\n",
    "idx = lemma_counts['lemma'].str.contains(pattern, case=False)\n",
    "display(lemma_counts[idx])\n",
    "unanalysed &= ~idx\n",
    "\n",
    "pattern = f'^(?:{NUMBER_SYMBOLS})+{DASH_SYMBOLS}{ESTONIAN_LETTER}$'\n",
    "idx = lemma_counts['lemma'].str.contains(pattern, case=False)\n",
    "display(lemma_counts[idx])\n",
    "unanalysed &= ~idx\n",
    "\n",
    "pattern = f'^(?:{NUMBER_SYMBOLS})+{ESTONIAN_LETTER}$'\n",
    "idx = lemma_counts['lemma'].str.contains(pattern, case=False)\n",
    "display(lemma_counts[idx])\n",
    "unanalysed &= ~idx"
   ]
  },
  {
   "cell_type": "markdown",
   "id": "01f4ea49-e4b5-414f-ae3d-0d75096d53a1",
   "metadata": {},
   "source": [
    "**Tulemus:** Allesjäänud lühendid ja sõnad on valiidsed."
   ]
  },
  {
   "cell_type": "code",
   "execution_count": null,
   "id": "35fc001e-6de4-4493-ae38-ad68c00b41e7",
   "metadata": {},
   "outputs": [],
   "source": [
    "lemma_counts[unanalysed]"
   ]
  }
 ],
 "metadata": {
  "kernelspec": {
   "display_name": "Python 3 (ipykernel)",
   "language": "python",
   "name": "python3"
  },
  "language_info": {
   "codemirror_mode": {
    "name": "ipython",
    "version": 3
   },
   "file_extension": ".py",
   "mimetype": "text/x-python",
   "name": "python",
   "nbconvert_exporter": "python",
   "pygments_lexer": "ipython3",
   "version": "3.9.18"
  }
 },
 "nbformat": 4,
 "nbformat_minor": 5
}
