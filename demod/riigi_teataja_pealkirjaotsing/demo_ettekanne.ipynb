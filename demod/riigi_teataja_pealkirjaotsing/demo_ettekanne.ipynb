{
 "cells": [
  {
   "cell_type": "markdown",
   "id": "41224bd0",
   "metadata": {
    "slideshow": {
     "slide_type": "slide"
    }
   },
   "source": [
    "<br>\n",
    "<center><h1>Tark otsing Riigi Teataja dokumentidel</h1></center>\n",
    "<br>\n",
    "<center><h3>Sven Laur* & Tarmo Vaino</h3> </center>"
   ]
  },
  {
   "cell_type": "markdown",
   "id": "fe7ef525",
   "metadata": {
    "slideshow": {
     "slide_type": "slide"
    }
   },
   "source": [
    "# Ettekande plaan\n",
    "\n",
    "* Peamised probleemid otsinguga üle eestikeelsest tekstide\n",
    "* Kuidas antud projekt neid probleeme lahendada püüab\n",
    "* Lihtsad töövahendid otsingu parandamiseks\n",
    "* Miks lihtsad lahendused ei tööta\n",
    "* Eelarvutustel põhinev lahendus "
   ]
  },
  {
   "cell_type": "code",
   "execution_count": 1,
   "id": "0c40553e",
   "metadata": {
    "slideshow": {
     "slide_type": "skip"
    }
   },
   "outputs": [],
   "source": [
    "import math\n",
    "import requests\n",
    "\n",
    "from datetime import date\n",
    "from pandas import DataFrame \n",
    "from pandas import read_csv\n",
    "from pandas import concat\n",
    "from pandas import merge\n",
    "from io import StringIO"
   ]
  },
  {
   "cell_type": "code",
   "execution_count": 2,
   "id": "bcd245d4",
   "metadata": {
    "slideshow": {
     "slide_type": "skip"
    }
   },
   "outputs": [
    {
     "data": {
      "text/html": [
       "<div>\n",
       "<style scoped>\n",
       "    .dataframe tbody tr th:only-of-type {\n",
       "        vertical-align: middle;\n",
       "    }\n",
       "\n",
       "    .dataframe tbody tr th {\n",
       "        vertical-align: top;\n",
       "    }\n",
       "\n",
       "    .dataframe thead th {\n",
       "        text-align: right;\n",
       "    }\n",
       "</style>\n",
       "<table border=\"1\" class=\"dataframe\">\n",
       "  <thead>\n",
       "    <tr style=\"text-align: right;\">\n",
       "      <th></th>\n",
       "      <th>document_type</th>\n",
       "      <th>document_title</th>\n",
       "      <th>commencement_date</th>\n",
       "      <th>global_id</th>\n",
       "    </tr>\n",
       "  </thead>\n",
       "  <tbody>\n",
       "    <tr>\n",
       "      <th>0</th>\n",
       "      <td>seadus</td>\n",
       "      <td>Riigikogu ja Vabariigi Presidendi poolt nimeta...</td>\n",
       "      <td>2014-01-01</td>\n",
       "      <td>129122012010</td>\n",
       "    </tr>\n",
       "    <tr>\n",
       "      <th>1</th>\n",
       "      <td>seadus</td>\n",
       "      <td>Riigikogu ja Vabariigi Presidendi poolt nimeta...</td>\n",
       "      <td>2013-01-01</td>\n",
       "      <td>128122011068</td>\n",
       "    </tr>\n",
       "    <tr>\n",
       "      <th>2</th>\n",
       "      <td>seadus</td>\n",
       "      <td>Riigikogu ja Vabariigi Presidendi poolt nimeta...</td>\n",
       "      <td>2012-01-01</td>\n",
       "      <td>13262582</td>\n",
       "    </tr>\n",
       "    <tr>\n",
       "      <th>3</th>\n",
       "      <td>seadus</td>\n",
       "      <td>Vabariigi Presidendi ametihüve seadus</td>\n",
       "      <td>2018-01-01</td>\n",
       "      <td>122062016013</td>\n",
       "    </tr>\n",
       "    <tr>\n",
       "      <th>4</th>\n",
       "      <td>seadus</td>\n",
       "      <td>Vabariigi Presidendi ametihüve seadus</td>\n",
       "      <td>2018-01-01</td>\n",
       "      <td>127062017010</td>\n",
       "    </tr>\n",
       "    <tr>\n",
       "      <th>5</th>\n",
       "      <td>seadus</td>\n",
       "      <td>Vabariigi Presidendi ametihüve seadus</td>\n",
       "      <td>2016-07-01</td>\n",
       "      <td>113122014059</td>\n",
       "    </tr>\n",
       "    <tr>\n",
       "      <th>6</th>\n",
       "      <td>seadus</td>\n",
       "      <td>Vabariigi Presidendi ametihüve seadus</td>\n",
       "      <td>2014-01-01</td>\n",
       "      <td>129122011152</td>\n",
       "    </tr>\n",
       "    <tr>\n",
       "      <th>7</th>\n",
       "      <td>seadus</td>\n",
       "      <td>Vabariigi Presidendi ametihüve seadus</td>\n",
       "      <td>2012-01-01</td>\n",
       "      <td>128122010026</td>\n",
       "    </tr>\n",
       "    <tr>\n",
       "      <th>8</th>\n",
       "      <td>seadus</td>\n",
       "      <td>Vabariigi Presidendi ja Vabariigi Valitsuse li...</td>\n",
       "      <td>2004-07-01</td>\n",
       "      <td>769953</td>\n",
       "    </tr>\n",
       "    <tr>\n",
       "      <th>9</th>\n",
       "      <td>seadus</td>\n",
       "      <td>Vabariigi Presidendi töökorra seadus</td>\n",
       "      <td>2017-07-07</td>\n",
       "      <td>127062017011</td>\n",
       "    </tr>\n",
       "    <tr>\n",
       "      <th>10</th>\n",
       "      <td>seadus</td>\n",
       "      <td>Vabariigi Presidendi töökorra seadus</td>\n",
       "      <td>2012-01-01</td>\n",
       "      <td>121032011032</td>\n",
       "    </tr>\n",
       "    <tr>\n",
       "      <th>11</th>\n",
       "      <td>seadus</td>\n",
       "      <td>Vabariigi Presidendi valimise seadus</td>\n",
       "      <td>2013-04-01</td>\n",
       "      <td>110072012032</td>\n",
       "    </tr>\n",
       "  </tbody>\n",
       "</table>\n",
       "</div>"
      ],
      "text/plain": [
       "   document_type                                     document_title  \\\n",
       "0         seadus  Riigikogu ja Vabariigi Presidendi poolt nimeta...   \n",
       "1         seadus  Riigikogu ja Vabariigi Presidendi poolt nimeta...   \n",
       "2         seadus  Riigikogu ja Vabariigi Presidendi poolt nimeta...   \n",
       "3         seadus              Vabariigi Presidendi ametihüve seadus   \n",
       "4         seadus              Vabariigi Presidendi ametihüve seadus   \n",
       "5         seadus              Vabariigi Presidendi ametihüve seadus   \n",
       "6         seadus              Vabariigi Presidendi ametihüve seadus   \n",
       "7         seadus              Vabariigi Presidendi ametihüve seadus   \n",
       "8         seadus  Vabariigi Presidendi ja Vabariigi Valitsuse li...   \n",
       "9         seadus               Vabariigi Presidendi töökorra seadus   \n",
       "10        seadus               Vabariigi Presidendi töökorra seadus   \n",
       "11        seadus               Vabariigi Presidendi valimise seadus   \n",
       "\n",
       "   commencement_date     global_id  \n",
       "0         2014-01-01  129122012010  \n",
       "1         2013-01-01  128122011068  \n",
       "2         2012-01-01      13262582  \n",
       "3         2018-01-01  122062016013  \n",
       "4         2018-01-01  127062017010  \n",
       "5         2016-07-01  113122014059  \n",
       "6         2014-01-01  129122011152  \n",
       "7         2012-01-01  128122010026  \n",
       "8         2004-07-01        769953  \n",
       "9         2017-07-07  127062017011  \n",
       "10        2012-01-01  121032011032  \n",
       "11        2013-04-01  110072012032  "
      ]
     },
     "execution_count": 2,
     "metadata": {},
     "output_type": "execute_result"
    }
   ],
   "source": [
    "def search_rt_caption(wordform:str, match_type:str='koik_sonad', **kwargs):\n",
    "    \"\"\"\n",
    "    Potential match types are: \n",
    "    * autocomplete – leiab aktid, mille pealkirjas on suvalises järjekorras sõnad, mis algavad otsitud sõnadega\n",
    "    * koik_sonad – leiab aktid, mille pealkirjas esinevad kõik otsitud sõnad suvalises järjekorras\n",
    "    * täpne – leiab aktid, mille pealkirjas esineb otsitud fraas\n",
    "    \"\"\"\n",
    "    \n",
    "    SEARCH_QUERY = 'https://www.riigiteataja.ee/api/oigusakt_otsing/1/otsi'\n",
    "\n",
    "    ARG_STRUCTURE = \\\n",
    "    {\n",
    "        'leht': (int, 1),\n",
    "        'limiit': (int, 500),\n",
    "        'kehtiv': (date, None),\n",
    "        'tulemused': (bool, True),\n",
    "        'kehtivKehtetus': (bool, False),\n",
    "        'mitteJoustunud': (bool, False),\n",
    "        'kov': (bool, False),\n",
    "        'dokument': (str, 'seadus')\n",
    "    }\n",
    "\n",
    "    # Check that keyword arguments are correct and have right type \n",
    "    payload = kwargs.copy() \n",
    "    for key, value in payload.items():\n",
    "        arg_type, default_value = ARG_STRUCTURE.get(key, (None, None))\n",
    "        if arg_type is None:\n",
    "            raise ValueError(f'Unknown argument: {key}')\n",
    "        elif not isinstance(value, arg_type):\n",
    "            raise ValueError(f'Argument {key} must be of type {arg_type}')\n",
    "\n",
    "    # Update important payload arguments        \n",
    "    payload['leht'] = 1\n",
    "    payload['kehtiv'] = date.today()\n",
    "    payload['pealkiri'] = wordform\n",
    "    payload['pealkiriOtsinguTyyp'] = match_type\n",
    "    payload['filter'] = True\n",
    "    payload['grupeeri'] = False\n",
    "    payload['limiit'] = payload.get('limiit', 500)\n",
    "    payload['dokument'] = payload.get('dokument', 'seadus')\n",
    "        \n",
    "    response = requests.get(SEARCH_QUERY, params=payload)\n",
    "    assert response.status_code== 200, 'GET request failed'\n",
    "    response = response.json()\n",
    "\n",
    "    # Get the number of responce pages\n",
    "    assert 'aktid' in response, 'Missing payload'\n",
    "    assert 'metaandmed' in response, 'Missing meta field'\n",
    "    assert 'kokku' in response['metaandmed'], 'Missing meta field'\n",
    "    assert 'limiit' in response['metaandmed'], 'Missing meta field'\n",
    "\n",
    "    total_count = response['metaandmed']['kokku']\n",
    "    document_limit = response['metaandmed']['limiit']\n",
    "    max_page = math.ceil(total_count/document_limit)\n",
    "\n",
    "    if total_count == 0:\n",
    "        return DataFrame(columns=['document_type', 'document_title', 'commencement_date', 'global_id'])\n",
    "    \n",
    "    # Iterate over responce sheets\n",
    "    query_results = [None] * max_page \n",
    "    for page in range(max_page):\n",
    "\n",
    "        payload['leht'] = page + 1\n",
    "        response = requests.get(SEARCH_QUERY, params=payload)\n",
    "        assert response.status_code== 200, 'GET request failed'\n",
    "        response = response.json()\n",
    "\n",
    "        document_count = len(response['aktid'])\n",
    "        query_results[page] = DataFrame({\n",
    "            'document_type': [None] * document_count,             \n",
    "            'document_title': [None] * document_count, \n",
    "            'commencement_date': [None] * document_count,\n",
    "            'global_id': [None] * document_count})\n",
    "\n",
    "        for i, document in enumerate(response['aktid']):\n",
    "            query_results[page].loc[i, 'global_id'] = document['globaalID']\n",
    "            query_results[page].loc[i, 'document_title'] = document['pealkiri']\n",
    "            query_results[page].loc[i, 'document_type'] = document['liik']\n",
    "            query_results[page].loc[i, 'commencement_date'] = document['kehtivus'].get('algus')\n",
    "        \n",
    "    return (concat(query_results, axis=0)\n",
    "            .sort_values(['document_title', 'commencement_date'], ascending=[True, False])\n",
    "            .reset_index(drop=True))\n",
    "\n",
    "search_rt_caption('presidendi')"
   ]
  },
  {
   "cell_type": "markdown",
   "id": "127e715e",
   "metadata": {
    "slideshow": {
     "slide_type": "slide"
    }
   },
   "source": [
    "# Probleem 1\n",
    "\n",
    "Riigi Teataja otsingu järgi ei vasta otsisõnale **president** ühtegi seadust\n",
    "* RT otsing ei saa hakkama käändevormidega\n",
    "* Muutus president → presidendi pole isegi alamsõne  "
   ]
  },
  {
   "cell_type": "code",
   "execution_count": 3,
   "id": "d8c027a4",
   "metadata": {
    "slideshow": {
     "slide_type": "fragment"
    }
   },
   "outputs": [
    {
     "data": {
      "text/html": [
       "<div>\n",
       "<style scoped>\n",
       "    .dataframe tbody tr th:only-of-type {\n",
       "        vertical-align: middle;\n",
       "    }\n",
       "\n",
       "    .dataframe tbody tr th {\n",
       "        vertical-align: top;\n",
       "    }\n",
       "\n",
       "    .dataframe thead th {\n",
       "        text-align: right;\n",
       "    }\n",
       "</style>\n",
       "<table border=\"1\" class=\"dataframe\">\n",
       "  <thead>\n",
       "    <tr style=\"text-align: right;\">\n",
       "      <th></th>\n",
       "      <th>document_type</th>\n",
       "      <th>document_title</th>\n",
       "      <th>commencement_date</th>\n",
       "      <th>global_id</th>\n",
       "    </tr>\n",
       "  </thead>\n",
       "  <tbody>\n",
       "  </tbody>\n",
       "</table>\n",
       "</div>"
      ],
      "text/plain": [
       "Empty DataFrame\n",
       "Columns: [document_type, document_title, commencement_date, global_id]\n",
       "Index: []"
      ]
     },
     "execution_count": 3,
     "metadata": {},
     "output_type": "execute_result"
    }
   ],
   "source": [
    "search_rt_caption('president', match_type='koik_sonad')"
   ]
  },
  {
   "cell_type": "code",
   "execution_count": 4,
   "id": "58cbb6ac",
   "metadata": {
    "slideshow": {
     "slide_type": "fragment"
    }
   },
   "outputs": [
    {
     "data": {
      "text/html": [
       "<div>\n",
       "<style scoped>\n",
       "    .dataframe tbody tr th:only-of-type {\n",
       "        vertical-align: middle;\n",
       "    }\n",
       "\n",
       "    .dataframe tbody tr th {\n",
       "        vertical-align: top;\n",
       "    }\n",
       "\n",
       "    .dataframe thead th {\n",
       "        text-align: right;\n",
       "    }\n",
       "</style>\n",
       "<table border=\"1\" class=\"dataframe\">\n",
       "  <thead>\n",
       "    <tr style=\"text-align: right;\">\n",
       "      <th></th>\n",
       "      <th>document_type</th>\n",
       "      <th>document_title</th>\n",
       "      <th>commencement_date</th>\n",
       "      <th>global_id</th>\n",
       "    </tr>\n",
       "  </thead>\n",
       "  <tbody>\n",
       "  </tbody>\n",
       "</table>\n",
       "</div>"
      ],
      "text/plain": [
       "Empty DataFrame\n",
       "Columns: [document_type, document_title, commencement_date, global_id]\n",
       "Index: []"
      ]
     },
     "execution_count": 4,
     "metadata": {},
     "output_type": "execute_result"
    }
   ],
   "source": [
    "search_rt_caption('president', match_type='autocomplete')"
   ]
  },
  {
   "cell_type": "code",
   "execution_count": 5,
   "id": "8dccd356",
   "metadata": {
    "slideshow": {
     "slide_type": "subslide"
    }
   },
   "outputs": [
    {
     "data": {
      "text/html": [
       "<div>\n",
       "<style scoped>\n",
       "    .dataframe tbody tr th:only-of-type {\n",
       "        vertical-align: middle;\n",
       "    }\n",
       "\n",
       "    .dataframe tbody tr th {\n",
       "        vertical-align: top;\n",
       "    }\n",
       "\n",
       "    .dataframe thead th {\n",
       "        text-align: right;\n",
       "    }\n",
       "</style>\n",
       "<table border=\"1\" class=\"dataframe\">\n",
       "  <thead>\n",
       "    <tr style=\"text-align: right;\">\n",
       "      <th></th>\n",
       "      <th>document_type</th>\n",
       "      <th>document_title</th>\n",
       "      <th>commencement_date</th>\n",
       "      <th>global_id</th>\n",
       "    </tr>\n",
       "  </thead>\n",
       "  <tbody>\n",
       "    <tr>\n",
       "      <th>0</th>\n",
       "      <td>seadus</td>\n",
       "      <td>Riigikogu ja Vabariigi Presidendi poolt nimeta...</td>\n",
       "      <td>2014-01-01</td>\n",
       "      <td>129122012010</td>\n",
       "    </tr>\n",
       "    <tr>\n",
       "      <th>1</th>\n",
       "      <td>seadus</td>\n",
       "      <td>Riigikogu ja Vabariigi Presidendi poolt nimeta...</td>\n",
       "      <td>2013-01-01</td>\n",
       "      <td>128122011068</td>\n",
       "    </tr>\n",
       "    <tr>\n",
       "      <th>2</th>\n",
       "      <td>seadus</td>\n",
       "      <td>Riigikogu ja Vabariigi Presidendi poolt nimeta...</td>\n",
       "      <td>2012-01-01</td>\n",
       "      <td>13262582</td>\n",
       "    </tr>\n",
       "    <tr>\n",
       "      <th>3</th>\n",
       "      <td>seadus</td>\n",
       "      <td>Vabariigi Presidendi ametihüve seadus</td>\n",
       "      <td>2018-01-01</td>\n",
       "      <td>122062016013</td>\n",
       "    </tr>\n",
       "    <tr>\n",
       "      <th>4</th>\n",
       "      <td>seadus</td>\n",
       "      <td>Vabariigi Presidendi ametihüve seadus</td>\n",
       "      <td>2018-01-01</td>\n",
       "      <td>127062017010</td>\n",
       "    </tr>\n",
       "    <tr>\n",
       "      <th>5</th>\n",
       "      <td>seadus</td>\n",
       "      <td>Vabariigi Presidendi ametihüve seadus</td>\n",
       "      <td>2016-07-01</td>\n",
       "      <td>113122014059</td>\n",
       "    </tr>\n",
       "    <tr>\n",
       "      <th>6</th>\n",
       "      <td>seadus</td>\n",
       "      <td>Vabariigi Presidendi ametihüve seadus</td>\n",
       "      <td>2014-01-01</td>\n",
       "      <td>129122011152</td>\n",
       "    </tr>\n",
       "    <tr>\n",
       "      <th>7</th>\n",
       "      <td>seadus</td>\n",
       "      <td>Vabariigi Presidendi ametihüve seadus</td>\n",
       "      <td>2012-01-01</td>\n",
       "      <td>128122010026</td>\n",
       "    </tr>\n",
       "    <tr>\n",
       "      <th>8</th>\n",
       "      <td>seadus</td>\n",
       "      <td>Vabariigi Presidendi ja Vabariigi Valitsuse li...</td>\n",
       "      <td>2004-07-01</td>\n",
       "      <td>769953</td>\n",
       "    </tr>\n",
       "    <tr>\n",
       "      <th>9</th>\n",
       "      <td>seadus</td>\n",
       "      <td>Vabariigi Presidendi töökorra seadus</td>\n",
       "      <td>2017-07-07</td>\n",
       "      <td>127062017011</td>\n",
       "    </tr>\n",
       "    <tr>\n",
       "      <th>10</th>\n",
       "      <td>seadus</td>\n",
       "      <td>Vabariigi Presidendi töökorra seadus</td>\n",
       "      <td>2012-01-01</td>\n",
       "      <td>121032011032</td>\n",
       "    </tr>\n",
       "    <tr>\n",
       "      <th>11</th>\n",
       "      <td>seadus</td>\n",
       "      <td>Vabariigi Presidendi valimise seadus</td>\n",
       "      <td>2013-04-01</td>\n",
       "      <td>110072012032</td>\n",
       "    </tr>\n",
       "  </tbody>\n",
       "</table>\n",
       "</div>"
      ],
      "text/plain": [
       "   document_type                                     document_title  \\\n",
       "0         seadus  Riigikogu ja Vabariigi Presidendi poolt nimeta...   \n",
       "1         seadus  Riigikogu ja Vabariigi Presidendi poolt nimeta...   \n",
       "2         seadus  Riigikogu ja Vabariigi Presidendi poolt nimeta...   \n",
       "3         seadus              Vabariigi Presidendi ametihüve seadus   \n",
       "4         seadus              Vabariigi Presidendi ametihüve seadus   \n",
       "5         seadus              Vabariigi Presidendi ametihüve seadus   \n",
       "6         seadus              Vabariigi Presidendi ametihüve seadus   \n",
       "7         seadus              Vabariigi Presidendi ametihüve seadus   \n",
       "8         seadus  Vabariigi Presidendi ja Vabariigi Valitsuse li...   \n",
       "9         seadus               Vabariigi Presidendi töökorra seadus   \n",
       "10        seadus               Vabariigi Presidendi töökorra seadus   \n",
       "11        seadus               Vabariigi Presidendi valimise seadus   \n",
       "\n",
       "   commencement_date     global_id  \n",
       "0         2014-01-01  129122012010  \n",
       "1         2013-01-01  128122011068  \n",
       "2         2012-01-01      13262582  \n",
       "3         2018-01-01  122062016013  \n",
       "4         2018-01-01  127062017010  \n",
       "5         2016-07-01  113122014059  \n",
       "6         2014-01-01  129122011152  \n",
       "7         2012-01-01  128122010026  \n",
       "8         2004-07-01        769953  \n",
       "9         2017-07-07  127062017011  \n",
       "10        2012-01-01  121032011032  \n",
       "11        2013-04-01  110072012032  "
      ]
     },
     "execution_count": 5,
     "metadata": {},
     "output_type": "execute_result"
    }
   ],
   "source": [
    "search_rt_caption('presidendi', match_type='autocomplete')"
   ]
  },
  {
   "cell_type": "markdown",
   "id": "6afcb02b",
   "metadata": {
    "slideshow": {
     "slide_type": "slide"
    }
   },
   "source": [
    "# Probleem 2\n",
    "\n",
    "Riigi Teataja laiendatud otsingu järgi vastab otsisõnale **residendi** mitu seadust\n",
    "* Ükski neist pole seotud residentidega\n",
    "* Valepositiivsed tulevad selles et residendi → presidendi on alamsõne  "
   ]
  },
  {
   "cell_type": "code",
   "execution_count": 6,
   "id": "362a4742",
   "metadata": {
    "slideshow": {
     "slide_type": "subslide"
    }
   },
   "outputs": [
    {
     "data": {
      "text/html": [
       "<div>\n",
       "<style scoped>\n",
       "    .dataframe tbody tr th:only-of-type {\n",
       "        vertical-align: middle;\n",
       "    }\n",
       "\n",
       "    .dataframe tbody tr th {\n",
       "        vertical-align: top;\n",
       "    }\n",
       "\n",
       "    .dataframe thead th {\n",
       "        text-align: right;\n",
       "    }\n",
       "</style>\n",
       "<table border=\"1\" class=\"dataframe\">\n",
       "  <thead>\n",
       "    <tr style=\"text-align: right;\">\n",
       "      <th></th>\n",
       "      <th>document_type</th>\n",
       "      <th>document_title</th>\n",
       "      <th>commencement_date</th>\n",
       "      <th>global_id</th>\n",
       "    </tr>\n",
       "  </thead>\n",
       "  <tbody>\n",
       "    <tr>\n",
       "      <th>0</th>\n",
       "      <td>seadus</td>\n",
       "      <td>Riigikogu ja Vabariigi Presidendi poolt nimeta...</td>\n",
       "      <td>2014-01-01</td>\n",
       "      <td>129122012010</td>\n",
       "    </tr>\n",
       "    <tr>\n",
       "      <th>1</th>\n",
       "      <td>seadus</td>\n",
       "      <td>Riigikogu ja Vabariigi Presidendi poolt nimeta...</td>\n",
       "      <td>2013-01-01</td>\n",
       "      <td>128122011068</td>\n",
       "    </tr>\n",
       "    <tr>\n",
       "      <th>2</th>\n",
       "      <td>seadus</td>\n",
       "      <td>Riigikogu ja Vabariigi Presidendi poolt nimeta...</td>\n",
       "      <td>2012-01-01</td>\n",
       "      <td>13262582</td>\n",
       "    </tr>\n",
       "    <tr>\n",
       "      <th>3</th>\n",
       "      <td>seadus</td>\n",
       "      <td>Vabariigi Presidendi ametihüve seadus</td>\n",
       "      <td>2018-01-01</td>\n",
       "      <td>122062016013</td>\n",
       "    </tr>\n",
       "    <tr>\n",
       "      <th>4</th>\n",
       "      <td>seadus</td>\n",
       "      <td>Vabariigi Presidendi ametihüve seadus</td>\n",
       "      <td>2018-01-01</td>\n",
       "      <td>127062017010</td>\n",
       "    </tr>\n",
       "    <tr>\n",
       "      <th>5</th>\n",
       "      <td>seadus</td>\n",
       "      <td>Vabariigi Presidendi ametihüve seadus</td>\n",
       "      <td>2016-07-01</td>\n",
       "      <td>113122014059</td>\n",
       "    </tr>\n",
       "    <tr>\n",
       "      <th>6</th>\n",
       "      <td>seadus</td>\n",
       "      <td>Vabariigi Presidendi ametihüve seadus</td>\n",
       "      <td>2014-01-01</td>\n",
       "      <td>129122011152</td>\n",
       "    </tr>\n",
       "    <tr>\n",
       "      <th>7</th>\n",
       "      <td>seadus</td>\n",
       "      <td>Vabariigi Presidendi ametihüve seadus</td>\n",
       "      <td>2012-01-01</td>\n",
       "      <td>128122010026</td>\n",
       "    </tr>\n",
       "    <tr>\n",
       "      <th>8</th>\n",
       "      <td>seadus</td>\n",
       "      <td>Vabariigi Presidendi ja Vabariigi Valitsuse li...</td>\n",
       "      <td>2004-07-01</td>\n",
       "      <td>769953</td>\n",
       "    </tr>\n",
       "    <tr>\n",
       "      <th>9</th>\n",
       "      <td>seadus</td>\n",
       "      <td>Vabariigi Presidendi töökorra seadus</td>\n",
       "      <td>2017-07-07</td>\n",
       "      <td>127062017011</td>\n",
       "    </tr>\n",
       "    <tr>\n",
       "      <th>10</th>\n",
       "      <td>seadus</td>\n",
       "      <td>Vabariigi Presidendi töökorra seadus</td>\n",
       "      <td>2012-01-01</td>\n",
       "      <td>121032011032</td>\n",
       "    </tr>\n",
       "    <tr>\n",
       "      <th>11</th>\n",
       "      <td>seadus</td>\n",
       "      <td>Vabariigi Presidendi valimise seadus</td>\n",
       "      <td>2013-04-01</td>\n",
       "      <td>110072012032</td>\n",
       "    </tr>\n",
       "  </tbody>\n",
       "</table>\n",
       "</div>"
      ],
      "text/plain": [
       "   document_type                                     document_title  \\\n",
       "0         seadus  Riigikogu ja Vabariigi Presidendi poolt nimeta...   \n",
       "1         seadus  Riigikogu ja Vabariigi Presidendi poolt nimeta...   \n",
       "2         seadus  Riigikogu ja Vabariigi Presidendi poolt nimeta...   \n",
       "3         seadus              Vabariigi Presidendi ametihüve seadus   \n",
       "4         seadus              Vabariigi Presidendi ametihüve seadus   \n",
       "5         seadus              Vabariigi Presidendi ametihüve seadus   \n",
       "6         seadus              Vabariigi Presidendi ametihüve seadus   \n",
       "7         seadus              Vabariigi Presidendi ametihüve seadus   \n",
       "8         seadus  Vabariigi Presidendi ja Vabariigi Valitsuse li...   \n",
       "9         seadus               Vabariigi Presidendi töökorra seadus   \n",
       "10        seadus               Vabariigi Presidendi töökorra seadus   \n",
       "11        seadus               Vabariigi Presidendi valimise seadus   \n",
       "\n",
       "   commencement_date     global_id  \n",
       "0         2014-01-01  129122012010  \n",
       "1         2013-01-01  128122011068  \n",
       "2         2012-01-01      13262582  \n",
       "3         2018-01-01  122062016013  \n",
       "4         2018-01-01  127062017010  \n",
       "5         2016-07-01  113122014059  \n",
       "6         2014-01-01  129122011152  \n",
       "7         2012-01-01  128122010026  \n",
       "8         2004-07-01        769953  \n",
       "9         2017-07-07  127062017011  \n",
       "10        2012-01-01  121032011032  \n",
       "11        2013-04-01  110072012032  "
      ]
     },
     "execution_count": 6,
     "metadata": {},
     "output_type": "execute_result"
    }
   ],
   "source": [
    "search_rt_caption('residendi', match_type='autocomplete')"
   ]
  },
  {
   "cell_type": "code",
   "execution_count": 7,
   "id": "35625891",
   "metadata": {
    "slideshow": {
     "slide_type": "fragment"
    }
   },
   "outputs": [
    {
     "data": {
      "text/html": [
       "<div>\n",
       "<style scoped>\n",
       "    .dataframe tbody tr th:only-of-type {\n",
       "        vertical-align: middle;\n",
       "    }\n",
       "\n",
       "    .dataframe tbody tr th {\n",
       "        vertical-align: top;\n",
       "    }\n",
       "\n",
       "    .dataframe thead th {\n",
       "        text-align: right;\n",
       "    }\n",
       "</style>\n",
       "<table border=\"1\" class=\"dataframe\">\n",
       "  <thead>\n",
       "    <tr style=\"text-align: right;\">\n",
       "      <th></th>\n",
       "      <th>document_type</th>\n",
       "      <th>document_title</th>\n",
       "      <th>commencement_date</th>\n",
       "      <th>global_id</th>\n",
       "    </tr>\n",
       "  </thead>\n",
       "  <tbody>\n",
       "  </tbody>\n",
       "</table>\n",
       "</div>"
      ],
      "text/plain": [
       "Empty DataFrame\n",
       "Columns: [document_type, document_title, commencement_date, global_id]\n",
       "Index: []"
      ]
     },
     "execution_count": 7,
     "metadata": {},
     "output_type": "execute_result"
    }
   ],
   "source": [
    "search_rt_caption('residendi', match_type='koik_sonad')"
   ]
  },
  {
   "cell_type": "markdown",
   "id": "e85b85b7",
   "metadata": {
    "slideshow": {
     "slide_type": "slide"
    }
   },
   "source": [
    "# Probleem 3\n",
    "Riigi Teataja laiendatud otsingu ei leia ülesse **Strasbourgi** otsisõna\n",
    "* Kasutaja peab väga täpselt teadma kuidas kohanimi on käänatud\n",
    "* Laiendatud otsing välistab Strasbourgi alternatiivsed nimekujud Strasbourg'i ja Strasbourg-i"
   ]
  },
  {
   "cell_type": "code",
   "execution_count": 8,
   "id": "282b383b",
   "metadata": {
    "slideshow": {
     "slide_type": "fragment"
    }
   },
   "outputs": [
    {
     "data": {
      "text/html": [
       "<div>\n",
       "<style scoped>\n",
       "    .dataframe tbody tr th:only-of-type {\n",
       "        vertical-align: middle;\n",
       "    }\n",
       "\n",
       "    .dataframe tbody tr th {\n",
       "        vertical-align: top;\n",
       "    }\n",
       "\n",
       "    .dataframe thead th {\n",
       "        text-align: right;\n",
       "    }\n",
       "</style>\n",
       "<table border=\"1\" class=\"dataframe\">\n",
       "  <thead>\n",
       "    <tr style=\"text-align: right;\">\n",
       "      <th></th>\n",
       "      <th>document_type</th>\n",
       "      <th>document_title</th>\n",
       "      <th>commencement_date</th>\n",
       "      <th>global_id</th>\n",
       "    </tr>\n",
       "  </thead>\n",
       "  <tbody>\n",
       "  </tbody>\n",
       "</table>\n",
       "</div>"
      ],
      "text/plain": [
       "Empty DataFrame\n",
       "Columns: [document_type, document_title, commencement_date, global_id]\n",
       "Index: []"
      ]
     },
     "execution_count": 8,
     "metadata": {},
     "output_type": "execute_result"
    }
   ],
   "source": [
    "search_rt_caption('Strasbourgi', match_type='autocomplete')"
   ]
  },
  {
   "cell_type": "code",
   "execution_count": 9,
   "id": "5e8f4c49",
   "metadata": {
    "slideshow": {
     "slide_type": "fragment"
    }
   },
   "outputs": [
    {
     "data": {
      "text/html": [
       "<div>\n",
       "<style scoped>\n",
       "    .dataframe tbody tr th:only-of-type {\n",
       "        vertical-align: middle;\n",
       "    }\n",
       "\n",
       "    .dataframe tbody tr th {\n",
       "        vertical-align: top;\n",
       "    }\n",
       "\n",
       "    .dataframe thead th {\n",
       "        text-align: right;\n",
       "    }\n",
       "</style>\n",
       "<table border=\"1\" class=\"dataframe\">\n",
       "  <thead>\n",
       "    <tr style=\"text-align: right;\">\n",
       "      <th></th>\n",
       "      <th>document_type</th>\n",
       "      <th>document_title</th>\n",
       "      <th>commencement_date</th>\n",
       "      <th>global_id</th>\n",
       "    </tr>\n",
       "  </thead>\n",
       "  <tbody>\n",
       "    <tr>\n",
       "      <th>0</th>\n",
       "      <td>seadus</td>\n",
       "      <td>Rahvusvahelise patendiklassifikatsiooni Strasb...</td>\n",
       "      <td>2002-06-01</td>\n",
       "      <td>25055</td>\n",
       "    </tr>\n",
       "  </tbody>\n",
       "</table>\n",
       "</div>"
      ],
      "text/plain": [
       "  document_type                                     document_title  \\\n",
       "0        seadus  Rahvusvahelise patendiklassifikatsiooni Strasb...   \n",
       "\n",
       "  commencement_date global_id  \n",
       "0        2002-06-01     25055  "
      ]
     },
     "execution_count": 9,
     "metadata": {},
     "output_type": "execute_result"
    }
   ],
   "source": [
    "search_rt_caption(\"Strasbourg'i\", match_type='autocomplete')"
   ]
  },
  {
   "cell_type": "markdown",
   "id": "c63535d4",
   "metadata": {
    "slideshow": {
     "slide_type": "slide"
    }
   },
   "source": [
    "# Esialgne projektiplaan\n",
    "\n",
    "<img src=\"illustrations/summary.png\">"
   ]
  },
  {
   "cell_type": "markdown",
   "id": "49a4cbdf",
   "metadata": {},
   "source": [
    "# Universaalne teksti normaliseerija \n",
    "\n",
    "### I. Lemmatiseerija\n",
    "* Leiab sõnavormile vastavad algvormid. Neid võib olla mitu\n",
    "* Veebiteenus https://smart-search.tartunlp.ai/api/analyser/process\n",
    "\n",
    "### II. Speller\n",
    "* Leiab valesti kirjutatud sõnavormile kõige lähemad korrektsed vastsed\n",
    "* Veeniteenus https://smart-search.tartunlp.ai//api/speller/process\n",
    "* Demorakendus https://smart-search.tartunlp.ai/wp/speller/process\n"
   ]
  },
  {
   "cell_type": "markdown",
   "id": "fe9638e3",
   "metadata": {
    "slideshow": {
     "slide_type": "slide"
    }
   },
   "source": [
    "# Lemmatiseerija liidestamine"
   ]
  },
  {
   "cell_type": "code",
   "execution_count": 10,
   "id": "ce86da72",
   "metadata": {
    "slideshow": {
     "slide_type": "subslide"
    }
   },
   "outputs": [],
   "source": [
    "def analyze_text(text: str):\n",
    "    \n",
    "    # Webservice call\n",
    "    ANALYZER_QUERY = \"https://smart-search.tartunlp.ai/api/analyser/process\"\n",
    "    HEADERS = {\"Content-Type\": \"application/json; charset=utf-8\"}\n",
    "    POST_DATA_TEMPLATE = {'params': {\"vmetajson\": [\"--guess\"]}, 'content': text}\n",
    "    response = requests.post(ANALYZER_QUERY, json=POST_DATA_TEMPLATE, headers=HEADERS)\n",
    "    assert response.ok, \"Webservice failed\"\n",
    "    response = response.json()\n",
    "    \n",
    "    # Output reshaping\n",
    "    token_count = len(response['annotations']['tokens'])\n",
    "    tbl = DataFrame({'wordform': [None] * token_count, 'lemma': [None] * token_count})\n",
    "    for i, token in enumerate(response['annotations']['tokens']):\n",
    "        features = token['features']\n",
    "        tbl.loc[i, 'wordform'] = features['token']\n",
    "        tbl.loc[i, 'lemma'] = list(set(map(lambda x: x['lemma'], features['mrf'])))\n",
    "    tbl =  tbl.reset_index().explode('lemma')\n",
    "\n",
    "    # Post-correction for Vabamorph output. Remove special symbols \n",
    "    tbl['lemma'] = tbl['lemma'].str.replace('=', '', regex=False)\n",
    "    tbl['lemma'] = tbl['lemma'].str.replace('+', '', regex=False)\n",
    "    # Post-correction for sublemmas\n",
    "    tbl['sublemmas'] = tbl['lemma'].str.split('_', regex=False)\n",
    "    tbl['lemma'] = tbl['lemma'].str.replace('_', '', regex=False)\n",
    "    return tbl"
   ]
  },
  {
   "cell_type": "code",
   "execution_count": 11,
   "id": "e1bf31ad",
   "metadata": {
    "slideshow": {
     "slide_type": "subslide"
    }
   },
   "outputs": [
    {
     "data": {
      "text/html": [
       "<div>\n",
       "<style scoped>\n",
       "    .dataframe tbody tr th:only-of-type {\n",
       "        vertical-align: middle;\n",
       "    }\n",
       "\n",
       "    .dataframe tbody tr th {\n",
       "        vertical-align: top;\n",
       "    }\n",
       "\n",
       "    .dataframe thead th {\n",
       "        text-align: right;\n",
       "    }\n",
       "</style>\n",
       "<table border=\"1\" class=\"dataframe\">\n",
       "  <thead>\n",
       "    <tr style=\"text-align: right;\">\n",
       "      <th></th>\n",
       "      <th>index</th>\n",
       "      <th>wordform</th>\n",
       "      <th>lemma</th>\n",
       "      <th>sublemmas</th>\n",
       "    </tr>\n",
       "  </thead>\n",
       "  <tbody>\n",
       "    <tr>\n",
       "      <th>0</th>\n",
       "      <td>0</td>\n",
       "      <td>presidendi</td>\n",
       "      <td>president</td>\n",
       "      <td>[president]</td>\n",
       "    </tr>\n",
       "  </tbody>\n",
       "</table>\n",
       "</div>"
      ],
      "text/plain": [
       "   index    wordform      lemma    sublemmas\n",
       "0      0  presidendi  president  [president]"
      ]
     },
     "execution_count": 11,
     "metadata": {},
     "output_type": "execute_result"
    }
   ],
   "source": [
    "analyze_text('presidendi')"
   ]
  },
  {
   "cell_type": "code",
   "execution_count": 12,
   "id": "d7b34490",
   "metadata": {
    "slideshow": {
     "slide_type": "fragment"
    }
   },
   "outputs": [
    {
     "data": {
      "text/html": [
       "<div>\n",
       "<style scoped>\n",
       "    .dataframe tbody tr th:only-of-type {\n",
       "        vertical-align: middle;\n",
       "    }\n",
       "\n",
       "    .dataframe tbody tr th {\n",
       "        vertical-align: top;\n",
       "    }\n",
       "\n",
       "    .dataframe thead th {\n",
       "        text-align: right;\n",
       "    }\n",
       "</style>\n",
       "<table border=\"1\" class=\"dataframe\">\n",
       "  <thead>\n",
       "    <tr style=\"text-align: right;\">\n",
       "      <th></th>\n",
       "      <th>index</th>\n",
       "      <th>wordform</th>\n",
       "      <th>lemma</th>\n",
       "      <th>sublemmas</th>\n",
       "    </tr>\n",
       "  </thead>\n",
       "  <tbody>\n",
       "    <tr>\n",
       "      <th>0</th>\n",
       "      <td>0</td>\n",
       "      <td>tuumarelvakatsetuste</td>\n",
       "      <td>tuumarelvakatsetus</td>\n",
       "      <td>[tuuma, relva, katsetus]</td>\n",
       "    </tr>\n",
       "  </tbody>\n",
       "</table>\n",
       "</div>"
      ],
      "text/plain": [
       "   index              wordform               lemma                 sublemmas\n",
       "0      0  tuumarelvakatsetuste  tuumarelvakatsetus  [tuuma, relva, katsetus]"
      ]
     },
     "execution_count": 12,
     "metadata": {},
     "output_type": "execute_result"
    }
   ],
   "source": [
    "analyze_text('tuumarelvakatsetuste')"
   ]
  },
  {
   "cell_type": "code",
   "execution_count": 13,
   "id": "a441a6c9",
   "metadata": {
    "slideshow": {
     "slide_type": "fragment"
    }
   },
   "outputs": [
    {
     "data": {
      "text/html": [
       "<div>\n",
       "<style scoped>\n",
       "    .dataframe tbody tr th:only-of-type {\n",
       "        vertical-align: middle;\n",
       "    }\n",
       "\n",
       "    .dataframe tbody tr th {\n",
       "        vertical-align: top;\n",
       "    }\n",
       "\n",
       "    .dataframe thead th {\n",
       "        text-align: right;\n",
       "    }\n",
       "</style>\n",
       "<table border=\"1\" class=\"dataframe\">\n",
       "  <thead>\n",
       "    <tr style=\"text-align: right;\">\n",
       "      <th></th>\n",
       "      <th>index</th>\n",
       "      <th>wordform</th>\n",
       "      <th>lemma</th>\n",
       "      <th>sublemmas</th>\n",
       "    </tr>\n",
       "  </thead>\n",
       "  <tbody>\n",
       "    <tr>\n",
       "      <th>0</th>\n",
       "      <td>0</td>\n",
       "      <td>sadama</td>\n",
       "      <td>sada</td>\n",
       "      <td>[sada]</td>\n",
       "    </tr>\n",
       "    <tr>\n",
       "      <th>0</th>\n",
       "      <td>0</td>\n",
       "      <td>sadama</td>\n",
       "      <td>sadam</td>\n",
       "      <td>[sadam]</td>\n",
       "    </tr>\n",
       "  </tbody>\n",
       "</table>\n",
       "</div>"
      ],
      "text/plain": [
       "   index wordform  lemma sublemmas\n",
       "0      0   sadama   sada    [sada]\n",
       "0      0   sadama  sadam   [sadam]"
      ]
     },
     "execution_count": 13,
     "metadata": {},
     "output_type": "execute_result"
    }
   ],
   "source": [
    "analyze_text('sadama')"
   ]
  },
  {
   "cell_type": "code",
   "execution_count": 14,
   "id": "3d522361",
   "metadata": {
    "slideshow": {
     "slide_type": "fragment"
    }
   },
   "outputs": [
    {
     "data": {
      "text/html": [
       "<div>\n",
       "<style scoped>\n",
       "    .dataframe tbody tr th:only-of-type {\n",
       "        vertical-align: middle;\n",
       "    }\n",
       "\n",
       "    .dataframe tbody tr th {\n",
       "        vertical-align: top;\n",
       "    }\n",
       "\n",
       "    .dataframe thead th {\n",
       "        text-align: right;\n",
       "    }\n",
       "</style>\n",
       "<table border=\"1\" class=\"dataframe\">\n",
       "  <thead>\n",
       "    <tr style=\"text-align: right;\">\n",
       "      <th></th>\n",
       "      <th>index</th>\n",
       "      <th>wordform</th>\n",
       "      <th>lemma</th>\n",
       "      <th>sublemmas</th>\n",
       "    </tr>\n",
       "  </thead>\n",
       "  <tbody>\n",
       "    <tr>\n",
       "      <th>0</th>\n",
       "      <td>0</td>\n",
       "      <td>bresidentide</td>\n",
       "      <td>bresidenti</td>\n",
       "      <td>[bresidenti]</td>\n",
       "    </tr>\n",
       "    <tr>\n",
       "      <th>0</th>\n",
       "      <td>0</td>\n",
       "      <td>bresidentide</td>\n",
       "      <td>bresident</td>\n",
       "      <td>[bresident]</td>\n",
       "    </tr>\n",
       "  </tbody>\n",
       "</table>\n",
       "</div>"
      ],
      "text/plain": [
       "   index      wordform       lemma     sublemmas\n",
       "0      0  bresidentide  bresidenti  [bresidenti]\n",
       "0      0  bresidentide   bresident   [bresident]"
      ]
     },
     "execution_count": 14,
     "metadata": {},
     "output_type": "execute_result"
    }
   ],
   "source": [
    "analyze_text('bresidentide')"
   ]
  },
  {
   "cell_type": "markdown",
   "id": "2a05e4c8",
   "metadata": {
    "slideshow": {
     "slide_type": "slide"
    }
   },
   "source": [
    "# Spelleri liidestamine"
   ]
  },
  {
   "cell_type": "code",
   "execution_count": 15,
   "id": "bdef70c1",
   "metadata": {},
   "outputs": [],
   "source": [
    "def spell_text(text: str):\n",
    "\n",
    "    # Webservice call\n",
    "    SPELLER_QUERY = \"https://smart-search.tartunlp.ai/api/speller/process\"\n",
    "    HEADERS = {\"Content-Type\": \"application/json; charset=utf-8\"}\n",
    "    POST_DATA_TEMPLATE = {\"content\": text}\n",
    "    response = requests.post(SPELLER_QUERY, json=POST_DATA_TEMPLATE, headers=HEADERS)\n",
    "    assert response.ok, \"Webservice failed\"\n",
    "    response = response.json()\n",
    "    \n",
    "    # Output reshaping\n",
    "    token_count = len(response['annotations']['tokens'])\n",
    "    tbl = DataFrame({'wordform': [None] * token_count, 'suggestion': [None] * token_count})\n",
    "    for i, token in enumerate(response['annotations']['tokens']):\n",
    "        features = token['features']\n",
    "        tbl.loc[i, 'wordform'] = features['token']\n",
    "        tbl.loc[i, 'suggestion'] = features.get('suggestions', features['token'])\n",
    "\n",
    "    return tbl.reset_index().explode('suggestion')"
   ]
  },
  {
   "cell_type": "code",
   "execution_count": 16,
   "id": "c76336d6",
   "metadata": {
    "slideshow": {
     "slide_type": "slide"
    }
   },
   "outputs": [
    {
     "data": {
      "text/html": [
       "<div>\n",
       "<style scoped>\n",
       "    .dataframe tbody tr th:only-of-type {\n",
       "        vertical-align: middle;\n",
       "    }\n",
       "\n",
       "    .dataframe tbody tr th {\n",
       "        vertical-align: top;\n",
       "    }\n",
       "\n",
       "    .dataframe thead th {\n",
       "        text-align: right;\n",
       "    }\n",
       "</style>\n",
       "<table border=\"1\" class=\"dataframe\">\n",
       "  <thead>\n",
       "    <tr style=\"text-align: right;\">\n",
       "      <th></th>\n",
       "      <th>index</th>\n",
       "      <th>wordform</th>\n",
       "      <th>suggestion</th>\n",
       "    </tr>\n",
       "  </thead>\n",
       "  <tbody>\n",
       "    <tr>\n",
       "      <th>0</th>\n",
       "      <td>0</td>\n",
       "      <td>arhidekt</td>\n",
       "      <td>arhitekt</td>\n",
       "    </tr>\n",
       "  </tbody>\n",
       "</table>\n",
       "</div>"
      ],
      "text/plain": [
       "   index  wordform suggestion\n",
       "0      0  arhidekt   arhitekt"
      ]
     },
     "execution_count": 16,
     "metadata": {},
     "output_type": "execute_result"
    }
   ],
   "source": [
    "spell_text('arhidekt')"
   ]
  },
  {
   "cell_type": "code",
   "execution_count": 17,
   "id": "e51de303",
   "metadata": {
    "slideshow": {
     "slide_type": "fragment"
    }
   },
   "outputs": [
    {
     "data": {
      "text/html": [
       "<div>\n",
       "<style scoped>\n",
       "    .dataframe tbody tr th:only-of-type {\n",
       "        vertical-align: middle;\n",
       "    }\n",
       "\n",
       "    .dataframe tbody tr th {\n",
       "        vertical-align: top;\n",
       "    }\n",
       "\n",
       "    .dataframe thead th {\n",
       "        text-align: right;\n",
       "    }\n",
       "</style>\n",
       "<table border=\"1\" class=\"dataframe\">\n",
       "  <thead>\n",
       "    <tr style=\"text-align: right;\">\n",
       "      <th></th>\n",
       "      <th>index</th>\n",
       "      <th>wordform</th>\n",
       "      <th>suggestion</th>\n",
       "    </tr>\n",
       "  </thead>\n",
       "  <tbody>\n",
       "    <tr>\n",
       "      <th>0</th>\n",
       "      <td>0</td>\n",
       "      <td>bresident</td>\n",
       "      <td>resident</td>\n",
       "    </tr>\n",
       "    <tr>\n",
       "      <th>0</th>\n",
       "      <td>0</td>\n",
       "      <td>bresident</td>\n",
       "      <td>president</td>\n",
       "    </tr>\n",
       "  </tbody>\n",
       "</table>\n",
       "</div>"
      ],
      "text/plain": [
       "   index   wordform suggestion\n",
       "0      0  bresident   resident\n",
       "0      0  bresident  president"
      ]
     },
     "execution_count": 17,
     "metadata": {},
     "output_type": "execute_result"
    }
   ],
   "source": [
    "spell_text('bresident')"
   ]
  },
  {
   "cell_type": "code",
   "execution_count": 18,
   "id": "f9b3e5e1",
   "metadata": {
    "slideshow": {
     "slide_type": "fragment"
    }
   },
   "outputs": [
    {
     "data": {
      "text/html": [
       "<div>\n",
       "<style scoped>\n",
       "    .dataframe tbody tr th:only-of-type {\n",
       "        vertical-align: middle;\n",
       "    }\n",
       "\n",
       "    .dataframe tbody tr th {\n",
       "        vertical-align: top;\n",
       "    }\n",
       "\n",
       "    .dataframe thead th {\n",
       "        text-align: right;\n",
       "    }\n",
       "</style>\n",
       "<table border=\"1\" class=\"dataframe\">\n",
       "  <thead>\n",
       "    <tr style=\"text-align: right;\">\n",
       "      <th></th>\n",
       "      <th>index</th>\n",
       "      <th>wordform</th>\n",
       "      <th>suggestion</th>\n",
       "    </tr>\n",
       "  </thead>\n",
       "  <tbody>\n",
       "    <tr>\n",
       "      <th>0</th>\n",
       "      <td>0</td>\n",
       "      <td>aksu</td>\n",
       "      <td>kasu</td>\n",
       "    </tr>\n",
       "    <tr>\n",
       "      <th>0</th>\n",
       "      <td>0</td>\n",
       "      <td>aksu</td>\n",
       "      <td>akus</td>\n",
       "    </tr>\n",
       "    <tr>\n",
       "      <th>0</th>\n",
       "      <td>0</td>\n",
       "      <td>aksu</td>\n",
       "      <td>asu</td>\n",
       "    </tr>\n",
       "    <tr>\n",
       "      <th>0</th>\n",
       "      <td>0</td>\n",
       "      <td>aksu</td>\n",
       "      <td>aku</td>\n",
       "    </tr>\n",
       "    <tr>\n",
       "      <th>0</th>\n",
       "      <td>0</td>\n",
       "      <td>aksu</td>\n",
       "      <td>aisu</td>\n",
       "    </tr>\n",
       "    <tr>\n",
       "      <th>0</th>\n",
       "      <td>0</td>\n",
       "      <td>aksu</td>\n",
       "      <td>Aksi</td>\n",
       "    </tr>\n",
       "    <tr>\n",
       "      <th>0</th>\n",
       "      <td>0</td>\n",
       "      <td>aksu</td>\n",
       "      <td>paksu</td>\n",
       "    </tr>\n",
       "    <tr>\n",
       "      <th>0</th>\n",
       "      <td>0</td>\n",
       "      <td>aksu</td>\n",
       "      <td>saksu</td>\n",
       "    </tr>\n",
       "    <tr>\n",
       "      <th>0</th>\n",
       "      <td>0</td>\n",
       "      <td>aksu</td>\n",
       "      <td>vaksu</td>\n",
       "    </tr>\n",
       "    <tr>\n",
       "      <th>0</th>\n",
       "      <td>0</td>\n",
       "      <td>aksu</td>\n",
       "      <td>laksu</td>\n",
       "    </tr>\n",
       "    <tr>\n",
       "      <th>0</th>\n",
       "      <td>0</td>\n",
       "      <td>aksu</td>\n",
       "      <td>maksu</td>\n",
       "    </tr>\n",
       "    <tr>\n",
       "      <th>0</th>\n",
       "      <td>0</td>\n",
       "      <td>aksu</td>\n",
       "      <td>raksu</td>\n",
       "    </tr>\n",
       "    <tr>\n",
       "      <th>0</th>\n",
       "      <td>0</td>\n",
       "      <td>aksu</td>\n",
       "      <td>naksu</td>\n",
       "    </tr>\n",
       "    <tr>\n",
       "      <th>0</th>\n",
       "      <td>0</td>\n",
       "      <td>aksu</td>\n",
       "      <td>jaksu</td>\n",
       "    </tr>\n",
       "  </tbody>\n",
       "</table>\n",
       "</div>"
      ],
      "text/plain": [
       "   index wordform suggestion\n",
       "0      0     aksu       kasu\n",
       "0      0     aksu       akus\n",
       "0      0     aksu        asu\n",
       "0      0     aksu        aku\n",
       "0      0     aksu       aisu\n",
       "0      0     aksu       Aksi\n",
       "0      0     aksu      paksu\n",
       "0      0     aksu      saksu\n",
       "0      0     aksu      vaksu\n",
       "0      0     aksu      laksu\n",
       "0      0     aksu      maksu\n",
       "0      0     aksu      raksu\n",
       "0      0     aksu      naksu\n",
       "0      0     aksu      jaksu"
      ]
     },
     "execution_count": 18,
     "metadata": {},
     "output_type": "execute_result"
    }
   ],
   "source": [
    "spell_text('aksu')"
   ]
  },
  {
   "cell_type": "markdown",
   "id": "e618d153",
   "metadata": {
    "slideshow": {
     "slide_type": "slide"
    }
   },
   "source": [
    "# Universaalne päringu laiendaja\n",
    "\n",
    "### III. Vormigeneraator\n",
    "* Leiab algvormis antud sõnast kõikvõimalikud sõnavormid\n",
    "* Veeniteenus https://smart-search.tartunlp.ai/api/generator/process\n"
   ]
  },
  {
   "cell_type": "code",
   "execution_count": 19,
   "id": "1a1d8cc0",
   "metadata": {
    "slideshow": {
     "slide_type": "slide"
    }
   },
   "outputs": [],
   "source": [
    "def generate_all_worldforms(lemma: str):\n",
    "    \n",
    "    # Webservice call\n",
    "    GENERATOR_QUERY = \"https://smart-search.tartunlp.ai/api/generator/process\"\n",
    "    HEADERS = {\"Content-Type\": \"application/json; charset=utf-8\"}\n",
    "    POST_DATA_TEMPLATE = {'type': 'text', 'content': lemma}\n",
    "    response = requests.post(GENERATOR_QUERY, json=POST_DATA_TEMPLATE, headers=HEADERS)\n",
    "    assert response.ok, \"Webservice failed\"\n",
    "    response = response.json()\n",
    "    assert response['response']['type'] == 'texts', \"Unexpected response type\"\n",
    "\n",
    "    # Output reshaping\n",
    "    token_count = len(response['response']['texts'])\n",
    "    tbl = DataFrame({'lemma': [None] * token_count, 'wordform': [None] * token_count})\n",
    "    for i, token in enumerate(response['response']['texts']):\n",
    "        generated_ = token['features']\n",
    "        tbl.loc[i, 'lemma'] = token['content']\n",
    "        tbl.loc[i, 'wordform'] = list(set(map(lambda x: x['token'].replace('+', ''), token['features']['generated_forms'])))\n",
    "\n",
    "    return tbl.explode('wordform').reset_index(drop=True)"
   ]
  },
  {
   "cell_type": "code",
   "execution_count": 20,
   "id": "3673369e",
   "metadata": {
    "slideshow": {
     "slide_type": "subslide"
    }
   },
   "outputs": [
    {
     "data": {
      "text/html": [
       "<div>\n",
       "<style scoped>\n",
       "    .dataframe tbody tr th:only-of-type {\n",
       "        vertical-align: middle;\n",
       "    }\n",
       "\n",
       "    .dataframe tbody tr th {\n",
       "        vertical-align: top;\n",
       "    }\n",
       "\n",
       "    .dataframe thead th {\n",
       "        text-align: right;\n",
       "    }\n",
       "</style>\n",
       "<table border=\"1\" class=\"dataframe\">\n",
       "  <thead>\n",
       "    <tr style=\"text-align: right;\">\n",
       "      <th></th>\n",
       "      <th>lemma</th>\n",
       "      <th>wordform</th>\n",
       "      <th>lemma</th>\n",
       "      <th>wordform</th>\n",
       "      <th>lemma</th>\n",
       "      <th>wordform</th>\n",
       "    </tr>\n",
       "  </thead>\n",
       "  <tbody>\n",
       "    <tr>\n",
       "      <th>0</th>\n",
       "      <td>president</td>\n",
       "      <td>presidentisid</td>\n",
       "      <td>president</td>\n",
       "      <td>presidendes</td>\n",
       "      <td>president</td>\n",
       "      <td>presidentidena</td>\n",
       "    </tr>\n",
       "    <tr>\n",
       "      <th>1</th>\n",
       "      <td>president</td>\n",
       "      <td>presidente</td>\n",
       "      <td>president</td>\n",
       "      <td>presidentideni</td>\n",
       "      <td>president</td>\n",
       "      <td>presidenti</td>\n",
       "    </tr>\n",
       "    <tr>\n",
       "      <th>2</th>\n",
       "      <td>president</td>\n",
       "      <td>presidendel</td>\n",
       "      <td>president</td>\n",
       "      <td>presidentideks</td>\n",
       "      <td>president</td>\n",
       "      <td>presidentide</td>\n",
       "    </tr>\n",
       "    <tr>\n",
       "      <th>3</th>\n",
       "      <td>president</td>\n",
       "      <td>presidendina</td>\n",
       "      <td>president</td>\n",
       "      <td>presidendile</td>\n",
       "      <td>president</td>\n",
       "      <td>presidendest</td>\n",
       "    </tr>\n",
       "    <tr>\n",
       "      <th>4</th>\n",
       "      <td>president</td>\n",
       "      <td>presidendini</td>\n",
       "      <td>president</td>\n",
       "      <td>presidentidelt</td>\n",
       "      <td>president</td>\n",
       "      <td>presidendesse</td>\n",
       "    </tr>\n",
       "    <tr>\n",
       "      <th>5</th>\n",
       "      <td>president</td>\n",
       "      <td>presidendilt</td>\n",
       "      <td>president</td>\n",
       "      <td>presidendil</td>\n",
       "      <td>president</td>\n",
       "      <td>presidentidesse</td>\n",
       "    </tr>\n",
       "    <tr>\n",
       "      <th>6</th>\n",
       "      <td>president</td>\n",
       "      <td>presidendisse</td>\n",
       "      <td>president</td>\n",
       "      <td>presidentides</td>\n",
       "      <td>president</td>\n",
       "      <td>presidentideta</td>\n",
       "    </tr>\n",
       "    <tr>\n",
       "      <th>7</th>\n",
       "      <td>president</td>\n",
       "      <td>presidendis</td>\n",
       "      <td>president</td>\n",
       "      <td>presidentidest</td>\n",
       "      <td>president</td>\n",
       "      <td>presidendi</td>\n",
       "    </tr>\n",
       "    <tr>\n",
       "      <th>8</th>\n",
       "      <td>president</td>\n",
       "      <td>presidentidega</td>\n",
       "      <td>president</td>\n",
       "      <td>presidentidel</td>\n",
       "      <td>president</td>\n",
       "      <td>presidendist</td>\n",
       "    </tr>\n",
       "    <tr>\n",
       "      <th>9</th>\n",
       "      <td>president</td>\n",
       "      <td>presidendiks</td>\n",
       "      <td>president</td>\n",
       "      <td>presidendeks</td>\n",
       "      <td>president</td>\n",
       "      <td>presidendid</td>\n",
       "    </tr>\n",
       "    <tr>\n",
       "      <th>10</th>\n",
       "      <td>president</td>\n",
       "      <td>presidendelt</td>\n",
       "      <td>president</td>\n",
       "      <td>presidendiga</td>\n",
       "      <td>president</td>\n",
       "      <td>president</td>\n",
       "    </tr>\n",
       "    <tr>\n",
       "      <th>11</th>\n",
       "      <td>president</td>\n",
       "      <td>presidendele</td>\n",
       "      <td>president</td>\n",
       "      <td>presidentidele</td>\n",
       "      <td>president</td>\n",
       "      <td>presidendita</td>\n",
       "    </tr>\n",
       "  </tbody>\n",
       "</table>\n",
       "</div>"
      ],
      "text/plain": [
       "        lemma        wordform      lemma        wordform      lemma  \\\n",
       "0   president   presidentisid  president     presidendes  president   \n",
       "1   president      presidente  president  presidentideni  president   \n",
       "2   president     presidendel  president  presidentideks  president   \n",
       "3   president    presidendina  president    presidendile  president   \n",
       "4   president    presidendini  president  presidentidelt  president   \n",
       "5   president    presidendilt  president     presidendil  president   \n",
       "6   president   presidendisse  president   presidentides  president   \n",
       "7   president     presidendis  president  presidentidest  president   \n",
       "8   president  presidentidega  president   presidentidel  president   \n",
       "9   president    presidendiks  president    presidendeks  president   \n",
       "10  president    presidendelt  president    presidendiga  president   \n",
       "11  president    presidendele  president  presidentidele  president   \n",
       "\n",
       "           wordform  \n",
       "0    presidentidena  \n",
       "1        presidenti  \n",
       "2      presidentide  \n",
       "3      presidendest  \n",
       "4     presidendesse  \n",
       "5   presidentidesse  \n",
       "6    presidentideta  \n",
       "7        presidendi  \n",
       "8      presidendist  \n",
       "9       presidendid  \n",
       "10        president  \n",
       "11     presidendita  "
      ]
     },
     "execution_count": 20,
     "metadata": {},
     "output_type": "execute_result"
    }
   ],
   "source": [
    "tbl = generate_all_worldforms('president')\n",
    "concat([tbl[:12], tbl[12:24].reset_index(drop=True), tbl[24:].reset_index(drop=True)], axis=1)"
   ]
  },
  {
   "cell_type": "code",
   "execution_count": 21,
   "id": "ab01071f",
   "metadata": {
    "slideshow": {
     "slide_type": "subslide"
    }
   },
   "outputs": [
    {
     "data": {
      "text/html": [
       "<div>\n",
       "<style scoped>\n",
       "    .dataframe tbody tr th:only-of-type {\n",
       "        vertical-align: middle;\n",
       "    }\n",
       "\n",
       "    .dataframe tbody tr th {\n",
       "        vertical-align: top;\n",
       "    }\n",
       "\n",
       "    .dataframe thead th {\n",
       "        text-align: right;\n",
       "    }\n",
       "</style>\n",
       "<table border=\"1\" class=\"dataframe\">\n",
       "  <thead>\n",
       "    <tr style=\"text-align: right;\">\n",
       "      <th></th>\n",
       "      <th>lemma</th>\n",
       "      <th>wordform</th>\n",
       "    </tr>\n",
       "  </thead>\n",
       "  <tbody>\n",
       "    <tr>\n",
       "      <th>0</th>\n",
       "      <td>Strasbourg</td>\n",
       "      <td>Strasbourgil</td>\n",
       "    </tr>\n",
       "    <tr>\n",
       "      <th>1</th>\n",
       "      <td>Strasbourg</td>\n",
       "      <td>Strasbourgisse</td>\n",
       "    </tr>\n",
       "    <tr>\n",
       "      <th>2</th>\n",
       "      <td>Strasbourg</td>\n",
       "      <td>Strasbourgini</td>\n",
       "    </tr>\n",
       "    <tr>\n",
       "      <th>3</th>\n",
       "      <td>Strasbourg</td>\n",
       "      <td>Strasbourgiks</td>\n",
       "    </tr>\n",
       "    <tr>\n",
       "      <th>4</th>\n",
       "      <td>Strasbourg</td>\n",
       "      <td>Strasbourgilt</td>\n",
       "    </tr>\n",
       "    <tr>\n",
       "      <th>5</th>\n",
       "      <td>Strasbourg</td>\n",
       "      <td>Strasbourgina</td>\n",
       "    </tr>\n",
       "    <tr>\n",
       "      <th>6</th>\n",
       "      <td>Strasbourg</td>\n",
       "      <td>Strasbourgi</td>\n",
       "    </tr>\n",
       "    <tr>\n",
       "      <th>7</th>\n",
       "      <td>Strasbourg</td>\n",
       "      <td>Strasbourgile</td>\n",
       "    </tr>\n",
       "    <tr>\n",
       "      <th>8</th>\n",
       "      <td>Strasbourg</td>\n",
       "      <td>Strasbourgis</td>\n",
       "    </tr>\n",
       "    <tr>\n",
       "      <th>9</th>\n",
       "      <td>Strasbourg</td>\n",
       "      <td>Strasbourgita</td>\n",
       "    </tr>\n",
       "    <tr>\n",
       "      <th>10</th>\n",
       "      <td>Strasbourg</td>\n",
       "      <td>Strasbourgisid</td>\n",
       "    </tr>\n",
       "    <tr>\n",
       "      <th>11</th>\n",
       "      <td>Strasbourg</td>\n",
       "      <td>Strasbourgiga</td>\n",
       "    </tr>\n",
       "    <tr>\n",
       "      <th>12</th>\n",
       "      <td>Strasbourg</td>\n",
       "      <td>Strasbourgist</td>\n",
       "    </tr>\n",
       "    <tr>\n",
       "      <th>13</th>\n",
       "      <td>Strasbourg</td>\n",
       "      <td>Strasbourg</td>\n",
       "    </tr>\n",
       "  </tbody>\n",
       "</table>\n",
       "</div>"
      ],
      "text/plain": [
       "         lemma        wordform\n",
       "0   Strasbourg    Strasbourgil\n",
       "1   Strasbourg  Strasbourgisse\n",
       "2   Strasbourg   Strasbourgini\n",
       "3   Strasbourg   Strasbourgiks\n",
       "4   Strasbourg   Strasbourgilt\n",
       "5   Strasbourg   Strasbourgina\n",
       "6   Strasbourg     Strasbourgi\n",
       "7   Strasbourg   Strasbourgile\n",
       "8   Strasbourg    Strasbourgis\n",
       "9   Strasbourg   Strasbourgita\n",
       "10  Strasbourg  Strasbourgisid\n",
       "11  Strasbourg   Strasbourgiga\n",
       "12  Strasbourg   Strasbourgist\n",
       "13  Strasbourg      Strasbourg"
      ]
     },
     "execution_count": 21,
     "metadata": {},
     "output_type": "execute_result"
    }
   ],
   "source": [
    "generate_all_worldforms('Strasbourg')"
   ]
  },
  {
   "cell_type": "markdown",
   "id": "738ca795",
   "metadata": {
    "slideshow": {
     "slide_type": "slide"
    }
   },
   "source": [
    "# Lihtne pealkirjaotsing üle Riigi Teataja seaduste \n",
    "\n",
    "1. Spelli sisend\n",
    "2. Leia sisendile vastavad lemmad\n",
    "3. Genereeri kõik sõnavormid\n",
    "4. Kombineeri saadud päringute vastused"
   ]
  },
  {
   "cell_type": "code",
   "execution_count": 22,
   "id": "007740dc",
   "metadata": {
    "slideshow": {
     "slide_type": "subslide"
    }
   },
   "outputs": [],
   "source": [
    "def smart_search_rt_caption(wordform:str, match_type:str='koik_sonad', **kwargs):\n",
    "\n",
    "    # Correct and extend search query \n",
    "    search_words = spell_text(wordform)['suggestion']\n",
    "    search_lemmas = concat([analyze_text(word)['lemma'] for word in search_words], axis=0)\n",
    "    search_wordforms = concat([generate_all_worldforms(lemma)['wordform'] for lemma in search_lemmas], axis=0)\n",
    "\n",
    "    # Interact with RT webservice\n",
    "    result = [None] * len(search_wordforms)\n",
    "    for i, wordform in enumerate(search_wordforms): \n",
    "        print('#', end='')\n",
    "        result[i] = search_rt_caption(wordform, match_type=match_type, **kwargs)\n",
    "        if i % 40 == 19:\n",
    "            print(' ', end=\"\")\n",
    "        elif  i % 40 == 39:\n",
    "            print()\n",
    "    \n",
    "    # Reshape the outcome\n",
    "    return (concat(result, axis=0)\n",
    "            .sort_values(['document_title', 'commencement_date'], ascending=[True, False])\n",
    "            .reset_index(drop=True))   "
   ]
  },
  {
   "cell_type": "code",
   "execution_count": 23,
   "id": "03ff6fb6",
   "metadata": {
    "slideshow": {
     "slide_type": "subslide"
    }
   },
   "outputs": [
    {
     "name": "stdout",
     "output_type": "stream",
     "text": [
      "#################### ####################\n",
      "#################### ############"
     ]
    },
    {
     "data": {
      "text/html": [
       "<div>\n",
       "<style scoped>\n",
       "    .dataframe tbody tr th:only-of-type {\n",
       "        vertical-align: middle;\n",
       "    }\n",
       "\n",
       "    .dataframe tbody tr th {\n",
       "        vertical-align: top;\n",
       "    }\n",
       "\n",
       "    .dataframe thead th {\n",
       "        text-align: right;\n",
       "    }\n",
       "</style>\n",
       "<table border=\"1\" class=\"dataframe\">\n",
       "  <thead>\n",
       "    <tr style=\"text-align: right;\">\n",
       "      <th></th>\n",
       "      <th>document_type</th>\n",
       "      <th>document_title</th>\n",
       "      <th>commencement_date</th>\n",
       "      <th>global_id</th>\n",
       "    </tr>\n",
       "  </thead>\n",
       "  <tbody>\n",
       "    <tr>\n",
       "      <th>0</th>\n",
       "      <td>seadus</td>\n",
       "      <td>Riigikogu ja Vabariigi Presidendi poolt nimeta...</td>\n",
       "      <td>2014-01-01</td>\n",
       "      <td>129122012010</td>\n",
       "    </tr>\n",
       "    <tr>\n",
       "      <th>1</th>\n",
       "      <td>seadus</td>\n",
       "      <td>Riigikogu ja Vabariigi Presidendi poolt nimeta...</td>\n",
       "      <td>2013-01-01</td>\n",
       "      <td>128122011068</td>\n",
       "    </tr>\n",
       "    <tr>\n",
       "      <th>2</th>\n",
       "      <td>seadus</td>\n",
       "      <td>Riigikogu ja Vabariigi Presidendi poolt nimeta...</td>\n",
       "      <td>2012-01-01</td>\n",
       "      <td>13262582</td>\n",
       "    </tr>\n",
       "    <tr>\n",
       "      <th>3</th>\n",
       "      <td>seadus</td>\n",
       "      <td>Vabariigi Presidendi ametihüve seadus</td>\n",
       "      <td>2018-01-01</td>\n",
       "      <td>122062016013</td>\n",
       "    </tr>\n",
       "    <tr>\n",
       "      <th>4</th>\n",
       "      <td>seadus</td>\n",
       "      <td>Vabariigi Presidendi ametihüve seadus</td>\n",
       "      <td>2018-01-01</td>\n",
       "      <td>127062017010</td>\n",
       "    </tr>\n",
       "    <tr>\n",
       "      <th>5</th>\n",
       "      <td>seadus</td>\n",
       "      <td>Vabariigi Presidendi ametihüve seadus</td>\n",
       "      <td>2016-07-01</td>\n",
       "      <td>113122014059</td>\n",
       "    </tr>\n",
       "    <tr>\n",
       "      <th>6</th>\n",
       "      <td>seadus</td>\n",
       "      <td>Vabariigi Presidendi ametihüve seadus</td>\n",
       "      <td>2014-01-01</td>\n",
       "      <td>129122011152</td>\n",
       "    </tr>\n",
       "    <tr>\n",
       "      <th>7</th>\n",
       "      <td>seadus</td>\n",
       "      <td>Vabariigi Presidendi ametihüve seadus</td>\n",
       "      <td>2012-01-01</td>\n",
       "      <td>128122010026</td>\n",
       "    </tr>\n",
       "    <tr>\n",
       "      <th>8</th>\n",
       "      <td>seadus</td>\n",
       "      <td>Vabariigi Presidendi ja Vabariigi Valitsuse li...</td>\n",
       "      <td>2004-07-01</td>\n",
       "      <td>769953</td>\n",
       "    </tr>\n",
       "    <tr>\n",
       "      <th>9</th>\n",
       "      <td>seadus</td>\n",
       "      <td>Vabariigi Presidendi töökorra seadus</td>\n",
       "      <td>2017-07-07</td>\n",
       "      <td>127062017011</td>\n",
       "    </tr>\n",
       "    <tr>\n",
       "      <th>10</th>\n",
       "      <td>seadus</td>\n",
       "      <td>Vabariigi Presidendi töökorra seadus</td>\n",
       "      <td>2012-01-01</td>\n",
       "      <td>121032011032</td>\n",
       "    </tr>\n",
       "    <tr>\n",
       "      <th>11</th>\n",
       "      <td>seadus</td>\n",
       "      <td>Vabariigi Presidendi valimise seadus</td>\n",
       "      <td>2013-04-01</td>\n",
       "      <td>110072012032</td>\n",
       "    </tr>\n",
       "  </tbody>\n",
       "</table>\n",
       "</div>"
      ],
      "text/plain": [
       "   document_type                                     document_title  \\\n",
       "0         seadus  Riigikogu ja Vabariigi Presidendi poolt nimeta...   \n",
       "1         seadus  Riigikogu ja Vabariigi Presidendi poolt nimeta...   \n",
       "2         seadus  Riigikogu ja Vabariigi Presidendi poolt nimeta...   \n",
       "3         seadus              Vabariigi Presidendi ametihüve seadus   \n",
       "4         seadus              Vabariigi Presidendi ametihüve seadus   \n",
       "5         seadus              Vabariigi Presidendi ametihüve seadus   \n",
       "6         seadus              Vabariigi Presidendi ametihüve seadus   \n",
       "7         seadus              Vabariigi Presidendi ametihüve seadus   \n",
       "8         seadus  Vabariigi Presidendi ja Vabariigi Valitsuse li...   \n",
       "9         seadus               Vabariigi Presidendi töökorra seadus   \n",
       "10        seadus               Vabariigi Presidendi töökorra seadus   \n",
       "11        seadus               Vabariigi Presidendi valimise seadus   \n",
       "\n",
       "   commencement_date     global_id  \n",
       "0         2014-01-01  129122012010  \n",
       "1         2013-01-01  128122011068  \n",
       "2         2012-01-01      13262582  \n",
       "3         2018-01-01  122062016013  \n",
       "4         2018-01-01  127062017010  \n",
       "5         2016-07-01  113122014059  \n",
       "6         2014-01-01  129122011152  \n",
       "7         2012-01-01  128122010026  \n",
       "8         2004-07-01        769953  \n",
       "9         2017-07-07  127062017011  \n",
       "10        2012-01-01  121032011032  \n",
       "11        2013-04-01  110072012032  "
      ]
     },
     "execution_count": 23,
     "metadata": {},
     "output_type": "execute_result"
    }
   ],
   "source": [
    "smart_search_rt_caption('bresidenti')"
   ]
  },
  {
   "cell_type": "code",
   "execution_count": 24,
   "id": "2f64ef74",
   "metadata": {
    "slideshow": {
     "slide_type": "subslide"
    }
   },
   "outputs": [
    {
     "name": "stdout",
     "output_type": "stream",
     "text": [
      "#################### ####################\n",
      "#################### ####################\n",
      "#################### ####################\n",
      "#################### ####################\n",
      "#################### ####################\n",
      "#################### ####################\n",
      "#################### ####################\n",
      "#################### ####################\n",
      "#################### ####################\n",
      "#################### ####################\n",
      "#################### ####################\n",
      "#################### ####################\n",
      "#################### ###"
     ]
    },
    {
     "data": {
      "text/html": [
       "<div>\n",
       "<style scoped>\n",
       "    .dataframe tbody tr th:only-of-type {\n",
       "        vertical-align: middle;\n",
       "    }\n",
       "\n",
       "    .dataframe tbody tr th {\n",
       "        vertical-align: top;\n",
       "    }\n",
       "\n",
       "    .dataframe thead th {\n",
       "        text-align: right;\n",
       "    }\n",
       "</style>\n",
       "<table border=\"1\" class=\"dataframe\">\n",
       "  <thead>\n",
       "    <tr style=\"text-align: right;\">\n",
       "      <th></th>\n",
       "      <th>document_type</th>\n",
       "      <th>document_title</th>\n",
       "      <th>commencement_date</th>\n",
       "      <th>global_id</th>\n",
       "    </tr>\n",
       "  </thead>\n",
       "  <tbody>\n",
       "    <tr>\n",
       "      <th>0</th>\n",
       "      <td>seadus</td>\n",
       "      <td>Eesti Vabariigi Valitsuse ning Suurbritannia j...</td>\n",
       "      <td>2002-06-01</td>\n",
       "      <td>24794</td>\n",
       "    </tr>\n",
       "    <tr>\n",
       "      <th>1</th>\n",
       "      <td>seadus</td>\n",
       "      <td>Eesti Vabariigi Valitsuse ning Suurbritannia j...</td>\n",
       "      <td>2002-06-01</td>\n",
       "      <td>24794</td>\n",
       "    </tr>\n",
       "    <tr>\n",
       "      <th>2</th>\n",
       "      <td>seadus</td>\n",
       "      <td>Eesti Vabariigi ja Ameerika Ühendriikide vahel...</td>\n",
       "      <td>2002-06-01</td>\n",
       "      <td>79003</td>\n",
       "    </tr>\n",
       "    <tr>\n",
       "      <th>3</th>\n",
       "      <td>seadus</td>\n",
       "      <td>Eesti Vabariigi ja Araabia Ühendemiraatide vah...</td>\n",
       "      <td>2012-03-16</td>\n",
       "      <td>206032012003</td>\n",
       "    </tr>\n",
       "    <tr>\n",
       "      <th>4</th>\n",
       "      <td>seadus</td>\n",
       "      <td>Eesti Vabariigi ja Armeenia Vabariigi vahelise...</td>\n",
       "      <td>2003-01-20</td>\n",
       "      <td>237128</td>\n",
       "    </tr>\n",
       "    <tr>\n",
       "      <th>...</th>\n",
       "      <td>...</td>\n",
       "      <td>...</td>\n",
       "      <td>...</td>\n",
       "      <td>...</td>\n",
       "    </tr>\n",
       "    <tr>\n",
       "      <th>76</th>\n",
       "      <td>seadus</td>\n",
       "      <td>Kohalike maksude seadus</td>\n",
       "      <td>2012-01-01</td>\n",
       "      <td>113122011004</td>\n",
       "    </tr>\n",
       "    <tr>\n",
       "      <th>77</th>\n",
       "      <td>seadus</td>\n",
       "      <td>Kohalike maksude seadus</td>\n",
       "      <td>2012-01-01</td>\n",
       "      <td>13361798</td>\n",
       "    </tr>\n",
       "    <tr>\n",
       "      <th>78</th>\n",
       "      <td>seadus</td>\n",
       "      <td>Makse- ja arveldussüsteemide seadus</td>\n",
       "      <td>2023-03-11</td>\n",
       "      <td>101032023003</td>\n",
       "    </tr>\n",
       "    <tr>\n",
       "      <th>79</th>\n",
       "      <td>seadus</td>\n",
       "      <td>Riiklike maksude intresside kustutamise seadus</td>\n",
       "      <td>2014-04-26</td>\n",
       "      <td>116042014079</td>\n",
       "    </tr>\n",
       "    <tr>\n",
       "      <th>80</th>\n",
       "      <td>seadus</td>\n",
       "      <td>Taani Kuningriigi, Eesti Vabariigi, Soome Vaba...</td>\n",
       "      <td>2002-06-01</td>\n",
       "      <td>79029</td>\n",
       "    </tr>\n",
       "  </tbody>\n",
       "</table>\n",
       "<p>81 rows × 4 columns</p>\n",
       "</div>"
      ],
      "text/plain": [
       "   document_type                                     document_title  \\\n",
       "0         seadus  Eesti Vabariigi Valitsuse ning Suurbritannia j...   \n",
       "1         seadus  Eesti Vabariigi Valitsuse ning Suurbritannia j...   \n",
       "2         seadus  Eesti Vabariigi ja Ameerika Ühendriikide vahel...   \n",
       "3         seadus  Eesti Vabariigi ja Araabia Ühendemiraatide vah...   \n",
       "4         seadus  Eesti Vabariigi ja Armeenia Vabariigi vahelise...   \n",
       "..           ...                                                ...   \n",
       "76        seadus                            Kohalike maksude seadus   \n",
       "77        seadus                            Kohalike maksude seadus   \n",
       "78        seadus                Makse- ja arveldussüsteemide seadus   \n",
       "79        seadus     Riiklike maksude intresside kustutamise seadus   \n",
       "80        seadus  Taani Kuningriigi, Eesti Vabariigi, Soome Vaba...   \n",
       "\n",
       "   commencement_date     global_id  \n",
       "0         2002-06-01         24794  \n",
       "1         2002-06-01         24794  \n",
       "2         2002-06-01         79003  \n",
       "3         2012-03-16  206032012003  \n",
       "4         2003-01-20        237128  \n",
       "..               ...           ...  \n",
       "76        2012-01-01  113122011004  \n",
       "77        2012-01-01      13361798  \n",
       "78        2023-03-11  101032023003  \n",
       "79        2014-04-26  116042014079  \n",
       "80        2002-06-01         79029  \n",
       "\n",
       "[81 rows x 4 columns]"
      ]
     },
     "execution_count": 24,
     "metadata": {},
     "output_type": "execute_result"
    }
   ],
   "source": [
    "smart_search_rt_caption('aksu')"
   ]
  },
  {
   "attachments": {},
   "cell_type": "markdown",
   "id": "df3ae6c2",
   "metadata": {
    "slideshow": {
     "slide_type": "slide"
    }
   },
   "source": [
    "# Ettearvutused päringu laiendamiseks\n",
    "<img src=\"illustrations/eelarvutused_päringu_laiendamiseks.png\">"
   ]
  },
  {
   "cell_type": "markdown",
   "id": "9d15371f",
   "metadata": {
    "slideshow": {
     "slide_type": "slide"
    }
   },
   "source": [
    "# Probleemid sisendtekstidega\n",
    "\n",
    "* Äriseadustik1\n",
    "* Nõuded lõppseadmele1\n",
    "* Kasvatusraskustega 7  .  ¿9  .   klassi õpilaste klassi moodustamise tingimuste ja korra kinnitamine\n",
    "* «Maareformi seaduse» paragrahvides 23¹ ja 23² sätestatud vaba põllumajandus- ja metsamaa erastamise kord\n",
    "\n",
    "**Märkus:** Täistekstide analüüs on veelgi keerulisem\n",
    "* Esmalt on vaja XML sisendist eraldada tekst\n",
    "* Teiseks on vaja tekstist eraldada tekstivälised osad\n",
    "* Ideaalis on tarvis taastada lõikudele vastav vorminamata tekst\n"
   ]
  },
  {
   "cell_type": "markdown",
   "id": "83aa34b5",
   "metadata": {
    "slideshow": {
     "slide_type": "slide"
    }
   },
   "source": [
    "# Indekseerimine\n",
    "\n",
    "### IV. Sõnavormide indekseerija\n",
    "* Leiab sõnavormile vastavad algvormid. Neid võib olla mitu.\n",
    "* Veebiteenus https://smart-search.tartunlp.ai/api/sonede-indekseerija/\n",
    "* Demorakendus https://smart-search.tartunlp.ai/wp/indekseerija/process\n",
    "\n",
    "### V. Algvormide indekseerija\n",
    "* Leiab sõnavormile vastavad algvormid. Neid võib olla mitu.\n",
    "* Veebiteenus https://smart-search.tartunlp.ai/api/lemmade-indekseerija/\n",
    "* Demorakendus https://smart-search.tartunlp.ai/api/sonede-indekseerija/\n"
   ]
  },
  {
   "cell_type": "code",
   "execution_count": 25,
   "id": "899ecc85",
   "metadata": {
    "slideshow": {
     "slide_type": "slide"
    }
   },
   "outputs": [],
   "source": [
    "def index_worldforms(text: str):\n",
    "    \n",
    "    # Webservice call\n",
    "    INDEXER_QUERY = \"https://smart-search.tartunlp.ai/api/sonede-indekseerija/csv\"\n",
    "    HEADERS = {\"Content-Type\": \"application/json; charset=utf-8\"}\n",
    "    POST_DATA_TEMPLATE = {\"sources\": {'xxx':{\"content\": text}}}\n",
    "    response = requests.post(INDEXER_QUERY, json=POST_DATA_TEMPLATE, headers=HEADERS)\n",
    "    assert response.ok, \"Webservice failed\"\n",
    "\n",
    "    # Output reshaping\n",
    "    tbl = read_csv(StringIO(response.text), delimiter='\\t', header=None)\n",
    "    tbl = tbl.set_axis(['wordfrorm', 'is_subword', 'word','document', 'start', 'end'], axis=1)\n",
    "    return tbl[['wordfrorm', 'is_subword', 'word', 'start', 'end' ]].sort_values('start')\n"
   ]
  },
  {
   "cell_type": "code",
   "execution_count": 26,
   "id": "ea09540d",
   "metadata": {
    "slideshow": {
     "slide_type": "subslide"
    }
   },
   "outputs": [
    {
     "data": {
      "text/html": [
       "<div>\n",
       "<style scoped>\n",
       "    .dataframe tbody tr th:only-of-type {\n",
       "        vertical-align: middle;\n",
       "    }\n",
       "\n",
       "    .dataframe tbody tr th {\n",
       "        vertical-align: top;\n",
       "    }\n",
       "\n",
       "    .dataframe thead th {\n",
       "        text-align: right;\n",
       "    }\n",
       "</style>\n",
       "<table border=\"1\" class=\"dataframe\">\n",
       "  <thead>\n",
       "    <tr style=\"text-align: right;\">\n",
       "      <th></th>\n",
       "      <th>wordfrorm</th>\n",
       "      <th>is_subword</th>\n",
       "      <th>word</th>\n",
       "      <th>start</th>\n",
       "      <th>end</th>\n",
       "    </tr>\n",
       "  </thead>\n",
       "  <tbody>\n",
       "    <tr>\n",
       "      <th>7</th>\n",
       "      <td>kui</td>\n",
       "      <td>False</td>\n",
       "      <td>Kui</td>\n",
       "      <td>0</td>\n",
       "      <td>3</td>\n",
       "    </tr>\n",
       "    <tr>\n",
       "      <th>0</th>\n",
       "      <td>Arno</td>\n",
       "      <td>False</td>\n",
       "      <td>Arno</td>\n",
       "      <td>4</td>\n",
       "      <td>8</td>\n",
       "    </tr>\n",
       "    <tr>\n",
       "      <th>3</th>\n",
       "      <td>isaga</td>\n",
       "      <td>False</td>\n",
       "      <td>isaga</td>\n",
       "      <td>9</td>\n",
       "      <td>14</td>\n",
       "    </tr>\n",
       "    <tr>\n",
       "      <th>6</th>\n",
       "      <td>kooli</td>\n",
       "      <td>True</td>\n",
       "      <td>külakooli</td>\n",
       "      <td>15</td>\n",
       "      <td>24</td>\n",
       "    </tr>\n",
       "    <tr>\n",
       "      <th>8</th>\n",
       "      <td>küla</td>\n",
       "      <td>True</td>\n",
       "      <td>külakooli</td>\n",
       "      <td>15</td>\n",
       "      <td>24</td>\n",
       "    </tr>\n",
       "    <tr>\n",
       "      <th>9</th>\n",
       "      <td>külakooli</td>\n",
       "      <td>False</td>\n",
       "      <td>külakooli</td>\n",
       "      <td>15</td>\n",
       "      <td>24</td>\n",
       "    </tr>\n",
       "    <tr>\n",
       "      <th>5</th>\n",
       "      <td>jõudis</td>\n",
       "      <td>False</td>\n",
       "      <td>jõudis</td>\n",
       "      <td>25</td>\n",
       "      <td>31</td>\n",
       "    </tr>\n",
       "    <tr>\n",
       "      <th>10</th>\n",
       "      <td>olid</td>\n",
       "      <td>False</td>\n",
       "      <td>olid</td>\n",
       "      <td>32</td>\n",
       "      <td>36</td>\n",
       "    </tr>\n",
       "    <tr>\n",
       "      <th>11</th>\n",
       "      <td>tunnid</td>\n",
       "      <td>False</td>\n",
       "      <td>tunnid</td>\n",
       "      <td>37</td>\n",
       "      <td>43</td>\n",
       "    </tr>\n",
       "    <tr>\n",
       "      <th>4</th>\n",
       "      <td>juba</td>\n",
       "      <td>False</td>\n",
       "      <td>juba</td>\n",
       "      <td>44</td>\n",
       "      <td>48</td>\n",
       "    </tr>\n",
       "    <tr>\n",
       "      <th>1</th>\n",
       "      <td>alanud</td>\n",
       "      <td>False</td>\n",
       "      <td>alanud</td>\n",
       "      <td>49</td>\n",
       "      <td>55</td>\n",
       "    </tr>\n",
       "    <tr>\n",
       "      <th>2</th>\n",
       "      <td>alanud</td>\n",
       "      <td>False</td>\n",
       "      <td>alanud</td>\n",
       "      <td>49</td>\n",
       "      <td>55</td>\n",
       "    </tr>\n",
       "  </tbody>\n",
       "</table>\n",
       "</div>"
      ],
      "text/plain": [
       "    wordfrorm  is_subword       word  start  end\n",
       "7         kui       False        Kui      0    3\n",
       "0        Arno       False       Arno      4    8\n",
       "3       isaga       False      isaga      9   14\n",
       "6       kooli        True  külakooli     15   24\n",
       "8        küla        True  külakooli     15   24\n",
       "9   külakooli       False  külakooli     15   24\n",
       "5      jõudis       False     jõudis     25   31\n",
       "10       olid       False       olid     32   36\n",
       "11     tunnid       False     tunnid     37   43\n",
       "4        juba       False       juba     44   48\n",
       "1      alanud       False     alanud     49   55\n",
       "2      alanud       False     alanud     49   55"
      ]
     },
     "execution_count": 26,
     "metadata": {},
     "output_type": "execute_result"
    }
   ],
   "source": [
    "index_worldforms('Kui Arno isaga külakooli jõudis olid tunnid juba alanud')"
   ]
  },
  {
   "cell_type": "code",
   "execution_count": 27,
   "id": "19b2e179",
   "metadata": {
    "slideshow": {
     "slide_type": "slide"
    }
   },
   "outputs": [],
   "source": [
    "def index_lemmas(text: str):\n",
    "    \n",
    "    # Webservice call\n",
    "    INDEXER_QUERY = \"https://smart-search.tartunlp.ai/api/lemmade-indekseerija/csv\"\n",
    "    HEADERS = {\"Content-Type\": \"application/json; charset=utf-8\"}\n",
    "    POST_DATA_TEMPLATE = {\"sources\": {'xxx':{\"content\": text}}}\n",
    "    response = requests.post(INDEXER_QUERY, json=POST_DATA_TEMPLATE, headers=HEADERS)\n",
    "    assert response.ok, \"Webservice failed\"\n",
    "    \n",
    "    # Output reshaping\n",
    "    tbl = read_csv(StringIO(response.text), delimiter='\\t', header=None)\n",
    "    tbl = tbl.set_axis(['lemma', 'is_subword', 'word','document', 'start', 'end'], axis=1)\n",
    "    return tbl[['lemma', 'is_subword', 'word', 'start', 'end' ]].sort_values('start')"
   ]
  },
  {
   "cell_type": "code",
   "execution_count": 28,
   "id": "ede79dcb",
   "metadata": {
    "slideshow": {
     "slide_type": "subslide"
    }
   },
   "outputs": [
    {
     "data": {
      "text/html": [
       "<div>\n",
       "<style scoped>\n",
       "    .dataframe tbody tr th:only-of-type {\n",
       "        vertical-align: middle;\n",
       "    }\n",
       "\n",
       "    .dataframe tbody tr th {\n",
       "        vertical-align: top;\n",
       "    }\n",
       "\n",
       "    .dataframe thead th {\n",
       "        text-align: right;\n",
       "    }\n",
       "</style>\n",
       "<table border=\"1\" class=\"dataframe\">\n",
       "  <thead>\n",
       "    <tr style=\"text-align: right;\">\n",
       "      <th></th>\n",
       "      <th>lemma</th>\n",
       "      <th>is_subword</th>\n",
       "      <th>word</th>\n",
       "      <th>start</th>\n",
       "      <th>end</th>\n",
       "    </tr>\n",
       "  </thead>\n",
       "  <tbody>\n",
       "    <tr>\n",
       "      <th>8</th>\n",
       "      <td>kui</td>\n",
       "      <td>False</td>\n",
       "      <td>Kui</td>\n",
       "      <td>0</td>\n",
       "      <td>3</td>\n",
       "    </tr>\n",
       "    <tr>\n",
       "      <th>0</th>\n",
       "      <td>Arno</td>\n",
       "      <td>False</td>\n",
       "      <td>Arno</td>\n",
       "      <td>4</td>\n",
       "      <td>8</td>\n",
       "    </tr>\n",
       "    <tr>\n",
       "      <th>4</th>\n",
       "      <td>isa</td>\n",
       "      <td>False</td>\n",
       "      <td>isaga</td>\n",
       "      <td>9</td>\n",
       "      <td>14</td>\n",
       "    </tr>\n",
       "    <tr>\n",
       "      <th>7</th>\n",
       "      <td>kool</td>\n",
       "      <td>True</td>\n",
       "      <td>külakooli</td>\n",
       "      <td>15</td>\n",
       "      <td>24</td>\n",
       "    </tr>\n",
       "    <tr>\n",
       "      <th>9</th>\n",
       "      <td>küla</td>\n",
       "      <td>True</td>\n",
       "      <td>külakooli</td>\n",
       "      <td>15</td>\n",
       "      <td>24</td>\n",
       "    </tr>\n",
       "    <tr>\n",
       "      <th>10</th>\n",
       "      <td>külakool</td>\n",
       "      <td>False</td>\n",
       "      <td>külakooli</td>\n",
       "      <td>15</td>\n",
       "      <td>24</td>\n",
       "    </tr>\n",
       "    <tr>\n",
       "      <th>6</th>\n",
       "      <td>jõudma</td>\n",
       "      <td>False</td>\n",
       "      <td>jõudis</td>\n",
       "      <td>25</td>\n",
       "      <td>31</td>\n",
       "    </tr>\n",
       "    <tr>\n",
       "      <th>11</th>\n",
       "      <td>olema</td>\n",
       "      <td>False</td>\n",
       "      <td>olid</td>\n",
       "      <td>32</td>\n",
       "      <td>36</td>\n",
       "    </tr>\n",
       "    <tr>\n",
       "      <th>12</th>\n",
       "      <td>tund</td>\n",
       "      <td>False</td>\n",
       "      <td>tunnid</td>\n",
       "      <td>37</td>\n",
       "      <td>43</td>\n",
       "    </tr>\n",
       "    <tr>\n",
       "      <th>5</th>\n",
       "      <td>juba</td>\n",
       "      <td>False</td>\n",
       "      <td>juba</td>\n",
       "      <td>44</td>\n",
       "      <td>48</td>\n",
       "    </tr>\n",
       "    <tr>\n",
       "      <th>1</th>\n",
       "      <td>alanu</td>\n",
       "      <td>False</td>\n",
       "      <td>alanud</td>\n",
       "      <td>49</td>\n",
       "      <td>55</td>\n",
       "    </tr>\n",
       "    <tr>\n",
       "      <th>2</th>\n",
       "      <td>alanud</td>\n",
       "      <td>False</td>\n",
       "      <td>alanud</td>\n",
       "      <td>49</td>\n",
       "      <td>55</td>\n",
       "    </tr>\n",
       "    <tr>\n",
       "      <th>3</th>\n",
       "      <td>algama</td>\n",
       "      <td>False</td>\n",
       "      <td>alanud</td>\n",
       "      <td>49</td>\n",
       "      <td>55</td>\n",
       "    </tr>\n",
       "  </tbody>\n",
       "</table>\n",
       "</div>"
      ],
      "text/plain": [
       "       lemma  is_subword       word  start  end\n",
       "8        kui       False        Kui      0    3\n",
       "0       Arno       False       Arno      4    8\n",
       "4        isa       False      isaga      9   14\n",
       "7       kool        True  külakooli     15   24\n",
       "9       küla        True  külakooli     15   24\n",
       "10  külakool       False  külakooli     15   24\n",
       "6     jõudma       False     jõudis     25   31\n",
       "11     olema       False       olid     32   36\n",
       "12      tund       False     tunnid     37   43\n",
       "5       juba       False       juba     44   48\n",
       "1      alanu       False     alanud     49   55\n",
       "2     alanud       False     alanud     49   55\n",
       "3     algama       False     alanud     49   55"
      ]
     },
     "execution_count": 28,
     "metadata": {},
     "output_type": "execute_result"
    }
   ],
   "source": [
    "index_lemmas('Kui Arno isaga külakooli jõudis olid tunnid juba alanud')"
   ]
  },
  {
   "cell_type": "markdown",
   "id": "0d36fd48",
   "metadata": {
    "slideshow": {
     "slide_type": "slide"
    }
   },
   "source": [
    "# Lõpptabelid"
   ]
  },
  {
   "cell_type": "markdown",
   "id": "c43f6e79",
   "metadata": {
    "slideshow": {
     "slide_type": "subslide"
    }
   },
   "source": [
    "# Sõnavormide sagedusloend \n",
    "\n",
    "|wordform|occurence_count|document_count|\n",
    "|:---|---:|---:|\n",
    "|seadus           |5950 |2975 |\n",
    "|ja               |1178 | 918 |\n",
    "|Eesti            | 726 | 324 |\n",
    "|Vabariigi        | 577 | 337 |\n",
    "|ratifitseerimise | 472 | 469 |\n",
    "|Euroopa          | 442 | 174 |\n",
    "|seadustik        | 249 | 249 |\n",
    "|vahelise         | 218 | 204 |\n",
    "|kaitse           | 210 | 105 |"
   ]
  },
  {
   "cell_type": "markdown",
   "id": "a9433659",
   "metadata": {
    "slideshow": {
     "slide_type": "subslide"
    }
   },
   "source": [
    "# Algvormide sagedusloend \n",
    "\n",
    "|sublemma|lemma|occurence_count|document_count|\n",
    "|:---|:---|---:|---:|\n",
    "|False | seadus           | 3005 | 2989 | \n",
    "|False | seadu            | 2989 | 2989 |\n",
    "|False | ja               | 1178 |  918 |\n",
    "|True  | vaba             |  616 |  338 |\n",
    "|False | vabariik         |  584 |  338 |\n",
    "|False | ratifitseerimine |  472 |  469 |\n",
    "|True  | maksu            |  374 |  373 |\n",
    "|False | Eesti            |  370 |  330 |\n",
    "|False | eesti            |  363 |  324 | \n"
   ]
  },
  {
   "cell_type": "markdown",
   "id": "f0091534",
   "metadata": {
    "slideshow": {
     "slide_type": "subslide"
    }
   },
   "source": [
    "# Kirjavigate korrigeerimisõnastik\n",
    "\n",
    "|misspelling | search_string |lemma|\n",
    "|:---|:---|:---|\n",
    "|True |Enamsoodustussrežiimideks | Enamsoodustusrežiim\n",
    "|True |Enamsoodustussrežiimidel  | Enamsoodustusrežiim\n",
    "|True |Enamsoodustussrežiimidele | Enamsoodustusrežiim\n",
    "|True |Enamsoodustussrežiimidelt | Enamsoodustusrežiim\n",
    "|True |Enamsoodustussrežiimidena | Enamsoodustusrežiim"
   ]
  },
  {
   "cell_type": "markdown",
   "id": "69bbeaf0",
   "metadata": {
    "slideshow": {
     "slide_type": "slide"
    }
   },
   "source": [
    "# Eelarvutamisega otsing üle pealkirjade \n",
    "\n",
    "\n",
    "### VI. Eelarvutamisega päringulaiendaja\n",
    "* Leiab otsisõnale vastavad algvormid, mis esinevad tekstis \n",
    "* Veebiteenus https://smart-search.tartunlp.ai/api/ea_paring/json\n",
    "* Demorakendus https://smart-search.tartunlp.ai/wp/ea_paring_otsing/process\n"
   ]
  },
  {
   "cell_type": "code",
   "execution_count": 29,
   "id": "8cf5acf9",
   "metadata": {
    "slideshow": {
     "slide_type": "slide"
    }
   },
   "outputs": [],
   "source": [
    "def extend_search_query(search_input: str):\n",
    "    \n",
    "    # Webservice call\n",
    "    SEARCH_LEMMATISATION_QUERY = 'https://smart-search.tartunlp.ai/api/ea_paring/json' \n",
    "    HEADERS = {'Content-Type': 'application/json'}\n",
    "    POST_DATA_TEMPLATE ={\"content\": search_input}\n",
    "    response = requests.post(SEARCH_LEMMATISATION_QUERY, json=POST_DATA_TEMPLATE, headers=HEADERS)\n",
    "    assert response.ok, \"Webservice failed\"\n",
    "    response = response.json()\n",
    "    \n",
    "    # Output reshaping\n",
    "    assert 'annotations' in response, \"Invalid response\"\n",
    "    assert 'query' in response['annotations'], \"Invalid response\"\n",
    "    assert 'typos' in response['annotations'], \"Invalid response\"\n",
    "\n",
    "    query = response['annotations']['query']\n",
    "    typos = response['annotations']['typos'].get(search_input)\n",
    "    \n",
    "    tbl = DataFrame({'input': [None], 'lemma': [None], 'suggestion': [None]})\n",
    "    tbl.loc[0, 'input'] = search_input\n",
    "    tbl.loc[0, 'lemma'] = query[0] if len(query) != 0 else None\n",
    "    tbl.loc[0, 'suggestion'] = [element['suggestion'] for element in typos] if typos is not None else None \n",
    "\n",
    "    return tbl.explode(['lemma', 'suggestion'])                    "
   ]
  },
  {
   "cell_type": "code",
   "execution_count": 30,
   "id": "85d738ef",
   "metadata": {
    "slideshow": {
     "slide_type": "subslide"
    }
   },
   "outputs": [
    {
     "data": {
      "text/html": [
       "<div>\n",
       "<style scoped>\n",
       "    .dataframe tbody tr th:only-of-type {\n",
       "        vertical-align: middle;\n",
       "    }\n",
       "\n",
       "    .dataframe tbody tr th {\n",
       "        vertical-align: top;\n",
       "    }\n",
       "\n",
       "    .dataframe thead th {\n",
       "        text-align: right;\n",
       "    }\n",
       "</style>\n",
       "<table border=\"1\" class=\"dataframe\">\n",
       "  <thead>\n",
       "    <tr style=\"text-align: right;\">\n",
       "      <th></th>\n",
       "      <th>input</th>\n",
       "      <th>lemma</th>\n",
       "      <th>suggestion</th>\n",
       "    </tr>\n",
       "  </thead>\n",
       "  <tbody>\n",
       "    <tr>\n",
       "      <th>0</th>\n",
       "      <td>president</td>\n",
       "      <td>president</td>\n",
       "      <td>None</td>\n",
       "    </tr>\n",
       "  </tbody>\n",
       "</table>\n",
       "</div>"
      ],
      "text/plain": [
       "       input      lemma suggestion\n",
       "0  president  president       None"
      ]
     },
     "execution_count": 30,
     "metadata": {},
     "output_type": "execute_result"
    }
   ],
   "source": [
    "extend_search_query('president')"
   ]
  },
  {
   "cell_type": "code",
   "execution_count": 31,
   "id": "4cb2b876",
   "metadata": {
    "slideshow": {
     "slide_type": "fragment"
    }
   },
   "outputs": [
    {
     "data": {
      "text/html": [
       "<div>\n",
       "<style scoped>\n",
       "    .dataframe tbody tr th:only-of-type {\n",
       "        vertical-align: middle;\n",
       "    }\n",
       "\n",
       "    .dataframe tbody tr th {\n",
       "        vertical-align: top;\n",
       "    }\n",
       "\n",
       "    .dataframe thead th {\n",
       "        text-align: right;\n",
       "    }\n",
       "</style>\n",
       "<table border=\"1\" class=\"dataframe\">\n",
       "  <thead>\n",
       "    <tr style=\"text-align: right;\">\n",
       "      <th></th>\n",
       "      <th>input</th>\n",
       "      <th>lemma</th>\n",
       "      <th>suggestion</th>\n",
       "    </tr>\n",
       "  </thead>\n",
       "  <tbody>\n",
       "    <tr>\n",
       "      <th>0</th>\n",
       "      <td>bresident</td>\n",
       "      <td>None</td>\n",
       "      <td>president</td>\n",
       "    </tr>\n",
       "  </tbody>\n",
       "</table>\n",
       "</div>"
      ],
      "text/plain": [
       "       input lemma suggestion\n",
       "0  bresident  None  president"
      ]
     },
     "execution_count": 31,
     "metadata": {},
     "output_type": "execute_result"
    }
   ],
   "source": [
    "extend_search_query('bresident')"
   ]
  },
  {
   "cell_type": "code",
   "execution_count": 32,
   "id": "94eb89ec",
   "metadata": {
    "slideshow": {
     "slide_type": "fragment"
    }
   },
   "outputs": [
    {
     "data": {
      "text/html": [
       "<div>\n",
       "<style scoped>\n",
       "    .dataframe tbody tr th:only-of-type {\n",
       "        vertical-align: middle;\n",
       "    }\n",
       "\n",
       "    .dataframe tbody tr th {\n",
       "        vertical-align: top;\n",
       "    }\n",
       "\n",
       "    .dataframe thead th {\n",
       "        text-align: right;\n",
       "    }\n",
       "</style>\n",
       "<table border=\"1\" class=\"dataframe\">\n",
       "  <thead>\n",
       "    <tr style=\"text-align: right;\">\n",
       "      <th></th>\n",
       "      <th>input</th>\n",
       "      <th>lemma</th>\n",
       "      <th>suggestion</th>\n",
       "    </tr>\n",
       "  </thead>\n",
       "  <tbody>\n",
       "    <tr>\n",
       "      <th>0</th>\n",
       "      <td>xxxx</td>\n",
       "      <td>None</td>\n",
       "      <td>None</td>\n",
       "    </tr>\n",
       "  </tbody>\n",
       "</table>\n",
       "</div>"
      ],
      "text/plain": [
       "  input lemma suggestion\n",
       "0  xxxx  None       None"
      ]
     },
     "execution_count": 32,
     "metadata": {},
     "output_type": "execute_result"
    }
   ],
   "source": [
    "extend_search_query('xxxx')"
   ]
  },
  {
   "cell_type": "markdown",
   "id": "bcdad09b",
   "metadata": {
    "slideshow": {
     "slide_type": "slide"
    }
   },
   "source": [
    "# Mis on veel pooleli... \n",
    "\n",
    "* Dokumenteeritud töövood Riigi Teataja pealkirja- ja sisuotsinguks\n",
    "  * Eeltöötlus\n",
    "  * Näiteliidestus RT veeniteenusega \n",
    "  * Uuendamist käsitlev osa\n",
    "\n",
    "* Mõningate veebiteenuste sisend- ja väljundformaat\n",
    "  * Optimeerida esitust\n",
    "  * Täiendada dokumentatsiooni\n",
    "\n",
    "* Osasõnade korrektne käsitlus päringulaiendajas\n",
    "  * RT veeviteenus ei oska osasõnu ja suvalisi teksiosasid eraldada\n",
    "\n",
    "* Riigiteataja tekstide süvaanalüüs\n",
    "  * Riikide, asutuste ja isikute tuvastamine"
   ]
  }
 ],
 "metadata": {
  "celltoolbar": "Slideshow",
  "kernelspec": {
   "display_name": "Python 3 (ipykernel)",
   "language": "python",
   "name": "python3"
  },
  "language_info": {
   "codemirror_mode": {
    "name": "ipython",
    "version": 3
   },
   "file_extension": ".py",
   "mimetype": "text/x-python",
   "name": "python",
   "nbconvert_exporter": "python",
   "pygments_lexer": "ipython3",
   "version": "3.11.6"
  }
 },
 "nbformat": 4,
 "nbformat_minor": 5
}
