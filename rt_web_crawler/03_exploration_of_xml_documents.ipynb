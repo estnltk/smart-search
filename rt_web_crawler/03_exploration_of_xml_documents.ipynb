{
 "cells": [
  {
   "attachments": {},
   "cell_type": "markdown",
   "id": "2f8a9fe4-7662-4392-9d90-0df790656430",
   "metadata": {
    "jp-MarkdownHeadingCollapsed": true
   },
   "source": [
    "## Observations about the document structure\n",
    "\n",
    "Meil on olemas kolme liiki dokumente\n",
    "* tavadokumendid\n",
    "* tühjad dokumendid milles on XML viide originaalile\n",
    "* seaduste ja lepingute kaaskirjad, millel on HTML viide originaalile\n",
    "\n",
    "Tavadokumendid võivad olla jagatud alamosadeks mis on nummerdatud, aga need alamosad ise ei sisalda teksti.\n",
    "* Dokumendi tekstiline osa on alati XML-elemendi `<sisuText>` sees.\n",
    "* XML-element `<sisuTekst>` sisaldab alamelemente `<tavatekst>`, `<HTMLKonteiner>`, `<viide>` "
   ]
  }
 ],
 "metadata": {
  "kernelspec": {
   "display_name": "Python 3 (ipykernel)",
   "language": "python",
   "name": "python3"
  },
  "language_info": {
   "codemirror_mode": {
    "name": "ipython",
    "version": 3
   },
   "file_extension": ".py",
   "mimetype": "text/x-python",
   "name": "python",
   "nbconvert_exporter": "python",
   "pygments_lexer": "ipython3",
   "version": "3.9.18"
  }
 },
 "nbformat": 4,
 "nbformat_minor": 5
}
