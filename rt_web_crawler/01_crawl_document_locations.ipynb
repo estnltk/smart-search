{
 "cells": [
  {
   "cell_type": "code",
   "execution_count": 1,
   "id": "c3811054-5f8e-4f27-b725-459d658e49d7",
   "metadata": {},
   "outputs": [],
   "source": [
    "import math\n",
    "import time\n",
    "import requests\n",
    "import datetime\n",
    "import urllib.parse\n",
    "\n",
    "from datetime import date\n",
    "from pandas import DataFrame \n",
    "from pandas import concat\n",
    "from tqdm.auto import tqdm"
   ]
  },
  {
   "cell_type": "code",
   "execution_count": 2,
   "id": "ba570e28-11bf-4988-a0f5-43d352e9c6fa",
   "metadata": {},
   "outputs": [],
   "source": [
    "BASE_URL = 'https://www.riigiteataja.ee/api/oigusakt_otsing/1'\n",
    "\n",
    "ARG_STRUCTURE = \\\n",
    "{\n",
    "    'leht': (int, 1),\n",
    "    'limiit': (int, 500),\n",
    "    'kehtiv': (date, None),\n",
    "    'tulemused': (bool, True),\n",
    "    'kehtivKehtetus': (bool, False),\n",
    "    'mitteJoustunud': (bool, False),\n",
    "    'kov': (bool, False),\n",
    "    'dokument': (str, 'seadus')\n",
    "}\n",
    "\n",
    "def get_search_query(**kwargs):\n",
    "    result = {}\n",
    "    for key, value in kwargs.items():\n",
    "        arg_type, default_value = ARG_STRUCTURE.get(key, (None, None))\n",
    "        if arg_type is None:\n",
    "            raise ValueError(f'Unknown argument: {key}')\n",
    "        elif not isinstance(value, arg_type):\n",
    "            raise ValueError(f'Argument {key} must be of type {arg_type}')\n",
    "            \n",
    "        if arg_type is bool:\n",
    "            result[key] = str(value).lower()\n",
    "        else:\n",
    "            result[key] = urllib.parse.quote(str(value))\n",
    "    return f\"{BASE_URL}/otsi?{'&'.join(f'{key}={value}' for key, value in result.items())}\""
   ]
  },
  {
   "cell_type": "markdown",
   "id": "bfb69b0e-447d-4bef-9ee0-ab9f9c93f41f",
   "metadata": {},
   "source": [
    "## I. Crawl all state laws"
   ]
  },
  {
   "cell_type": "code",
   "execution_count": 3,
   "id": "48dbba58-ef69-458f-b888-6db88821bd1c",
   "metadata": {},
   "outputs": [],
   "source": [
    "current_date = date.today()\n",
    "query = get_search_query(leht=1, kehtiv=current_date, dokument='seadus', limiit=500)\n",
    "\n",
    "response = requests.get(query)\n",
    "assert response.status_code == 200, 'GET request failed'\n",
    "response = response.json()\n",
    "\n",
    "assert 'aktid' in response, 'Missing payload'\n",
    "assert 'metaandmed' in response, 'Missing meta field'\n",
    "assert 'kokku' in response['metaandmed'], 'Missing meta field'\n",
    "assert 'limiit' in response['metaandmed'], 'Missing meta field'\n",
    "\n",
    "total_count = response['metaandmed']['kokku']\n",
    "document_limit = response['metaandmed']['limiit']\n",
    "max_page = math.ceil(total_count/document_limit)"
   ]
  },
  {
   "cell_type": "code",
   "execution_count": 4,
   "id": "4ce9a4f1-5c0c-4372-9dc9-85cb32ff7c7d",
   "metadata": {},
   "outputs": [
    {
     "data": {
      "application/vnd.jupyter.widget-view+json": {
       "model_id": "130fb43b783d4fb3bb4abc345d4f4d38",
       "version_major": 2,
       "version_minor": 0
      },
      "text/plain": [
       "  0%|          | 0/10 [00:00<?, ?it/s]"
      ]
     },
     "metadata": {},
     "output_type": "display_data"
    }
   ],
   "source": [
    "query_results = [None] * max_page \n",
    "for page in tqdm(range(1, max_page + 1)):\n",
    "\n",
    "    time.sleep(0.5)\n",
    "    idx = page - 1\n",
    "    query = get_search_query(leht=page, kehtiv=current_date, dokument='seadus', limiit=500)\n",
    "    response = requests.get(query)\n",
    "    assert response.status_code == 200, 'GET request failed'\n",
    "    response = response.json()\n",
    "\n",
    "    assert 'aktid' in response, 'Missing payload'\n",
    "    document_count = len(response['aktid'])\n",
    "    query_results[idx] = DataFrame({\n",
    "        'global_id': [None] * document_count, \n",
    "        'document_type': [None] * document_count, \n",
    "        'document_title': [None] * document_count, \n",
    "        'xml_source': [None] * document_count\n",
    "    })\n",
    "\n",
    "    assert 'aktid' in response, 'Missing payload'\n",
    "    for i, document in enumerate(response['aktid']):\n",
    "        assert 'url' in document, 'Missing URL field'\n",
    "        assert 'pealkiri' in document, 'Missing header field'\n",
    "        assert 'liik' in document, 'Missing document type fields' \n",
    "        assert 'globaalID' in document, 'Missing global ID field'\n",
    "    \n",
    "        query_results[idx].loc[i, 'global_id'] = document['globaalID']\n",
    "        query_results[idx].loc[i, 'document_type'] = document['liik']\n",
    "        query_results[idx].loc[i, 'document_title'] = document['pealkiri']\n",
    "        query_results[idx].loc[i, 'xml_source'] = f\"https://www.riigiteataja.ee{document['url']}\"\n",
    "\n",
    "    \n",
    "# Save results to csv-file\n",
    "query_results = concat(query_results, axis=0)\n",
    "query_results.to_csv('results/state_laws.csv', header=True, index=False)"
   ]
  },
  {
   "cell_type": "markdown",
   "id": "62a75c62-e5b8-4d35-ba42-ccb5ccc48dec",
   "metadata": {},
   "source": [
    "## II. Crawl all government regulations"
   ]
  },
  {
   "cell_type": "code",
   "execution_count": 5,
   "id": "c1161660-d13c-41a5-be05-8d6af30d9454",
   "metadata": {},
   "outputs": [],
   "source": [
    "current_date = date.today()\n",
    "query = get_search_query(leht=1, kehtiv=current_date, dokument='määrus', kov=False, limiit=500)\n",
    "\n",
    "response = requests.get(query)\n",
    "assert response.status_code == 200, 'GET request failed'\n",
    "response = response.json()\n",
    "\n",
    "assert 'aktid' in response, 'Missing payload'\n",
    "assert 'metaandmed' in response, 'Missing meta field'\n",
    "assert 'kokku' in response['metaandmed'], 'Missing meta field'\n",
    "assert 'limiit' in response['metaandmed'], 'Missing meta field'\n",
    "\n",
    "total_count = response['metaandmed']['kokku']\n",
    "document_limit = response['metaandmed']['limiit']\n",
    "max_page = math.ceil(total_count/document_limit)"
   ]
  },
  {
   "cell_type": "code",
   "execution_count": 6,
   "id": "32cf1b28-ce18-4a5c-b67a-9f1616d3495b",
   "metadata": {},
   "outputs": [
    {
     "data": {
      "application/vnd.jupyter.widget-view+json": {
       "model_id": "9bec041783f94575914366bb8a4604fc",
       "version_major": 2,
       "version_minor": 0
      },
      "text/plain": [
       "  0%|          | 0/26 [00:00<?, ?it/s]"
      ]
     },
     "metadata": {},
     "output_type": "display_data"
    }
   ],
   "source": [
    "query_results = [None] * max_page \n",
    "for page in tqdm(range(1, max_page + 1)):\n",
    "\n",
    "    time.sleep(0.5)\n",
    "    idx = page - 1\n",
    "    query = get_search_query(leht=page, kehtiv=current_date, dokument='määrus', kov=False, limiit=500)\n",
    "    response = requests.get(query)\n",
    "    assert response.status_code == 200, 'GET request failed'\n",
    "    response = response.json()\n",
    "\n",
    "    assert 'aktid' in response, 'Missing payload'\n",
    "    document_count = len(response['aktid'])\n",
    "    query_results[idx] = DataFrame({\n",
    "        'global_id': [None] * document_count, \n",
    "        'document_type': [None] * document_count, \n",
    "        'document_title': [None] * document_count, \n",
    "        'xml_source': [None] * document_count\n",
    "    })\n",
    "\n",
    "    assert 'aktid' in response, 'Missing payload'\n",
    "    for i, document in enumerate(response['aktid']):\n",
    "        assert 'url' in document, 'Missing URL field'\n",
    "        assert 'pealkiri' in document, 'Missing header field'\n",
    "        assert 'liik' in document, 'Missing document type fields' \n",
    "        assert 'globaalID' in document, 'Missing global ID field'\n",
    "    \n",
    "        query_results[idx].loc[i, 'global_id'] = document['globaalID']\n",
    "        query_results[idx].loc[i, 'document_type'] = document['liik']\n",
    "        query_results[idx].loc[i, 'document_title'] = document['pealkiri']\n",
    "        query_results[idx].loc[i, 'xml_source'] = f\"https://www.riigiteataja.ee{document['url']}\"\n",
    "\n",
    "    \n",
    "# Save results to csv-file\n",
    "query_results = concat(query_results, axis=0)\n",
    "query_results.to_csv('results/government_regulations.csv', header=True, index=False)"
   ]
  },
  {
   "cell_type": "markdown",
   "id": "9d54cf0b-0e3a-435a-a38f-e4b2aa454a21",
   "metadata": {},
   "source": [
    "## III. Crawl all local government acts"
   ]
  },
  {
   "cell_type": "code",
   "execution_count": 7,
   "id": "1886273c-1211-4773-8c8b-44c7e21d9434",
   "metadata": {},
   "outputs": [],
   "source": [
    "current_date = date.today()\n",
    "query = get_search_query(leht=1, kehtiv=current_date, kov=True, limiit=500)\n",
    "\n",
    "response = requests.get(query)\n",
    "assert response.status_code == 200, 'GET request failed'\n",
    "response = response.json()\n",
    "\n",
    "assert 'aktid' in response, 'Missing payload'\n",
    "assert 'metaandmed' in response, 'Missing meta field'\n",
    "assert 'kokku' in response['metaandmed'], 'Missing meta field'\n",
    "assert 'limiit' in response['metaandmed'], 'Missing meta field'\n",
    "\n",
    "total_count = response['metaandmed']['kokku']\n",
    "document_limit = response['metaandmed']['limiit']\n",
    "max_page = math.ceil(total_count/document_limit)"
   ]
  },
  {
   "cell_type": "code",
   "execution_count": 8,
   "id": "fdda79c8-dd77-41c6-8dfe-527f3464e01c",
   "metadata": {},
   "outputs": [
    {
     "data": {
      "application/vnd.jupyter.widget-view+json": {
       "model_id": "3fac9c6fa981465298ac26b1599ca732",
       "version_major": 2,
       "version_minor": 0
      },
      "text/plain": [
       "  0%|          | 0/72 [00:00<?, ?it/s]"
      ]
     },
     "metadata": {},
     "output_type": "display_data"
    }
   ],
   "source": [
    "query_results = [None] * max_page \n",
    "for page in tqdm(range(1, max_page + 1)):\n",
    "\n",
    "    time.sleep(0.5)\n",
    "    idx = page - 1\n",
    "    query = get_search_query(leht=page, kehtiv=current_date, kov=True, limiit=500)\n",
    "    response = requests.get(query)\n",
    "    assert response.status_code == 200, 'GET request failed'\n",
    "    response = response.json()\n",
    "\n",
    "    assert 'aktid' in response, 'Missing payload'\n",
    "    document_count = len(response['aktid'])\n",
    "    query_results[idx] = DataFrame({\n",
    "        'global_id': [None] * document_count, \n",
    "        'document_type': [None] * document_count, \n",
    "        'document_title': [None] * document_count, \n",
    "        'xml_source': [None] * document_count\n",
    "    })\n",
    "\n",
    "    assert 'aktid' in response, 'Missing payload'\n",
    "    for i, document in enumerate(response['aktid']):\n",
    "        assert 'url' in document, 'Missing URL field'\n",
    "        assert 'pealkiri' in document, 'Missing header field'\n",
    "        assert 'liik' in document, 'Missing document type fields' \n",
    "        assert 'globaalID' in document, 'Missing global ID field'\n",
    "    \n",
    "        query_results[idx].loc[i, 'global_id'] = document['globaalID']\n",
    "        query_results[idx].loc[i, 'document_type'] = document['liik']\n",
    "        query_results[idx].loc[i, 'document_title'] = document['pealkiri']\n",
    "        query_results[idx].loc[i, 'xml_source'] = f\"https://www.riigiteataja.ee{document['url']}\"\n",
    "\n",
    "    \n",
    "# Save results to csv-file\n",
    "query_results = concat(query_results, axis=0)\n",
    "query_results.to_csv('results/local_government_acts.csv', header=True, index=False)"
   ]
  },
  {
   "cell_type": "markdown",
   "id": "874fb87c-0a3e-4093-a74c-042d9dfc3e94",
   "metadata": {},
   "source": [
    "## IV. Crawl all government orders"
   ]
  },
  {
   "cell_type": "code",
   "execution_count": 9,
   "id": "4f1f204b-6daa-4d0d-ac38-6554972187e8",
   "metadata": {},
   "outputs": [],
   "source": [
    "current_date = date.today()\n",
    "query = get_search_query(leht=1, kehtiv=current_date, dokument='korraldus', kov=False, limiit=500)\n",
    "\n",
    "response = requests.get(query)\n",
    "assert response.status_code == 200, 'GET request failed'\n",
    "response = response.json()\n",
    "\n",
    "assert 'aktid' in response, 'Missing payload'\n",
    "assert 'metaandmed' in response, 'Missing meta field'\n",
    "assert 'kokku' in response['metaandmed'], 'Missing meta field'\n",
    "assert 'limiit' in response['metaandmed'], 'Missing meta field'\n",
    "\n",
    "total_count = response['metaandmed']['kokku']\n",
    "document_limit = response['metaandmed']['limiit']\n",
    "max_page = math.ceil(total_count/document_limit)"
   ]
  },
  {
   "cell_type": "code",
   "execution_count": 10,
   "id": "0c0ea09e-86f6-4b26-93fc-87d8d93bf555",
   "metadata": {},
   "outputs": [
    {
     "data": {
      "application/vnd.jupyter.widget-view+json": {
       "model_id": "6555cd9c466e4343b093647aa1c26b41",
       "version_major": 2,
       "version_minor": 0
      },
      "text/plain": [
       "  0%|          | 0/10 [00:00<?, ?it/s]"
      ]
     },
     "metadata": {},
     "output_type": "display_data"
    }
   ],
   "source": [
    "query_results = [None] * max_page \n",
    "for page in tqdm(range(1, max_page + 1)):\n",
    "\n",
    "    time.sleep(0.5)\n",
    "    idx = page - 1\n",
    "    query = get_search_query(leht=page, kehtiv=current_date, dokument='korraldus', kov=False, limiit=500)\n",
    "    response = requests.get(query)\n",
    "    assert response.status_code == 200, 'GET request failed'\n",
    "    response = response.json()\n",
    "\n",
    "    assert 'aktid' in response, 'Missing payload'\n",
    "    document_count = len(response['aktid'])\n",
    "    query_results[idx] = DataFrame({\n",
    "        'global_id': [None] * document_count, \n",
    "        'document_type': [None] * document_count, \n",
    "        'document_title': [None] * document_count, \n",
    "        'xml_source': [None] * document_count\n",
    "    })\n",
    "\n",
    "    assert 'aktid' in response, 'Missing payload'\n",
    "    for i, document in enumerate(response['aktid']):\n",
    "        assert 'url' in document, 'Missing URL field'\n",
    "        assert 'pealkiri' in document, 'Missing header field'\n",
    "        assert 'liik' in document, 'Missing document type fields' \n",
    "        assert 'globaalID' in document, 'Missing global ID field'\n",
    "    \n",
    "        query_results[idx].loc[i, 'global_id'] = document['globaalID']\n",
    "        query_results[idx].loc[i, 'document_type'] = document['liik']\n",
    "        query_results[idx].loc[i, 'document_title'] = document['pealkiri']\n",
    "        query_results[idx].loc[i, 'xml_source'] = f\"https://www.riigiteataja.ee{document['url']}\"\n",
    "\n",
    "    \n",
    "# Save results to csv-file\n",
    "query_results = concat(query_results, axis=0)\n",
    "query_results.to_csv('results/government_orders.csv', header=True, index=False)"
   ]
  }
 ],
 "metadata": {
  "kernelspec": {
   "display_name": "Python 3 (ipykernel)",
   "language": "python",
   "name": "python3"
  },
  "language_info": {
   "codemirror_mode": {
    "name": "ipython",
    "version": 3
   },
   "file_extension": ".py",
   "mimetype": "text/x-python",
   "name": "python",
   "nbconvert_exporter": "python",
   "pygments_lexer": "ipython3",
   "version": "3.9.18"
  }
 },
 "nbformat": 4,
 "nbformat_minor": 5
}
