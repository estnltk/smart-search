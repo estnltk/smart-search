{
 "cells": [
  {
   "cell_type": "code",
   "execution_count": 1,
   "id": "c8c2ab55-1f19-4e1b-b3e3-25730ee32fd2",
   "metadata": {},
   "outputs": [],
   "source": [
    "import sys\n",
    "sys.path.append('../../')"
   ]
  },
  {
   "cell_type": "code",
   "execution_count": 2,
   "id": "e337390d-e888-4398-a735-48f0f6f7340d",
   "metadata": {},
   "outputs": [],
   "source": [
    "import os\n",
    "import glob\n",
    "import re\n",
    "\n",
    "from lxml import etree\n",
    "from xml_ops import extract_text_from_sisutext"
   ]
  },
  {
   "cell_type": "code",
   "execution_count": 3,
   "id": "cf1c5ccf-b209-451a-a6eb-8be2b9ceda5e",
   "metadata": {},
   "outputs": [
    {
     "name": "stdout",
     "output_type": "stream",
     "text": [
      "inputs/01.xml\n",
      "inputs/03.xml\n",
      "inputs/02.xml\n",
      "inputs/06.xml\n",
      "inputs/05.xml\n",
      "inputs/04.xml\n"
     ]
    }
   ],
   "source": [
    "for input in glob.glob('inputs/*.xml'):\n",
    "    print(input)\n",
    "    \n",
    "    target = input.replace('input', 'target').replace('xml', 'txt')\n",
    "    with open(target, 'rt') as file:\n",
    "       target_text = file.read().rstrip('\\n')\n",
    "\n",
    "    content_element = etree.parse(input).getroot()\n",
    "    extracted_text = extract_text_from_sisutext(content_element)\n",
    "\n",
    "    assert extracted_text == target_text, f'testing failed on {input}'\n",
    "    "
   ]
  },
  {
   "cell_type": "code",
   "execution_count": 4,
   "id": "6e0646cd-4cf4-4fd9-9aca-1fa6b0c1a514",
   "metadata": {},
   "outputs": [],
   "source": [
    "# with open('new.txt', 'w') as f:\n",
    "#     f.write(extracted_text)"
   ]
  },
  {
   "cell_type": "code",
   "execution_count": 5,
   "id": "900a5ded-41a7-4a68-aa0f-eedfa2272e89",
   "metadata": {},
   "outputs": [],
   "source": [
    "# print(f'|{target_text}|')\n",
    "# print('=====================')\n",
    "# print(f'|{extracted_text}|')"
   ]
  }
 ],
 "metadata": {
  "kernelspec": {
   "display_name": "Python 3 (ipykernel)",
   "language": "python",
   "name": "python3"
  },
  "language_info": {
   "codemirror_mode": {
    "name": "ipython",
    "version": 3
   },
   "file_extension": ".py",
   "mimetype": "text/x-python",
   "name": "python",
   "nbconvert_exporter": "python",
   "pygments_lexer": "ipython3",
   "version": "3.9.18"
  }
 },
 "nbformat": 4,
 "nbformat_minor": 5
}
