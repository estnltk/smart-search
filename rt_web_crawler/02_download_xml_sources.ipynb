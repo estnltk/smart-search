{
 "cells": [
  {
   "cell_type": "code",
   "execution_count": 1,
   "id": "37c88358-8a72-4749-a49f-732aaae13c51",
   "metadata": {},
   "outputs": [],
   "source": [
    "import time\n",
    "\n",
    "from random import uniform\n",
    "from pandas import read_csv\n",
    "from tqdm.auto import tqdm\n",
    "from urllib.request import urlretrieve"
   ]
  },
  {
   "cell_type": "code",
   "execution_count": 2,
   "id": "e6f36186-09a1-4f33-9314-ecc37cc061e8",
   "metadata": {},
   "outputs": [],
   "source": [
    "SLEEP_MIN = 0.5\n",
    "SLEEP_MAX = 2.5"
   ]
  },
  {
   "cell_type": "markdown",
   "id": "fe5e0373-b8ef-47cc-b225-552650fa7d7a",
   "metadata": {},
   "source": [
    "## I. Crawl all state laws"
   ]
  },
  {
   "cell_type": "code",
   "execution_count": 3,
   "id": "47c66c92-87a5-4d1a-8465-38eff3418136",
   "metadata": {},
   "outputs": [
    {
     "data": {
      "application/vnd.jupyter.widget-view+json": {
       "model_id": "03918cff0c4049e8b8e8a64efb8b5833",
       "version_major": 2,
       "version_minor": 0
      },
      "text/plain": [
       "  0%|          | 0/4712 [00:00<?, ?it/s]"
      ]
     },
     "metadata": {},
     "output_type": "display_data"
    },
    {
     "name": "stdout",
     "output_type": "stream",
     "text": [
      "https://www.riigiteataja.ee/akt/22339.xml\n",
      "results/xml_sources/state_laws/22339.xml\n",
      "https://www.riigiteataja.ee/akt/22340.xml\n",
      "results/xml_sources/state_laws/22340.xml\n",
      "https://www.riigiteataja.ee/akt/12850741.xml\n",
      "results/xml_sources/state_laws/12850741.xml\n",
      "https://www.riigiteataja.ee/akt/926725.xml\n",
      "results/xml_sources/state_laws/926725.xml\n"
     ]
    }
   ],
   "source": [
    "sources = read_csv('results/state_laws.csv', header=0)\n",
    "TARGET_PATH = 'results/xml_sources/state_laws'\n",
    "\n",
    "for idx, row in tqdm(sources.iterrows(), total=len(sources)):\n",
    "    print(row['xml_source'])\n",
    "    output_file = f\"{TARGET_PATH}/{row['xml_source'].split('/')[-1]}\"\n",
    "    print(output_file)\n",
    "    _, status = urlretrieve(row['xml_source'], output_file) \n",
    "    time.sleep(uniform(SLEEP_MIN, SLEEP_MAX))"
   ]
  },
  {
   "cell_type": "markdown",
   "id": "07e8b325-366c-4c16-92f5-e37279bb97a6",
   "metadata": {},
   "source": [
    "## II. Crawl all government regulations"
   ]
  },
  {
   "cell_type": "code",
   "execution_count": 4,
   "id": "f087ce81-4a90-468b-ad31-a3d569145c90",
   "metadata": {},
   "outputs": [
    {
     "data": {
      "application/vnd.jupyter.widget-view+json": {
       "model_id": "1cc1c33c68594b13840cabc2759c3b0f",
       "version_major": 2,
       "version_minor": 0
      },
      "text/plain": [
       "  0%|          | 0/12570 [00:00<?, ?it/s]"
      ]
     },
     "metadata": {},
     "output_type": "display_data"
    },
    {
     "name": "stdout",
     "output_type": "stream",
     "text": [
      "https://www.riigiteataja.ee/akt/22655.xml\n",
      "results/xml_sources/government_regulations/22655.xml\n",
      "https://www.riigiteataja.ee/akt/185340.xml\n",
      "results/xml_sources/government_regulations/185340.xml\n",
      "https://www.riigiteataja.ee/akt/185530.xml\n",
      "results/xml_sources/government_regulations/185530.xml\n",
      "https://www.riigiteataja.ee/akt/185545.xml\n",
      "results/xml_sources/government_regulations/185545.xml\n"
     ]
    }
   ],
   "source": [
    "sources = read_csv('results/government_regulations.csv', header=0)\n",
    "TARGET_PATH = 'results/xml_sources/government_regulations'\n",
    "\n",
    "for idx, row in tqdm(sources.iterrows(), total=len(sources)):\n",
    "    print(row['xml_source'])\n",
    "    output_file = f\"{TARGET_PATH}/{row['xml_source'].split('/')[-1]}\"\n",
    "    print(output_file)\n",
    "    _, status = urlretrieve(row['xml_source'], output_file) \n",
    "    time.sleep(uniform(SLEEP_MIN, SLEEP_MAX))"
   ]
  },
  {
   "cell_type": "markdown",
   "id": "537a918f-76bc-477b-bb3e-be3a5452113a",
   "metadata": {},
   "source": [
    "## III. Crawl all local government acts"
   ]
  },
  {
   "cell_type": "code",
   "execution_count": 5,
   "id": "c91ebb3b-a056-4876-ae0c-0d4d7ba49fa5",
   "metadata": {},
   "outputs": [
    {
     "data": {
      "application/vnd.jupyter.widget-view+json": {
       "model_id": "22c245595fd2471c9c5035d0e23f4ff6",
       "version_major": 2,
       "version_minor": 0
      },
      "text/plain": [
       "  0%|          | 0/35822 [00:00<?, ?it/s]"
      ]
     },
     "metadata": {},
     "output_type": "display_data"
    },
    {
     "name": "stdout",
     "output_type": "stream",
     "text": [
      "https://www.riigiteataja.ee/akt/412022014072.xml\n",
      "results/xml_sources/local_government_acts/412022014072.xml\n",
      "https://www.riigiteataja.ee/akt/412022014076.xml\n",
      "results/xml_sources/local_government_acts/412022014076.xml\n",
      "https://www.riigiteataja.ee/akt/412022014077.xml\n",
      "results/xml_sources/local_government_acts/412022014077.xml\n",
      "https://www.riigiteataja.ee/akt/412022014065.xml\n",
      "results/xml_sources/local_government_acts/412022014065.xml\n",
      "https://www.riigiteataja.ee/akt/412022014042.xml\n",
      "results/xml_sources/local_government_acts/412022014042.xml\n",
      "https://www.riigiteataja.ee/akt/412022014057.xml\n",
      "results/xml_sources/local_government_acts/412022014057.xml\n",
      "https://www.riigiteataja.ee/akt/412022014067.xml\n",
      "results/xml_sources/local_government_acts/412022014067.xml\n",
      "https://www.riigiteataja.ee/akt/412022014040.xml\n",
      "results/xml_sources/local_government_acts/412022014040.xml\n",
      "https://www.riigiteataja.ee/akt/412022014051.xml\n",
      "results/xml_sources/local_government_acts/412022014051.xml\n",
      "https://www.riigiteataja.ee/akt/413022014016.xml\n",
      "results/xml_sources/local_government_acts/413022014016.xml\n",
      "https://www.riigiteataja.ee/akt/413022014017.xml\n",
      "results/xml_sources/local_government_acts/413022014017.xml\n",
      "https://www.riigiteataja.ee/akt/413022014018.xml\n",
      "results/xml_sources/local_government_acts/413022014018.xml\n",
      "https://www.riigiteataja.ee/akt/413022014021.xml\n",
      "results/xml_sources/local_government_acts/413022014021.xml\n",
      "https://www.riigiteataja.ee/akt/413022014022.xml\n",
      "results/xml_sources/local_government_acts/413022014022.xml\n",
      "https://www.riigiteataja.ee/akt/414022014023.xml\n",
      "results/xml_sources/local_government_acts/414022014023.xml\n",
      "https://www.riigiteataja.ee/akt/414022014024.xml\n",
      "results/xml_sources/local_government_acts/414022014024.xml\n",
      "https://www.riigiteataja.ee/akt/415022014035.xml\n",
      "results/xml_sources/local_government_acts/415022014035.xml\n",
      "https://www.riigiteataja.ee/akt/418022014065.xml\n",
      "results/xml_sources/local_government_acts/418022014065.xml\n",
      "https://www.riigiteataja.ee/akt/418022014044.xml\n",
      "results/xml_sources/local_government_acts/418022014044.xml\n",
      "https://www.riigiteataja.ee/akt/418022014040.xml\n",
      "results/xml_sources/local_government_acts/418022014040.xml\n",
      "https://www.riigiteataja.ee/akt/418022014043.xml\n",
      "results/xml_sources/local_government_acts/418022014043.xml\n",
      "https://www.riigiteataja.ee/akt/418022014042.xml\n",
      "results/xml_sources/local_government_acts/418022014042.xml\n"
     ]
    }
   ],
   "source": [
    "sources = read_csv('results/local_government_acts.csv', header=0)\n",
    "TARGET_PATH = 'results/xml_sources/local_government_acts'\n",
    "\n",
    "for idx, row in tqdm(sources.iterrows(), total=len(sources)):\n",
    "    print(row['xml_source'])\n",
    "    output_file = f\"{TARGET_PATH}/{row['xml_source'].split('/')[-1]}\"\n",
    "    print(output_file)\n",
    "    _, status = urlretrieve(row['xml_source'], output_file) \n",
    "    time.sleep(uniform(SLEEP_MIN, SLEEP_MAX))"
   ]
  },
  {
   "cell_type": "markdown",
   "id": "93a7186e-8bfe-4c5e-ad52-ec7bee8da2e2",
   "metadata": {},
   "source": [
    "## IV. Crawl all government orders"
   ]
  },
  {
   "cell_type": "code",
   "execution_count": 6,
   "id": "dc49da91-5386-4d94-a3d8-4bfc527df6e7",
   "metadata": {},
   "outputs": [
    {
     "data": {
      "application/vnd.jupyter.widget-view+json": {
       "model_id": "2c21254ec7d4412492e1a48693a96d83",
       "version_major": 2,
       "version_minor": 0
      },
      "text/plain": [
       "  0%|          | 0/4947 [00:00<?, ?it/s]"
      ]
     },
     "metadata": {},
     "output_type": "display_data"
    },
    {
     "name": "stdout",
     "output_type": "stream",
     "text": [
      "https://www.riigiteataja.ee/akt/187514.xml\n",
      "results/xml_sources/government_orders/187514.xml\n",
      "https://www.riigiteataja.ee/akt/188437.xml\n",
      "results/xml_sources/government_orders/188437.xml\n",
      "https://www.riigiteataja.ee/akt/188537.xml\n",
      "results/xml_sources/government_orders/188537.xml\n",
      "https://www.riigiteataja.ee/akt/194643.xml\n",
      "results/xml_sources/government_orders/194643.xml\n",
      "https://www.riigiteataja.ee/akt/194647.xml\n",
      "results/xml_sources/government_orders/194647.xml\n",
      "https://www.riigiteataja.ee/akt/195103.xml\n",
      "results/xml_sources/government_orders/195103.xml\n",
      "https://www.riigiteataja.ee/akt/12846940.xml\n",
      "results/xml_sources/government_orders/12846940.xml\n",
      "https://www.riigiteataja.ee/akt/12846956.xml\n",
      "results/xml_sources/government_orders/12846956.xml\n",
      "https://www.riigiteataja.ee/akt/12846978.xml\n",
      "results/xml_sources/government_orders/12846978.xml\n",
      "https://www.riigiteataja.ee/akt/12851190.xml\n",
      "results/xml_sources/government_orders/12851190.xml\n",
      "https://www.riigiteataja.ee/akt/12851194.xml\n",
      "results/xml_sources/government_orders/12851194.xml\n",
      "https://www.riigiteataja.ee/akt/12851340.xml\n",
      "results/xml_sources/government_orders/12851340.xml\n",
      "https://www.riigiteataja.ee/akt/12854261.xml\n",
      "results/xml_sources/government_orders/12854261.xml\n",
      "https://www.riigiteataja.ee/akt/925486.xml\n",
      "results/xml_sources/government_orders/925486.xml\n",
      "https://www.riigiteataja.ee/akt/927714.xml\n",
      "results/xml_sources/government_orders/927714.xml\n",
      "https://www.riigiteataja.ee/akt/927834.xml\n",
      "results/xml_sources/government_orders/927834.xml\n",
      "https://www.riigiteataja.ee/akt/927844.xml\n",
      "results/xml_sources/government_orders/927844.xml\n",
      "https://www.riigiteataja.ee/akt/833305.xml\n",
      "results/xml_sources/government_orders/833305.xml\n",
      "https://www.riigiteataja.ee/akt/833309.xml\n",
      "results/xml_sources/government_orders/833309.xml\n",
      "https://www.riigiteataja.ee/akt/833313.xml\n",
      "results/xml_sources/government_orders/833313.xml\n",
      "https://www.riigiteataja.ee/akt/833317.xml\n",
      "results/xml_sources/government_orders/833317.xml\n",
      "https://www.riigiteataja.ee/akt/833322.xml\n",
      "results/xml_sources/government_orders/833322.xml\n"
     ]
    }
   ],
   "source": [
    "sources = read_csv('results/government_orders.csv', header=0)\n",
    "TARGET_PATH = 'results/xml_sources/government_orders'\n",
    "\n",
    "for idx, row in tqdm(sources.iterrows(), total=len(sources)):\n",
    "    print(row['xml_source'])\n",
    "    output_file = f\"{TARGET_PATH}/{row['xml_source'].split('/')[-1]}\"\n",
    "    print(output_file)\n",
    "    _, status = urlretrieve(row['xml_source'], output_file) \n",
    "    time.sleep(uniform(SLEEP_MIN, SLEEP_MAX))"
   ]
  }
 ],
 "metadata": {
  "kernelspec": {
   "display_name": "Python 3 (ipykernel)",
   "language": "python",
   "name": "python3"
  },
  "language_info": {
   "codemirror_mode": {
    "name": "ipython",
    "version": 3
   },
   "file_extension": ".py",
   "mimetype": "text/x-python",
   "name": "python",
   "nbconvert_exporter": "python",
   "pygments_lexer": "ipython3",
   "version": "3.9.18"
  }
 },
 "nbformat": 4,
 "nbformat_minor": 5
}
